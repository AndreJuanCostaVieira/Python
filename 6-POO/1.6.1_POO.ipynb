{
 "cells": [
  {
   "cell_type": "markdown",
   "metadata": {
    "collapsed": true
   },
   "source": [
    "# Programação Orientada a Objetos\n",
    "\n",
    "A Programação Orientada a Objetos (OOP) tende a ser um dos principais obstáculos para iniciantes quando eles começam a aprender Python.\n",
    "\n",
    "Existem muitos, muitos tutoriais e lições sobre POO, portanto, fique à vontade para o Google pesquisar outras lições, e também coloquei alguns links para outros tutoriais úteis on-line na parte inferior deste Notebook.\n",
    "\n",
    "Nesta lição, construiremos nosso conhecimento sobre OOP em Python, desenvolvendo os seguintes tópicos:\n",
    "\n",
    "* Objetos\n",
    "* Usando a palavra chave *class*\n",
    "* Criando atributos na classe\n",
    "* Criando método em uma classe\n",
    "* Aprendendo sobre herança\n",
    "* Aprendendo sobre polimorfismo\n",
    "* Aprendendo sobre métodos especiais para as aulas\n",
    "\n",
    "Vamos começar a lição lembrando sobre os objetos básicos do Python. Por exemplo:"
   ]
  },
  {
   "cell_type": "code",
   "execution_count": 11,
   "metadata": {},
   "outputs": [
    {
     "name": "stdout",
     "output_type": "stream",
     "text": [
      "[1, 2, 3]\n",
      "['a', 'b', 'c']\n"
     ]
    }
   ],
   "source": [
    "lst = [1,2,3]\n",
    "lst1 = ['a','b','c']\n",
    "print(lst)\n",
    "print(lst1)"
   ]
  },
  {
   "cell_type": "code",
   "execution_count": 4,
   "metadata": {},
   "outputs": [
    {
     "name": "stdout",
     "output_type": "stream",
     "text": [
      "Help on list object:\n",
      "\n",
      "class list(object)\n",
      " |  list(iterable=(), /)\n",
      " |  \n",
      " |  Built-in mutable sequence.\n",
      " |  \n",
      " |  If no argument is given, the constructor creates a new empty list.\n",
      " |  The argument must be an iterable if specified.\n",
      " |  \n",
      " |  Methods defined here:\n",
      " |  \n",
      " |  __add__(self, value, /)\n",
      " |      Return self+value.\n",
      " |  \n",
      " |  __contains__(self, key, /)\n",
      " |      Return key in self.\n",
      " |  \n",
      " |  __delitem__(self, key, /)\n",
      " |      Delete self[key].\n",
      " |  \n",
      " |  __eq__(self, value, /)\n",
      " |      Return self==value.\n",
      " |  \n",
      " |  __ge__(self, value, /)\n",
      " |      Return self>=value.\n",
      " |  \n",
      " |  __getattribute__(self, name, /)\n",
      " |      Return getattr(self, name).\n",
      " |  \n",
      " |  __getitem__(...)\n",
      " |      x.__getitem__(y) <==> x[y]\n",
      " |  \n",
      " |  __gt__(self, value, /)\n",
      " |      Return self>value.\n",
      " |  \n",
      " |  __iadd__(self, value, /)\n",
      " |      Implement self+=value.\n",
      " |  \n",
      " |  __imul__(self, value, /)\n",
      " |      Implement self*=value.\n",
      " |  \n",
      " |  __init__(self, /, *args, **kwargs)\n",
      " |      Initialize self.  See help(type(self)) for accurate signature.\n",
      " |  \n",
      " |  __iter__(self, /)\n",
      " |      Implement iter(self).\n",
      " |  \n",
      " |  __le__(self, value, /)\n",
      " |      Return self<=value.\n",
      " |  \n",
      " |  __len__(self, /)\n",
      " |      Return len(self).\n",
      " |  \n",
      " |  __lt__(self, value, /)\n",
      " |      Return self<value.\n",
      " |  \n",
      " |  __mul__(self, value, /)\n",
      " |      Return self*value.\n",
      " |  \n",
      " |  __ne__(self, value, /)\n",
      " |      Return self!=value.\n",
      " |  \n",
      " |  __repr__(self, /)\n",
      " |      Return repr(self).\n",
      " |  \n",
      " |  __reversed__(self, /)\n",
      " |      Return a reverse iterator over the list.\n",
      " |  \n",
      " |  __rmul__(self, value, /)\n",
      " |      Return value*self.\n",
      " |  \n",
      " |  __setitem__(self, key, value, /)\n",
      " |      Set self[key] to value.\n",
      " |  \n",
      " |  __sizeof__(self, /)\n",
      " |      Return the size of the list in memory, in bytes.\n",
      " |  \n",
      " |  append(self, object, /)\n",
      " |      Append object to the end of the list.\n",
      " |  \n",
      " |  clear(self, /)\n",
      " |      Remove all items from list.\n",
      " |  \n",
      " |  copy(self, /)\n",
      " |      Return a shallow copy of the list.\n",
      " |  \n",
      " |  count(self, value, /)\n",
      " |      Return number of occurrences of value.\n",
      " |  \n",
      " |  extend(self, iterable, /)\n",
      " |      Extend list by appending elements from the iterable.\n",
      " |  \n",
      " |  index(self, value, start=0, stop=9223372036854775807, /)\n",
      " |      Return first index of value.\n",
      " |      \n",
      " |      Raises ValueError if the value is not present.\n",
      " |  \n",
      " |  insert(self, index, object, /)\n",
      " |      Insert object before index.\n",
      " |  \n",
      " |  pop(self, index=-1, /)\n",
      " |      Remove and return item at index (default last).\n",
      " |      \n",
      " |      Raises IndexError if list is empty or index is out of range.\n",
      " |  \n",
      " |  remove(self, value, /)\n",
      " |      Remove first occurrence of value.\n",
      " |      \n",
      " |      Raises ValueError if the value is not present.\n",
      " |  \n",
      " |  reverse(self, /)\n",
      " |      Reverse *IN PLACE*.\n",
      " |  \n",
      " |  sort(self, /, *, key=None, reverse=False)\n",
      " |      Stable sort *IN PLACE*.\n",
      " |  \n",
      " |  ----------------------------------------------------------------------\n",
      " |  Static methods defined here:\n",
      " |  \n",
      " |  __new__(*args, **kwargs) from builtins.type\n",
      " |      Create and return a new object.  See help(type) for accurate signature.\n",
      " |  \n",
      " |  ----------------------------------------------------------------------\n",
      " |  Data and other attributes defined here:\n",
      " |  \n",
      " |  __hash__ = None\n",
      "\n"
     ]
    }
   ],
   "source": [
    "help(lst)"
   ]
  },
  {
   "cell_type": "code",
   "execution_count": 8,
   "metadata": {},
   "outputs": [
    {
     "data": {
      "text/plain": [
       "[1, 2, 3, 2, 2, 2, 52]"
      ]
     },
     "execution_count": 8,
     "metadata": {},
     "output_type": "execute_result"
    }
   ],
   "source": [
    "lst.append(52)\n",
    "lst"
   ]
  },
  {
   "cell_type": "markdown",
   "metadata": {},
   "source": [
    "Lembra como poderíamos chamar métodos em uma lista?"
   ]
  },
  {
   "cell_type": "code",
   "execution_count": 19,
   "metadata": {},
   "outputs": [
    {
     "data": {
      "text/plain": [
       "1"
      ]
     },
     "execution_count": 19,
     "metadata": {},
     "output_type": "execute_result"
    }
   ],
   "source": [
    "lst.count(2)"
   ]
  },
  {
   "cell_type": "markdown",
   "metadata": {},
   "source": [
    "O que faremos basicamente é explorar como poderíamos criar um tipo de objeto como uma lista. Já aprendemos sobre como criar funções. Então, vamos explorar objetos em geral:\n",
    "\n",
    "## Objetos\n",
    "No Python, **tudo é um objeto**. Lembre-se, podemos usar type() para verificar o tipo de objeto em que algo é:"
   ]
  },
  {
   "cell_type": "code",
   "execution_count": 9,
   "metadata": {},
   "outputs": [
    {
     "name": "stdout",
     "output_type": "stream",
     "text": [
      "<class 'int'>\n",
      "<class 'list'>\n",
      "<class 'tuple'>\n",
      "<class 'dict'>\n"
     ]
    }
   ],
   "source": [
    "print(type(1))\n",
    "print(type([]))\n",
    "print(type(()))\n",
    "print(type({}))"
   ]
  },
  {
   "cell_type": "markdown",
   "metadata": {},
   "source": [
    "Então, sabemos que todas essas coisas são objetos, então como podemos criar nossos próprios tipos de objetos? É aí que a palavra-chave <code>class</code> entra.\n",
    "\n",
    "## class\n",
    "Objetos definidos pelo usuário são criados usando a palavra-chave <code>class</code>. A classe é um forma que define a natureza de um objeto futuro. A partir das classes, podemos construir instâncias. Uma instância é um objeto específico criado a partir de uma classe específica. Por exemplo, acima, criamos o objeto <code>lst</code>, que era uma instância de um objeto de lista.\n",
    "\n",
    "Vamos ver como podemos usar <code>class</code>:"
   ]
  },
  {
   "cell_type": "code",
   "execution_count": 12,
   "metadata": {},
   "outputs": [
    {
     "name": "stdout",
     "output_type": "stream",
     "text": [
      "<class '__main__.Amostra'>\n"
     ]
    }
   ],
   "source": [
    "# Crie um novo tipo de objeto chamado Amostra\n",
    "class Amostra:\n",
    "# A palavra pass serve para criarmos um classe vazia.    \n",
    "    pass\n",
    "\n",
    "# objetoAmostra Instância de Amostra\n",
    "objetoAmostra = Amostra()\n",
    "\n",
    "print(type(objetoAmostra))"
   ]
  },
  {
   "cell_type": "markdown",
   "metadata": {},
   "source": [
    "Por convenção, atribuímos às classes um nome que começa com uma letra maiúscula. Observe como <code>objetoAmostra</code> agora é a referência à nossa nova instância de uma classe Amostra. Em outras palavras, instanciamos a classe Amostra.\n",
    "\n",
    "Dentro da aula, atualmente apenas temos aprovação. Mas podemos definir atributos e métodos de classe.\n",
    "\n",
    "Um **atributo** é uma característica de um objeto.\n",
    "Um **método** é uma operação que podemos executar com o objeto.\n",
    "\n",
    "Por exemplo, podemos criar uma classe chamada Cachorro. Um atributo de um cão pode ser sua raça ou seu nome, enquanto um método de um cão pode ser definido por um método .latido() que retorna um som.\n",
    "\n",
    "Vamos entender melhor os atributos por meio de um exemplo.\n",
    "\n",
    "\n",
    "## Atributos\n",
    "A sintaxe para criar um atributo é:\n",
    "    \n",
    "    self.atributo = algumacoisa\n",
    "    \n",
    "Existe um método construtor chamado:\n",
    "\n",
    "    __init__()\n",
    "\n",
    "Este método é usado para inicializar os atributos de um objeto. Por exemplo:"
   ]
  },
  {
   "cell_type": "code",
   "execution_count": 16,
   "metadata": {},
   "outputs": [],
   "source": [
    "class Cachorro:\n",
    "    def __init__(self,raca):\n",
    "        self.raca = raca\n",
    "        \n",
    "marley = Cachorro(raca='Labrador')\n",
    "trovao = Cachorro(raca='ViraLata')"
   ]
  },
  {
   "cell_type": "markdown",
   "metadata": {},
   "source": [
    "Vamos dividir o que temos acima. O método especial\n",
    "\n",
    "    __init__() \n",
    "\n",
    "é chamado automaticamente logo após a criação do objeto:\n",
    "\n",
    "    def __init__(self, raca):\n",
    "\n",
    "Cada atributo em uma definição de classe começa com uma referência ao objeto de instância. É por convenção chamada self. A raça é o argumento. O valor é passado durante a instanciação da classe.\n",
    "\n",
    "     self.raca = raca"
   ]
  },
  {
   "cell_type": "markdown",
   "metadata": {},
   "source": [
    "Agora, criamos duas instâncias da classe Cachorro. Com dois tipos de raças, podemos acessar esses atributos assim:"
   ]
  },
  {
   "cell_type": "code",
   "execution_count": 17,
   "metadata": {},
   "outputs": [
    {
     "data": {
      "text/plain": [
       "'Labrador'"
      ]
     },
     "execution_count": 17,
     "metadata": {},
     "output_type": "execute_result"
    }
   ],
   "source": [
    "marley.raca"
   ]
  },
  {
   "cell_type": "code",
   "execution_count": 18,
   "metadata": {},
   "outputs": [
    {
     "data": {
      "text/plain": [
       "'ViraLata'"
      ]
     },
     "execution_count": 18,
     "metadata": {},
     "output_type": "execute_result"
    }
   ],
   "source": [
    "trovao.raca"
   ]
  },
  {
   "cell_type": "markdown",
   "metadata": {},
   "source": [
    "Observe como não temos parênteses após a raça; isso ocorre porque é um atributo e não aceita argumentos.\n",
    "\n",
    "No Python, também existem **atributos de objeto de classe**. Esses atributos de objeto de classe são os mesmos para qualquer instância da classe. Por exemplo, podemos criar o atributo **especie** para a classe Cachorro. Os cães, independentemente de sua raça, nome ou outros atributos, sempre serão mamíferos. Aplicamos essa lógica da seguinte maneira:"
   ]
  },
  {
   "cell_type": "code",
   "execution_count": 28,
   "metadata": {},
   "outputs": [],
   "source": [
    "class Cachorro:\n",
    "    \n",
    "    # Atributo\n",
    "    especie = 'mamífero'\n",
    "    \n",
    "    def __init__(self,raca,nome):\n",
    "        self.raca = raca\n",
    "        self.nome = nome"
   ]
  },
  {
   "cell_type": "code",
   "execution_count": 29,
   "metadata": {},
   "outputs": [],
   "source": [
    "marley = Cachorro('Labrador','Marley')"
   ]
  },
  {
   "cell_type": "code",
   "execution_count": 30,
   "metadata": {},
   "outputs": [
    {
     "data": {
      "text/plain": [
       "'Marley'"
      ]
     },
     "execution_count": 30,
     "metadata": {},
     "output_type": "execute_result"
    }
   ],
   "source": [
    "marley.nome"
   ]
  },
  {
   "cell_type": "markdown",
   "metadata": {},
   "source": [
    "Observe que o atributo de objeto de classe é definido fora de qualquer método da classe. Também por convenção, os colocamos primeiro antes do init."
   ]
  },
  {
   "cell_type": "code",
   "execution_count": 31,
   "metadata": {},
   "outputs": [
    {
     "data": {
      "text/plain": [
       "'mamífero'"
      ]
     },
     "execution_count": 31,
     "metadata": {},
     "output_type": "execute_result"
    }
   ],
   "source": [
    "marley.especie"
   ]
  },
  {
   "cell_type": "markdown",
   "metadata": {},
   "source": [
    "## Métodos\n",
    "\n",
    "Métodos são funções definidas dentro do corpo de uma classe. Eles são usados para executar operações com os atributos de nossos objetos. Métodos são um conceito-chave do paradigma POO. Eles são essenciais para dividir responsabilidades na programação, especialmente em grandes aplicações.\n",
    "\n",
    "Você pode basicamente pensar em métodos como funções agindo em um objeto que leva o próprio objeto em consideração por meio do argumento **self**.\n",
    "\n",
    "Vamos seguir um exemplo de criação de uma classe Circulo:"
   ]
  },
  {
   "cell_type": "code",
   "execution_count": 32,
   "metadata": {},
   "outputs": [
    {
     "name": "stdout",
     "output_type": "stream",
     "text": [
      "Raio é:  1\n",
      "Área é:  3.14\n",
      "Circunferência é:  6.28\n"
     ]
    }
   ],
   "source": [
    "class Circulo:\n",
    "    pi = 3.14\n",
    "\n",
    "    # O círculo é instanciado com um raio (o padrão é 1)\n",
    "    def __init__(self, raio=1):\n",
    "        self.raio = raio \n",
    "        self.area = raio * raio * Circulo.pi\n",
    "\n",
    "    # Método para redefinir Raio\n",
    "    def setRaio(self, novoRaio):\n",
    "        self.raio = novoRaio\n",
    "        self.area = novoRaio * novoRaio * self.pi\n",
    "\n",
    "    # Método para obter circunferência\n",
    "    def getCircunferencia(self):\n",
    "        return self.raio * self.pi * 2\n",
    "\n",
    "\n",
    "c = Circulo()\n",
    "\n",
    "print('Raio é: ',c.raio)\n",
    "print('Área é: ',c.area)\n",
    "print('Circunferência é: ',c.getCircunferencia())"
   ]
  },
  {
   "cell_type": "markdown",
   "metadata": {},
   "source": [
    "No método \\__init__ acima, para calcular o atributo area, tivemos que chamar Circulo.pi. Isso ocorre porque o objeto ainda não possui seu próprio atributo .pi, portanto, chamamos o atributo de objeto de classe pi.\n",
    "No método setRaio, no entanto, trabalharemos com um objeto Circle existente que possui seu próprio atributo pi. Aqui podemos usar Circle.pi ou self.pi. <br><br>\n",
    "Agora vamos mudar o raio e ver como isso afeta nosso objeto Circulo:"
   ]
  },
  {
   "cell_type": "code",
   "execution_count": 33,
   "metadata": {},
   "outputs": [
    {
     "name": "stdout",
     "output_type": "stream",
     "text": [
      "Raio é:  2\n",
      "Área é:  12.56\n",
      "Circunferência é:  12.56\n"
     ]
    }
   ],
   "source": [
    "c.setRaio(2)\n",
    "\n",
    "print('Raio é: ',c.raio)\n",
    "print('Área é: ',c.area)\n",
    "print('Circunferência é: ',c.getCircunferencia())"
   ]
  },
  {
   "cell_type": "markdown",
   "metadata": {},
   "source": [
    "Ótimo! Observe como nos usamos. notação para referenciar atributos da classe nas chamadas de método. Revise como o código acima funciona e tente criar seu próprio método.\n",
    "\n",
    "## Herança\n",
    "\n",
    "A herança é uma maneira de formar novas classes usando classes que já foram definidas. As classes recém-formadas são chamadas classes derivadas, as classes das quais derivamos são chamadas classes base. Os benefícios importantes da herança são a reutilização de código e a redução da complexidade de um programa. As classes derivadas (descendentes) substituem ou estendem a funcionalidade das classes base (ancestrais).\n",
    "\n",
    "Vamos ver um exemplo, incorporando nosso trabalho anterior na classe Cachorro:"
   ]
  },
  {
   "cell_type": "code",
   "execution_count": 34,
   "metadata": {},
   "outputs": [],
   "source": [
    "class Animal:\n",
    "    def __init__(self):\n",
    "        print(\"Animal criado\")\n",
    "\n",
    "    def quemSouEu(self):\n",
    "        print(\"Animal\")\n",
    "\n",
    "    def comer(self):\n",
    "        print(\"Comendo\")\n",
    "\n",
    "class Cachorro(Animal):\n",
    "    def __init__(self):\n",
    "        Animal.__init__(self)\n",
    "        print(\"Cachorro criado\")\n",
    "\n",
    "    def quemSouEu(self):\n",
    "        print(\"Cachorro\")\n",
    "\n",
    "    def latido(self):\n",
    "        print(\"Au Au!\")"
   ]
  },
  {
   "cell_type": "code",
   "execution_count": 11,
   "metadata": {},
   "outputs": [
    {
     "name": "stdout",
     "output_type": "stream",
     "text": [
      "Animal criado\n",
      "Cachorro criado\n"
     ]
    }
   ],
   "source": [
    "c = Cachorro()"
   ]
  },
  {
   "cell_type": "code",
   "execution_count": 12,
   "metadata": {},
   "outputs": [
    {
     "name": "stdout",
     "output_type": "stream",
     "text": [
      "Cachorro\n"
     ]
    }
   ],
   "source": [
    "c.quemSouEu()"
   ]
  },
  {
   "cell_type": "code",
   "execution_count": 30,
   "metadata": {},
   "outputs": [
    {
     "name": "stdout",
     "output_type": "stream",
     "text": [
      "Comendo\n"
     ]
    }
   ],
   "source": [
    "c.comer()"
   ]
  },
  {
   "cell_type": "code",
   "execution_count": 31,
   "metadata": {},
   "outputs": [
    {
     "name": "stdout",
     "output_type": "stream",
     "text": [
      "Au Au!\n"
     ]
    }
   ],
   "source": [
    "c.latido()"
   ]
  },
  {
   "cell_type": "markdown",
   "metadata": {},
   "source": [
    "Neste exemplo, temos duas classes: Animal e Cão. O Animal é a classe base, o Cão é a classe derivada.\n",
    "\n",
    "A classe derivada herda a funcionalidade da classe base.\n",
    "\n",
    "* É mostrado pelo método comer().\n",
    "\n",
    "A classe derivada modifica o comportamento existente da classe base.\n",
    "\n",
    "* mostrado pelo método quemSouEu().\n",
    "\n",
    "Finalmente, a classe derivada estende a funcionalidade da classe base, definindo um novo método latido()."
   ]
  },
  {
   "cell_type": "markdown",
   "metadata": {},
   "source": [
    "## Polimorfismo\n",
    "\n",
    "Aprendemos que, embora as funções possam receber argumentos diferentes, os métodos pertencem aos objetos em que atuam. Em Python, **polimorfismo** refere-se à maneira como diferentes classes de objetos podem compartilhar o mesmo nome de método, e esses métodos podem ser chamados do mesmo local, mesmo que uma variedade de objetos diferentes possa ser passada. A melhor maneira de explicar isso é por exemplo:"
   ]
  },
  {
   "cell_type": "code",
   "execution_count": 35,
   "metadata": {},
   "outputs": [
    {
     "name": "stdout",
     "output_type": "stream",
     "text": [
      "Trovao diga Au Au!\n",
      "Felix diga Miauuu!\n"
     ]
    }
   ],
   "source": [
    "class Cachorro:\n",
    "    def __init__(self, nome):\n",
    "        self.nome = nome\n",
    "\n",
    "    def falar(self):\n",
    "        return self.nome+' diga Au Au!'\n",
    "    \n",
    "class Gato:\n",
    "    def __init__(self, nome):\n",
    "        self.nome = nome\n",
    "\n",
    "    def falar(self):\n",
    "        return self.nome+' diga Miauuu!' \n",
    "    \n",
    "trovao = Cachorro('Trovao')\n",
    "felix = Gato('Felix')\n",
    "\n",
    "print(trovao.falar())\n",
    "print(felix.falar())"
   ]
  },
  {
   "cell_type": "markdown",
   "metadata": {},
   "source": [
    "Aqui temos uma classe Cachorro e uma classe Gato, e cada uma possui um método `.falar()`. Quando chamado, o método `.falar()` de cada objeto retorna um resultado exclusivo para o objeto.\n",
    "\n",
    "Existem algumas maneiras diferentes de demonstrar o polimorfismo. Primeiro, com um loop para:"
   ]
  },
  {
   "cell_type": "code",
   "execution_count": 35,
   "metadata": {},
   "outputs": [
    {
     "name": "stdout",
     "output_type": "stream",
     "text": [
      "Trovao diga Au Au!\n",
      "Felix diga Miauuu!\n"
     ]
    }
   ],
   "source": [
    "for pet in [trovao,felix]:\n",
    "    print(pet.falar())"
   ]
  },
  {
   "cell_type": "markdown",
   "metadata": {},
   "source": [
    "Outra é com funções:"
   ]
  },
  {
   "cell_type": "code",
   "execution_count": 38,
   "metadata": {},
   "outputs": [
    {
     "name": "stdout",
     "output_type": "stream",
     "text": [
      "Trovao diga Au Au!\n",
      "Felix diga Miauuu!\n"
     ]
    }
   ],
   "source": [
    "def pet_fala(pet):\n",
    "    print(pet.falar())\n",
    "\n",
    "pet_fala(trovao)\n",
    "pet_fala(felix)"
   ]
  },
  {
   "cell_type": "markdown",
   "metadata": {
    "slideshow": {
     "slide_type": "slide"
    }
   },
   "source": [
    "Nos dois casos, fomos capazes de transmitir diferentes tipos de objetos e obtivemos resultados específicos de objetos do mesmo mecanismo.\n",
    "\n",
    "Uma prática mais comum é usar classes abstratas e herança. Uma classe abstrata é aquela que nunca espera ser instanciada. Por exemplo, nunca teremos um objeto Animal, apenas objetos Cão e Gato, embora Cães e Gatos sejam derivados de Animais:"
   ]
  },
  {
   "cell_type": "code",
   "execution_count": 39,
   "metadata": {},
   "outputs": [
    {
     "name": "stdout",
     "output_type": "stream",
     "text": [
      "Fido diga Au Au!\n",
      "Isis diga Miauuu!\n"
     ]
    }
   ],
   "source": [
    "class Animal:\n",
    "    def __init__(self, nome):    # Construtor da classe\n",
    "        self.nome = nome\n",
    "\n",
    "    def falar(self):              # Método abstrato, definido por convenção \n",
    "        raise NotImplementedError(\"Subclasse deve implementar método abstrato\")\n",
    "\n",
    "\n",
    "class Cachorro(Animal):\n",
    "    \n",
    "    def falar(self):\n",
    "        return self.nome+' diga Au Au!'\n",
    "    \n",
    "class Cat(Animal):\n",
    "\n",
    "    def falar(self):\n",
    "        return self.nome+' diga Miauuu!'\n",
    "    \n",
    "fido = Cachorro('Fido')\n",
    "isis = Gato('Isis')\n",
    "\n",
    "print(fido.falar())\n",
    "print(isis.falar())"
   ]
  },
  {
   "cell_type": "markdown",
   "metadata": {},
   "source": [
    "Exemplos da vida real de polimorfismo incluem:\n",
    "* abertura de diferentes tipos de arquivos - são necessárias ferramentas diferentes para exibir arquivos do Word, pdf e Excel\n",
    "* adicionando objetos diferentes - o operador `+` executa aritmética e concatenação"
   ]
  },
  {
   "cell_type": "markdown",
   "metadata": {},
   "source": [
    "## Métodos especiais\n",
    "Finalmente, vamos revisar métodos especiais. As classes em Python podem implementar determinadas operações com nomes de métodos especiais. Na verdade, esses métodos não são chamados diretamente, mas pela sintaxe da linguagem específica do Python. Por exemplo, vamos criar uma classe Livro:"
   ]
  },
  {
   "cell_type": "code",
   "execution_count": 20,
   "metadata": {},
   "outputs": [],
   "source": [
    "class Livro:\n",
    "    def __init__(self, titulo, autor, paginas):\n",
    "        print(\"Um livro é criado\")\n",
    "        self.titulo = titulo\n",
    "        self.autor = autor\n",
    "        self.paginas = paginas\n",
    "\n",
    "    #O método __str__() deve retornar uma representação em forma de string do valor do objeto.\n",
    "    def __str__(self):\n",
    "        return \"Título: %s, autor: %s, páginas: %s\" %(self.titulo, self.autor, self.paginas)\n",
    "\n",
    "    #retorna o comprimento do objeto \n",
    "    def __len__(self):\n",
    "        return self.paginas\n",
    "    #destrutor\n",
    "    def __del__(self):\n",
    "        print(\"Um livro é destruído \")"
   ]
  },
  {
   "cell_type": "code",
   "execution_count": 23,
   "metadata": {},
   "outputs": [
    {
     "name": "stdout",
     "output_type": "stream",
     "text": [
      "Um livro é criado\n",
      "Título: Python Rocks!, autor: Jose Portilla, páginas: 159\n",
      "159\n",
      "Um livro é destruído \n"
     ]
    }
   ],
   "source": [
    "livro = Livro(\"Python Rocks!\", \"Jose Portilla\", 159)\n",
    "\n",
    "#Métodos especiais\n",
    "print(livro)\n",
    "print(len(livro))\n",
    "del livro"
   ]
  },
  {
   "cell_type": "markdown",
   "metadata": {},
   "source": [
    "    Os métodos __init__(), __str__(), __len__() e __del__() \n",
    "Esses métodos especiais são definidos pelo uso de sublinhados. Eles nos permitem usar funções específicas do Python em objetos criados por meio de nossa classe.\n",
    "\n",
    "**Ótimo! Após este notebook você deverá ter um entendimento básico de como criar seus próprios objetos com classe no Python.!**\n",
    "\n",
    "Para mais recursos excelentes sobre esse tópico, confira:\n",
    "\n",
    "[Jeff Knupp's Post](https://jeffknupp.com/blog/2014/06/18/improve-your-python-python-classes-and-object-oriented-programming/)\n",
    "\n",
    "[Mozilla's Post](https://developer.mozilla.org/en-US/Learn/Python/Quickly_Learn_Object_Oriented_Programming)\n",
    "\n",
    "[Tutorial's Point](http://www.tutorialspoint.com/python/python_classes_objects.htm)\n",
    "\n",
    "[Official Documentation](https://docs.python.org/3/tutorial/classes.html)"
   ]
  }
 ],
 "metadata": {
  "kernelspec": {
   "display_name": "Python 3 (ipykernel)",
   "language": "python",
   "name": "python3"
  },
  "language_info": {
   "codemirror_mode": {
    "name": "ipython",
    "version": 3
   },
   "file_extension": ".py",
   "mimetype": "text/x-python",
   "name": "python",
   "nbconvert_exporter": "python",
   "pygments_lexer": "ipython3",
   "version": "3.9.7"
  }
 },
 "nbformat": 4,
 "nbformat_minor": 1
}
