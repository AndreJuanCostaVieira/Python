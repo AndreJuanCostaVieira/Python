{
 "cells": [
  {
   "cell_type": "markdown",
   "metadata": {},
   "source": [
    "# Módulos e pacotes\n",
    "\n",
    "Nesta seção, brevemente:\n",
    "* codifique um módulo básico e mostre como importá-lo para um script Python\n",
    "* execute um script Python a partir de uma célula Jupyter\n",
    "* mostra como os argumentos da linha de comando podem ser passados para um script\n",
    "\n",
    "Confira vídeo para mais informações e recursos para isso.\n",
    "\n",
    "O melhor recurso on-line são os documentos oficiais:\n",
    "https://docs.python.org/3/tutorial/modules.html#packages\n",
    "\n",
    "Há mais informações aqui:\n",
    "https://python4astronomers.github.io/installation/packages.html\n",
    "\n",
    "## Criando módulos"
   ]
  },
  {
   "cell_type": "code",
   "execution_count": 1,
   "metadata": {},
   "outputs": [
    {
     "name": "stdout",
     "output_type": "stream",
     "text": [
      "Overwriting arquivo1.py\n"
     ]
    }
   ],
   "source": [
    "%%writefile arquivo1.py\n",
    "def minha_funcao(x):\n",
    "    return [num for num in range(x) if num%2==0]\n",
    "lista1 = minha_funcao(11)"
   ]
  },
  {
   "cell_type": "markdown",
   "metadata": {},
   "source": [
    "**arquivo1.py** vai ser usado como um módulo.\n",
    "\n",
    "Observe que ele não imprime ou retorna nada,\n",
    "apenas define uma função chamada *minha_funcao* e uma variável chamada *list1*.\n",
    "## Escrevendo scripts"
   ]
  },
  {
   "cell_type": "code",
   "execution_count": 2,
   "metadata": {},
   "outputs": [
    {
     "name": "stdout",
     "output_type": "stream",
     "text": [
      "Overwriting arquivo2.py\n"
     ]
    }
   ],
   "source": [
    "%%writefile arquivo2.py\n",
    "import arquivo1\n",
    "arquivo1.lista1.append(12)\n",
    "print(arquivo1.lista1)"
   ]
  },
  {
   "cell_type": "markdown",
   "metadata": {},
   "source": [
    "**arquivo2.py** é um script Python.\n",
    "\n",
    "Primeiro, importamos o módulo **arquivo1** (observe a falta de uma extensão .py) <br>\n",
    "Em seguida, acessamos a variável **lista1** dentro de **arquivo1** e executamos um método de lista nela. <br>\n",
    "`.append(12)` prova que estamos trabalhando com um objeto de lista Python, e não apenas uma string. <br> Finalmente, dizemos ao nosso script para imprimir a lista modificada.\n",
    "## Executando scripts"
   ]
  },
  {
   "cell_type": "code",
   "execution_count": 19,
   "metadata": {},
   "outputs": [
    {
     "name": "stdout",
     "output_type": "stream",
     "text": [
      "[0, 2, 4, 6, 8, 10, 12]\n"
     ]
    }
   ],
   "source": [
    "! python arquivo2.py"
   ]
  },
  {
   "cell_type": "markdown",
   "metadata": {},
   "source": [
    "Aqui, executamos nosso script na linha de comando. O ponto de exclamação é um truque do Jupyter que permite executar instruções de linha de comando de dentro de uma célula do jupyter."
   ]
  },
  {
   "cell_type": "code",
   "execution_count": 3,
   "metadata": {},
   "outputs": [
    {
     "name": "stdout",
     "output_type": "stream",
     "text": [
      "[0, 2, 4, 6, 8, 10]\n"
     ]
    }
   ],
   "source": [
    "import arquivo1\n",
    "print(arquivo1.lista1)"
   ]
  },
  {
   "cell_type": "markdown",
   "metadata": {},
   "source": [
    "A célula acima prova que nunca alteramos **arquivo1.py**, apenas acrescentamos um número à lista **depois que** foi trazido para **arquivo2**."
   ]
  },
  {
   "cell_type": "markdown",
   "metadata": {},
   "source": [
    "## Passando argumentos da Linha de Comandos\n",
    "Módulo `sys` dá acesso aos argumentos da linha de comando ao chamar scripts."
   ]
  },
  {
   "cell_type": "code",
   "execution_count": 4,
   "metadata": {},
   "outputs": [
    {
     "name": "stdout",
     "output_type": "stream",
     "text": [
      "Overwriting arquivo3.py\n"
     ]
    }
   ],
   "source": [
    "%%writefile arquivo3.py\n",
    "import sys\n",
    "import arquivo1\n",
    "num = int(sys.argv[1])\n",
    "print(arquivo1.minha_funcao(num))"
   ]
  },
  {
   "cell_type": "markdown",
   "metadata": {},
   "source": [
    "Observe que nós selecionamos o segundo item na lista de argumentos com `sys.argv [1]`. <br>\n",
    "Isso ocorre porque a lista criada com `sys.argv` sempre começa com o nome do arquivo que está sendo usado. <br>"
   ]
  },
  {
   "cell_type": "code",
   "execution_count": 22,
   "metadata": {},
   "outputs": [
    {
     "name": "stdout",
     "output_type": "stream",
     "text": [
      "[0, 2, 4, 6, 8, 10, 12, 14, 16, 18, 20]\n"
     ]
    }
   ],
   "source": [
    "! python arquivo3.py 21"
   ]
  },
  {
   "cell_type": "markdown",
   "metadata": {},
   "source": [
    "Aqui estamos passando 21 para ser o valor do intervalo superior usado pela função **minha_funcao** em **lista1**"
   ]
  },
  {
   "cell_type": "markdown",
   "metadata": {},
   "source": [
    "## Entendendo módulos\n",
    "\n",
    "Módulos em Python são simplesmente arquivos Python com a extensão .py, que implementam um conjunto de funções. Os módulos são importados de outros módulos usando o comando <code>import</code>.\n",
    "\n",
    "Para importar um módulo, usamos o comando <code>import</code>. Confira a lista completa de módulos internos na biblioteca padrão do Python \n",
    "[aqui] (https://docs.python.org/3/py-modindex.html).\n",
    "\n",
    "A primeira vez que um módulo é carregado em um script Python em execução, ele é inicializado executando o código no módulo uma vez. Se outro módulo no seu código importar o mesmo módulo novamente, ele não será carregado duas vezes, mas apenas uma vez - para que as variáveis locais dentro do módulo funcionem como um \"singleton\" - elas serão inicializadas apenas uma vez.\n",
    "\n",
    "Se queremos importar o módulo math, simplesmente importamos o nome do módulo:"
   ]
  },
  {
   "cell_type": "code",
   "execution_count": 5,
   "metadata": {},
   "outputs": [],
   "source": [
    "# importando a biblioteca\n",
    "import math"
   ]
  },
  {
   "cell_type": "code",
   "execution_count": 6,
   "metadata": {},
   "outputs": [
    {
     "data": {
      "text/plain": [
       "3"
      ]
     },
     "execution_count": 6,
     "metadata": {},
     "output_type": "execute_result"
    }
   ],
   "source": [
    "# use-o (arredondamento do teto)\n",
    "math.ceil(2.4)"
   ]
  },
  {
   "cell_type": "markdown",
   "metadata": {},
   "source": [
    "## Explorando módulos embutidos\n",
    "Duas funções muito importantes são úteis ao explorar módulos em Python - as funções <code>dir</code> e <code>help</code>.\n",
    "\n",
    "Podemos procurar quais funções são implementadas em cada módulo usando a função <code>dir</code>:"
   ]
  },
  {
   "cell_type": "code",
   "execution_count": 17,
   "metadata": {},
   "outputs": [
    {
     "name": "stdout",
     "output_type": "stream",
     "text": [
      "['__doc__', '__loader__', '__name__', '__package__', '__spec__', 'acos', 'acosh', 'asin', 'asinh', 'atan', 'atan2', 'atanh', 'ceil', 'copysign', 'cos', 'cosh', 'degrees', 'e', 'erf', 'erfc', 'exp', 'expm1', 'fabs', 'factorial', 'floor', 'fmod', 'frexp', 'fsum', 'gamma', 'gcd', 'hypot', 'inf', 'isclose', 'isfinite', 'isinf', 'isnan', 'ldexp', 'lgamma', 'log', 'log10', 'log1p', 'log2', 'modf', 'nan', 'pi', 'pow', 'radians', 'remainder', 'sin', 'sinh', 'sqrt', 'tan', 'tanh', 'tau', 'trunc']\n"
     ]
    }
   ],
   "source": [
    "print(dir(math))"
   ]
  },
  {
   "cell_type": "markdown",
   "metadata": {},
   "source": [
    "Quando encontramos a função no módulo que queremos usar, podemos ler mais sobre ela usando a função <code>help</code>, dentro do interpretador Python:"
   ]
  },
  {
   "cell_type": "code",
   "execution_count": 18,
   "metadata": {},
   "outputs": [
    {
     "name": "stdout",
     "output_type": "stream",
     "text": [
      "Help on built-in function ceil in module math:\n",
      "\n",
      "ceil(x, /)\n",
      "    Return the ceiling of x as an Integral.\n",
      "    \n",
      "    This is the smallest integer >= x.\n",
      "\n"
     ]
    }
   ],
   "source": [
    "help(math.ceil)"
   ]
  },
  {
   "cell_type": "markdown",
   "metadata": {},
   "source": [
    "## Escrevendo módulos\n",
    "Escrever módulos Python é muito simples. Para criar seu próprio módulo, basta criar um novo arquivo .py com o nome do módulo e importá-lo usando o nome do arquivo Python (sem a extensão .py) usando o comando import.\n",
    "\n",
    "## Escrevendo pacotes\n",
    "Pacotes são espaços de nomes que contêm vários pacotes e módulos. Eles são simplesmente diretórios, mas com um toque.\n",
    "\n",
    "Cada pacote no Python é um diretório que DEVE conter um arquivo especial chamado **\\__init\\__.py**. Esse arquivo pode estar vazio e indica que o diretório que ele contém é um pacote Python, portanto, pode ser importado da mesma maneira que um módulo pode ser importado.\n",
    "\n",
    "Se criarmos um diretório chamado foo, que marca o nome do pacote, podemos criar um módulo dentro desse pacote chamado bar. Também não devemos esquecer de adicionar o arquivo **\\__init\\__.py** dentro do diretório foo.\n",
    "\n",
    "Para usar bar do módulo, podemos importá-la de duas maneiras:"
   ]
  },
  {
   "cell_type": "code",
   "execution_count": 25,
   "metadata": {},
   "outputs": [
    {
     "ename": "ModuleNotFoundError",
     "evalue": "No module named 'foo'",
     "output_type": "error",
     "traceback": [
      "\u001b[1;31m---------------------------------------------------------------------------\u001b[0m",
      "\u001b[1;31mModuleNotFoundError\u001b[0m                       Traceback (most recent call last)",
      "\u001b[1;32m<ipython-input-25-9c8485221010>\u001b[0m in \u001b[0;36m<module>\u001b[1;34m\u001b[0m\n\u001b[0;32m      1\u001b[0m \u001b[1;31m# Apenas um exemplo, isso não vai funcionar\u001b[0m\u001b[1;33m\u001b[0m\u001b[1;33m\u001b[0m\u001b[1;33m\u001b[0m\u001b[0m\n\u001b[1;32m----> 2\u001b[1;33m \u001b[1;32mimport\u001b[0m \u001b[0mfoo\u001b[0m\u001b[1;33m.\u001b[0m\u001b[0mbar\u001b[0m\u001b[1;33m\u001b[0m\u001b[1;33m\u001b[0m\u001b[0m\n\u001b[0m",
      "\u001b[1;31mModuleNotFoundError\u001b[0m: No module named 'foo'"
     ]
    }
   ],
   "source": [
    "# Apenas um exemplo, isso não vai funcionar\n",
    "import foo.bar"
   ]
  },
  {
   "cell_type": "code",
   "execution_count": 16,
   "metadata": {},
   "outputs": [
    {
     "ename": "ModuleNotFoundError",
     "evalue": "No module named 'foo'",
     "output_type": "error",
     "traceback": [
      "\u001b[1;31m---------------------------------------------------------------------------\u001b[0m",
      "\u001b[1;31mModuleNotFoundError\u001b[0m                       Traceback (most recent call last)",
      "\u001b[1;32m<ipython-input-16-a373890d9c47>\u001b[0m in \u001b[0;36m<module>\u001b[1;34m\u001b[0m\n\u001b[0;32m      1\u001b[0m \u001b[1;31m# OU poderia fazê-lo desta maneira\u001b[0m\u001b[1;33m\u001b[0m\u001b[1;33m\u001b[0m\u001b[1;33m\u001b[0m\u001b[0m\n\u001b[1;32m----> 2\u001b[1;33m \u001b[1;32mfrom\u001b[0m \u001b[0mfoo\u001b[0m \u001b[1;32mimport\u001b[0m \u001b[0mbar\u001b[0m\u001b[1;33m\u001b[0m\u001b[1;33m\u001b[0m\u001b[0m\n\u001b[0m",
      "\u001b[1;31mModuleNotFoundError\u001b[0m: No module named 'foo'"
     ]
    }
   ],
   "source": [
    "# OU poderia fazê-lo desta maneira\n",
    "from foo import bar"
   ]
  },
  {
   "cell_type": "markdown",
   "metadata": {},
   "source": [
    "No primeiro método, devemos usar o prefixo foo sempre que acessamos bar de módulos. No segundo método, não importamos, porque importamos o módulo para o espaço de nome do nosso módulo.\n",
    "\n",
    "O arquivo **\\__init\\__.py** também é possível decidir quais módulos o pacote exporta como API, mantendo outros módulos internos, substituindo a variável **\\__all\\__**, igual a:"
   ]
  },
  {
   "cell_type": "code",
   "execution_count": 20,
   "metadata": {},
   "outputs": [
    {
     "ename": "SyntaxError",
     "evalue": "invalid syntax (<ipython-input-20-45d8bf1c62c0>, line 1)",
     "output_type": "error",
     "traceback": [
      "\u001b[1;36m  File \u001b[1;32m\"<ipython-input-20-45d8bf1c62c0>\"\u001b[1;36m, line \u001b[1;32m1\u001b[0m\n\u001b[1;33m    __init__.py:\u001b[0m\n\u001b[1;37m                ^\u001b[0m\n\u001b[1;31mSyntaxError\u001b[0m\u001b[1;31m:\u001b[0m invalid syntax\n"
     ]
    }
   ],
   "source": [
    "__init__.py:\n",
    "\n",
    "__all__ = [\"bar\"]"
   ]
  },
  {
   "cell_type": "code",
   "execution_count": 26,
   "metadata": {},
   "outputs": [
    {
     "name": "stdout",
     "output_type": "stream",
     "text": [
      "[0, 2, 4]\n"
     ]
    }
   ],
   "source": [
    "import sys\n",
    "import moduloteste.arquivo1 as a\n",
    "num = int(5)\n",
    "print(a.minha_funcao(num))"
   ]
  }
 ],
 "metadata": {
  "kernelspec": {
   "display_name": "Python 3",
   "language": "python",
   "name": "python3"
  },
  "language_info": {
   "codemirror_mode": {
    "name": "ipython",
    "version": 3
   },
   "file_extension": ".py",
   "mimetype": "text/x-python",
   "name": "python",
   "nbconvert_exporter": "python",
   "pygments_lexer": "ipython3",
   "version": "3.7.4"
  }
 },
 "nbformat": 4,
 "nbformat_minor": 1
}
