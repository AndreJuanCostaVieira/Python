{
 "cells": [
  {
   "cell_type": "markdown",
   "metadata": {},
   "source": [
    "# Plotly e Cufflinks"
   ]
  },
  {
   "cell_type": "markdown",
   "metadata": {},
   "source": [
    "O Plotly é uma biblioteca que permite criar gráficos interativos que você pode usar em painéis ou sites (você pode salvá-los como arquivos html ou imagens estáticas).\n",
    "\n",
    "## Instalação\n",
    "\n",
    "Para que tudo funcione, você precisará instalar plotly e cufflinks para chamar plots diretamente de um DataFrame pandas. Essas bibliotecas não estão atualmente disponíveis através de **conda**, mas estão disponíveis através de **pip**. Instale as bibliotecas em sua linha de comando / terminal usando:\n",
    "\n",
    "    pip install plotly\n",
    "    pip install cufflinks\n",
    "\n",
    "**NOTA: Certifique-se de ter apenas uma instalação do Python no seu computador quando faz isso, caso contrário, a instalação pode não funcionar.**\n",
    "\n",
    "## Importações e Configuração"
   ]
  },
  {
   "cell_type": "code",
   "execution_count": 2,
   "metadata": {},
   "outputs": [
    {
     "name": "stdout",
     "output_type": "stream",
     "text": [
      "Requirement already satisfied: plotly in c:\\programdata\\anaconda3\\lib\\site-packages (4.7.1)\n",
      "Requirement already satisfied: six in c:\\programdata\\anaconda3\\lib\\site-packages (from plotly) (1.12.0)\n",
      "Requirement already satisfied: retrying>=1.3.3 in c:\\programdata\\anaconda3\\lib\\site-packages (from plotly) (1.3.3)\n",
      "Requirement already satisfied: cufflinks in c:\\programdata\\anaconda3\\lib\\site-packages (0.17.3)\n",
      "Requirement already satisfied: ipywidgets>=7.0.0 in c:\\programdata\\anaconda3\\lib\\site-packages (from cufflinks) (7.5.1)\n",
      "Requirement already satisfied: setuptools>=34.4.1 in c:\\programdata\\anaconda3\\lib\\site-packages (from cufflinks) (41.4.0)\n",
      "Requirement already satisfied: colorlover>=0.2.1 in c:\\programdata\\anaconda3\\lib\\site-packages (from cufflinks) (0.3.0)\n",
      "Requirement already satisfied: plotly>=4.1.1 in c:\\programdata\\anaconda3\\lib\\site-packages (from cufflinks) (4.7.1)\n",
      "Requirement already satisfied: numpy>=1.9.2 in c:\\programdata\\anaconda3\\lib\\site-packages (from cufflinks) (1.16.4)\n",
      "Requirement already satisfied: ipython>=5.3.0 in c:\\programdata\\anaconda3\\lib\\site-packages (from cufflinks) (7.8.0)\n",
      "Requirement already satisfied: six>=1.9.0 in c:\\programdata\\anaconda3\\lib\\site-packages (from cufflinks) (1.12.0)\n",
      "Requirement already satisfied: pandas>=0.19.2 in c:\\programdata\\anaconda3\\lib\\site-packages (from cufflinks) (0.24.2)\n",
      "Requirement already satisfied: traitlets>=4.3.1 in c:\\programdata\\anaconda3\\lib\\site-packages (from ipywidgets>=7.0.0->cufflinks) (4.3.3)\n",
      "Requirement already satisfied: widgetsnbextension~=3.5.0 in c:\\programdata\\anaconda3\\lib\\site-packages (from ipywidgets>=7.0.0->cufflinks) (3.5.1)\n",
      "Requirement already satisfied: nbformat>=4.2.0 in c:\\programdata\\anaconda3\\lib\\site-packages (from ipywidgets>=7.0.0->cufflinks) (4.4.0)\n",
      "Requirement already satisfied: ipykernel>=4.5.1 in c:\\programdata\\anaconda3\\lib\\site-packages (from ipywidgets>=7.0.0->cufflinks) (5.1.2)\n",
      "Requirement already satisfied: retrying>=1.3.3 in c:\\programdata\\anaconda3\\lib\\site-packages (from plotly>=4.1.1->cufflinks) (1.3.3)\n",
      "Requirement already satisfied: colorama; sys_platform == \"win32\" in c:\\programdata\\anaconda3\\lib\\site-packages (from ipython>=5.3.0->cufflinks) (0.4.1)\n",
      "Requirement already satisfied: prompt-toolkit<2.1.0,>=2.0.0 in c:\\programdata\\anaconda3\\lib\\site-packages (from ipython>=5.3.0->cufflinks) (2.0.10)\n",
      "Requirement already satisfied: decorator in c:\\programdata\\anaconda3\\lib\\site-packages (from ipython>=5.3.0->cufflinks) (4.4.0)\n",
      "Requirement already satisfied: backcall in c:\\programdata\\anaconda3\\lib\\site-packages (from ipython>=5.3.0->cufflinks) (0.1.0)\n",
      "Requirement already satisfied: pygments in c:\\programdata\\anaconda3\\lib\\site-packages (from ipython>=5.3.0->cufflinks) (2.4.2)\n",
      "Requirement already satisfied: pickleshare in c:\\programdata\\anaconda3\\lib\\site-packages (from ipython>=5.3.0->cufflinks) (0.7.5)\n",
      "Requirement already satisfied: jedi>=0.10 in c:\\programdata\\anaconda3\\lib\\site-packages (from ipython>=5.3.0->cufflinks) (0.15.1)\n",
      "Requirement already satisfied: pytz>=2011k in c:\\programdata\\anaconda3\\lib\\site-packages (from pandas>=0.19.2->cufflinks) (2019.1)\n",
      "Requirement already satisfied: python-dateutil>=2.5.0 in c:\\programdata\\anaconda3\\lib\\site-packages (from pandas>=0.19.2->cufflinks) (2.8.0)\n",
      "Requirement already satisfied: ipython-genutils in c:\\programdata\\anaconda3\\lib\\site-packages (from traitlets>=4.3.1->ipywidgets>=7.0.0->cufflinks) (0.2.0)\n",
      "Requirement already satisfied: notebook>=4.4.1 in c:\\programdata\\anaconda3\\lib\\site-packages (from widgetsnbextension~=3.5.0->ipywidgets>=7.0.0->cufflinks) (6.0.1)\n",
      "Requirement already satisfied: jupyter-core in c:\\programdata\\anaconda3\\lib\\site-packages (from nbformat>=4.2.0->ipywidgets>=7.0.0->cufflinks) (4.5.0)\n",
      "Requirement already satisfied: jsonschema!=2.5.0,>=2.4 in c:\\programdata\\anaconda3\\lib\\site-packages (from nbformat>=4.2.0->ipywidgets>=7.0.0->cufflinks) (3.0.2)\n",
      "Requirement already satisfied: tornado>=4.2 in c:\\programdata\\anaconda3\\lib\\site-packages (from ipykernel>=4.5.1->ipywidgets>=7.0.0->cufflinks) (6.0.3)\n",
      "Requirement already satisfied: jupyter-client in c:\\programdata\\anaconda3\\lib\\site-packages (from ipykernel>=4.5.1->ipywidgets>=7.0.0->cufflinks) (5.3.3)\n",
      "Requirement already satisfied: wcwidth in c:\\programdata\\anaconda3\\lib\\site-packages (from prompt-toolkit<2.1.0,>=2.0.0->ipython>=5.3.0->cufflinks) (0.1.7)\n",
      "Requirement already satisfied: parso>=0.5.0 in c:\\programdata\\anaconda3\\lib\\site-packages (from jedi>=0.10->ipython>=5.3.0->cufflinks) (0.5.1)\n",
      "Requirement already satisfied: prometheus-client in c:\\programdata\\anaconda3\\lib\\site-packages (from notebook>=4.4.1->widgetsnbextension~=3.5.0->ipywidgets>=7.0.0->cufflinks) (0.7.1)\n",
      "Requirement already satisfied: Send2Trash in c:\\programdata\\anaconda3\\lib\\site-packages (from notebook>=4.4.1->widgetsnbextension~=3.5.0->ipywidgets>=7.0.0->cufflinks) (1.5.0)\n",
      "Requirement already satisfied: pyzmq>=17 in c:\\programdata\\anaconda3\\lib\\site-packages (from notebook>=4.4.1->widgetsnbextension~=3.5.0->ipywidgets>=7.0.0->cufflinks) (18.1.0)\n",
      "Requirement already satisfied: terminado>=0.8.1 in c:\\programdata\\anaconda3\\lib\\site-packages (from notebook>=4.4.1->widgetsnbextension~=3.5.0->ipywidgets>=7.0.0->cufflinks) (0.8.2)\n",
      "Requirement already satisfied: jinja2 in c:\\programdata\\anaconda3\\lib\\site-packages (from notebook>=4.4.1->widgetsnbextension~=3.5.0->ipywidgets>=7.0.0->cufflinks) (2.10.3)\n",
      "Requirement already satisfied: nbconvert in c:\\programdata\\anaconda3\\lib\\site-packages (from notebook>=4.4.1->widgetsnbextension~=3.5.0->ipywidgets>=7.0.0->cufflinks) (5.6.0)\n",
      "Requirement already satisfied: pyrsistent>=0.14.0 in c:\\programdata\\anaconda3\\lib\\site-packages (from jsonschema!=2.5.0,>=2.4->nbformat>=4.2.0->ipywidgets>=7.0.0->cufflinks) (0.15.4)\n",
      "Requirement already satisfied: attrs>=17.4.0 in c:\\programdata\\anaconda3\\lib\\site-packages (from jsonschema!=2.5.0,>=2.4->nbformat>=4.2.0->ipywidgets>=7.0.0->cufflinks) (19.1.0)\n",
      "Requirement already satisfied: pywin32>=1.0; sys_platform == \"win32\" in c:\\programdata\\anaconda3\\lib\\site-packages (from jupyter-client->ipykernel>=4.5.1->ipywidgets>=7.0.0->cufflinks) (223)\n",
      "Requirement already satisfied: MarkupSafe>=0.23 in c:\\programdata\\anaconda3\\lib\\site-packages (from jinja2->notebook>=4.4.1->widgetsnbextension~=3.5.0->ipywidgets>=7.0.0->cufflinks) (1.1.1)\n",
      "Requirement already satisfied: entrypoints>=0.2.2 in c:\\programdata\\anaconda3\\lib\\site-packages (from nbconvert->notebook>=4.4.1->widgetsnbextension~=3.5.0->ipywidgets>=7.0.0->cufflinks) (0.3)\n",
      "Requirement already satisfied: bleach in c:\\programdata\\anaconda3\\lib\\site-packages (from nbconvert->notebook>=4.4.1->widgetsnbextension~=3.5.0->ipywidgets>=7.0.0->cufflinks) (3.1.0)\n",
      "Requirement already satisfied: defusedxml in c:\\programdata\\anaconda3\\lib\\site-packages (from nbconvert->notebook>=4.4.1->widgetsnbextension~=3.5.0->ipywidgets>=7.0.0->cufflinks) (0.6.0)\n",
      "Requirement already satisfied: pandocfilters>=1.4.1 in c:\\programdata\\anaconda3\\lib\\site-packages (from nbconvert->notebook>=4.4.1->widgetsnbextension~=3.5.0->ipywidgets>=7.0.0->cufflinks) (1.4.2)\n",
      "Requirement already satisfied: mistune<2,>=0.8.1 in c:\\programdata\\anaconda3\\lib\\site-packages (from nbconvert->notebook>=4.4.1->widgetsnbextension~=3.5.0->ipywidgets>=7.0.0->cufflinks) (0.8.4)\n",
      "Requirement already satisfied: testpath in c:\\programdata\\anaconda3\\lib\\site-packages (from nbconvert->notebook>=4.4.1->widgetsnbextension~=3.5.0->ipywidgets>=7.0.0->cufflinks) (0.4.2)\n",
      "Requirement already satisfied: webencodings in c:\\programdata\\anaconda3\\lib\\site-packages (from bleach->nbconvert->notebook>=4.4.1->widgetsnbextension~=3.5.0->ipywidgets>=7.0.0->cufflinks) (0.5.1)\n"
     ]
    }
   ],
   "source": [
    "! pip install plotly\n",
    "! pip install cufflinks"
   ]
  },
  {
   "cell_type": "code",
   "execution_count": 1,
   "metadata": {},
   "outputs": [],
   "source": [
    "import pandas as pd\n",
    "import numpy as np\n",
    "%matplotlib inline"
   ]
  },
  {
   "cell_type": "code",
   "execution_count": 2,
   "metadata": {},
   "outputs": [
    {
     "name": "stdout",
     "output_type": "stream",
     "text": [
      "5.6.0\n"
     ]
    }
   ],
   "source": [
    "from plotly import __version__\n",
    "from plotly.offline import download_plotlyjs, init_notebook_mode, plot, iplot\n",
    "\n",
    "print(__version__)"
   ]
  },
  {
   "cell_type": "code",
   "execution_count": 3,
   "metadata": {},
   "outputs": [],
   "source": [
    "# ! pip install cufflinks\n",
    "import cufflinks as cf"
   ]
  },
  {
   "cell_type": "code",
   "execution_count": 4,
   "metadata": {},
   "outputs": [
    {
     "data": {
      "text/html": [
       "        <script type=\"text/javascript\">\n",
       "        window.PlotlyConfig = {MathJaxConfig: 'local'};\n",
       "        if (window.MathJax) {MathJax.Hub.Config({SVG: {font: \"STIX-Web\"}});}\n",
       "        if (typeof require !== 'undefined') {\n",
       "        require.undef(\"plotly\");\n",
       "        requirejs.config({\n",
       "            paths: {\n",
       "                'plotly': ['https://cdn.plot.ly/plotly-2.9.0.min']\n",
       "            }\n",
       "        });\n",
       "        require(['plotly'], function(Plotly) {\n",
       "            window._Plotly = Plotly;\n",
       "        });\n",
       "        }\n",
       "        </script>\n",
       "        "
      ]
     },
     "metadata": {},
     "output_type": "display_data"
    }
   ],
   "source": [
    "# Para Notebooks\n",
    "init_notebook_mode(connected=True)"
   ]
  },
  {
   "cell_type": "code",
   "execution_count": 5,
   "metadata": {},
   "outputs": [
    {
     "data": {
      "text/html": [
       "        <script type=\"text/javascript\">\n",
       "        window.PlotlyConfig = {MathJaxConfig: 'local'};\n",
       "        if (window.MathJax) {MathJax.Hub.Config({SVG: {font: \"STIX-Web\"}});}\n",
       "        if (typeof require !== 'undefined') {\n",
       "        require.undef(\"plotly\");\n",
       "        requirejs.config({\n",
       "            paths: {\n",
       "                'plotly': ['https://cdn.plot.ly/plotly-2.9.0.min']\n",
       "            }\n",
       "        });\n",
       "        require(['plotly'], function(Plotly) {\n",
       "            window._Plotly = Plotly;\n",
       "        });\n",
       "        }\n",
       "        </script>\n",
       "        "
      ]
     },
     "metadata": {},
     "output_type": "display_data"
    }
   ],
   "source": [
    "# Para uso offline\n",
    "cf.go_offline()"
   ]
  },
  {
   "cell_type": "markdown",
   "metadata": {},
   "source": [
    "### Dados para teste da biblioteca"
   ]
  },
  {
   "cell_type": "code",
   "execution_count": 6,
   "metadata": {},
   "outputs": [],
   "source": [
    "df = pd.DataFrame(np.random.randn(100,4),columns='A B C D'.split())"
   ]
  },
  {
   "cell_type": "code",
   "execution_count": 7,
   "metadata": {},
   "outputs": [
    {
     "data": {
      "text/html": [
       "<div>\n",
       "<style scoped>\n",
       "    .dataframe tbody tr th:only-of-type {\n",
       "        vertical-align: middle;\n",
       "    }\n",
       "\n",
       "    .dataframe tbody tr th {\n",
       "        vertical-align: top;\n",
       "    }\n",
       "\n",
       "    .dataframe thead th {\n",
       "        text-align: right;\n",
       "    }\n",
       "</style>\n",
       "<table border=\"1\" class=\"dataframe\">\n",
       "  <thead>\n",
       "    <tr style=\"text-align: right;\">\n",
       "      <th></th>\n",
       "      <th>A</th>\n",
       "      <th>B</th>\n",
       "      <th>C</th>\n",
       "      <th>D</th>\n",
       "    </tr>\n",
       "  </thead>\n",
       "  <tbody>\n",
       "    <tr>\n",
       "      <th>0</th>\n",
       "      <td>0.093867</td>\n",
       "      <td>1.134035</td>\n",
       "      <td>-0.332828</td>\n",
       "      <td>0.018277</td>\n",
       "    </tr>\n",
       "    <tr>\n",
       "      <th>1</th>\n",
       "      <td>-1.139005</td>\n",
       "      <td>0.013006</td>\n",
       "      <td>-1.544845</td>\n",
       "      <td>1.031226</td>\n",
       "    </tr>\n",
       "    <tr>\n",
       "      <th>2</th>\n",
       "      <td>-0.233676</td>\n",
       "      <td>-1.454411</td>\n",
       "      <td>0.622869</td>\n",
       "      <td>-0.990227</td>\n",
       "    </tr>\n",
       "    <tr>\n",
       "      <th>3</th>\n",
       "      <td>-0.817832</td>\n",
       "      <td>0.076729</td>\n",
       "      <td>0.809369</td>\n",
       "      <td>-0.169527</td>\n",
       "    </tr>\n",
       "    <tr>\n",
       "      <th>4</th>\n",
       "      <td>-1.138669</td>\n",
       "      <td>0.483919</td>\n",
       "      <td>0.719077</td>\n",
       "      <td>0.006203</td>\n",
       "    </tr>\n",
       "  </tbody>\n",
       "</table>\n",
       "</div>"
      ],
      "text/plain": [
       "          A         B         C         D\n",
       "0  0.093867  1.134035 -0.332828  0.018277\n",
       "1 -1.139005  0.013006 -1.544845  1.031226\n",
       "2 -0.233676 -1.454411  0.622869 -0.990227\n",
       "3 -0.817832  0.076729  0.809369 -0.169527\n",
       "4 -1.138669  0.483919  0.719077  0.006203"
      ]
     },
     "execution_count": 7,
     "metadata": {},
     "output_type": "execute_result"
    }
   ],
   "source": [
    "df.head()"
   ]
  },
  {
   "cell_type": "code",
   "execution_count": 8,
   "metadata": {},
   "outputs": [],
   "source": [
    "df2 = pd.DataFrame({'Categoria':['A','B','C'],'Valores':[32,43,50]})"
   ]
  },
  {
   "cell_type": "code",
   "execution_count": 9,
   "metadata": {},
   "outputs": [
    {
     "data": {
      "text/html": [
       "<div>\n",
       "<style scoped>\n",
       "    .dataframe tbody tr th:only-of-type {\n",
       "        vertical-align: middle;\n",
       "    }\n",
       "\n",
       "    .dataframe tbody tr th {\n",
       "        vertical-align: top;\n",
       "    }\n",
       "\n",
       "    .dataframe thead th {\n",
       "        text-align: right;\n",
       "    }\n",
       "</style>\n",
       "<table border=\"1\" class=\"dataframe\">\n",
       "  <thead>\n",
       "    <tr style=\"text-align: right;\">\n",
       "      <th></th>\n",
       "      <th>Categoria</th>\n",
       "      <th>Valores</th>\n",
       "    </tr>\n",
       "  </thead>\n",
       "  <tbody>\n",
       "    <tr>\n",
       "      <th>0</th>\n",
       "      <td>A</td>\n",
       "      <td>32</td>\n",
       "    </tr>\n",
       "    <tr>\n",
       "      <th>1</th>\n",
       "      <td>B</td>\n",
       "      <td>43</td>\n",
       "    </tr>\n",
       "    <tr>\n",
       "      <th>2</th>\n",
       "      <td>C</td>\n",
       "      <td>50</td>\n",
       "    </tr>\n",
       "  </tbody>\n",
       "</table>\n",
       "</div>"
      ],
      "text/plain": [
       "  Categoria  Valores\n",
       "0         A       32\n",
       "1         B       43\n",
       "2         C       50"
      ]
     },
     "execution_count": 9,
     "metadata": {},
     "output_type": "execute_result"
    }
   ],
   "source": [
    "df2.head()"
   ]
  },
  {
   "cell_type": "markdown",
   "metadata": {},
   "source": [
    "## Usando Cufflinks e iplot ()\n",
    "\n",
    "* Dispersão\n",
    "* Barras\n",
    "* BoxPlot\n",
    "* Spreads\n",
    "* Proporção\n",
    "* Mapa de calor\n",
    "* Superfícies 3D\n",
    "* Histograma\n",
    "* Bolha"
   ]
  },
  {
   "cell_type": "markdown",
   "metadata": {},
   "source": [
    "## Dispersão"
   ]
  },
  {
   "cell_type": "code",
   "execution_count": 10,
   "metadata": {},
   "outputs": [
    {
     "data": {
      "application/vnd.plotly.v1+json": {
       "config": {
        "linkText": "Export to plot.ly",
        "plotlyServerURL": "https://plot.ly",
        "showLink": true
       },
       "data": [
        {
         "line": {
          "color": "rgba(255, 153, 51, 1.0)",
          "dash": "solid",
          "shape": "linear",
          "width": 1.3
         },
         "marker": {
          "size": 10,
          "symbol": "circle"
         },
         "mode": "markers",
         "name": "B",
         "text": "",
         "type": "scatter",
         "x": [
          0.09386654377961644,
          -1.139004671822801,
          -0.23367563378421577,
          -0.8178321802841402,
          -1.1386693772818866,
          -1.6933602772163847,
          -0.340882409868143,
          -0.351551967954869,
          1.0758340774178499,
          -0.787595569821493,
          -0.4591133299503853,
          0.6345527442690106,
          -0.0835497443856339,
          0.8184263799228679,
          2.3301004445919853,
          -1.7842568978947762,
          1.2519772540173484,
          -0.6878146559815548,
          0.9635311160123031,
          -1.8983326215126495,
          2.1261591546867598,
          0.8941929951060387,
          0.1993320335310691,
          1.458215627439701,
          1.4694761919905903,
          -0.15252157482332396,
          -0.07148794668059787,
          -0.7635578591458244,
          -0.615900797268425,
          1.7053678572999516,
          -2.7292138631298317,
          0.933668525563834,
          -0.15968170111604396,
          0.7028590284260958,
          -1.1066058899225693,
          0.1619239233677905,
          0.2696690872716977,
          -0.8220265893588786,
          -0.33645552246354093,
          -0.07621137756404667,
          0.13301168100033228,
          -1.8700761206942498,
          0.0027439163561086524,
          1.2737410558275717,
          2.650550647922217,
          0.16841290963442426,
          -0.14149905735278132,
          -0.9644995305255604,
          -1.2604272026237753,
          0.319347044132876,
          0.56899546075684,
          1.241070964776888,
          -2.631068877305108,
          0.6652088306271956,
          -0.1867782110110191,
          -1.1025950775762114,
          -1.0816166208111249,
          0.28279051004301603,
          0.22548470390457245,
          -1.0921356640494668,
          -0.21652925585167312,
          1.2433709974704996,
          -3.1345566857767975,
          -1.4382763214819527,
          -1.1285833645782766,
          -1.2296014908982091,
          -1.7346476621463802,
          -0.9222160955908932,
          -0.1732327426597853,
          0.2976568213768825,
          0.7990801597704285,
          -0.15030976242435307,
          -0.9146846787912161,
          1.283925952969555,
          0.013167437974883985,
          1.0127366895351093,
          0.4891948168208888,
          0.42369269963044137,
          1.33102509023086,
          -1.370552114637446,
          -0.714767518480121,
          0.3750615806094237,
          0.5341559704135873,
          1.5619388793042077,
          -1.8508306253213733,
          1.3370419329169922,
          -0.7280235070437202,
          -1.1633069457494016,
          -0.5492177107383946,
          -0.5021165530681923,
          1.3629234752007997,
          1.2230320992696806,
          -0.5100791299765235,
          -2.621920527501423,
          -0.7654463508855776,
          1.497549637995718,
          -0.35601407564263093,
          1.8455499737402132,
          0.12220185490031459,
          -0.8450536569754781
         ],
         "y": [
          1.1340353607997995,
          0.013006465258081384,
          -1.4544113520150583,
          0.07672868747175726,
          0.48391889321947923,
          1.194788934202027,
          0.22468133183006384,
          0.12551098479531267,
          -0.27451552388284617,
          2.0356034926737436,
          0.7173123445309864,
          0.7932955472950777,
          -0.41502003783564156,
          0.3893140303258917,
          0.6193349803483303,
          -0.7866532286313116,
          1.3277002978859909,
          1.5560353033408851,
          -0.7637079816569204,
          1.4955257362466297,
          -1.3157860680447728,
          0.4814511617674176,
          -0.6261436350263004,
          -0.04619684870672389,
          0.9371898406188366,
          -0.5989093165454566,
          0.0062151920303784285,
          -0.6020029731603319,
          -2.208256297298656,
          0.7399894254410262,
          1.0860142458716426,
          -1.21065622295551,
          -0.09588287071653072,
          -1.2263598161115243,
          1.8299597122438265,
          -0.11413820163249909,
          -0.06935353377663811,
          1.5166820871775397,
          1.1795924483053237,
          -1.6027402892601654,
          0.12794276660807943,
          1.516455861068911,
          2.5031970959043703,
          -0.67197527259152,
          -0.729446552836332,
          -0.03227595217765168,
          0.6382184051655801,
          0.7079866983022988,
          -0.4630846645711651,
          -0.12042104592526794,
          0.818865391037555,
          -0.00456154244896449,
          -0.1454955215538559,
          0.82370762397494,
          1.1263911654451604,
          0.6957075242555208,
          -0.8809740163523293,
          0.13402287027597873,
          0.014942003469062437,
          0.5804442219882356,
          0.9941911200090845,
          0.7290166511006079,
          -0.19075826249149594,
          -0.3918900162987637,
          1.333464552078728,
          -0.14873129227566592,
          -2.705689931089558,
          -0.7259691233913627,
          1.0168910947228955,
          0.7873734558033054,
          0.026171372184366572,
          0.12996314877041218,
          1.6580005079219238,
          -0.44171738051397963,
          -0.0213341973283803,
          1.0895618776272844,
          -1.4783218403668337,
          -0.8051304132435134,
          0.9531400624960661,
          0.8574565198195986,
          1.267699008904015,
          -1.0931040378118888,
          0.5145903925372172,
          0.7628372620473755,
          -0.6581011595882967,
          1.2632260819909658,
          -1.2555456014903983,
          -0.9356552111274646,
          -0.3691646696574371,
          0.3709105437574881,
          1.0912030100326888,
          -0.9904125304371655,
          -1.2409751278186256,
          1.2795751598938199,
          1.0106178022864407,
          -0.03939033921404506,
          2.7754656697884035,
          -0.3644327979796833,
          1.5226149656513353,
          -1.5568377097308161
         ]
        }
       ],
       "layout": {
        "legend": {
         "bgcolor": "#F5F6F9",
         "font": {
          "color": "#4D5663"
         }
        },
        "paper_bgcolor": "#F5F6F9",
        "plot_bgcolor": "#F5F6F9",
        "template": {
         "data": {
          "bar": [
           {
            "error_x": {
             "color": "#2a3f5f"
            },
            "error_y": {
             "color": "#2a3f5f"
            },
            "marker": {
             "line": {
              "color": "#E5ECF6",
              "width": 0.5
             },
             "pattern": {
              "fillmode": "overlay",
              "size": 10,
              "solidity": 0.2
             }
            },
            "type": "bar"
           }
          ],
          "barpolar": [
           {
            "marker": {
             "line": {
              "color": "#E5ECF6",
              "width": 0.5
             },
             "pattern": {
              "fillmode": "overlay",
              "size": 10,
              "solidity": 0.2
             }
            },
            "type": "barpolar"
           }
          ],
          "carpet": [
           {
            "aaxis": {
             "endlinecolor": "#2a3f5f",
             "gridcolor": "white",
             "linecolor": "white",
             "minorgridcolor": "white",
             "startlinecolor": "#2a3f5f"
            },
            "baxis": {
             "endlinecolor": "#2a3f5f",
             "gridcolor": "white",
             "linecolor": "white",
             "minorgridcolor": "white",
             "startlinecolor": "#2a3f5f"
            },
            "type": "carpet"
           }
          ],
          "choropleth": [
           {
            "colorbar": {
             "outlinewidth": 0,
             "ticks": ""
            },
            "type": "choropleth"
           }
          ],
          "contour": [
           {
            "colorbar": {
             "outlinewidth": 0,
             "ticks": ""
            },
            "colorscale": [
             [
              0,
              "#0d0887"
             ],
             [
              0.1111111111111111,
              "#46039f"
             ],
             [
              0.2222222222222222,
              "#7201a8"
             ],
             [
              0.3333333333333333,
              "#9c179e"
             ],
             [
              0.4444444444444444,
              "#bd3786"
             ],
             [
              0.5555555555555556,
              "#d8576b"
             ],
             [
              0.6666666666666666,
              "#ed7953"
             ],
             [
              0.7777777777777778,
              "#fb9f3a"
             ],
             [
              0.8888888888888888,
              "#fdca26"
             ],
             [
              1,
              "#f0f921"
             ]
            ],
            "type": "contour"
           }
          ],
          "contourcarpet": [
           {
            "colorbar": {
             "outlinewidth": 0,
             "ticks": ""
            },
            "type": "contourcarpet"
           }
          ],
          "heatmap": [
           {
            "colorbar": {
             "outlinewidth": 0,
             "ticks": ""
            },
            "colorscale": [
             [
              0,
              "#0d0887"
             ],
             [
              0.1111111111111111,
              "#46039f"
             ],
             [
              0.2222222222222222,
              "#7201a8"
             ],
             [
              0.3333333333333333,
              "#9c179e"
             ],
             [
              0.4444444444444444,
              "#bd3786"
             ],
             [
              0.5555555555555556,
              "#d8576b"
             ],
             [
              0.6666666666666666,
              "#ed7953"
             ],
             [
              0.7777777777777778,
              "#fb9f3a"
             ],
             [
              0.8888888888888888,
              "#fdca26"
             ],
             [
              1,
              "#f0f921"
             ]
            ],
            "type": "heatmap"
           }
          ],
          "heatmapgl": [
           {
            "colorbar": {
             "outlinewidth": 0,
             "ticks": ""
            },
            "colorscale": [
             [
              0,
              "#0d0887"
             ],
             [
              0.1111111111111111,
              "#46039f"
             ],
             [
              0.2222222222222222,
              "#7201a8"
             ],
             [
              0.3333333333333333,
              "#9c179e"
             ],
             [
              0.4444444444444444,
              "#bd3786"
             ],
             [
              0.5555555555555556,
              "#d8576b"
             ],
             [
              0.6666666666666666,
              "#ed7953"
             ],
             [
              0.7777777777777778,
              "#fb9f3a"
             ],
             [
              0.8888888888888888,
              "#fdca26"
             ],
             [
              1,
              "#f0f921"
             ]
            ],
            "type": "heatmapgl"
           }
          ],
          "histogram": [
           {
            "marker": {
             "pattern": {
              "fillmode": "overlay",
              "size": 10,
              "solidity": 0.2
             }
            },
            "type": "histogram"
           }
          ],
          "histogram2d": [
           {
            "colorbar": {
             "outlinewidth": 0,
             "ticks": ""
            },
            "colorscale": [
             [
              0,
              "#0d0887"
             ],
             [
              0.1111111111111111,
              "#46039f"
             ],
             [
              0.2222222222222222,
              "#7201a8"
             ],
             [
              0.3333333333333333,
              "#9c179e"
             ],
             [
              0.4444444444444444,
              "#bd3786"
             ],
             [
              0.5555555555555556,
              "#d8576b"
             ],
             [
              0.6666666666666666,
              "#ed7953"
             ],
             [
              0.7777777777777778,
              "#fb9f3a"
             ],
             [
              0.8888888888888888,
              "#fdca26"
             ],
             [
              1,
              "#f0f921"
             ]
            ],
            "type": "histogram2d"
           }
          ],
          "histogram2dcontour": [
           {
            "colorbar": {
             "outlinewidth": 0,
             "ticks": ""
            },
            "colorscale": [
             [
              0,
              "#0d0887"
             ],
             [
              0.1111111111111111,
              "#46039f"
             ],
             [
              0.2222222222222222,
              "#7201a8"
             ],
             [
              0.3333333333333333,
              "#9c179e"
             ],
             [
              0.4444444444444444,
              "#bd3786"
             ],
             [
              0.5555555555555556,
              "#d8576b"
             ],
             [
              0.6666666666666666,
              "#ed7953"
             ],
             [
              0.7777777777777778,
              "#fb9f3a"
             ],
             [
              0.8888888888888888,
              "#fdca26"
             ],
             [
              1,
              "#f0f921"
             ]
            ],
            "type": "histogram2dcontour"
           }
          ],
          "mesh3d": [
           {
            "colorbar": {
             "outlinewidth": 0,
             "ticks": ""
            },
            "type": "mesh3d"
           }
          ],
          "parcoords": [
           {
            "line": {
             "colorbar": {
              "outlinewidth": 0,
              "ticks": ""
             }
            },
            "type": "parcoords"
           }
          ],
          "pie": [
           {
            "automargin": true,
            "type": "pie"
           }
          ],
          "scatter": [
           {
            "marker": {
             "colorbar": {
              "outlinewidth": 0,
              "ticks": ""
             }
            },
            "type": "scatter"
           }
          ],
          "scatter3d": [
           {
            "line": {
             "colorbar": {
              "outlinewidth": 0,
              "ticks": ""
             }
            },
            "marker": {
             "colorbar": {
              "outlinewidth": 0,
              "ticks": ""
             }
            },
            "type": "scatter3d"
           }
          ],
          "scattercarpet": [
           {
            "marker": {
             "colorbar": {
              "outlinewidth": 0,
              "ticks": ""
             }
            },
            "type": "scattercarpet"
           }
          ],
          "scattergeo": [
           {
            "marker": {
             "colorbar": {
              "outlinewidth": 0,
              "ticks": ""
             }
            },
            "type": "scattergeo"
           }
          ],
          "scattergl": [
           {
            "marker": {
             "colorbar": {
              "outlinewidth": 0,
              "ticks": ""
             }
            },
            "type": "scattergl"
           }
          ],
          "scattermapbox": [
           {
            "marker": {
             "colorbar": {
              "outlinewidth": 0,
              "ticks": ""
             }
            },
            "type": "scattermapbox"
           }
          ],
          "scatterpolar": [
           {
            "marker": {
             "colorbar": {
              "outlinewidth": 0,
              "ticks": ""
             }
            },
            "type": "scatterpolar"
           }
          ],
          "scatterpolargl": [
           {
            "marker": {
             "colorbar": {
              "outlinewidth": 0,
              "ticks": ""
             }
            },
            "type": "scatterpolargl"
           }
          ],
          "scatterternary": [
           {
            "marker": {
             "colorbar": {
              "outlinewidth": 0,
              "ticks": ""
             }
            },
            "type": "scatterternary"
           }
          ],
          "surface": [
           {
            "colorbar": {
             "outlinewidth": 0,
             "ticks": ""
            },
            "colorscale": [
             [
              0,
              "#0d0887"
             ],
             [
              0.1111111111111111,
              "#46039f"
             ],
             [
              0.2222222222222222,
              "#7201a8"
             ],
             [
              0.3333333333333333,
              "#9c179e"
             ],
             [
              0.4444444444444444,
              "#bd3786"
             ],
             [
              0.5555555555555556,
              "#d8576b"
             ],
             [
              0.6666666666666666,
              "#ed7953"
             ],
             [
              0.7777777777777778,
              "#fb9f3a"
             ],
             [
              0.8888888888888888,
              "#fdca26"
             ],
             [
              1,
              "#f0f921"
             ]
            ],
            "type": "surface"
           }
          ],
          "table": [
           {
            "cells": {
             "fill": {
              "color": "#EBF0F8"
             },
             "line": {
              "color": "white"
             }
            },
            "header": {
             "fill": {
              "color": "#C8D4E3"
             },
             "line": {
              "color": "white"
             }
            },
            "type": "table"
           }
          ]
         },
         "layout": {
          "annotationdefaults": {
           "arrowcolor": "#2a3f5f",
           "arrowhead": 0,
           "arrowwidth": 1
          },
          "autotypenumbers": "strict",
          "coloraxis": {
           "colorbar": {
            "outlinewidth": 0,
            "ticks": ""
           }
          },
          "colorscale": {
           "diverging": [
            [
             0,
             "#8e0152"
            ],
            [
             0.1,
             "#c51b7d"
            ],
            [
             0.2,
             "#de77ae"
            ],
            [
             0.3,
             "#f1b6da"
            ],
            [
             0.4,
             "#fde0ef"
            ],
            [
             0.5,
             "#f7f7f7"
            ],
            [
             0.6,
             "#e6f5d0"
            ],
            [
             0.7,
             "#b8e186"
            ],
            [
             0.8,
             "#7fbc41"
            ],
            [
             0.9,
             "#4d9221"
            ],
            [
             1,
             "#276419"
            ]
           ],
           "sequential": [
            [
             0,
             "#0d0887"
            ],
            [
             0.1111111111111111,
             "#46039f"
            ],
            [
             0.2222222222222222,
             "#7201a8"
            ],
            [
             0.3333333333333333,
             "#9c179e"
            ],
            [
             0.4444444444444444,
             "#bd3786"
            ],
            [
             0.5555555555555556,
             "#d8576b"
            ],
            [
             0.6666666666666666,
             "#ed7953"
            ],
            [
             0.7777777777777778,
             "#fb9f3a"
            ],
            [
             0.8888888888888888,
             "#fdca26"
            ],
            [
             1,
             "#f0f921"
            ]
           ],
           "sequentialminus": [
            [
             0,
             "#0d0887"
            ],
            [
             0.1111111111111111,
             "#46039f"
            ],
            [
             0.2222222222222222,
             "#7201a8"
            ],
            [
             0.3333333333333333,
             "#9c179e"
            ],
            [
             0.4444444444444444,
             "#bd3786"
            ],
            [
             0.5555555555555556,
             "#d8576b"
            ],
            [
             0.6666666666666666,
             "#ed7953"
            ],
            [
             0.7777777777777778,
             "#fb9f3a"
            ],
            [
             0.8888888888888888,
             "#fdca26"
            ],
            [
             1,
             "#f0f921"
            ]
           ]
          },
          "colorway": [
           "#636efa",
           "#EF553B",
           "#00cc96",
           "#ab63fa",
           "#FFA15A",
           "#19d3f3",
           "#FF6692",
           "#B6E880",
           "#FF97FF",
           "#FECB52"
          ],
          "font": {
           "color": "#2a3f5f"
          },
          "geo": {
           "bgcolor": "white",
           "lakecolor": "white",
           "landcolor": "#E5ECF6",
           "showlakes": true,
           "showland": true,
           "subunitcolor": "white"
          },
          "hoverlabel": {
           "align": "left"
          },
          "hovermode": "closest",
          "mapbox": {
           "style": "light"
          },
          "paper_bgcolor": "white",
          "plot_bgcolor": "#E5ECF6",
          "polar": {
           "angularaxis": {
            "gridcolor": "white",
            "linecolor": "white",
            "ticks": ""
           },
           "bgcolor": "#E5ECF6",
           "radialaxis": {
            "gridcolor": "white",
            "linecolor": "white",
            "ticks": ""
           }
          },
          "scene": {
           "xaxis": {
            "backgroundcolor": "#E5ECF6",
            "gridcolor": "white",
            "gridwidth": 2,
            "linecolor": "white",
            "showbackground": true,
            "ticks": "",
            "zerolinecolor": "white"
           },
           "yaxis": {
            "backgroundcolor": "#E5ECF6",
            "gridcolor": "white",
            "gridwidth": 2,
            "linecolor": "white",
            "showbackground": true,
            "ticks": "",
            "zerolinecolor": "white"
           },
           "zaxis": {
            "backgroundcolor": "#E5ECF6",
            "gridcolor": "white",
            "gridwidth": 2,
            "linecolor": "white",
            "showbackground": true,
            "ticks": "",
            "zerolinecolor": "white"
           }
          },
          "shapedefaults": {
           "line": {
            "color": "#2a3f5f"
           }
          },
          "ternary": {
           "aaxis": {
            "gridcolor": "white",
            "linecolor": "white",
            "ticks": ""
           },
           "baxis": {
            "gridcolor": "white",
            "linecolor": "white",
            "ticks": ""
           },
           "bgcolor": "#E5ECF6",
           "caxis": {
            "gridcolor": "white",
            "linecolor": "white",
            "ticks": ""
           }
          },
          "title": {
           "x": 0.05
          },
          "xaxis": {
           "automargin": true,
           "gridcolor": "white",
           "linecolor": "white",
           "ticks": "",
           "title": {
            "standoff": 15
           },
           "zerolinecolor": "white",
           "zerolinewidth": 2
          },
          "yaxis": {
           "automargin": true,
           "gridcolor": "white",
           "linecolor": "white",
           "ticks": "",
           "title": {
            "standoff": 15
           },
           "zerolinecolor": "white",
           "zerolinewidth": 2
          }
         }
        },
        "title": {
         "font": {
          "color": "#4D5663"
         }
        },
        "xaxis": {
         "gridcolor": "#E1E5ED",
         "showgrid": true,
         "tickfont": {
          "color": "#4D5663"
         },
         "title": {
          "font": {
           "color": "#4D5663"
          },
          "text": ""
         },
         "zerolinecolor": "#E1E5ED"
        },
        "yaxis": {
         "gridcolor": "#E1E5ED",
         "showgrid": true,
         "tickfont": {
          "color": "#4D5663"
         },
         "title": {
          "font": {
           "color": "#4D5663"
          },
          "text": ""
         },
         "zerolinecolor": "#E1E5ED"
        }
       }
      },
      "text/html": [
       "<div>                            <div id=\"57567b98-7b71-48cf-abc8-df6d72c89a98\" class=\"plotly-graph-div\" style=\"height:525px; width:100%;\"></div>            <script type=\"text/javascript\">                require([\"plotly\"], function(Plotly) {                    window.PLOTLYENV=window.PLOTLYENV || {};\n",
       "                    window.PLOTLYENV.BASE_URL='https://plot.ly';                                    if (document.getElementById(\"57567b98-7b71-48cf-abc8-df6d72c89a98\")) {                    Plotly.newPlot(                        \"57567b98-7b71-48cf-abc8-df6d72c89a98\",                        [{\"line\":{\"color\":\"rgba(255, 153, 51, 1.0)\",\"dash\":\"solid\",\"shape\":\"linear\",\"width\":1.3},\"marker\":{\"size\":10,\"symbol\":\"circle\"},\"mode\":\"markers\",\"name\":\"B\",\"text\":\"\",\"x\":[0.09386654377961644,-1.139004671822801,-0.23367563378421577,-0.8178321802841402,-1.1386693772818866,-1.6933602772163847,-0.340882409868143,-0.351551967954869,1.0758340774178499,-0.787595569821493,-0.4591133299503853,0.6345527442690106,-0.0835497443856339,0.8184263799228679,2.3301004445919853,-1.7842568978947762,1.2519772540173484,-0.6878146559815548,0.9635311160123031,-1.8983326215126495,2.1261591546867598,0.8941929951060387,0.1993320335310691,1.458215627439701,1.4694761919905903,-0.15252157482332396,-0.07148794668059787,-0.7635578591458244,-0.615900797268425,1.7053678572999516,-2.7292138631298317,0.933668525563834,-0.15968170111604396,0.7028590284260958,-1.1066058899225693,0.1619239233677905,0.2696690872716977,-0.8220265893588786,-0.33645552246354093,-0.07621137756404667,0.13301168100033228,-1.8700761206942498,0.0027439163561086524,1.2737410558275717,2.650550647922217,0.16841290963442426,-0.14149905735278132,-0.9644995305255604,-1.2604272026237753,0.319347044132876,0.56899546075684,1.241070964776888,-2.631068877305108,0.6652088306271956,-0.1867782110110191,-1.1025950775762114,-1.0816166208111249,0.28279051004301603,0.22548470390457245,-1.0921356640494668,-0.21652925585167312,1.2433709974704996,-3.1345566857767975,-1.4382763214819527,-1.1285833645782766,-1.2296014908982091,-1.7346476621463802,-0.9222160955908932,-0.1732327426597853,0.2976568213768825,0.7990801597704285,-0.15030976242435307,-0.9146846787912161,1.283925952969555,0.013167437974883985,1.0127366895351093,0.4891948168208888,0.42369269963044137,1.33102509023086,-1.370552114637446,-0.714767518480121,0.3750615806094237,0.5341559704135873,1.5619388793042077,-1.8508306253213733,1.3370419329169922,-0.7280235070437202,-1.1633069457494016,-0.5492177107383946,-0.5021165530681923,1.3629234752007997,1.2230320992696806,-0.5100791299765235,-2.621920527501423,-0.7654463508855776,1.497549637995718,-0.35601407564263093,1.8455499737402132,0.12220185490031459,-0.8450536569754781],\"y\":[1.1340353607997995,0.013006465258081384,-1.4544113520150583,0.07672868747175726,0.48391889321947923,1.194788934202027,0.22468133183006384,0.12551098479531267,-0.27451552388284617,2.0356034926737436,0.7173123445309864,0.7932955472950777,-0.41502003783564156,0.3893140303258917,0.6193349803483303,-0.7866532286313116,1.3277002978859909,1.5560353033408851,-0.7637079816569204,1.4955257362466297,-1.3157860680447728,0.4814511617674176,-0.6261436350263004,-0.04619684870672389,0.9371898406188366,-0.5989093165454566,0.0062151920303784285,-0.6020029731603319,-2.208256297298656,0.7399894254410262,1.0860142458716426,-1.21065622295551,-0.09588287071653072,-1.2263598161115243,1.8299597122438265,-0.11413820163249909,-0.06935353377663811,1.5166820871775397,1.1795924483053237,-1.6027402892601654,0.12794276660807943,1.516455861068911,2.5031970959043703,-0.67197527259152,-0.729446552836332,-0.03227595217765168,0.6382184051655801,0.7079866983022988,-0.4630846645711651,-0.12042104592526794,0.818865391037555,-0.00456154244896449,-0.1454955215538559,0.82370762397494,1.1263911654451604,0.6957075242555208,-0.8809740163523293,0.13402287027597873,0.014942003469062437,0.5804442219882356,0.9941911200090845,0.7290166511006079,-0.19075826249149594,-0.3918900162987637,1.333464552078728,-0.14873129227566592,-2.705689931089558,-0.7259691233913627,1.0168910947228955,0.7873734558033054,0.026171372184366572,0.12996314877041218,1.6580005079219238,-0.44171738051397963,-0.0213341973283803,1.0895618776272844,-1.4783218403668337,-0.8051304132435134,0.9531400624960661,0.8574565198195986,1.267699008904015,-1.0931040378118888,0.5145903925372172,0.7628372620473755,-0.6581011595882967,1.2632260819909658,-1.2555456014903983,-0.9356552111274646,-0.3691646696574371,0.3709105437574881,1.0912030100326888,-0.9904125304371655,-1.2409751278186256,1.2795751598938199,1.0106178022864407,-0.03939033921404506,2.7754656697884035,-0.3644327979796833,1.5226149656513353,-1.5568377097308161],\"type\":\"scatter\"}],                        {\"legend\":{\"bgcolor\":\"#F5F6F9\",\"font\":{\"color\":\"#4D5663\"}},\"paper_bgcolor\":\"#F5F6F9\",\"plot_bgcolor\":\"#F5F6F9\",\"template\":{\"data\":{\"barpolar\":[{\"marker\":{\"line\":{\"color\":\"#E5ECF6\",\"width\":0.5},\"pattern\":{\"fillmode\":\"overlay\",\"size\":10,\"solidity\":0.2}},\"type\":\"barpolar\"}],\"bar\":[{\"error_x\":{\"color\":\"#2a3f5f\"},\"error_y\":{\"color\":\"#2a3f5f\"},\"marker\":{\"line\":{\"color\":\"#E5ECF6\",\"width\":0.5},\"pattern\":{\"fillmode\":\"overlay\",\"size\":10,\"solidity\":0.2}},\"type\":\"bar\"}],\"carpet\":[{\"aaxis\":{\"endlinecolor\":\"#2a3f5f\",\"gridcolor\":\"white\",\"linecolor\":\"white\",\"minorgridcolor\":\"white\",\"startlinecolor\":\"#2a3f5f\"},\"baxis\":{\"endlinecolor\":\"#2a3f5f\",\"gridcolor\":\"white\",\"linecolor\":\"white\",\"minorgridcolor\":\"white\",\"startlinecolor\":\"#2a3f5f\"},\"type\":\"carpet\"}],\"choropleth\":[{\"colorbar\":{\"outlinewidth\":0,\"ticks\":\"\"},\"type\":\"choropleth\"}],\"contourcarpet\":[{\"colorbar\":{\"outlinewidth\":0,\"ticks\":\"\"},\"type\":\"contourcarpet\"}],\"contour\":[{\"colorbar\":{\"outlinewidth\":0,\"ticks\":\"\"},\"colorscale\":[[0.0,\"#0d0887\"],[0.1111111111111111,\"#46039f\"],[0.2222222222222222,\"#7201a8\"],[0.3333333333333333,\"#9c179e\"],[0.4444444444444444,\"#bd3786\"],[0.5555555555555556,\"#d8576b\"],[0.6666666666666666,\"#ed7953\"],[0.7777777777777778,\"#fb9f3a\"],[0.8888888888888888,\"#fdca26\"],[1.0,\"#f0f921\"]],\"type\":\"contour\"}],\"heatmapgl\":[{\"colorbar\":{\"outlinewidth\":0,\"ticks\":\"\"},\"colorscale\":[[0.0,\"#0d0887\"],[0.1111111111111111,\"#46039f\"],[0.2222222222222222,\"#7201a8\"],[0.3333333333333333,\"#9c179e\"],[0.4444444444444444,\"#bd3786\"],[0.5555555555555556,\"#d8576b\"],[0.6666666666666666,\"#ed7953\"],[0.7777777777777778,\"#fb9f3a\"],[0.8888888888888888,\"#fdca26\"],[1.0,\"#f0f921\"]],\"type\":\"heatmapgl\"}],\"heatmap\":[{\"colorbar\":{\"outlinewidth\":0,\"ticks\":\"\"},\"colorscale\":[[0.0,\"#0d0887\"],[0.1111111111111111,\"#46039f\"],[0.2222222222222222,\"#7201a8\"],[0.3333333333333333,\"#9c179e\"],[0.4444444444444444,\"#bd3786\"],[0.5555555555555556,\"#d8576b\"],[0.6666666666666666,\"#ed7953\"],[0.7777777777777778,\"#fb9f3a\"],[0.8888888888888888,\"#fdca26\"],[1.0,\"#f0f921\"]],\"type\":\"heatmap\"}],\"histogram2dcontour\":[{\"colorbar\":{\"outlinewidth\":0,\"ticks\":\"\"},\"colorscale\":[[0.0,\"#0d0887\"],[0.1111111111111111,\"#46039f\"],[0.2222222222222222,\"#7201a8\"],[0.3333333333333333,\"#9c179e\"],[0.4444444444444444,\"#bd3786\"],[0.5555555555555556,\"#d8576b\"],[0.6666666666666666,\"#ed7953\"],[0.7777777777777778,\"#fb9f3a\"],[0.8888888888888888,\"#fdca26\"],[1.0,\"#f0f921\"]],\"type\":\"histogram2dcontour\"}],\"histogram2d\":[{\"colorbar\":{\"outlinewidth\":0,\"ticks\":\"\"},\"colorscale\":[[0.0,\"#0d0887\"],[0.1111111111111111,\"#46039f\"],[0.2222222222222222,\"#7201a8\"],[0.3333333333333333,\"#9c179e\"],[0.4444444444444444,\"#bd3786\"],[0.5555555555555556,\"#d8576b\"],[0.6666666666666666,\"#ed7953\"],[0.7777777777777778,\"#fb9f3a\"],[0.8888888888888888,\"#fdca26\"],[1.0,\"#f0f921\"]],\"type\":\"histogram2d\"}],\"histogram\":[{\"marker\":{\"pattern\":{\"fillmode\":\"overlay\",\"size\":10,\"solidity\":0.2}},\"type\":\"histogram\"}],\"mesh3d\":[{\"colorbar\":{\"outlinewidth\":0,\"ticks\":\"\"},\"type\":\"mesh3d\"}],\"parcoords\":[{\"line\":{\"colorbar\":{\"outlinewidth\":0,\"ticks\":\"\"}},\"type\":\"parcoords\"}],\"pie\":[{\"automargin\":true,\"type\":\"pie\"}],\"scatter3d\":[{\"line\":{\"colorbar\":{\"outlinewidth\":0,\"ticks\":\"\"}},\"marker\":{\"colorbar\":{\"outlinewidth\":0,\"ticks\":\"\"}},\"type\":\"scatter3d\"}],\"scattercarpet\":[{\"marker\":{\"colorbar\":{\"outlinewidth\":0,\"ticks\":\"\"}},\"type\":\"scattercarpet\"}],\"scattergeo\":[{\"marker\":{\"colorbar\":{\"outlinewidth\":0,\"ticks\":\"\"}},\"type\":\"scattergeo\"}],\"scattergl\":[{\"marker\":{\"colorbar\":{\"outlinewidth\":0,\"ticks\":\"\"}},\"type\":\"scattergl\"}],\"scattermapbox\":[{\"marker\":{\"colorbar\":{\"outlinewidth\":0,\"ticks\":\"\"}},\"type\":\"scattermapbox\"}],\"scatterpolargl\":[{\"marker\":{\"colorbar\":{\"outlinewidth\":0,\"ticks\":\"\"}},\"type\":\"scatterpolargl\"}],\"scatterpolar\":[{\"marker\":{\"colorbar\":{\"outlinewidth\":0,\"ticks\":\"\"}},\"type\":\"scatterpolar\"}],\"scatter\":[{\"marker\":{\"colorbar\":{\"outlinewidth\":0,\"ticks\":\"\"}},\"type\":\"scatter\"}],\"scatterternary\":[{\"marker\":{\"colorbar\":{\"outlinewidth\":0,\"ticks\":\"\"}},\"type\":\"scatterternary\"}],\"surface\":[{\"colorbar\":{\"outlinewidth\":0,\"ticks\":\"\"},\"colorscale\":[[0.0,\"#0d0887\"],[0.1111111111111111,\"#46039f\"],[0.2222222222222222,\"#7201a8\"],[0.3333333333333333,\"#9c179e\"],[0.4444444444444444,\"#bd3786\"],[0.5555555555555556,\"#d8576b\"],[0.6666666666666666,\"#ed7953\"],[0.7777777777777778,\"#fb9f3a\"],[0.8888888888888888,\"#fdca26\"],[1.0,\"#f0f921\"]],\"type\":\"surface\"}],\"table\":[{\"cells\":{\"fill\":{\"color\":\"#EBF0F8\"},\"line\":{\"color\":\"white\"}},\"header\":{\"fill\":{\"color\":\"#C8D4E3\"},\"line\":{\"color\":\"white\"}},\"type\":\"table\"}]},\"layout\":{\"annotationdefaults\":{\"arrowcolor\":\"#2a3f5f\",\"arrowhead\":0,\"arrowwidth\":1},\"autotypenumbers\":\"strict\",\"coloraxis\":{\"colorbar\":{\"outlinewidth\":0,\"ticks\":\"\"}},\"colorscale\":{\"diverging\":[[0,\"#8e0152\"],[0.1,\"#c51b7d\"],[0.2,\"#de77ae\"],[0.3,\"#f1b6da\"],[0.4,\"#fde0ef\"],[0.5,\"#f7f7f7\"],[0.6,\"#e6f5d0\"],[0.7,\"#b8e186\"],[0.8,\"#7fbc41\"],[0.9,\"#4d9221\"],[1,\"#276419\"]],\"sequential\":[[0.0,\"#0d0887\"],[0.1111111111111111,\"#46039f\"],[0.2222222222222222,\"#7201a8\"],[0.3333333333333333,\"#9c179e\"],[0.4444444444444444,\"#bd3786\"],[0.5555555555555556,\"#d8576b\"],[0.6666666666666666,\"#ed7953\"],[0.7777777777777778,\"#fb9f3a\"],[0.8888888888888888,\"#fdca26\"],[1.0,\"#f0f921\"]],\"sequentialminus\":[[0.0,\"#0d0887\"],[0.1111111111111111,\"#46039f\"],[0.2222222222222222,\"#7201a8\"],[0.3333333333333333,\"#9c179e\"],[0.4444444444444444,\"#bd3786\"],[0.5555555555555556,\"#d8576b\"],[0.6666666666666666,\"#ed7953\"],[0.7777777777777778,\"#fb9f3a\"],[0.8888888888888888,\"#fdca26\"],[1.0,\"#f0f921\"]]},\"colorway\":[\"#636efa\",\"#EF553B\",\"#00cc96\",\"#ab63fa\",\"#FFA15A\",\"#19d3f3\",\"#FF6692\",\"#B6E880\",\"#FF97FF\",\"#FECB52\"],\"font\":{\"color\":\"#2a3f5f\"},\"geo\":{\"bgcolor\":\"white\",\"lakecolor\":\"white\",\"landcolor\":\"#E5ECF6\",\"showlakes\":true,\"showland\":true,\"subunitcolor\":\"white\"},\"hoverlabel\":{\"align\":\"left\"},\"hovermode\":\"closest\",\"mapbox\":{\"style\":\"light\"},\"paper_bgcolor\":\"white\",\"plot_bgcolor\":\"#E5ECF6\",\"polar\":{\"angularaxis\":{\"gridcolor\":\"white\",\"linecolor\":\"white\",\"ticks\":\"\"},\"bgcolor\":\"#E5ECF6\",\"radialaxis\":{\"gridcolor\":\"white\",\"linecolor\":\"white\",\"ticks\":\"\"}},\"scene\":{\"xaxis\":{\"backgroundcolor\":\"#E5ECF6\",\"gridcolor\":\"white\",\"gridwidth\":2,\"linecolor\":\"white\",\"showbackground\":true,\"ticks\":\"\",\"zerolinecolor\":\"white\"},\"yaxis\":{\"backgroundcolor\":\"#E5ECF6\",\"gridcolor\":\"white\",\"gridwidth\":2,\"linecolor\":\"white\",\"showbackground\":true,\"ticks\":\"\",\"zerolinecolor\":\"white\"},\"zaxis\":{\"backgroundcolor\":\"#E5ECF6\",\"gridcolor\":\"white\",\"gridwidth\":2,\"linecolor\":\"white\",\"showbackground\":true,\"ticks\":\"\",\"zerolinecolor\":\"white\"}},\"shapedefaults\":{\"line\":{\"color\":\"#2a3f5f\"}},\"ternary\":{\"aaxis\":{\"gridcolor\":\"white\",\"linecolor\":\"white\",\"ticks\":\"\"},\"baxis\":{\"gridcolor\":\"white\",\"linecolor\":\"white\",\"ticks\":\"\"},\"bgcolor\":\"#E5ECF6\",\"caxis\":{\"gridcolor\":\"white\",\"linecolor\":\"white\",\"ticks\":\"\"}},\"title\":{\"x\":0.05},\"xaxis\":{\"automargin\":true,\"gridcolor\":\"white\",\"linecolor\":\"white\",\"ticks\":\"\",\"title\":{\"standoff\":15},\"zerolinecolor\":\"white\",\"zerolinewidth\":2},\"yaxis\":{\"automargin\":true,\"gridcolor\":\"white\",\"linecolor\":\"white\",\"ticks\":\"\",\"title\":{\"standoff\":15},\"zerolinecolor\":\"white\",\"zerolinewidth\":2}}},\"title\":{\"font\":{\"color\":\"#4D5663\"}},\"xaxis\":{\"gridcolor\":\"#E1E5ED\",\"showgrid\":true,\"tickfont\":{\"color\":\"#4D5663\"},\"title\":{\"font\":{\"color\":\"#4D5663\"},\"text\":\"\"},\"zerolinecolor\":\"#E1E5ED\"},\"yaxis\":{\"gridcolor\":\"#E1E5ED\",\"showgrid\":true,\"tickfont\":{\"color\":\"#4D5663\"},\"title\":{\"font\":{\"color\":\"#4D5663\"},\"text\":\"\"},\"zerolinecolor\":\"#E1E5ED\"}},                        {\"showLink\": true, \"linkText\": \"Export to plot.ly\", \"plotlyServerURL\": \"https://plot.ly\", \"responsive\": true}                    ).then(function(){\n",
       "                            \n",
       "var gd = document.getElementById('57567b98-7b71-48cf-abc8-df6d72c89a98');\n",
       "var x = new MutationObserver(function (mutations, observer) {{\n",
       "        var display = window.getComputedStyle(gd).display;\n",
       "        if (!display || display === 'none') {{\n",
       "            console.log([gd, 'removed!']);\n",
       "            Plotly.purge(gd);\n",
       "            observer.disconnect();\n",
       "        }}\n",
       "}});\n",
       "\n",
       "// Listen for the removal of the full notebook cells\n",
       "var notebookContainer = gd.closest('#notebook-container');\n",
       "if (notebookContainer) {{\n",
       "    x.observe(notebookContainer, {childList: true});\n",
       "}}\n",
       "\n",
       "// Listen for the clearing of the current output cell\n",
       "var outputEl = gd.closest('.output');\n",
       "if (outputEl) {{\n",
       "    x.observe(outputEl, {childList: true});\n",
       "}}\n",
       "\n",
       "                        })                };                });            </script>        </div>"
      ]
     },
     "metadata": {},
     "output_type": "display_data"
    }
   ],
   "source": [
    "df.iplot(kind='scatter',x='A',y='B',mode='markers',size=10)"
   ]
  },
  {
   "cell_type": "markdown",
   "metadata": {},
   "source": [
    "## Plots de barra"
   ]
  },
  {
   "cell_type": "code",
   "execution_count": 11,
   "metadata": {},
   "outputs": [
    {
     "data": {
      "application/vnd.plotly.v1+json": {
       "config": {
        "linkText": "Export to plot.ly",
        "plotlyServerURL": "https://plot.ly",
        "showLink": true
       },
       "data": [
        {
         "marker": {
          "color": "rgba(255, 153, 51, 0.6)",
          "line": {
           "color": "rgba(255, 153, 51, 1.0)",
           "width": 1
          }
         },
         "name": "Valores",
         "orientation": "v",
         "text": "",
         "type": "bar",
         "x": [
          "A",
          "B",
          "C"
         ],
         "y": [
          32,
          43,
          50
         ]
        }
       ],
       "layout": {
        "legend": {
         "bgcolor": "#F5F6F9",
         "font": {
          "color": "#4D5663"
         }
        },
        "paper_bgcolor": "#F5F6F9",
        "plot_bgcolor": "#F5F6F9",
        "template": {
         "data": {
          "bar": [
           {
            "error_x": {
             "color": "#2a3f5f"
            },
            "error_y": {
             "color": "#2a3f5f"
            },
            "marker": {
             "line": {
              "color": "#E5ECF6",
              "width": 0.5
             },
             "pattern": {
              "fillmode": "overlay",
              "size": 10,
              "solidity": 0.2
             }
            },
            "type": "bar"
           }
          ],
          "barpolar": [
           {
            "marker": {
             "line": {
              "color": "#E5ECF6",
              "width": 0.5
             },
             "pattern": {
              "fillmode": "overlay",
              "size": 10,
              "solidity": 0.2
             }
            },
            "type": "barpolar"
           }
          ],
          "carpet": [
           {
            "aaxis": {
             "endlinecolor": "#2a3f5f",
             "gridcolor": "white",
             "linecolor": "white",
             "minorgridcolor": "white",
             "startlinecolor": "#2a3f5f"
            },
            "baxis": {
             "endlinecolor": "#2a3f5f",
             "gridcolor": "white",
             "linecolor": "white",
             "minorgridcolor": "white",
             "startlinecolor": "#2a3f5f"
            },
            "type": "carpet"
           }
          ],
          "choropleth": [
           {
            "colorbar": {
             "outlinewidth": 0,
             "ticks": ""
            },
            "type": "choropleth"
           }
          ],
          "contour": [
           {
            "colorbar": {
             "outlinewidth": 0,
             "ticks": ""
            },
            "colorscale": [
             [
              0,
              "#0d0887"
             ],
             [
              0.1111111111111111,
              "#46039f"
             ],
             [
              0.2222222222222222,
              "#7201a8"
             ],
             [
              0.3333333333333333,
              "#9c179e"
             ],
             [
              0.4444444444444444,
              "#bd3786"
             ],
             [
              0.5555555555555556,
              "#d8576b"
             ],
             [
              0.6666666666666666,
              "#ed7953"
             ],
             [
              0.7777777777777778,
              "#fb9f3a"
             ],
             [
              0.8888888888888888,
              "#fdca26"
             ],
             [
              1,
              "#f0f921"
             ]
            ],
            "type": "contour"
           }
          ],
          "contourcarpet": [
           {
            "colorbar": {
             "outlinewidth": 0,
             "ticks": ""
            },
            "type": "contourcarpet"
           }
          ],
          "heatmap": [
           {
            "colorbar": {
             "outlinewidth": 0,
             "ticks": ""
            },
            "colorscale": [
             [
              0,
              "#0d0887"
             ],
             [
              0.1111111111111111,
              "#46039f"
             ],
             [
              0.2222222222222222,
              "#7201a8"
             ],
             [
              0.3333333333333333,
              "#9c179e"
             ],
             [
              0.4444444444444444,
              "#bd3786"
             ],
             [
              0.5555555555555556,
              "#d8576b"
             ],
             [
              0.6666666666666666,
              "#ed7953"
             ],
             [
              0.7777777777777778,
              "#fb9f3a"
             ],
             [
              0.8888888888888888,
              "#fdca26"
             ],
             [
              1,
              "#f0f921"
             ]
            ],
            "type": "heatmap"
           }
          ],
          "heatmapgl": [
           {
            "colorbar": {
             "outlinewidth": 0,
             "ticks": ""
            },
            "colorscale": [
             [
              0,
              "#0d0887"
             ],
             [
              0.1111111111111111,
              "#46039f"
             ],
             [
              0.2222222222222222,
              "#7201a8"
             ],
             [
              0.3333333333333333,
              "#9c179e"
             ],
             [
              0.4444444444444444,
              "#bd3786"
             ],
             [
              0.5555555555555556,
              "#d8576b"
             ],
             [
              0.6666666666666666,
              "#ed7953"
             ],
             [
              0.7777777777777778,
              "#fb9f3a"
             ],
             [
              0.8888888888888888,
              "#fdca26"
             ],
             [
              1,
              "#f0f921"
             ]
            ],
            "type": "heatmapgl"
           }
          ],
          "histogram": [
           {
            "marker": {
             "pattern": {
              "fillmode": "overlay",
              "size": 10,
              "solidity": 0.2
             }
            },
            "type": "histogram"
           }
          ],
          "histogram2d": [
           {
            "colorbar": {
             "outlinewidth": 0,
             "ticks": ""
            },
            "colorscale": [
             [
              0,
              "#0d0887"
             ],
             [
              0.1111111111111111,
              "#46039f"
             ],
             [
              0.2222222222222222,
              "#7201a8"
             ],
             [
              0.3333333333333333,
              "#9c179e"
             ],
             [
              0.4444444444444444,
              "#bd3786"
             ],
             [
              0.5555555555555556,
              "#d8576b"
             ],
             [
              0.6666666666666666,
              "#ed7953"
             ],
             [
              0.7777777777777778,
              "#fb9f3a"
             ],
             [
              0.8888888888888888,
              "#fdca26"
             ],
             [
              1,
              "#f0f921"
             ]
            ],
            "type": "histogram2d"
           }
          ],
          "histogram2dcontour": [
           {
            "colorbar": {
             "outlinewidth": 0,
             "ticks": ""
            },
            "colorscale": [
             [
              0,
              "#0d0887"
             ],
             [
              0.1111111111111111,
              "#46039f"
             ],
             [
              0.2222222222222222,
              "#7201a8"
             ],
             [
              0.3333333333333333,
              "#9c179e"
             ],
             [
              0.4444444444444444,
              "#bd3786"
             ],
             [
              0.5555555555555556,
              "#d8576b"
             ],
             [
              0.6666666666666666,
              "#ed7953"
             ],
             [
              0.7777777777777778,
              "#fb9f3a"
             ],
             [
              0.8888888888888888,
              "#fdca26"
             ],
             [
              1,
              "#f0f921"
             ]
            ],
            "type": "histogram2dcontour"
           }
          ],
          "mesh3d": [
           {
            "colorbar": {
             "outlinewidth": 0,
             "ticks": ""
            },
            "type": "mesh3d"
           }
          ],
          "parcoords": [
           {
            "line": {
             "colorbar": {
              "outlinewidth": 0,
              "ticks": ""
             }
            },
            "type": "parcoords"
           }
          ],
          "pie": [
           {
            "automargin": true,
            "type": "pie"
           }
          ],
          "scatter": [
           {
            "marker": {
             "colorbar": {
              "outlinewidth": 0,
              "ticks": ""
             }
            },
            "type": "scatter"
           }
          ],
          "scatter3d": [
           {
            "line": {
             "colorbar": {
              "outlinewidth": 0,
              "ticks": ""
             }
            },
            "marker": {
             "colorbar": {
              "outlinewidth": 0,
              "ticks": ""
             }
            },
            "type": "scatter3d"
           }
          ],
          "scattercarpet": [
           {
            "marker": {
             "colorbar": {
              "outlinewidth": 0,
              "ticks": ""
             }
            },
            "type": "scattercarpet"
           }
          ],
          "scattergeo": [
           {
            "marker": {
             "colorbar": {
              "outlinewidth": 0,
              "ticks": ""
             }
            },
            "type": "scattergeo"
           }
          ],
          "scattergl": [
           {
            "marker": {
             "colorbar": {
              "outlinewidth": 0,
              "ticks": ""
             }
            },
            "type": "scattergl"
           }
          ],
          "scattermapbox": [
           {
            "marker": {
             "colorbar": {
              "outlinewidth": 0,
              "ticks": ""
             }
            },
            "type": "scattermapbox"
           }
          ],
          "scatterpolar": [
           {
            "marker": {
             "colorbar": {
              "outlinewidth": 0,
              "ticks": ""
             }
            },
            "type": "scatterpolar"
           }
          ],
          "scatterpolargl": [
           {
            "marker": {
             "colorbar": {
              "outlinewidth": 0,
              "ticks": ""
             }
            },
            "type": "scatterpolargl"
           }
          ],
          "scatterternary": [
           {
            "marker": {
             "colorbar": {
              "outlinewidth": 0,
              "ticks": ""
             }
            },
            "type": "scatterternary"
           }
          ],
          "surface": [
           {
            "colorbar": {
             "outlinewidth": 0,
             "ticks": ""
            },
            "colorscale": [
             [
              0,
              "#0d0887"
             ],
             [
              0.1111111111111111,
              "#46039f"
             ],
             [
              0.2222222222222222,
              "#7201a8"
             ],
             [
              0.3333333333333333,
              "#9c179e"
             ],
             [
              0.4444444444444444,
              "#bd3786"
             ],
             [
              0.5555555555555556,
              "#d8576b"
             ],
             [
              0.6666666666666666,
              "#ed7953"
             ],
             [
              0.7777777777777778,
              "#fb9f3a"
             ],
             [
              0.8888888888888888,
              "#fdca26"
             ],
             [
              1,
              "#f0f921"
             ]
            ],
            "type": "surface"
           }
          ],
          "table": [
           {
            "cells": {
             "fill": {
              "color": "#EBF0F8"
             },
             "line": {
              "color": "white"
             }
            },
            "header": {
             "fill": {
              "color": "#C8D4E3"
             },
             "line": {
              "color": "white"
             }
            },
            "type": "table"
           }
          ]
         },
         "layout": {
          "annotationdefaults": {
           "arrowcolor": "#2a3f5f",
           "arrowhead": 0,
           "arrowwidth": 1
          },
          "autotypenumbers": "strict",
          "coloraxis": {
           "colorbar": {
            "outlinewidth": 0,
            "ticks": ""
           }
          },
          "colorscale": {
           "diverging": [
            [
             0,
             "#8e0152"
            ],
            [
             0.1,
             "#c51b7d"
            ],
            [
             0.2,
             "#de77ae"
            ],
            [
             0.3,
             "#f1b6da"
            ],
            [
             0.4,
             "#fde0ef"
            ],
            [
             0.5,
             "#f7f7f7"
            ],
            [
             0.6,
             "#e6f5d0"
            ],
            [
             0.7,
             "#b8e186"
            ],
            [
             0.8,
             "#7fbc41"
            ],
            [
             0.9,
             "#4d9221"
            ],
            [
             1,
             "#276419"
            ]
           ],
           "sequential": [
            [
             0,
             "#0d0887"
            ],
            [
             0.1111111111111111,
             "#46039f"
            ],
            [
             0.2222222222222222,
             "#7201a8"
            ],
            [
             0.3333333333333333,
             "#9c179e"
            ],
            [
             0.4444444444444444,
             "#bd3786"
            ],
            [
             0.5555555555555556,
             "#d8576b"
            ],
            [
             0.6666666666666666,
             "#ed7953"
            ],
            [
             0.7777777777777778,
             "#fb9f3a"
            ],
            [
             0.8888888888888888,
             "#fdca26"
            ],
            [
             1,
             "#f0f921"
            ]
           ],
           "sequentialminus": [
            [
             0,
             "#0d0887"
            ],
            [
             0.1111111111111111,
             "#46039f"
            ],
            [
             0.2222222222222222,
             "#7201a8"
            ],
            [
             0.3333333333333333,
             "#9c179e"
            ],
            [
             0.4444444444444444,
             "#bd3786"
            ],
            [
             0.5555555555555556,
             "#d8576b"
            ],
            [
             0.6666666666666666,
             "#ed7953"
            ],
            [
             0.7777777777777778,
             "#fb9f3a"
            ],
            [
             0.8888888888888888,
             "#fdca26"
            ],
            [
             1,
             "#f0f921"
            ]
           ]
          },
          "colorway": [
           "#636efa",
           "#EF553B",
           "#00cc96",
           "#ab63fa",
           "#FFA15A",
           "#19d3f3",
           "#FF6692",
           "#B6E880",
           "#FF97FF",
           "#FECB52"
          ],
          "font": {
           "color": "#2a3f5f"
          },
          "geo": {
           "bgcolor": "white",
           "lakecolor": "white",
           "landcolor": "#E5ECF6",
           "showlakes": true,
           "showland": true,
           "subunitcolor": "white"
          },
          "hoverlabel": {
           "align": "left"
          },
          "hovermode": "closest",
          "mapbox": {
           "style": "light"
          },
          "paper_bgcolor": "white",
          "plot_bgcolor": "#E5ECF6",
          "polar": {
           "angularaxis": {
            "gridcolor": "white",
            "linecolor": "white",
            "ticks": ""
           },
           "bgcolor": "#E5ECF6",
           "radialaxis": {
            "gridcolor": "white",
            "linecolor": "white",
            "ticks": ""
           }
          },
          "scene": {
           "xaxis": {
            "backgroundcolor": "#E5ECF6",
            "gridcolor": "white",
            "gridwidth": 2,
            "linecolor": "white",
            "showbackground": true,
            "ticks": "",
            "zerolinecolor": "white"
           },
           "yaxis": {
            "backgroundcolor": "#E5ECF6",
            "gridcolor": "white",
            "gridwidth": 2,
            "linecolor": "white",
            "showbackground": true,
            "ticks": "",
            "zerolinecolor": "white"
           },
           "zaxis": {
            "backgroundcolor": "#E5ECF6",
            "gridcolor": "white",
            "gridwidth": 2,
            "linecolor": "white",
            "showbackground": true,
            "ticks": "",
            "zerolinecolor": "white"
           }
          },
          "shapedefaults": {
           "line": {
            "color": "#2a3f5f"
           }
          },
          "ternary": {
           "aaxis": {
            "gridcolor": "white",
            "linecolor": "white",
            "ticks": ""
           },
           "baxis": {
            "gridcolor": "white",
            "linecolor": "white",
            "ticks": ""
           },
           "bgcolor": "#E5ECF6",
           "caxis": {
            "gridcolor": "white",
            "linecolor": "white",
            "ticks": ""
           }
          },
          "title": {
           "x": 0.05
          },
          "xaxis": {
           "automargin": true,
           "gridcolor": "white",
           "linecolor": "white",
           "ticks": "",
           "title": {
            "standoff": 15
           },
           "zerolinecolor": "white",
           "zerolinewidth": 2
          },
          "yaxis": {
           "automargin": true,
           "gridcolor": "white",
           "linecolor": "white",
           "ticks": "",
           "title": {
            "standoff": 15
           },
           "zerolinecolor": "white",
           "zerolinewidth": 2
          }
         }
        },
        "title": {
         "font": {
          "color": "#4D5663"
         }
        },
        "xaxis": {
         "gridcolor": "#E1E5ED",
         "showgrid": true,
         "tickfont": {
          "color": "#4D5663"
         },
         "title": {
          "font": {
           "color": "#4D5663"
          },
          "text": ""
         },
         "zerolinecolor": "#E1E5ED"
        },
        "yaxis": {
         "gridcolor": "#E1E5ED",
         "showgrid": true,
         "tickfont": {
          "color": "#4D5663"
         },
         "title": {
          "font": {
           "color": "#4D5663"
          },
          "text": ""
         },
         "zerolinecolor": "#E1E5ED"
        }
       }
      },
      "text/html": [
       "<div>                            <div id=\"6e395c23-35b4-4950-87e5-bf7af187384a\" class=\"plotly-graph-div\" style=\"height:525px; width:100%;\"></div>            <script type=\"text/javascript\">                require([\"plotly\"], function(Plotly) {                    window.PLOTLYENV=window.PLOTLYENV || {};\n",
       "                    window.PLOTLYENV.BASE_URL='https://plot.ly';                                    if (document.getElementById(\"6e395c23-35b4-4950-87e5-bf7af187384a\")) {                    Plotly.newPlot(                        \"6e395c23-35b4-4950-87e5-bf7af187384a\",                        [{\"marker\":{\"color\":\"rgba(255, 153, 51, 0.6)\",\"line\":{\"color\":\"rgba(255, 153, 51, 1.0)\",\"width\":1}},\"name\":\"Valores\",\"orientation\":\"v\",\"text\":\"\",\"x\":[\"A\",\"B\",\"C\"],\"y\":[32,43,50],\"type\":\"bar\"}],                        {\"legend\":{\"bgcolor\":\"#F5F6F9\",\"font\":{\"color\":\"#4D5663\"}},\"paper_bgcolor\":\"#F5F6F9\",\"plot_bgcolor\":\"#F5F6F9\",\"template\":{\"data\":{\"barpolar\":[{\"marker\":{\"line\":{\"color\":\"#E5ECF6\",\"width\":0.5},\"pattern\":{\"fillmode\":\"overlay\",\"size\":10,\"solidity\":0.2}},\"type\":\"barpolar\"}],\"bar\":[{\"error_x\":{\"color\":\"#2a3f5f\"},\"error_y\":{\"color\":\"#2a3f5f\"},\"marker\":{\"line\":{\"color\":\"#E5ECF6\",\"width\":0.5},\"pattern\":{\"fillmode\":\"overlay\",\"size\":10,\"solidity\":0.2}},\"type\":\"bar\"}],\"carpet\":[{\"aaxis\":{\"endlinecolor\":\"#2a3f5f\",\"gridcolor\":\"white\",\"linecolor\":\"white\",\"minorgridcolor\":\"white\",\"startlinecolor\":\"#2a3f5f\"},\"baxis\":{\"endlinecolor\":\"#2a3f5f\",\"gridcolor\":\"white\",\"linecolor\":\"white\",\"minorgridcolor\":\"white\",\"startlinecolor\":\"#2a3f5f\"},\"type\":\"carpet\"}],\"choropleth\":[{\"colorbar\":{\"outlinewidth\":0,\"ticks\":\"\"},\"type\":\"choropleth\"}],\"contourcarpet\":[{\"colorbar\":{\"outlinewidth\":0,\"ticks\":\"\"},\"type\":\"contourcarpet\"}],\"contour\":[{\"colorbar\":{\"outlinewidth\":0,\"ticks\":\"\"},\"colorscale\":[[0.0,\"#0d0887\"],[0.1111111111111111,\"#46039f\"],[0.2222222222222222,\"#7201a8\"],[0.3333333333333333,\"#9c179e\"],[0.4444444444444444,\"#bd3786\"],[0.5555555555555556,\"#d8576b\"],[0.6666666666666666,\"#ed7953\"],[0.7777777777777778,\"#fb9f3a\"],[0.8888888888888888,\"#fdca26\"],[1.0,\"#f0f921\"]],\"type\":\"contour\"}],\"heatmapgl\":[{\"colorbar\":{\"outlinewidth\":0,\"ticks\":\"\"},\"colorscale\":[[0.0,\"#0d0887\"],[0.1111111111111111,\"#46039f\"],[0.2222222222222222,\"#7201a8\"],[0.3333333333333333,\"#9c179e\"],[0.4444444444444444,\"#bd3786\"],[0.5555555555555556,\"#d8576b\"],[0.6666666666666666,\"#ed7953\"],[0.7777777777777778,\"#fb9f3a\"],[0.8888888888888888,\"#fdca26\"],[1.0,\"#f0f921\"]],\"type\":\"heatmapgl\"}],\"heatmap\":[{\"colorbar\":{\"outlinewidth\":0,\"ticks\":\"\"},\"colorscale\":[[0.0,\"#0d0887\"],[0.1111111111111111,\"#46039f\"],[0.2222222222222222,\"#7201a8\"],[0.3333333333333333,\"#9c179e\"],[0.4444444444444444,\"#bd3786\"],[0.5555555555555556,\"#d8576b\"],[0.6666666666666666,\"#ed7953\"],[0.7777777777777778,\"#fb9f3a\"],[0.8888888888888888,\"#fdca26\"],[1.0,\"#f0f921\"]],\"type\":\"heatmap\"}],\"histogram2dcontour\":[{\"colorbar\":{\"outlinewidth\":0,\"ticks\":\"\"},\"colorscale\":[[0.0,\"#0d0887\"],[0.1111111111111111,\"#46039f\"],[0.2222222222222222,\"#7201a8\"],[0.3333333333333333,\"#9c179e\"],[0.4444444444444444,\"#bd3786\"],[0.5555555555555556,\"#d8576b\"],[0.6666666666666666,\"#ed7953\"],[0.7777777777777778,\"#fb9f3a\"],[0.8888888888888888,\"#fdca26\"],[1.0,\"#f0f921\"]],\"type\":\"histogram2dcontour\"}],\"histogram2d\":[{\"colorbar\":{\"outlinewidth\":0,\"ticks\":\"\"},\"colorscale\":[[0.0,\"#0d0887\"],[0.1111111111111111,\"#46039f\"],[0.2222222222222222,\"#7201a8\"],[0.3333333333333333,\"#9c179e\"],[0.4444444444444444,\"#bd3786\"],[0.5555555555555556,\"#d8576b\"],[0.6666666666666666,\"#ed7953\"],[0.7777777777777778,\"#fb9f3a\"],[0.8888888888888888,\"#fdca26\"],[1.0,\"#f0f921\"]],\"type\":\"histogram2d\"}],\"histogram\":[{\"marker\":{\"pattern\":{\"fillmode\":\"overlay\",\"size\":10,\"solidity\":0.2}},\"type\":\"histogram\"}],\"mesh3d\":[{\"colorbar\":{\"outlinewidth\":0,\"ticks\":\"\"},\"type\":\"mesh3d\"}],\"parcoords\":[{\"line\":{\"colorbar\":{\"outlinewidth\":0,\"ticks\":\"\"}},\"type\":\"parcoords\"}],\"pie\":[{\"automargin\":true,\"type\":\"pie\"}],\"scatter3d\":[{\"line\":{\"colorbar\":{\"outlinewidth\":0,\"ticks\":\"\"}},\"marker\":{\"colorbar\":{\"outlinewidth\":0,\"ticks\":\"\"}},\"type\":\"scatter3d\"}],\"scattercarpet\":[{\"marker\":{\"colorbar\":{\"outlinewidth\":0,\"ticks\":\"\"}},\"type\":\"scattercarpet\"}],\"scattergeo\":[{\"marker\":{\"colorbar\":{\"outlinewidth\":0,\"ticks\":\"\"}},\"type\":\"scattergeo\"}],\"scattergl\":[{\"marker\":{\"colorbar\":{\"outlinewidth\":0,\"ticks\":\"\"}},\"type\":\"scattergl\"}],\"scattermapbox\":[{\"marker\":{\"colorbar\":{\"outlinewidth\":0,\"ticks\":\"\"}},\"type\":\"scattermapbox\"}],\"scatterpolargl\":[{\"marker\":{\"colorbar\":{\"outlinewidth\":0,\"ticks\":\"\"}},\"type\":\"scatterpolargl\"}],\"scatterpolar\":[{\"marker\":{\"colorbar\":{\"outlinewidth\":0,\"ticks\":\"\"}},\"type\":\"scatterpolar\"}],\"scatter\":[{\"marker\":{\"colorbar\":{\"outlinewidth\":0,\"ticks\":\"\"}},\"type\":\"scatter\"}],\"scatterternary\":[{\"marker\":{\"colorbar\":{\"outlinewidth\":0,\"ticks\":\"\"}},\"type\":\"scatterternary\"}],\"surface\":[{\"colorbar\":{\"outlinewidth\":0,\"ticks\":\"\"},\"colorscale\":[[0.0,\"#0d0887\"],[0.1111111111111111,\"#46039f\"],[0.2222222222222222,\"#7201a8\"],[0.3333333333333333,\"#9c179e\"],[0.4444444444444444,\"#bd3786\"],[0.5555555555555556,\"#d8576b\"],[0.6666666666666666,\"#ed7953\"],[0.7777777777777778,\"#fb9f3a\"],[0.8888888888888888,\"#fdca26\"],[1.0,\"#f0f921\"]],\"type\":\"surface\"}],\"table\":[{\"cells\":{\"fill\":{\"color\":\"#EBF0F8\"},\"line\":{\"color\":\"white\"}},\"header\":{\"fill\":{\"color\":\"#C8D4E3\"},\"line\":{\"color\":\"white\"}},\"type\":\"table\"}]},\"layout\":{\"annotationdefaults\":{\"arrowcolor\":\"#2a3f5f\",\"arrowhead\":0,\"arrowwidth\":1},\"autotypenumbers\":\"strict\",\"coloraxis\":{\"colorbar\":{\"outlinewidth\":0,\"ticks\":\"\"}},\"colorscale\":{\"diverging\":[[0,\"#8e0152\"],[0.1,\"#c51b7d\"],[0.2,\"#de77ae\"],[0.3,\"#f1b6da\"],[0.4,\"#fde0ef\"],[0.5,\"#f7f7f7\"],[0.6,\"#e6f5d0\"],[0.7,\"#b8e186\"],[0.8,\"#7fbc41\"],[0.9,\"#4d9221\"],[1,\"#276419\"]],\"sequential\":[[0.0,\"#0d0887\"],[0.1111111111111111,\"#46039f\"],[0.2222222222222222,\"#7201a8\"],[0.3333333333333333,\"#9c179e\"],[0.4444444444444444,\"#bd3786\"],[0.5555555555555556,\"#d8576b\"],[0.6666666666666666,\"#ed7953\"],[0.7777777777777778,\"#fb9f3a\"],[0.8888888888888888,\"#fdca26\"],[1.0,\"#f0f921\"]],\"sequentialminus\":[[0.0,\"#0d0887\"],[0.1111111111111111,\"#46039f\"],[0.2222222222222222,\"#7201a8\"],[0.3333333333333333,\"#9c179e\"],[0.4444444444444444,\"#bd3786\"],[0.5555555555555556,\"#d8576b\"],[0.6666666666666666,\"#ed7953\"],[0.7777777777777778,\"#fb9f3a\"],[0.8888888888888888,\"#fdca26\"],[1.0,\"#f0f921\"]]},\"colorway\":[\"#636efa\",\"#EF553B\",\"#00cc96\",\"#ab63fa\",\"#FFA15A\",\"#19d3f3\",\"#FF6692\",\"#B6E880\",\"#FF97FF\",\"#FECB52\"],\"font\":{\"color\":\"#2a3f5f\"},\"geo\":{\"bgcolor\":\"white\",\"lakecolor\":\"white\",\"landcolor\":\"#E5ECF6\",\"showlakes\":true,\"showland\":true,\"subunitcolor\":\"white\"},\"hoverlabel\":{\"align\":\"left\"},\"hovermode\":\"closest\",\"mapbox\":{\"style\":\"light\"},\"paper_bgcolor\":\"white\",\"plot_bgcolor\":\"#E5ECF6\",\"polar\":{\"angularaxis\":{\"gridcolor\":\"white\",\"linecolor\":\"white\",\"ticks\":\"\"},\"bgcolor\":\"#E5ECF6\",\"radialaxis\":{\"gridcolor\":\"white\",\"linecolor\":\"white\",\"ticks\":\"\"}},\"scene\":{\"xaxis\":{\"backgroundcolor\":\"#E5ECF6\",\"gridcolor\":\"white\",\"gridwidth\":2,\"linecolor\":\"white\",\"showbackground\":true,\"ticks\":\"\",\"zerolinecolor\":\"white\"},\"yaxis\":{\"backgroundcolor\":\"#E5ECF6\",\"gridcolor\":\"white\",\"gridwidth\":2,\"linecolor\":\"white\",\"showbackground\":true,\"ticks\":\"\",\"zerolinecolor\":\"white\"},\"zaxis\":{\"backgroundcolor\":\"#E5ECF6\",\"gridcolor\":\"white\",\"gridwidth\":2,\"linecolor\":\"white\",\"showbackground\":true,\"ticks\":\"\",\"zerolinecolor\":\"white\"}},\"shapedefaults\":{\"line\":{\"color\":\"#2a3f5f\"}},\"ternary\":{\"aaxis\":{\"gridcolor\":\"white\",\"linecolor\":\"white\",\"ticks\":\"\"},\"baxis\":{\"gridcolor\":\"white\",\"linecolor\":\"white\",\"ticks\":\"\"},\"bgcolor\":\"#E5ECF6\",\"caxis\":{\"gridcolor\":\"white\",\"linecolor\":\"white\",\"ticks\":\"\"}},\"title\":{\"x\":0.05},\"xaxis\":{\"automargin\":true,\"gridcolor\":\"white\",\"linecolor\":\"white\",\"ticks\":\"\",\"title\":{\"standoff\":15},\"zerolinecolor\":\"white\",\"zerolinewidth\":2},\"yaxis\":{\"automargin\":true,\"gridcolor\":\"white\",\"linecolor\":\"white\",\"ticks\":\"\",\"title\":{\"standoff\":15},\"zerolinecolor\":\"white\",\"zerolinewidth\":2}}},\"title\":{\"font\":{\"color\":\"#4D5663\"}},\"xaxis\":{\"gridcolor\":\"#E1E5ED\",\"showgrid\":true,\"tickfont\":{\"color\":\"#4D5663\"},\"title\":{\"font\":{\"color\":\"#4D5663\"},\"text\":\"\"},\"zerolinecolor\":\"#E1E5ED\"},\"yaxis\":{\"gridcolor\":\"#E1E5ED\",\"showgrid\":true,\"tickfont\":{\"color\":\"#4D5663\"},\"title\":{\"font\":{\"color\":\"#4D5663\"},\"text\":\"\"},\"zerolinecolor\":\"#E1E5ED\"}},                        {\"showLink\": true, \"linkText\": \"Export to plot.ly\", \"plotlyServerURL\": \"https://plot.ly\", \"responsive\": true}                    ).then(function(){\n",
       "                            \n",
       "var gd = document.getElementById('6e395c23-35b4-4950-87e5-bf7af187384a');\n",
       "var x = new MutationObserver(function (mutations, observer) {{\n",
       "        var display = window.getComputedStyle(gd).display;\n",
       "        if (!display || display === 'none') {{\n",
       "            console.log([gd, 'removed!']);\n",
       "            Plotly.purge(gd);\n",
       "            observer.disconnect();\n",
       "        }}\n",
       "}});\n",
       "\n",
       "// Listen for the removal of the full notebook cells\n",
       "var notebookContainer = gd.closest('#notebook-container');\n",
       "if (notebookContainer) {{\n",
       "    x.observe(notebookContainer, {childList: true});\n",
       "}}\n",
       "\n",
       "// Listen for the clearing of the current output cell\n",
       "var outputEl = gd.closest('.output');\n",
       "if (outputEl) {{\n",
       "    x.observe(outputEl, {childList: true});\n",
       "}}\n",
       "\n",
       "                        })                };                });            </script>        </div>"
      ]
     },
     "metadata": {},
     "output_type": "display_data"
    }
   ],
   "source": [
    "df2.iplot(kind='bar',x='Categoria',y='Valores')"
   ]
  },
  {
   "cell_type": "code",
   "execution_count": 12,
   "metadata": {},
   "outputs": [
    {
     "data": {
      "application/vnd.plotly.v1+json": {
       "config": {
        "linkText": "Export to plot.ly",
        "plotlyServerURL": "https://plot.ly",
        "showLink": true
       },
       "data": [
        {
         "marker": {
          "color": "rgba(255, 153, 51, 0.6)",
          "line": {
           "color": "rgba(255, 153, 51, 1.0)",
           "width": 1
          }
         },
         "name": "None",
         "orientation": "v",
         "text": "",
         "type": "bar",
         "x": [
          "A",
          "B",
          "C",
          "D"
         ],
         "y": [
          100,
          100,
          100,
          100
         ]
        }
       ],
       "layout": {
        "legend": {
         "bgcolor": "#F5F6F9",
         "font": {
          "color": "#4D5663"
         }
        },
        "paper_bgcolor": "#F5F6F9",
        "plot_bgcolor": "#F5F6F9",
        "template": {
         "data": {
          "bar": [
           {
            "error_x": {
             "color": "#2a3f5f"
            },
            "error_y": {
             "color": "#2a3f5f"
            },
            "marker": {
             "line": {
              "color": "#E5ECF6",
              "width": 0.5
             },
             "pattern": {
              "fillmode": "overlay",
              "size": 10,
              "solidity": 0.2
             }
            },
            "type": "bar"
           }
          ],
          "barpolar": [
           {
            "marker": {
             "line": {
              "color": "#E5ECF6",
              "width": 0.5
             },
             "pattern": {
              "fillmode": "overlay",
              "size": 10,
              "solidity": 0.2
             }
            },
            "type": "barpolar"
           }
          ],
          "carpet": [
           {
            "aaxis": {
             "endlinecolor": "#2a3f5f",
             "gridcolor": "white",
             "linecolor": "white",
             "minorgridcolor": "white",
             "startlinecolor": "#2a3f5f"
            },
            "baxis": {
             "endlinecolor": "#2a3f5f",
             "gridcolor": "white",
             "linecolor": "white",
             "minorgridcolor": "white",
             "startlinecolor": "#2a3f5f"
            },
            "type": "carpet"
           }
          ],
          "choropleth": [
           {
            "colorbar": {
             "outlinewidth": 0,
             "ticks": ""
            },
            "type": "choropleth"
           }
          ],
          "contour": [
           {
            "colorbar": {
             "outlinewidth": 0,
             "ticks": ""
            },
            "colorscale": [
             [
              0,
              "#0d0887"
             ],
             [
              0.1111111111111111,
              "#46039f"
             ],
             [
              0.2222222222222222,
              "#7201a8"
             ],
             [
              0.3333333333333333,
              "#9c179e"
             ],
             [
              0.4444444444444444,
              "#bd3786"
             ],
             [
              0.5555555555555556,
              "#d8576b"
             ],
             [
              0.6666666666666666,
              "#ed7953"
             ],
             [
              0.7777777777777778,
              "#fb9f3a"
             ],
             [
              0.8888888888888888,
              "#fdca26"
             ],
             [
              1,
              "#f0f921"
             ]
            ],
            "type": "contour"
           }
          ],
          "contourcarpet": [
           {
            "colorbar": {
             "outlinewidth": 0,
             "ticks": ""
            },
            "type": "contourcarpet"
           }
          ],
          "heatmap": [
           {
            "colorbar": {
             "outlinewidth": 0,
             "ticks": ""
            },
            "colorscale": [
             [
              0,
              "#0d0887"
             ],
             [
              0.1111111111111111,
              "#46039f"
             ],
             [
              0.2222222222222222,
              "#7201a8"
             ],
             [
              0.3333333333333333,
              "#9c179e"
             ],
             [
              0.4444444444444444,
              "#bd3786"
             ],
             [
              0.5555555555555556,
              "#d8576b"
             ],
             [
              0.6666666666666666,
              "#ed7953"
             ],
             [
              0.7777777777777778,
              "#fb9f3a"
             ],
             [
              0.8888888888888888,
              "#fdca26"
             ],
             [
              1,
              "#f0f921"
             ]
            ],
            "type": "heatmap"
           }
          ],
          "heatmapgl": [
           {
            "colorbar": {
             "outlinewidth": 0,
             "ticks": ""
            },
            "colorscale": [
             [
              0,
              "#0d0887"
             ],
             [
              0.1111111111111111,
              "#46039f"
             ],
             [
              0.2222222222222222,
              "#7201a8"
             ],
             [
              0.3333333333333333,
              "#9c179e"
             ],
             [
              0.4444444444444444,
              "#bd3786"
             ],
             [
              0.5555555555555556,
              "#d8576b"
             ],
             [
              0.6666666666666666,
              "#ed7953"
             ],
             [
              0.7777777777777778,
              "#fb9f3a"
             ],
             [
              0.8888888888888888,
              "#fdca26"
             ],
             [
              1,
              "#f0f921"
             ]
            ],
            "type": "heatmapgl"
           }
          ],
          "histogram": [
           {
            "marker": {
             "pattern": {
              "fillmode": "overlay",
              "size": 10,
              "solidity": 0.2
             }
            },
            "type": "histogram"
           }
          ],
          "histogram2d": [
           {
            "colorbar": {
             "outlinewidth": 0,
             "ticks": ""
            },
            "colorscale": [
             [
              0,
              "#0d0887"
             ],
             [
              0.1111111111111111,
              "#46039f"
             ],
             [
              0.2222222222222222,
              "#7201a8"
             ],
             [
              0.3333333333333333,
              "#9c179e"
             ],
             [
              0.4444444444444444,
              "#bd3786"
             ],
             [
              0.5555555555555556,
              "#d8576b"
             ],
             [
              0.6666666666666666,
              "#ed7953"
             ],
             [
              0.7777777777777778,
              "#fb9f3a"
             ],
             [
              0.8888888888888888,
              "#fdca26"
             ],
             [
              1,
              "#f0f921"
             ]
            ],
            "type": "histogram2d"
           }
          ],
          "histogram2dcontour": [
           {
            "colorbar": {
             "outlinewidth": 0,
             "ticks": ""
            },
            "colorscale": [
             [
              0,
              "#0d0887"
             ],
             [
              0.1111111111111111,
              "#46039f"
             ],
             [
              0.2222222222222222,
              "#7201a8"
             ],
             [
              0.3333333333333333,
              "#9c179e"
             ],
             [
              0.4444444444444444,
              "#bd3786"
             ],
             [
              0.5555555555555556,
              "#d8576b"
             ],
             [
              0.6666666666666666,
              "#ed7953"
             ],
             [
              0.7777777777777778,
              "#fb9f3a"
             ],
             [
              0.8888888888888888,
              "#fdca26"
             ],
             [
              1,
              "#f0f921"
             ]
            ],
            "type": "histogram2dcontour"
           }
          ],
          "mesh3d": [
           {
            "colorbar": {
             "outlinewidth": 0,
             "ticks": ""
            },
            "type": "mesh3d"
           }
          ],
          "parcoords": [
           {
            "line": {
             "colorbar": {
              "outlinewidth": 0,
              "ticks": ""
             }
            },
            "type": "parcoords"
           }
          ],
          "pie": [
           {
            "automargin": true,
            "type": "pie"
           }
          ],
          "scatter": [
           {
            "marker": {
             "colorbar": {
              "outlinewidth": 0,
              "ticks": ""
             }
            },
            "type": "scatter"
           }
          ],
          "scatter3d": [
           {
            "line": {
             "colorbar": {
              "outlinewidth": 0,
              "ticks": ""
             }
            },
            "marker": {
             "colorbar": {
              "outlinewidth": 0,
              "ticks": ""
             }
            },
            "type": "scatter3d"
           }
          ],
          "scattercarpet": [
           {
            "marker": {
             "colorbar": {
              "outlinewidth": 0,
              "ticks": ""
             }
            },
            "type": "scattercarpet"
           }
          ],
          "scattergeo": [
           {
            "marker": {
             "colorbar": {
              "outlinewidth": 0,
              "ticks": ""
             }
            },
            "type": "scattergeo"
           }
          ],
          "scattergl": [
           {
            "marker": {
             "colorbar": {
              "outlinewidth": 0,
              "ticks": ""
             }
            },
            "type": "scattergl"
           }
          ],
          "scattermapbox": [
           {
            "marker": {
             "colorbar": {
              "outlinewidth": 0,
              "ticks": ""
             }
            },
            "type": "scattermapbox"
           }
          ],
          "scatterpolar": [
           {
            "marker": {
             "colorbar": {
              "outlinewidth": 0,
              "ticks": ""
             }
            },
            "type": "scatterpolar"
           }
          ],
          "scatterpolargl": [
           {
            "marker": {
             "colorbar": {
              "outlinewidth": 0,
              "ticks": ""
             }
            },
            "type": "scatterpolargl"
           }
          ],
          "scatterternary": [
           {
            "marker": {
             "colorbar": {
              "outlinewidth": 0,
              "ticks": ""
             }
            },
            "type": "scatterternary"
           }
          ],
          "surface": [
           {
            "colorbar": {
             "outlinewidth": 0,
             "ticks": ""
            },
            "colorscale": [
             [
              0,
              "#0d0887"
             ],
             [
              0.1111111111111111,
              "#46039f"
             ],
             [
              0.2222222222222222,
              "#7201a8"
             ],
             [
              0.3333333333333333,
              "#9c179e"
             ],
             [
              0.4444444444444444,
              "#bd3786"
             ],
             [
              0.5555555555555556,
              "#d8576b"
             ],
             [
              0.6666666666666666,
              "#ed7953"
             ],
             [
              0.7777777777777778,
              "#fb9f3a"
             ],
             [
              0.8888888888888888,
              "#fdca26"
             ],
             [
              1,
              "#f0f921"
             ]
            ],
            "type": "surface"
           }
          ],
          "table": [
           {
            "cells": {
             "fill": {
              "color": "#EBF0F8"
             },
             "line": {
              "color": "white"
             }
            },
            "header": {
             "fill": {
              "color": "#C8D4E3"
             },
             "line": {
              "color": "white"
             }
            },
            "type": "table"
           }
          ]
         },
         "layout": {
          "annotationdefaults": {
           "arrowcolor": "#2a3f5f",
           "arrowhead": 0,
           "arrowwidth": 1
          },
          "autotypenumbers": "strict",
          "coloraxis": {
           "colorbar": {
            "outlinewidth": 0,
            "ticks": ""
           }
          },
          "colorscale": {
           "diverging": [
            [
             0,
             "#8e0152"
            ],
            [
             0.1,
             "#c51b7d"
            ],
            [
             0.2,
             "#de77ae"
            ],
            [
             0.3,
             "#f1b6da"
            ],
            [
             0.4,
             "#fde0ef"
            ],
            [
             0.5,
             "#f7f7f7"
            ],
            [
             0.6,
             "#e6f5d0"
            ],
            [
             0.7,
             "#b8e186"
            ],
            [
             0.8,
             "#7fbc41"
            ],
            [
             0.9,
             "#4d9221"
            ],
            [
             1,
             "#276419"
            ]
           ],
           "sequential": [
            [
             0,
             "#0d0887"
            ],
            [
             0.1111111111111111,
             "#46039f"
            ],
            [
             0.2222222222222222,
             "#7201a8"
            ],
            [
             0.3333333333333333,
             "#9c179e"
            ],
            [
             0.4444444444444444,
             "#bd3786"
            ],
            [
             0.5555555555555556,
             "#d8576b"
            ],
            [
             0.6666666666666666,
             "#ed7953"
            ],
            [
             0.7777777777777778,
             "#fb9f3a"
            ],
            [
             0.8888888888888888,
             "#fdca26"
            ],
            [
             1,
             "#f0f921"
            ]
           ],
           "sequentialminus": [
            [
             0,
             "#0d0887"
            ],
            [
             0.1111111111111111,
             "#46039f"
            ],
            [
             0.2222222222222222,
             "#7201a8"
            ],
            [
             0.3333333333333333,
             "#9c179e"
            ],
            [
             0.4444444444444444,
             "#bd3786"
            ],
            [
             0.5555555555555556,
             "#d8576b"
            ],
            [
             0.6666666666666666,
             "#ed7953"
            ],
            [
             0.7777777777777778,
             "#fb9f3a"
            ],
            [
             0.8888888888888888,
             "#fdca26"
            ],
            [
             1,
             "#f0f921"
            ]
           ]
          },
          "colorway": [
           "#636efa",
           "#EF553B",
           "#00cc96",
           "#ab63fa",
           "#FFA15A",
           "#19d3f3",
           "#FF6692",
           "#B6E880",
           "#FF97FF",
           "#FECB52"
          ],
          "font": {
           "color": "#2a3f5f"
          },
          "geo": {
           "bgcolor": "white",
           "lakecolor": "white",
           "landcolor": "#E5ECF6",
           "showlakes": true,
           "showland": true,
           "subunitcolor": "white"
          },
          "hoverlabel": {
           "align": "left"
          },
          "hovermode": "closest",
          "mapbox": {
           "style": "light"
          },
          "paper_bgcolor": "white",
          "plot_bgcolor": "#E5ECF6",
          "polar": {
           "angularaxis": {
            "gridcolor": "white",
            "linecolor": "white",
            "ticks": ""
           },
           "bgcolor": "#E5ECF6",
           "radialaxis": {
            "gridcolor": "white",
            "linecolor": "white",
            "ticks": ""
           }
          },
          "scene": {
           "xaxis": {
            "backgroundcolor": "#E5ECF6",
            "gridcolor": "white",
            "gridwidth": 2,
            "linecolor": "white",
            "showbackground": true,
            "ticks": "",
            "zerolinecolor": "white"
           },
           "yaxis": {
            "backgroundcolor": "#E5ECF6",
            "gridcolor": "white",
            "gridwidth": 2,
            "linecolor": "white",
            "showbackground": true,
            "ticks": "",
            "zerolinecolor": "white"
           },
           "zaxis": {
            "backgroundcolor": "#E5ECF6",
            "gridcolor": "white",
            "gridwidth": 2,
            "linecolor": "white",
            "showbackground": true,
            "ticks": "",
            "zerolinecolor": "white"
           }
          },
          "shapedefaults": {
           "line": {
            "color": "#2a3f5f"
           }
          },
          "ternary": {
           "aaxis": {
            "gridcolor": "white",
            "linecolor": "white",
            "ticks": ""
           },
           "baxis": {
            "gridcolor": "white",
            "linecolor": "white",
            "ticks": ""
           },
           "bgcolor": "#E5ECF6",
           "caxis": {
            "gridcolor": "white",
            "linecolor": "white",
            "ticks": ""
           }
          },
          "title": {
           "x": 0.05
          },
          "xaxis": {
           "automargin": true,
           "gridcolor": "white",
           "linecolor": "white",
           "ticks": "",
           "title": {
            "standoff": 15
           },
           "zerolinecolor": "white",
           "zerolinewidth": 2
          },
          "yaxis": {
           "automargin": true,
           "gridcolor": "white",
           "linecolor": "white",
           "ticks": "",
           "title": {
            "standoff": 15
           },
           "zerolinecolor": "white",
           "zerolinewidth": 2
          }
         }
        },
        "title": {
         "font": {
          "color": "#4D5663"
         }
        },
        "xaxis": {
         "gridcolor": "#E1E5ED",
         "showgrid": true,
         "tickfont": {
          "color": "#4D5663"
         },
         "title": {
          "font": {
           "color": "#4D5663"
          },
          "text": ""
         },
         "zerolinecolor": "#E1E5ED"
        },
        "yaxis": {
         "gridcolor": "#E1E5ED",
         "showgrid": true,
         "tickfont": {
          "color": "#4D5663"
         },
         "title": {
          "font": {
           "color": "#4D5663"
          },
          "text": ""
         },
         "zerolinecolor": "#E1E5ED"
        }
       }
      },
      "text/html": [
       "<div>                            <div id=\"5d215386-d052-497e-a90c-81d890e2cb68\" class=\"plotly-graph-div\" style=\"height:525px; width:100%;\"></div>            <script type=\"text/javascript\">                require([\"plotly\"], function(Plotly) {                    window.PLOTLYENV=window.PLOTLYENV || {};\n",
       "                    window.PLOTLYENV.BASE_URL='https://plot.ly';                                    if (document.getElementById(\"5d215386-d052-497e-a90c-81d890e2cb68\")) {                    Plotly.newPlot(                        \"5d215386-d052-497e-a90c-81d890e2cb68\",                        [{\"marker\":{\"color\":\"rgba(255, 153, 51, 0.6)\",\"line\":{\"color\":\"rgba(255, 153, 51, 1.0)\",\"width\":1}},\"name\":\"None\",\"orientation\":\"v\",\"text\":\"\",\"x\":[\"A\",\"B\",\"C\",\"D\"],\"y\":[100,100,100,100],\"type\":\"bar\"}],                        {\"legend\":{\"bgcolor\":\"#F5F6F9\",\"font\":{\"color\":\"#4D5663\"}},\"paper_bgcolor\":\"#F5F6F9\",\"plot_bgcolor\":\"#F5F6F9\",\"template\":{\"data\":{\"barpolar\":[{\"marker\":{\"line\":{\"color\":\"#E5ECF6\",\"width\":0.5},\"pattern\":{\"fillmode\":\"overlay\",\"size\":10,\"solidity\":0.2}},\"type\":\"barpolar\"}],\"bar\":[{\"error_x\":{\"color\":\"#2a3f5f\"},\"error_y\":{\"color\":\"#2a3f5f\"},\"marker\":{\"line\":{\"color\":\"#E5ECF6\",\"width\":0.5},\"pattern\":{\"fillmode\":\"overlay\",\"size\":10,\"solidity\":0.2}},\"type\":\"bar\"}],\"carpet\":[{\"aaxis\":{\"endlinecolor\":\"#2a3f5f\",\"gridcolor\":\"white\",\"linecolor\":\"white\",\"minorgridcolor\":\"white\",\"startlinecolor\":\"#2a3f5f\"},\"baxis\":{\"endlinecolor\":\"#2a3f5f\",\"gridcolor\":\"white\",\"linecolor\":\"white\",\"minorgridcolor\":\"white\",\"startlinecolor\":\"#2a3f5f\"},\"type\":\"carpet\"}],\"choropleth\":[{\"colorbar\":{\"outlinewidth\":0,\"ticks\":\"\"},\"type\":\"choropleth\"}],\"contourcarpet\":[{\"colorbar\":{\"outlinewidth\":0,\"ticks\":\"\"},\"type\":\"contourcarpet\"}],\"contour\":[{\"colorbar\":{\"outlinewidth\":0,\"ticks\":\"\"},\"colorscale\":[[0.0,\"#0d0887\"],[0.1111111111111111,\"#46039f\"],[0.2222222222222222,\"#7201a8\"],[0.3333333333333333,\"#9c179e\"],[0.4444444444444444,\"#bd3786\"],[0.5555555555555556,\"#d8576b\"],[0.6666666666666666,\"#ed7953\"],[0.7777777777777778,\"#fb9f3a\"],[0.8888888888888888,\"#fdca26\"],[1.0,\"#f0f921\"]],\"type\":\"contour\"}],\"heatmapgl\":[{\"colorbar\":{\"outlinewidth\":0,\"ticks\":\"\"},\"colorscale\":[[0.0,\"#0d0887\"],[0.1111111111111111,\"#46039f\"],[0.2222222222222222,\"#7201a8\"],[0.3333333333333333,\"#9c179e\"],[0.4444444444444444,\"#bd3786\"],[0.5555555555555556,\"#d8576b\"],[0.6666666666666666,\"#ed7953\"],[0.7777777777777778,\"#fb9f3a\"],[0.8888888888888888,\"#fdca26\"],[1.0,\"#f0f921\"]],\"type\":\"heatmapgl\"}],\"heatmap\":[{\"colorbar\":{\"outlinewidth\":0,\"ticks\":\"\"},\"colorscale\":[[0.0,\"#0d0887\"],[0.1111111111111111,\"#46039f\"],[0.2222222222222222,\"#7201a8\"],[0.3333333333333333,\"#9c179e\"],[0.4444444444444444,\"#bd3786\"],[0.5555555555555556,\"#d8576b\"],[0.6666666666666666,\"#ed7953\"],[0.7777777777777778,\"#fb9f3a\"],[0.8888888888888888,\"#fdca26\"],[1.0,\"#f0f921\"]],\"type\":\"heatmap\"}],\"histogram2dcontour\":[{\"colorbar\":{\"outlinewidth\":0,\"ticks\":\"\"},\"colorscale\":[[0.0,\"#0d0887\"],[0.1111111111111111,\"#46039f\"],[0.2222222222222222,\"#7201a8\"],[0.3333333333333333,\"#9c179e\"],[0.4444444444444444,\"#bd3786\"],[0.5555555555555556,\"#d8576b\"],[0.6666666666666666,\"#ed7953\"],[0.7777777777777778,\"#fb9f3a\"],[0.8888888888888888,\"#fdca26\"],[1.0,\"#f0f921\"]],\"type\":\"histogram2dcontour\"}],\"histogram2d\":[{\"colorbar\":{\"outlinewidth\":0,\"ticks\":\"\"},\"colorscale\":[[0.0,\"#0d0887\"],[0.1111111111111111,\"#46039f\"],[0.2222222222222222,\"#7201a8\"],[0.3333333333333333,\"#9c179e\"],[0.4444444444444444,\"#bd3786\"],[0.5555555555555556,\"#d8576b\"],[0.6666666666666666,\"#ed7953\"],[0.7777777777777778,\"#fb9f3a\"],[0.8888888888888888,\"#fdca26\"],[1.0,\"#f0f921\"]],\"type\":\"histogram2d\"}],\"histogram\":[{\"marker\":{\"pattern\":{\"fillmode\":\"overlay\",\"size\":10,\"solidity\":0.2}},\"type\":\"histogram\"}],\"mesh3d\":[{\"colorbar\":{\"outlinewidth\":0,\"ticks\":\"\"},\"type\":\"mesh3d\"}],\"parcoords\":[{\"line\":{\"colorbar\":{\"outlinewidth\":0,\"ticks\":\"\"}},\"type\":\"parcoords\"}],\"pie\":[{\"automargin\":true,\"type\":\"pie\"}],\"scatter3d\":[{\"line\":{\"colorbar\":{\"outlinewidth\":0,\"ticks\":\"\"}},\"marker\":{\"colorbar\":{\"outlinewidth\":0,\"ticks\":\"\"}},\"type\":\"scatter3d\"}],\"scattercarpet\":[{\"marker\":{\"colorbar\":{\"outlinewidth\":0,\"ticks\":\"\"}},\"type\":\"scattercarpet\"}],\"scattergeo\":[{\"marker\":{\"colorbar\":{\"outlinewidth\":0,\"ticks\":\"\"}},\"type\":\"scattergeo\"}],\"scattergl\":[{\"marker\":{\"colorbar\":{\"outlinewidth\":0,\"ticks\":\"\"}},\"type\":\"scattergl\"}],\"scattermapbox\":[{\"marker\":{\"colorbar\":{\"outlinewidth\":0,\"ticks\":\"\"}},\"type\":\"scattermapbox\"}],\"scatterpolargl\":[{\"marker\":{\"colorbar\":{\"outlinewidth\":0,\"ticks\":\"\"}},\"type\":\"scatterpolargl\"}],\"scatterpolar\":[{\"marker\":{\"colorbar\":{\"outlinewidth\":0,\"ticks\":\"\"}},\"type\":\"scatterpolar\"}],\"scatter\":[{\"marker\":{\"colorbar\":{\"outlinewidth\":0,\"ticks\":\"\"}},\"type\":\"scatter\"}],\"scatterternary\":[{\"marker\":{\"colorbar\":{\"outlinewidth\":0,\"ticks\":\"\"}},\"type\":\"scatterternary\"}],\"surface\":[{\"colorbar\":{\"outlinewidth\":0,\"ticks\":\"\"},\"colorscale\":[[0.0,\"#0d0887\"],[0.1111111111111111,\"#46039f\"],[0.2222222222222222,\"#7201a8\"],[0.3333333333333333,\"#9c179e\"],[0.4444444444444444,\"#bd3786\"],[0.5555555555555556,\"#d8576b\"],[0.6666666666666666,\"#ed7953\"],[0.7777777777777778,\"#fb9f3a\"],[0.8888888888888888,\"#fdca26\"],[1.0,\"#f0f921\"]],\"type\":\"surface\"}],\"table\":[{\"cells\":{\"fill\":{\"color\":\"#EBF0F8\"},\"line\":{\"color\":\"white\"}},\"header\":{\"fill\":{\"color\":\"#C8D4E3\"},\"line\":{\"color\":\"white\"}},\"type\":\"table\"}]},\"layout\":{\"annotationdefaults\":{\"arrowcolor\":\"#2a3f5f\",\"arrowhead\":0,\"arrowwidth\":1},\"autotypenumbers\":\"strict\",\"coloraxis\":{\"colorbar\":{\"outlinewidth\":0,\"ticks\":\"\"}},\"colorscale\":{\"diverging\":[[0,\"#8e0152\"],[0.1,\"#c51b7d\"],[0.2,\"#de77ae\"],[0.3,\"#f1b6da\"],[0.4,\"#fde0ef\"],[0.5,\"#f7f7f7\"],[0.6,\"#e6f5d0\"],[0.7,\"#b8e186\"],[0.8,\"#7fbc41\"],[0.9,\"#4d9221\"],[1,\"#276419\"]],\"sequential\":[[0.0,\"#0d0887\"],[0.1111111111111111,\"#46039f\"],[0.2222222222222222,\"#7201a8\"],[0.3333333333333333,\"#9c179e\"],[0.4444444444444444,\"#bd3786\"],[0.5555555555555556,\"#d8576b\"],[0.6666666666666666,\"#ed7953\"],[0.7777777777777778,\"#fb9f3a\"],[0.8888888888888888,\"#fdca26\"],[1.0,\"#f0f921\"]],\"sequentialminus\":[[0.0,\"#0d0887\"],[0.1111111111111111,\"#46039f\"],[0.2222222222222222,\"#7201a8\"],[0.3333333333333333,\"#9c179e\"],[0.4444444444444444,\"#bd3786\"],[0.5555555555555556,\"#d8576b\"],[0.6666666666666666,\"#ed7953\"],[0.7777777777777778,\"#fb9f3a\"],[0.8888888888888888,\"#fdca26\"],[1.0,\"#f0f921\"]]},\"colorway\":[\"#636efa\",\"#EF553B\",\"#00cc96\",\"#ab63fa\",\"#FFA15A\",\"#19d3f3\",\"#FF6692\",\"#B6E880\",\"#FF97FF\",\"#FECB52\"],\"font\":{\"color\":\"#2a3f5f\"},\"geo\":{\"bgcolor\":\"white\",\"lakecolor\":\"white\",\"landcolor\":\"#E5ECF6\",\"showlakes\":true,\"showland\":true,\"subunitcolor\":\"white\"},\"hoverlabel\":{\"align\":\"left\"},\"hovermode\":\"closest\",\"mapbox\":{\"style\":\"light\"},\"paper_bgcolor\":\"white\",\"plot_bgcolor\":\"#E5ECF6\",\"polar\":{\"angularaxis\":{\"gridcolor\":\"white\",\"linecolor\":\"white\",\"ticks\":\"\"},\"bgcolor\":\"#E5ECF6\",\"radialaxis\":{\"gridcolor\":\"white\",\"linecolor\":\"white\",\"ticks\":\"\"}},\"scene\":{\"xaxis\":{\"backgroundcolor\":\"#E5ECF6\",\"gridcolor\":\"white\",\"gridwidth\":2,\"linecolor\":\"white\",\"showbackground\":true,\"ticks\":\"\",\"zerolinecolor\":\"white\"},\"yaxis\":{\"backgroundcolor\":\"#E5ECF6\",\"gridcolor\":\"white\",\"gridwidth\":2,\"linecolor\":\"white\",\"showbackground\":true,\"ticks\":\"\",\"zerolinecolor\":\"white\"},\"zaxis\":{\"backgroundcolor\":\"#E5ECF6\",\"gridcolor\":\"white\",\"gridwidth\":2,\"linecolor\":\"white\",\"showbackground\":true,\"ticks\":\"\",\"zerolinecolor\":\"white\"}},\"shapedefaults\":{\"line\":{\"color\":\"#2a3f5f\"}},\"ternary\":{\"aaxis\":{\"gridcolor\":\"white\",\"linecolor\":\"white\",\"ticks\":\"\"},\"baxis\":{\"gridcolor\":\"white\",\"linecolor\":\"white\",\"ticks\":\"\"},\"bgcolor\":\"#E5ECF6\",\"caxis\":{\"gridcolor\":\"white\",\"linecolor\":\"white\",\"ticks\":\"\"}},\"title\":{\"x\":0.05},\"xaxis\":{\"automargin\":true,\"gridcolor\":\"white\",\"linecolor\":\"white\",\"ticks\":\"\",\"title\":{\"standoff\":15},\"zerolinecolor\":\"white\",\"zerolinewidth\":2},\"yaxis\":{\"automargin\":true,\"gridcolor\":\"white\",\"linecolor\":\"white\",\"ticks\":\"\",\"title\":{\"standoff\":15},\"zerolinecolor\":\"white\",\"zerolinewidth\":2}}},\"title\":{\"font\":{\"color\":\"#4D5663\"}},\"xaxis\":{\"gridcolor\":\"#E1E5ED\",\"showgrid\":true,\"tickfont\":{\"color\":\"#4D5663\"},\"title\":{\"font\":{\"color\":\"#4D5663\"},\"text\":\"\"},\"zerolinecolor\":\"#E1E5ED\"},\"yaxis\":{\"gridcolor\":\"#E1E5ED\",\"showgrid\":true,\"tickfont\":{\"color\":\"#4D5663\"},\"title\":{\"font\":{\"color\":\"#4D5663\"},\"text\":\"\"},\"zerolinecolor\":\"#E1E5ED\"}},                        {\"showLink\": true, \"linkText\": \"Export to plot.ly\", \"plotlyServerURL\": \"https://plot.ly\", \"responsive\": true}                    ).then(function(){\n",
       "                            \n",
       "var gd = document.getElementById('5d215386-d052-497e-a90c-81d890e2cb68');\n",
       "var x = new MutationObserver(function (mutations, observer) {{\n",
       "        var display = window.getComputedStyle(gd).display;\n",
       "        if (!display || display === 'none') {{\n",
       "            console.log([gd, 'removed!']);\n",
       "            Plotly.purge(gd);\n",
       "            observer.disconnect();\n",
       "        }}\n",
       "}});\n",
       "\n",
       "// Listen for the removal of the full notebook cells\n",
       "var notebookContainer = gd.closest('#notebook-container');\n",
       "if (notebookContainer) {{\n",
       "    x.observe(notebookContainer, {childList: true});\n",
       "}}\n",
       "\n",
       "// Listen for the clearing of the current output cell\n",
       "var outputEl = gd.closest('.output');\n",
       "if (outputEl) {{\n",
       "    x.observe(outputEl, {childList: true});\n",
       "}}\n",
       "\n",
       "                        })                };                });            </script>        </div>"
      ]
     },
     "metadata": {},
     "output_type": "display_data"
    }
   ],
   "source": [
    "df.count().iplot(kind='bar')"
   ]
  },
  {
   "cell_type": "markdown",
   "metadata": {},
   "source": [
    "## Boxplots"
   ]
  },
  {
   "cell_type": "code",
   "execution_count": 13,
   "metadata": {},
   "outputs": [
    {
     "data": {
      "application/vnd.plotly.v1+json": {
       "config": {
        "linkText": "Export to plot.ly",
        "plotlyServerURL": "https://plot.ly",
        "showLink": true
       },
       "data": [
        {
         "boxpoints": false,
         "line": {
          "width": 1.3
         },
         "marker": {
          "color": "rgba(255, 153, 51, 1.0)"
         },
         "name": "A",
         "orientation": "v",
         "type": "box",
         "y": [
          0.09386654377961644,
          -1.139004671822801,
          -0.23367563378421577,
          -0.8178321802841402,
          -1.1386693772818866,
          -1.6933602772163847,
          -0.340882409868143,
          -0.351551967954869,
          1.0758340774178499,
          -0.787595569821493,
          -0.4591133299503853,
          0.6345527442690106,
          -0.0835497443856339,
          0.8184263799228679,
          2.3301004445919853,
          -1.7842568978947762,
          1.2519772540173484,
          -0.6878146559815548,
          0.9635311160123031,
          -1.8983326215126495,
          2.1261591546867598,
          0.8941929951060387,
          0.1993320335310691,
          1.458215627439701,
          1.4694761919905903,
          -0.15252157482332396,
          -0.07148794668059787,
          -0.7635578591458244,
          -0.615900797268425,
          1.7053678572999516,
          -2.7292138631298317,
          0.933668525563834,
          -0.15968170111604396,
          0.7028590284260958,
          -1.1066058899225693,
          0.1619239233677905,
          0.2696690872716977,
          -0.8220265893588786,
          -0.33645552246354093,
          -0.07621137756404667,
          0.13301168100033228,
          -1.8700761206942498,
          0.0027439163561086524,
          1.2737410558275717,
          2.650550647922217,
          0.16841290963442426,
          -0.14149905735278132,
          -0.9644995305255604,
          -1.2604272026237753,
          0.319347044132876,
          0.56899546075684,
          1.241070964776888,
          -2.631068877305108,
          0.6652088306271956,
          -0.1867782110110191,
          -1.1025950775762114,
          -1.0816166208111249,
          0.28279051004301603,
          0.22548470390457245,
          -1.0921356640494668,
          -0.21652925585167312,
          1.2433709974704996,
          -3.1345566857767975,
          -1.4382763214819527,
          -1.1285833645782766,
          -1.2296014908982091,
          -1.7346476621463802,
          -0.9222160955908932,
          -0.1732327426597853,
          0.2976568213768825,
          0.7990801597704285,
          -0.15030976242435307,
          -0.9146846787912161,
          1.283925952969555,
          0.013167437974883985,
          1.0127366895351093,
          0.4891948168208888,
          0.42369269963044137,
          1.33102509023086,
          -1.370552114637446,
          -0.714767518480121,
          0.3750615806094237,
          0.5341559704135873,
          1.5619388793042077,
          -1.8508306253213733,
          1.3370419329169922,
          -0.7280235070437202,
          -1.1633069457494016,
          -0.5492177107383946,
          -0.5021165530681923,
          1.3629234752007997,
          1.2230320992696806,
          -0.5100791299765235,
          -2.621920527501423,
          -0.7654463508855776,
          1.497549637995718,
          -0.35601407564263093,
          1.8455499737402132,
          0.12220185490031459,
          -0.8450536569754781
         ]
        },
        {
         "boxpoints": false,
         "line": {
          "width": 1.3
         },
         "marker": {
          "color": "rgba(55, 128, 191, 1.0)"
         },
         "name": "B",
         "orientation": "v",
         "type": "box",
         "y": [
          1.1340353607997995,
          0.013006465258081384,
          -1.4544113520150583,
          0.07672868747175726,
          0.48391889321947923,
          1.194788934202027,
          0.22468133183006384,
          0.12551098479531267,
          -0.27451552388284617,
          2.0356034926737436,
          0.7173123445309864,
          0.7932955472950777,
          -0.41502003783564156,
          0.3893140303258917,
          0.6193349803483303,
          -0.7866532286313116,
          1.3277002978859909,
          1.5560353033408851,
          -0.7637079816569204,
          1.4955257362466297,
          -1.3157860680447728,
          0.4814511617674176,
          -0.6261436350263004,
          -0.04619684870672389,
          0.9371898406188366,
          -0.5989093165454566,
          0.0062151920303784285,
          -0.6020029731603319,
          -2.208256297298656,
          0.7399894254410262,
          1.0860142458716426,
          -1.21065622295551,
          -0.09588287071653072,
          -1.2263598161115243,
          1.8299597122438265,
          -0.11413820163249909,
          -0.06935353377663811,
          1.5166820871775397,
          1.1795924483053237,
          -1.6027402892601654,
          0.12794276660807943,
          1.516455861068911,
          2.5031970959043703,
          -0.67197527259152,
          -0.729446552836332,
          -0.03227595217765168,
          0.6382184051655801,
          0.7079866983022988,
          -0.4630846645711651,
          -0.12042104592526794,
          0.818865391037555,
          -0.00456154244896449,
          -0.1454955215538559,
          0.82370762397494,
          1.1263911654451604,
          0.6957075242555208,
          -0.8809740163523293,
          0.13402287027597873,
          0.014942003469062437,
          0.5804442219882356,
          0.9941911200090845,
          0.7290166511006079,
          -0.19075826249149594,
          -0.3918900162987637,
          1.333464552078728,
          -0.14873129227566592,
          -2.705689931089558,
          -0.7259691233913627,
          1.0168910947228955,
          0.7873734558033054,
          0.026171372184366572,
          0.12996314877041218,
          1.6580005079219238,
          -0.44171738051397963,
          -0.0213341973283803,
          1.0895618776272844,
          -1.4783218403668337,
          -0.8051304132435134,
          0.9531400624960661,
          0.8574565198195986,
          1.267699008904015,
          -1.0931040378118888,
          0.5145903925372172,
          0.7628372620473755,
          -0.6581011595882967,
          1.2632260819909658,
          -1.2555456014903983,
          -0.9356552111274646,
          -0.3691646696574371,
          0.3709105437574881,
          1.0912030100326888,
          -0.9904125304371655,
          -1.2409751278186256,
          1.2795751598938199,
          1.0106178022864407,
          -0.03939033921404506,
          2.7754656697884035,
          -0.3644327979796833,
          1.5226149656513353,
          -1.5568377097308161
         ]
        },
        {
         "boxpoints": false,
         "line": {
          "width": 1.3
         },
         "marker": {
          "color": "rgba(50, 171, 96, 1.0)"
         },
         "name": "C",
         "orientation": "v",
         "type": "box",
         "y": [
          -0.33282780587095806,
          -1.5448452376166364,
          0.6228685924793956,
          0.8093687828306709,
          0.7190772579836001,
          1.0919707830866467,
          0.8784873880603475,
          -0.17819568113605488,
          -0.3580442357795487,
          2.44940806197161,
          -0.7560318056998703,
          0.8511125309822584,
          3.580785860876354,
          -1.1848213891289068,
          0.03906202735855334,
          0.9858635187960115,
          -0.21748323458448648,
          -0.5543899695384241,
          0.34846405568235944,
          -0.421910201269028,
          -2.1980431469511856,
          0.6004436342154168,
          -1.1338896174644981,
          2.357041588876008,
          -0.5982866014884459,
          1.757133388747493,
          -0.1417320558500775,
          -1.10594223484253,
          -1.455604064466308,
          0.4837748459104745,
          -1.1761499324913411,
          0.5582215826603278,
          -0.15298379420849662,
          1.6596583125489515,
          -1.5724077458238064,
          0.6215265491328936,
          -0.0561986409113782,
          0.24927014302474623,
          1.53543501332122,
          -0.055599551054791994,
          1.32645184759936,
          1.4514528477362016,
          -1.4847606319621105,
          -0.9973741476602409,
          1.4994912648796017,
          0.03419252439163247,
          -0.046292042915014826,
          1.709035841451056,
          0.5212967365366743,
          -0.131081583263683,
          -0.43808928803715164,
          1.6567970968688839,
          -1.5275444468745252,
          -0.8447896284702037,
          0.6578162654164579,
          -0.7534725970827714,
          -0.17285777482223505,
          0.35363997961509896,
          -1.788792436237959,
          -0.07162340903032188,
          -1.4623169456140561,
          0.8280825240696073,
          1.0835553730224157,
          -1.4240515666478064,
          -0.1341858472586976,
          -0.04106533170087056,
          -0.8051743208826985,
          0.6094093843827119,
          -0.35468964870606495,
          0.8603252413615008,
          2.6227282912468595,
          -0.3221728921133419,
          0.682400376121072,
          0.5149524099278576,
          0.2551924502028558,
          1.0844566358187382,
          1.1749552409728774,
          0.21926456388416293,
          0.04894329554338051,
          1.0119357918722658,
          1.8866860191241275,
          0.7805020164639119,
          0.8553420893921356,
          -0.6815036634994182,
          -1.014602473534048,
          -1.359433213823731,
          -0.05948954050187066,
          -1.1213977948174525,
          -0.33912696814714816,
          -1.0615594813679707,
          -0.411066444295418,
          2.166497474851957,
          -1.1134527970750354,
          -0.6054877059829976,
          0.4597533366654226,
          1.3290782445998464,
          0.012551474021747479,
          2.361644470059281,
          1.842062235156804,
          0.13153726714116326
         ]
        },
        {
         "boxpoints": false,
         "line": {
          "width": 1.3
         },
         "marker": {
          "color": "rgba(128, 0, 128, 1.0)"
         },
         "name": "D",
         "orientation": "v",
         "type": "box",
         "y": [
          0.01827674693836868,
          1.0312259862114281,
          -0.9902271317945981,
          -0.16952657109673888,
          0.0062033216943051,
          -0.020163977666164113,
          2.3254939553122944,
          0.784688250418403,
          -0.8095976935064689,
          1.0239361042223596,
          0.2120960201724168,
          0.2621575715402791,
          -1.1452357261550754,
          -2.150176744966233,
          0.2765394993371971,
          -0.39123864969170813,
          0.2606049970823336,
          0.6015042832534069,
          -0.5514447046029021,
          -0.33974805512263423,
          0.216680183299324,
          0.7740578412305583,
          -1.0581106408197496,
          -0.35751938655782445,
          0.5330389050112327,
          -0.46158005081539777,
          0.17840690735641399,
          -0.6625416623280843,
          0.38018466056836453,
          0.4847453775361481,
          -0.40452462836788083,
          0.7552367436336933,
          -0.5077675008072585,
          -0.13190226967138116,
          -0.3540764598406436,
          -0.36783435662119446,
          -0.3109370276173948,
          -1.0402771302704863,
          -1.3233540770350818,
          -0.9192426180694927,
          0.8587158823666327,
          -0.23733506108086794,
          -0.23023750991260766,
          0.76676620980785,
          -0.1581247958407638,
          -0.433504732896152,
          0.7315424536761489,
          0.726930646383536,
          1.1212649896971638,
          -0.30457026718549485,
          0.9492317484898695,
          -0.21113086866262615,
          1.0813108185118336,
          -0.5118880977698083,
          -0.3633732719562493,
          -0.7404551690859538,
          -1.1163057385564539,
          -0.7764959457234427,
          0.9552538822346441,
          -1.6501600320522556,
          0.8167022906270849,
          1.235473115067319,
          -0.2621304196056136,
          0.11186254307160247,
          1.7258513451699313,
          -0.3213869516737532,
          -0.6202949993605799,
          0.8439360896123422,
          -0.10386141197968152,
          1.653179103833251,
          0.31266756089648384,
          0.2623359432631791,
          -1.7097107400981206,
          -0.8900201035182636,
          0.413098861904276,
          -0.19806085942231758,
          1.8495416953003254,
          -0.2750288197965949,
          1.9050418541721095,
          1.4824729393772311,
          0.42477045373379674,
          0.5980783105289387,
          2.592541217628275,
          -1.1075789953915745,
          0.4145263543464033,
          0.0928350788536731,
          -1.68020796491302,
          0.0801443799603643,
          -0.21061732710712458,
          -1.038464987467301,
          -1.2024562570004007,
          -0.04100670824841796,
          -1.2368029460923655,
          0.30807983717780674,
          0.13785700001936516,
          -1.3441352328835554,
          0.48926231283611604,
          0.41798750518199207,
          -0.1372713308913042,
          0.21910304193782737
         ]
        }
       ],
       "layout": {
        "legend": {
         "bgcolor": "#F5F6F9",
         "font": {
          "color": "#4D5663"
         }
        },
        "paper_bgcolor": "#F5F6F9",
        "plot_bgcolor": "#F5F6F9",
        "template": {
         "data": {
          "bar": [
           {
            "error_x": {
             "color": "#2a3f5f"
            },
            "error_y": {
             "color": "#2a3f5f"
            },
            "marker": {
             "line": {
              "color": "#E5ECF6",
              "width": 0.5
             },
             "pattern": {
              "fillmode": "overlay",
              "size": 10,
              "solidity": 0.2
             }
            },
            "type": "bar"
           }
          ],
          "barpolar": [
           {
            "marker": {
             "line": {
              "color": "#E5ECF6",
              "width": 0.5
             },
             "pattern": {
              "fillmode": "overlay",
              "size": 10,
              "solidity": 0.2
             }
            },
            "type": "barpolar"
           }
          ],
          "carpet": [
           {
            "aaxis": {
             "endlinecolor": "#2a3f5f",
             "gridcolor": "white",
             "linecolor": "white",
             "minorgridcolor": "white",
             "startlinecolor": "#2a3f5f"
            },
            "baxis": {
             "endlinecolor": "#2a3f5f",
             "gridcolor": "white",
             "linecolor": "white",
             "minorgridcolor": "white",
             "startlinecolor": "#2a3f5f"
            },
            "type": "carpet"
           }
          ],
          "choropleth": [
           {
            "colorbar": {
             "outlinewidth": 0,
             "ticks": ""
            },
            "type": "choropleth"
           }
          ],
          "contour": [
           {
            "colorbar": {
             "outlinewidth": 0,
             "ticks": ""
            },
            "colorscale": [
             [
              0,
              "#0d0887"
             ],
             [
              0.1111111111111111,
              "#46039f"
             ],
             [
              0.2222222222222222,
              "#7201a8"
             ],
             [
              0.3333333333333333,
              "#9c179e"
             ],
             [
              0.4444444444444444,
              "#bd3786"
             ],
             [
              0.5555555555555556,
              "#d8576b"
             ],
             [
              0.6666666666666666,
              "#ed7953"
             ],
             [
              0.7777777777777778,
              "#fb9f3a"
             ],
             [
              0.8888888888888888,
              "#fdca26"
             ],
             [
              1,
              "#f0f921"
             ]
            ],
            "type": "contour"
           }
          ],
          "contourcarpet": [
           {
            "colorbar": {
             "outlinewidth": 0,
             "ticks": ""
            },
            "type": "contourcarpet"
           }
          ],
          "heatmap": [
           {
            "colorbar": {
             "outlinewidth": 0,
             "ticks": ""
            },
            "colorscale": [
             [
              0,
              "#0d0887"
             ],
             [
              0.1111111111111111,
              "#46039f"
             ],
             [
              0.2222222222222222,
              "#7201a8"
             ],
             [
              0.3333333333333333,
              "#9c179e"
             ],
             [
              0.4444444444444444,
              "#bd3786"
             ],
             [
              0.5555555555555556,
              "#d8576b"
             ],
             [
              0.6666666666666666,
              "#ed7953"
             ],
             [
              0.7777777777777778,
              "#fb9f3a"
             ],
             [
              0.8888888888888888,
              "#fdca26"
             ],
             [
              1,
              "#f0f921"
             ]
            ],
            "type": "heatmap"
           }
          ],
          "heatmapgl": [
           {
            "colorbar": {
             "outlinewidth": 0,
             "ticks": ""
            },
            "colorscale": [
             [
              0,
              "#0d0887"
             ],
             [
              0.1111111111111111,
              "#46039f"
             ],
             [
              0.2222222222222222,
              "#7201a8"
             ],
             [
              0.3333333333333333,
              "#9c179e"
             ],
             [
              0.4444444444444444,
              "#bd3786"
             ],
             [
              0.5555555555555556,
              "#d8576b"
             ],
             [
              0.6666666666666666,
              "#ed7953"
             ],
             [
              0.7777777777777778,
              "#fb9f3a"
             ],
             [
              0.8888888888888888,
              "#fdca26"
             ],
             [
              1,
              "#f0f921"
             ]
            ],
            "type": "heatmapgl"
           }
          ],
          "histogram": [
           {
            "marker": {
             "pattern": {
              "fillmode": "overlay",
              "size": 10,
              "solidity": 0.2
             }
            },
            "type": "histogram"
           }
          ],
          "histogram2d": [
           {
            "colorbar": {
             "outlinewidth": 0,
             "ticks": ""
            },
            "colorscale": [
             [
              0,
              "#0d0887"
             ],
             [
              0.1111111111111111,
              "#46039f"
             ],
             [
              0.2222222222222222,
              "#7201a8"
             ],
             [
              0.3333333333333333,
              "#9c179e"
             ],
             [
              0.4444444444444444,
              "#bd3786"
             ],
             [
              0.5555555555555556,
              "#d8576b"
             ],
             [
              0.6666666666666666,
              "#ed7953"
             ],
             [
              0.7777777777777778,
              "#fb9f3a"
             ],
             [
              0.8888888888888888,
              "#fdca26"
             ],
             [
              1,
              "#f0f921"
             ]
            ],
            "type": "histogram2d"
           }
          ],
          "histogram2dcontour": [
           {
            "colorbar": {
             "outlinewidth": 0,
             "ticks": ""
            },
            "colorscale": [
             [
              0,
              "#0d0887"
             ],
             [
              0.1111111111111111,
              "#46039f"
             ],
             [
              0.2222222222222222,
              "#7201a8"
             ],
             [
              0.3333333333333333,
              "#9c179e"
             ],
             [
              0.4444444444444444,
              "#bd3786"
             ],
             [
              0.5555555555555556,
              "#d8576b"
             ],
             [
              0.6666666666666666,
              "#ed7953"
             ],
             [
              0.7777777777777778,
              "#fb9f3a"
             ],
             [
              0.8888888888888888,
              "#fdca26"
             ],
             [
              1,
              "#f0f921"
             ]
            ],
            "type": "histogram2dcontour"
           }
          ],
          "mesh3d": [
           {
            "colorbar": {
             "outlinewidth": 0,
             "ticks": ""
            },
            "type": "mesh3d"
           }
          ],
          "parcoords": [
           {
            "line": {
             "colorbar": {
              "outlinewidth": 0,
              "ticks": ""
             }
            },
            "type": "parcoords"
           }
          ],
          "pie": [
           {
            "automargin": true,
            "type": "pie"
           }
          ],
          "scatter": [
           {
            "marker": {
             "colorbar": {
              "outlinewidth": 0,
              "ticks": ""
             }
            },
            "type": "scatter"
           }
          ],
          "scatter3d": [
           {
            "line": {
             "colorbar": {
              "outlinewidth": 0,
              "ticks": ""
             }
            },
            "marker": {
             "colorbar": {
              "outlinewidth": 0,
              "ticks": ""
             }
            },
            "type": "scatter3d"
           }
          ],
          "scattercarpet": [
           {
            "marker": {
             "colorbar": {
              "outlinewidth": 0,
              "ticks": ""
             }
            },
            "type": "scattercarpet"
           }
          ],
          "scattergeo": [
           {
            "marker": {
             "colorbar": {
              "outlinewidth": 0,
              "ticks": ""
             }
            },
            "type": "scattergeo"
           }
          ],
          "scattergl": [
           {
            "marker": {
             "colorbar": {
              "outlinewidth": 0,
              "ticks": ""
             }
            },
            "type": "scattergl"
           }
          ],
          "scattermapbox": [
           {
            "marker": {
             "colorbar": {
              "outlinewidth": 0,
              "ticks": ""
             }
            },
            "type": "scattermapbox"
           }
          ],
          "scatterpolar": [
           {
            "marker": {
             "colorbar": {
              "outlinewidth": 0,
              "ticks": ""
             }
            },
            "type": "scatterpolar"
           }
          ],
          "scatterpolargl": [
           {
            "marker": {
             "colorbar": {
              "outlinewidth": 0,
              "ticks": ""
             }
            },
            "type": "scatterpolargl"
           }
          ],
          "scatterternary": [
           {
            "marker": {
             "colorbar": {
              "outlinewidth": 0,
              "ticks": ""
             }
            },
            "type": "scatterternary"
           }
          ],
          "surface": [
           {
            "colorbar": {
             "outlinewidth": 0,
             "ticks": ""
            },
            "colorscale": [
             [
              0,
              "#0d0887"
             ],
             [
              0.1111111111111111,
              "#46039f"
             ],
             [
              0.2222222222222222,
              "#7201a8"
             ],
             [
              0.3333333333333333,
              "#9c179e"
             ],
             [
              0.4444444444444444,
              "#bd3786"
             ],
             [
              0.5555555555555556,
              "#d8576b"
             ],
             [
              0.6666666666666666,
              "#ed7953"
             ],
             [
              0.7777777777777778,
              "#fb9f3a"
             ],
             [
              0.8888888888888888,
              "#fdca26"
             ],
             [
              1,
              "#f0f921"
             ]
            ],
            "type": "surface"
           }
          ],
          "table": [
           {
            "cells": {
             "fill": {
              "color": "#EBF0F8"
             },
             "line": {
              "color": "white"
             }
            },
            "header": {
             "fill": {
              "color": "#C8D4E3"
             },
             "line": {
              "color": "white"
             }
            },
            "type": "table"
           }
          ]
         },
         "layout": {
          "annotationdefaults": {
           "arrowcolor": "#2a3f5f",
           "arrowhead": 0,
           "arrowwidth": 1
          },
          "autotypenumbers": "strict",
          "coloraxis": {
           "colorbar": {
            "outlinewidth": 0,
            "ticks": ""
           }
          },
          "colorscale": {
           "diverging": [
            [
             0,
             "#8e0152"
            ],
            [
             0.1,
             "#c51b7d"
            ],
            [
             0.2,
             "#de77ae"
            ],
            [
             0.3,
             "#f1b6da"
            ],
            [
             0.4,
             "#fde0ef"
            ],
            [
             0.5,
             "#f7f7f7"
            ],
            [
             0.6,
             "#e6f5d0"
            ],
            [
             0.7,
             "#b8e186"
            ],
            [
             0.8,
             "#7fbc41"
            ],
            [
             0.9,
             "#4d9221"
            ],
            [
             1,
             "#276419"
            ]
           ],
           "sequential": [
            [
             0,
             "#0d0887"
            ],
            [
             0.1111111111111111,
             "#46039f"
            ],
            [
             0.2222222222222222,
             "#7201a8"
            ],
            [
             0.3333333333333333,
             "#9c179e"
            ],
            [
             0.4444444444444444,
             "#bd3786"
            ],
            [
             0.5555555555555556,
             "#d8576b"
            ],
            [
             0.6666666666666666,
             "#ed7953"
            ],
            [
             0.7777777777777778,
             "#fb9f3a"
            ],
            [
             0.8888888888888888,
             "#fdca26"
            ],
            [
             1,
             "#f0f921"
            ]
           ],
           "sequentialminus": [
            [
             0,
             "#0d0887"
            ],
            [
             0.1111111111111111,
             "#46039f"
            ],
            [
             0.2222222222222222,
             "#7201a8"
            ],
            [
             0.3333333333333333,
             "#9c179e"
            ],
            [
             0.4444444444444444,
             "#bd3786"
            ],
            [
             0.5555555555555556,
             "#d8576b"
            ],
            [
             0.6666666666666666,
             "#ed7953"
            ],
            [
             0.7777777777777778,
             "#fb9f3a"
            ],
            [
             0.8888888888888888,
             "#fdca26"
            ],
            [
             1,
             "#f0f921"
            ]
           ]
          },
          "colorway": [
           "#636efa",
           "#EF553B",
           "#00cc96",
           "#ab63fa",
           "#FFA15A",
           "#19d3f3",
           "#FF6692",
           "#B6E880",
           "#FF97FF",
           "#FECB52"
          ],
          "font": {
           "color": "#2a3f5f"
          },
          "geo": {
           "bgcolor": "white",
           "lakecolor": "white",
           "landcolor": "#E5ECF6",
           "showlakes": true,
           "showland": true,
           "subunitcolor": "white"
          },
          "hoverlabel": {
           "align": "left"
          },
          "hovermode": "closest",
          "mapbox": {
           "style": "light"
          },
          "paper_bgcolor": "white",
          "plot_bgcolor": "#E5ECF6",
          "polar": {
           "angularaxis": {
            "gridcolor": "white",
            "linecolor": "white",
            "ticks": ""
           },
           "bgcolor": "#E5ECF6",
           "radialaxis": {
            "gridcolor": "white",
            "linecolor": "white",
            "ticks": ""
           }
          },
          "scene": {
           "xaxis": {
            "backgroundcolor": "#E5ECF6",
            "gridcolor": "white",
            "gridwidth": 2,
            "linecolor": "white",
            "showbackground": true,
            "ticks": "",
            "zerolinecolor": "white"
           },
           "yaxis": {
            "backgroundcolor": "#E5ECF6",
            "gridcolor": "white",
            "gridwidth": 2,
            "linecolor": "white",
            "showbackground": true,
            "ticks": "",
            "zerolinecolor": "white"
           },
           "zaxis": {
            "backgroundcolor": "#E5ECF6",
            "gridcolor": "white",
            "gridwidth": 2,
            "linecolor": "white",
            "showbackground": true,
            "ticks": "",
            "zerolinecolor": "white"
           }
          },
          "shapedefaults": {
           "line": {
            "color": "#2a3f5f"
           }
          },
          "ternary": {
           "aaxis": {
            "gridcolor": "white",
            "linecolor": "white",
            "ticks": ""
           },
           "baxis": {
            "gridcolor": "white",
            "linecolor": "white",
            "ticks": ""
           },
           "bgcolor": "#E5ECF6",
           "caxis": {
            "gridcolor": "white",
            "linecolor": "white",
            "ticks": ""
           }
          },
          "title": {
           "x": 0.05
          },
          "xaxis": {
           "automargin": true,
           "gridcolor": "white",
           "linecolor": "white",
           "ticks": "",
           "title": {
            "standoff": 15
           },
           "zerolinecolor": "white",
           "zerolinewidth": 2
          },
          "yaxis": {
           "automargin": true,
           "gridcolor": "white",
           "linecolor": "white",
           "ticks": "",
           "title": {
            "standoff": 15
           },
           "zerolinecolor": "white",
           "zerolinewidth": 2
          }
         }
        },
        "title": {
         "font": {
          "color": "#4D5663"
         }
        },
        "xaxis": {
         "gridcolor": "#E1E5ED",
         "showgrid": true,
         "tickfont": {
          "color": "#4D5663"
         },
         "title": {
          "font": {
           "color": "#4D5663"
          },
          "text": ""
         },
         "zerolinecolor": "#E1E5ED"
        },
        "yaxis": {
         "gridcolor": "#E1E5ED",
         "showgrid": true,
         "tickfont": {
          "color": "#4D5663"
         },
         "title": {
          "font": {
           "color": "#4D5663"
          },
          "text": ""
         },
         "zerolinecolor": "#E1E5ED"
        }
       }
      },
      "text/html": [
       "<div>                            <div id=\"41be3cf3-8339-410f-ba41-f324bc5a374d\" class=\"plotly-graph-div\" style=\"height:525px; width:100%;\"></div>            <script type=\"text/javascript\">                require([\"plotly\"], function(Plotly) {                    window.PLOTLYENV=window.PLOTLYENV || {};\n",
       "                    window.PLOTLYENV.BASE_URL='https://plot.ly';                                    if (document.getElementById(\"41be3cf3-8339-410f-ba41-f324bc5a374d\")) {                    Plotly.newPlot(                        \"41be3cf3-8339-410f-ba41-f324bc5a374d\",                        [{\"boxpoints\":false,\"line\":{\"width\":1.3},\"marker\":{\"color\":\"rgba(255, 153, 51, 1.0)\"},\"name\":\"A\",\"orientation\":\"v\",\"y\":[0.09386654377961644,-1.139004671822801,-0.23367563378421577,-0.8178321802841402,-1.1386693772818866,-1.6933602772163847,-0.340882409868143,-0.351551967954869,1.0758340774178499,-0.787595569821493,-0.4591133299503853,0.6345527442690106,-0.0835497443856339,0.8184263799228679,2.3301004445919853,-1.7842568978947762,1.2519772540173484,-0.6878146559815548,0.9635311160123031,-1.8983326215126495,2.1261591546867598,0.8941929951060387,0.1993320335310691,1.458215627439701,1.4694761919905903,-0.15252157482332396,-0.07148794668059787,-0.7635578591458244,-0.615900797268425,1.7053678572999516,-2.7292138631298317,0.933668525563834,-0.15968170111604396,0.7028590284260958,-1.1066058899225693,0.1619239233677905,0.2696690872716977,-0.8220265893588786,-0.33645552246354093,-0.07621137756404667,0.13301168100033228,-1.8700761206942498,0.0027439163561086524,1.2737410558275717,2.650550647922217,0.16841290963442426,-0.14149905735278132,-0.9644995305255604,-1.2604272026237753,0.319347044132876,0.56899546075684,1.241070964776888,-2.631068877305108,0.6652088306271956,-0.1867782110110191,-1.1025950775762114,-1.0816166208111249,0.28279051004301603,0.22548470390457245,-1.0921356640494668,-0.21652925585167312,1.2433709974704996,-3.1345566857767975,-1.4382763214819527,-1.1285833645782766,-1.2296014908982091,-1.7346476621463802,-0.9222160955908932,-0.1732327426597853,0.2976568213768825,0.7990801597704285,-0.15030976242435307,-0.9146846787912161,1.283925952969555,0.013167437974883985,1.0127366895351093,0.4891948168208888,0.42369269963044137,1.33102509023086,-1.370552114637446,-0.714767518480121,0.3750615806094237,0.5341559704135873,1.5619388793042077,-1.8508306253213733,1.3370419329169922,-0.7280235070437202,-1.1633069457494016,-0.5492177107383946,-0.5021165530681923,1.3629234752007997,1.2230320992696806,-0.5100791299765235,-2.621920527501423,-0.7654463508855776,1.497549637995718,-0.35601407564263093,1.8455499737402132,0.12220185490031459,-0.8450536569754781],\"type\":\"box\"},{\"boxpoints\":false,\"line\":{\"width\":1.3},\"marker\":{\"color\":\"rgba(55, 128, 191, 1.0)\"},\"name\":\"B\",\"orientation\":\"v\",\"y\":[1.1340353607997995,0.013006465258081384,-1.4544113520150583,0.07672868747175726,0.48391889321947923,1.194788934202027,0.22468133183006384,0.12551098479531267,-0.27451552388284617,2.0356034926737436,0.7173123445309864,0.7932955472950777,-0.41502003783564156,0.3893140303258917,0.6193349803483303,-0.7866532286313116,1.3277002978859909,1.5560353033408851,-0.7637079816569204,1.4955257362466297,-1.3157860680447728,0.4814511617674176,-0.6261436350263004,-0.04619684870672389,0.9371898406188366,-0.5989093165454566,0.0062151920303784285,-0.6020029731603319,-2.208256297298656,0.7399894254410262,1.0860142458716426,-1.21065622295551,-0.09588287071653072,-1.2263598161115243,1.8299597122438265,-0.11413820163249909,-0.06935353377663811,1.5166820871775397,1.1795924483053237,-1.6027402892601654,0.12794276660807943,1.516455861068911,2.5031970959043703,-0.67197527259152,-0.729446552836332,-0.03227595217765168,0.6382184051655801,0.7079866983022988,-0.4630846645711651,-0.12042104592526794,0.818865391037555,-0.00456154244896449,-0.1454955215538559,0.82370762397494,1.1263911654451604,0.6957075242555208,-0.8809740163523293,0.13402287027597873,0.014942003469062437,0.5804442219882356,0.9941911200090845,0.7290166511006079,-0.19075826249149594,-0.3918900162987637,1.333464552078728,-0.14873129227566592,-2.705689931089558,-0.7259691233913627,1.0168910947228955,0.7873734558033054,0.026171372184366572,0.12996314877041218,1.6580005079219238,-0.44171738051397963,-0.0213341973283803,1.0895618776272844,-1.4783218403668337,-0.8051304132435134,0.9531400624960661,0.8574565198195986,1.267699008904015,-1.0931040378118888,0.5145903925372172,0.7628372620473755,-0.6581011595882967,1.2632260819909658,-1.2555456014903983,-0.9356552111274646,-0.3691646696574371,0.3709105437574881,1.0912030100326888,-0.9904125304371655,-1.2409751278186256,1.2795751598938199,1.0106178022864407,-0.03939033921404506,2.7754656697884035,-0.3644327979796833,1.5226149656513353,-1.5568377097308161],\"type\":\"box\"},{\"boxpoints\":false,\"line\":{\"width\":1.3},\"marker\":{\"color\":\"rgba(50, 171, 96, 1.0)\"},\"name\":\"C\",\"orientation\":\"v\",\"y\":[-0.33282780587095806,-1.5448452376166364,0.6228685924793956,0.8093687828306709,0.7190772579836001,1.0919707830866467,0.8784873880603475,-0.17819568113605488,-0.3580442357795487,2.44940806197161,-0.7560318056998703,0.8511125309822584,3.580785860876354,-1.1848213891289068,0.03906202735855334,0.9858635187960115,-0.21748323458448648,-0.5543899695384241,0.34846405568235944,-0.421910201269028,-2.1980431469511856,0.6004436342154168,-1.1338896174644981,2.357041588876008,-0.5982866014884459,1.757133388747493,-0.1417320558500775,-1.10594223484253,-1.455604064466308,0.4837748459104745,-1.1761499324913411,0.5582215826603278,-0.15298379420849662,1.6596583125489515,-1.5724077458238064,0.6215265491328936,-0.0561986409113782,0.24927014302474623,1.53543501332122,-0.055599551054791994,1.32645184759936,1.4514528477362016,-1.4847606319621105,-0.9973741476602409,1.4994912648796017,0.03419252439163247,-0.046292042915014826,1.709035841451056,0.5212967365366743,-0.131081583263683,-0.43808928803715164,1.6567970968688839,-1.5275444468745252,-0.8447896284702037,0.6578162654164579,-0.7534725970827714,-0.17285777482223505,0.35363997961509896,-1.788792436237959,-0.07162340903032188,-1.4623169456140561,0.8280825240696073,1.0835553730224157,-1.4240515666478064,-0.1341858472586976,-0.04106533170087056,-0.8051743208826985,0.6094093843827119,-0.35468964870606495,0.8603252413615008,2.6227282912468595,-0.3221728921133419,0.682400376121072,0.5149524099278576,0.2551924502028558,1.0844566358187382,1.1749552409728774,0.21926456388416293,0.04894329554338051,1.0119357918722658,1.8866860191241275,0.7805020164639119,0.8553420893921356,-0.6815036634994182,-1.014602473534048,-1.359433213823731,-0.05948954050187066,-1.1213977948174525,-0.33912696814714816,-1.0615594813679707,-0.411066444295418,2.166497474851957,-1.1134527970750354,-0.6054877059829976,0.4597533366654226,1.3290782445998464,0.012551474021747479,2.361644470059281,1.842062235156804,0.13153726714116326],\"type\":\"box\"},{\"boxpoints\":false,\"line\":{\"width\":1.3},\"marker\":{\"color\":\"rgba(128, 0, 128, 1.0)\"},\"name\":\"D\",\"orientation\":\"v\",\"y\":[0.01827674693836868,1.0312259862114281,-0.9902271317945981,-0.16952657109673888,0.0062033216943051,-0.020163977666164113,2.3254939553122944,0.784688250418403,-0.8095976935064689,1.0239361042223596,0.2120960201724168,0.2621575715402791,-1.1452357261550754,-2.150176744966233,0.2765394993371971,-0.39123864969170813,0.2606049970823336,0.6015042832534069,-0.5514447046029021,-0.33974805512263423,0.216680183299324,0.7740578412305583,-1.0581106408197496,-0.35751938655782445,0.5330389050112327,-0.46158005081539777,0.17840690735641399,-0.6625416623280843,0.38018466056836453,0.4847453775361481,-0.40452462836788083,0.7552367436336933,-0.5077675008072585,-0.13190226967138116,-0.3540764598406436,-0.36783435662119446,-0.3109370276173948,-1.0402771302704863,-1.3233540770350818,-0.9192426180694927,0.8587158823666327,-0.23733506108086794,-0.23023750991260766,0.76676620980785,-0.1581247958407638,-0.433504732896152,0.7315424536761489,0.726930646383536,1.1212649896971638,-0.30457026718549485,0.9492317484898695,-0.21113086866262615,1.0813108185118336,-0.5118880977698083,-0.3633732719562493,-0.7404551690859538,-1.1163057385564539,-0.7764959457234427,0.9552538822346441,-1.6501600320522556,0.8167022906270849,1.235473115067319,-0.2621304196056136,0.11186254307160247,1.7258513451699313,-0.3213869516737532,-0.6202949993605799,0.8439360896123422,-0.10386141197968152,1.653179103833251,0.31266756089648384,0.2623359432631791,-1.7097107400981206,-0.8900201035182636,0.413098861904276,-0.19806085942231758,1.8495416953003254,-0.2750288197965949,1.9050418541721095,1.4824729393772311,0.42477045373379674,0.5980783105289387,2.592541217628275,-1.1075789953915745,0.4145263543464033,0.0928350788536731,-1.68020796491302,0.0801443799603643,-0.21061732710712458,-1.038464987467301,-1.2024562570004007,-0.04100670824841796,-1.2368029460923655,0.30807983717780674,0.13785700001936516,-1.3441352328835554,0.48926231283611604,0.41798750518199207,-0.1372713308913042,0.21910304193782737],\"type\":\"box\"}],                        {\"legend\":{\"bgcolor\":\"#F5F6F9\",\"font\":{\"color\":\"#4D5663\"}},\"paper_bgcolor\":\"#F5F6F9\",\"plot_bgcolor\":\"#F5F6F9\",\"template\":{\"data\":{\"barpolar\":[{\"marker\":{\"line\":{\"color\":\"#E5ECF6\",\"width\":0.5},\"pattern\":{\"fillmode\":\"overlay\",\"size\":10,\"solidity\":0.2}},\"type\":\"barpolar\"}],\"bar\":[{\"error_x\":{\"color\":\"#2a3f5f\"},\"error_y\":{\"color\":\"#2a3f5f\"},\"marker\":{\"line\":{\"color\":\"#E5ECF6\",\"width\":0.5},\"pattern\":{\"fillmode\":\"overlay\",\"size\":10,\"solidity\":0.2}},\"type\":\"bar\"}],\"carpet\":[{\"aaxis\":{\"endlinecolor\":\"#2a3f5f\",\"gridcolor\":\"white\",\"linecolor\":\"white\",\"minorgridcolor\":\"white\",\"startlinecolor\":\"#2a3f5f\"},\"baxis\":{\"endlinecolor\":\"#2a3f5f\",\"gridcolor\":\"white\",\"linecolor\":\"white\",\"minorgridcolor\":\"white\",\"startlinecolor\":\"#2a3f5f\"},\"type\":\"carpet\"}],\"choropleth\":[{\"colorbar\":{\"outlinewidth\":0,\"ticks\":\"\"},\"type\":\"choropleth\"}],\"contourcarpet\":[{\"colorbar\":{\"outlinewidth\":0,\"ticks\":\"\"},\"type\":\"contourcarpet\"}],\"contour\":[{\"colorbar\":{\"outlinewidth\":0,\"ticks\":\"\"},\"colorscale\":[[0.0,\"#0d0887\"],[0.1111111111111111,\"#46039f\"],[0.2222222222222222,\"#7201a8\"],[0.3333333333333333,\"#9c179e\"],[0.4444444444444444,\"#bd3786\"],[0.5555555555555556,\"#d8576b\"],[0.6666666666666666,\"#ed7953\"],[0.7777777777777778,\"#fb9f3a\"],[0.8888888888888888,\"#fdca26\"],[1.0,\"#f0f921\"]],\"type\":\"contour\"}],\"heatmapgl\":[{\"colorbar\":{\"outlinewidth\":0,\"ticks\":\"\"},\"colorscale\":[[0.0,\"#0d0887\"],[0.1111111111111111,\"#46039f\"],[0.2222222222222222,\"#7201a8\"],[0.3333333333333333,\"#9c179e\"],[0.4444444444444444,\"#bd3786\"],[0.5555555555555556,\"#d8576b\"],[0.6666666666666666,\"#ed7953\"],[0.7777777777777778,\"#fb9f3a\"],[0.8888888888888888,\"#fdca26\"],[1.0,\"#f0f921\"]],\"type\":\"heatmapgl\"}],\"heatmap\":[{\"colorbar\":{\"outlinewidth\":0,\"ticks\":\"\"},\"colorscale\":[[0.0,\"#0d0887\"],[0.1111111111111111,\"#46039f\"],[0.2222222222222222,\"#7201a8\"],[0.3333333333333333,\"#9c179e\"],[0.4444444444444444,\"#bd3786\"],[0.5555555555555556,\"#d8576b\"],[0.6666666666666666,\"#ed7953\"],[0.7777777777777778,\"#fb9f3a\"],[0.8888888888888888,\"#fdca26\"],[1.0,\"#f0f921\"]],\"type\":\"heatmap\"}],\"histogram2dcontour\":[{\"colorbar\":{\"outlinewidth\":0,\"ticks\":\"\"},\"colorscale\":[[0.0,\"#0d0887\"],[0.1111111111111111,\"#46039f\"],[0.2222222222222222,\"#7201a8\"],[0.3333333333333333,\"#9c179e\"],[0.4444444444444444,\"#bd3786\"],[0.5555555555555556,\"#d8576b\"],[0.6666666666666666,\"#ed7953\"],[0.7777777777777778,\"#fb9f3a\"],[0.8888888888888888,\"#fdca26\"],[1.0,\"#f0f921\"]],\"type\":\"histogram2dcontour\"}],\"histogram2d\":[{\"colorbar\":{\"outlinewidth\":0,\"ticks\":\"\"},\"colorscale\":[[0.0,\"#0d0887\"],[0.1111111111111111,\"#46039f\"],[0.2222222222222222,\"#7201a8\"],[0.3333333333333333,\"#9c179e\"],[0.4444444444444444,\"#bd3786\"],[0.5555555555555556,\"#d8576b\"],[0.6666666666666666,\"#ed7953\"],[0.7777777777777778,\"#fb9f3a\"],[0.8888888888888888,\"#fdca26\"],[1.0,\"#f0f921\"]],\"type\":\"histogram2d\"}],\"histogram\":[{\"marker\":{\"pattern\":{\"fillmode\":\"overlay\",\"size\":10,\"solidity\":0.2}},\"type\":\"histogram\"}],\"mesh3d\":[{\"colorbar\":{\"outlinewidth\":0,\"ticks\":\"\"},\"type\":\"mesh3d\"}],\"parcoords\":[{\"line\":{\"colorbar\":{\"outlinewidth\":0,\"ticks\":\"\"}},\"type\":\"parcoords\"}],\"pie\":[{\"automargin\":true,\"type\":\"pie\"}],\"scatter3d\":[{\"line\":{\"colorbar\":{\"outlinewidth\":0,\"ticks\":\"\"}},\"marker\":{\"colorbar\":{\"outlinewidth\":0,\"ticks\":\"\"}},\"type\":\"scatter3d\"}],\"scattercarpet\":[{\"marker\":{\"colorbar\":{\"outlinewidth\":0,\"ticks\":\"\"}},\"type\":\"scattercarpet\"}],\"scattergeo\":[{\"marker\":{\"colorbar\":{\"outlinewidth\":0,\"ticks\":\"\"}},\"type\":\"scattergeo\"}],\"scattergl\":[{\"marker\":{\"colorbar\":{\"outlinewidth\":0,\"ticks\":\"\"}},\"type\":\"scattergl\"}],\"scattermapbox\":[{\"marker\":{\"colorbar\":{\"outlinewidth\":0,\"ticks\":\"\"}},\"type\":\"scattermapbox\"}],\"scatterpolargl\":[{\"marker\":{\"colorbar\":{\"outlinewidth\":0,\"ticks\":\"\"}},\"type\":\"scatterpolargl\"}],\"scatterpolar\":[{\"marker\":{\"colorbar\":{\"outlinewidth\":0,\"ticks\":\"\"}},\"type\":\"scatterpolar\"}],\"scatter\":[{\"marker\":{\"colorbar\":{\"outlinewidth\":0,\"ticks\":\"\"}},\"type\":\"scatter\"}],\"scatterternary\":[{\"marker\":{\"colorbar\":{\"outlinewidth\":0,\"ticks\":\"\"}},\"type\":\"scatterternary\"}],\"surface\":[{\"colorbar\":{\"outlinewidth\":0,\"ticks\":\"\"},\"colorscale\":[[0.0,\"#0d0887\"],[0.1111111111111111,\"#46039f\"],[0.2222222222222222,\"#7201a8\"],[0.3333333333333333,\"#9c179e\"],[0.4444444444444444,\"#bd3786\"],[0.5555555555555556,\"#d8576b\"],[0.6666666666666666,\"#ed7953\"],[0.7777777777777778,\"#fb9f3a\"],[0.8888888888888888,\"#fdca26\"],[1.0,\"#f0f921\"]],\"type\":\"surface\"}],\"table\":[{\"cells\":{\"fill\":{\"color\":\"#EBF0F8\"},\"line\":{\"color\":\"white\"}},\"header\":{\"fill\":{\"color\":\"#C8D4E3\"},\"line\":{\"color\":\"white\"}},\"type\":\"table\"}]},\"layout\":{\"annotationdefaults\":{\"arrowcolor\":\"#2a3f5f\",\"arrowhead\":0,\"arrowwidth\":1},\"autotypenumbers\":\"strict\",\"coloraxis\":{\"colorbar\":{\"outlinewidth\":0,\"ticks\":\"\"}},\"colorscale\":{\"diverging\":[[0,\"#8e0152\"],[0.1,\"#c51b7d\"],[0.2,\"#de77ae\"],[0.3,\"#f1b6da\"],[0.4,\"#fde0ef\"],[0.5,\"#f7f7f7\"],[0.6,\"#e6f5d0\"],[0.7,\"#b8e186\"],[0.8,\"#7fbc41\"],[0.9,\"#4d9221\"],[1,\"#276419\"]],\"sequential\":[[0.0,\"#0d0887\"],[0.1111111111111111,\"#46039f\"],[0.2222222222222222,\"#7201a8\"],[0.3333333333333333,\"#9c179e\"],[0.4444444444444444,\"#bd3786\"],[0.5555555555555556,\"#d8576b\"],[0.6666666666666666,\"#ed7953\"],[0.7777777777777778,\"#fb9f3a\"],[0.8888888888888888,\"#fdca26\"],[1.0,\"#f0f921\"]],\"sequentialminus\":[[0.0,\"#0d0887\"],[0.1111111111111111,\"#46039f\"],[0.2222222222222222,\"#7201a8\"],[0.3333333333333333,\"#9c179e\"],[0.4444444444444444,\"#bd3786\"],[0.5555555555555556,\"#d8576b\"],[0.6666666666666666,\"#ed7953\"],[0.7777777777777778,\"#fb9f3a\"],[0.8888888888888888,\"#fdca26\"],[1.0,\"#f0f921\"]]},\"colorway\":[\"#636efa\",\"#EF553B\",\"#00cc96\",\"#ab63fa\",\"#FFA15A\",\"#19d3f3\",\"#FF6692\",\"#B6E880\",\"#FF97FF\",\"#FECB52\"],\"font\":{\"color\":\"#2a3f5f\"},\"geo\":{\"bgcolor\":\"white\",\"lakecolor\":\"white\",\"landcolor\":\"#E5ECF6\",\"showlakes\":true,\"showland\":true,\"subunitcolor\":\"white\"},\"hoverlabel\":{\"align\":\"left\"},\"hovermode\":\"closest\",\"mapbox\":{\"style\":\"light\"},\"paper_bgcolor\":\"white\",\"plot_bgcolor\":\"#E5ECF6\",\"polar\":{\"angularaxis\":{\"gridcolor\":\"white\",\"linecolor\":\"white\",\"ticks\":\"\"},\"bgcolor\":\"#E5ECF6\",\"radialaxis\":{\"gridcolor\":\"white\",\"linecolor\":\"white\",\"ticks\":\"\"}},\"scene\":{\"xaxis\":{\"backgroundcolor\":\"#E5ECF6\",\"gridcolor\":\"white\",\"gridwidth\":2,\"linecolor\":\"white\",\"showbackground\":true,\"ticks\":\"\",\"zerolinecolor\":\"white\"},\"yaxis\":{\"backgroundcolor\":\"#E5ECF6\",\"gridcolor\":\"white\",\"gridwidth\":2,\"linecolor\":\"white\",\"showbackground\":true,\"ticks\":\"\",\"zerolinecolor\":\"white\"},\"zaxis\":{\"backgroundcolor\":\"#E5ECF6\",\"gridcolor\":\"white\",\"gridwidth\":2,\"linecolor\":\"white\",\"showbackground\":true,\"ticks\":\"\",\"zerolinecolor\":\"white\"}},\"shapedefaults\":{\"line\":{\"color\":\"#2a3f5f\"}},\"ternary\":{\"aaxis\":{\"gridcolor\":\"white\",\"linecolor\":\"white\",\"ticks\":\"\"},\"baxis\":{\"gridcolor\":\"white\",\"linecolor\":\"white\",\"ticks\":\"\"},\"bgcolor\":\"#E5ECF6\",\"caxis\":{\"gridcolor\":\"white\",\"linecolor\":\"white\",\"ticks\":\"\"}},\"title\":{\"x\":0.05},\"xaxis\":{\"automargin\":true,\"gridcolor\":\"white\",\"linecolor\":\"white\",\"ticks\":\"\",\"title\":{\"standoff\":15},\"zerolinecolor\":\"white\",\"zerolinewidth\":2},\"yaxis\":{\"automargin\":true,\"gridcolor\":\"white\",\"linecolor\":\"white\",\"ticks\":\"\",\"title\":{\"standoff\":15},\"zerolinecolor\":\"white\",\"zerolinewidth\":2}}},\"title\":{\"font\":{\"color\":\"#4D5663\"}},\"xaxis\":{\"gridcolor\":\"#E1E5ED\",\"showgrid\":true,\"tickfont\":{\"color\":\"#4D5663\"},\"title\":{\"font\":{\"color\":\"#4D5663\"},\"text\":\"\"},\"zerolinecolor\":\"#E1E5ED\"},\"yaxis\":{\"gridcolor\":\"#E1E5ED\",\"showgrid\":true,\"tickfont\":{\"color\":\"#4D5663\"},\"title\":{\"font\":{\"color\":\"#4D5663\"},\"text\":\"\"},\"zerolinecolor\":\"#E1E5ED\"}},                        {\"showLink\": true, \"linkText\": \"Export to plot.ly\", \"plotlyServerURL\": \"https://plot.ly\", \"responsive\": true}                    ).then(function(){\n",
       "                            \n",
       "var gd = document.getElementById('41be3cf3-8339-410f-ba41-f324bc5a374d');\n",
       "var x = new MutationObserver(function (mutations, observer) {{\n",
       "        var display = window.getComputedStyle(gd).display;\n",
       "        if (!display || display === 'none') {{\n",
       "            console.log([gd, 'removed!']);\n",
       "            Plotly.purge(gd);\n",
       "            observer.disconnect();\n",
       "        }}\n",
       "}});\n",
       "\n",
       "// Listen for the removal of the full notebook cells\n",
       "var notebookContainer = gd.closest('#notebook-container');\n",
       "if (notebookContainer) {{\n",
       "    x.observe(notebookContainer, {childList: true});\n",
       "}}\n",
       "\n",
       "// Listen for the clearing of the current output cell\n",
       "var outputEl = gd.closest('.output');\n",
       "if (outputEl) {{\n",
       "    x.observe(outputEl, {childList: true});\n",
       "}}\n",
       "\n",
       "                        })                };                });            </script>        </div>"
      ]
     },
     "metadata": {},
     "output_type": "display_data"
    }
   ],
   "source": [
    "df.iplot(kind='box')"
   ]
  },
  {
   "cell_type": "markdown",
   "metadata": {},
   "source": [
    "## Superfícies 3D"
   ]
  },
  {
   "cell_type": "code",
   "execution_count": 14,
   "metadata": {},
   "outputs": [
    {
     "data": {
      "application/vnd.plotly.v1+json": {
       "config": {
        "linkText": "Export to plot.ly",
        "plotlyServerURL": "https://plot.ly",
        "showLink": true
       },
       "data": [
        {
         "colorscale": [
          [
           0,
           "rgb(165,0,38)"
          ],
          [
           0.1,
           "rgb(215,48,39)"
          ],
          [
           0.2,
           "rgb(244,109,67)"
          ],
          [
           0.3,
           "rgb(253,174,97)"
          ],
          [
           0.4,
           "rgb(254,224,144)"
          ],
          [
           0.5,
           "rgb(255,255,191)"
          ],
          [
           0.6,
           "rgb(224,243,248)"
          ],
          [
           0.7,
           "rgb(171,217,233)"
          ],
          [
           0.8,
           "rgb(116,173,209)"
          ],
          [
           0.9,
           "rgb(69,117,180)"
          ],
          [
           1,
           "rgb(49,54,149)"
          ]
         ],
         "type": "surface",
         "x": [
          0,
          1,
          2,
          3,
          4
         ],
         "y": [
          "x",
          "y",
          "z"
         ],
         "z": [
          [
           1,
           2,
           3,
           4,
           5
          ],
          [
           10,
           20,
           30,
           20,
           10
          ],
          [
           5,
           4,
           3,
           2,
           1
          ]
         ]
        }
       ],
       "layout": {
        "legend": {
         "bgcolor": "#F5F6F9",
         "font": {
          "color": "#4D5663"
         }
        },
        "paper_bgcolor": "#F5F6F9",
        "plot_bgcolor": "#F5F6F9",
        "template": {
         "data": {
          "bar": [
           {
            "error_x": {
             "color": "#2a3f5f"
            },
            "error_y": {
             "color": "#2a3f5f"
            },
            "marker": {
             "line": {
              "color": "#E5ECF6",
              "width": 0.5
             },
             "pattern": {
              "fillmode": "overlay",
              "size": 10,
              "solidity": 0.2
             }
            },
            "type": "bar"
           }
          ],
          "barpolar": [
           {
            "marker": {
             "line": {
              "color": "#E5ECF6",
              "width": 0.5
             },
             "pattern": {
              "fillmode": "overlay",
              "size": 10,
              "solidity": 0.2
             }
            },
            "type": "barpolar"
           }
          ],
          "carpet": [
           {
            "aaxis": {
             "endlinecolor": "#2a3f5f",
             "gridcolor": "white",
             "linecolor": "white",
             "minorgridcolor": "white",
             "startlinecolor": "#2a3f5f"
            },
            "baxis": {
             "endlinecolor": "#2a3f5f",
             "gridcolor": "white",
             "linecolor": "white",
             "minorgridcolor": "white",
             "startlinecolor": "#2a3f5f"
            },
            "type": "carpet"
           }
          ],
          "choropleth": [
           {
            "colorbar": {
             "outlinewidth": 0,
             "ticks": ""
            },
            "type": "choropleth"
           }
          ],
          "contour": [
           {
            "colorbar": {
             "outlinewidth": 0,
             "ticks": ""
            },
            "colorscale": [
             [
              0,
              "#0d0887"
             ],
             [
              0.1111111111111111,
              "#46039f"
             ],
             [
              0.2222222222222222,
              "#7201a8"
             ],
             [
              0.3333333333333333,
              "#9c179e"
             ],
             [
              0.4444444444444444,
              "#bd3786"
             ],
             [
              0.5555555555555556,
              "#d8576b"
             ],
             [
              0.6666666666666666,
              "#ed7953"
             ],
             [
              0.7777777777777778,
              "#fb9f3a"
             ],
             [
              0.8888888888888888,
              "#fdca26"
             ],
             [
              1,
              "#f0f921"
             ]
            ],
            "type": "contour"
           }
          ],
          "contourcarpet": [
           {
            "colorbar": {
             "outlinewidth": 0,
             "ticks": ""
            },
            "type": "contourcarpet"
           }
          ],
          "heatmap": [
           {
            "colorbar": {
             "outlinewidth": 0,
             "ticks": ""
            },
            "colorscale": [
             [
              0,
              "#0d0887"
             ],
             [
              0.1111111111111111,
              "#46039f"
             ],
             [
              0.2222222222222222,
              "#7201a8"
             ],
             [
              0.3333333333333333,
              "#9c179e"
             ],
             [
              0.4444444444444444,
              "#bd3786"
             ],
             [
              0.5555555555555556,
              "#d8576b"
             ],
             [
              0.6666666666666666,
              "#ed7953"
             ],
             [
              0.7777777777777778,
              "#fb9f3a"
             ],
             [
              0.8888888888888888,
              "#fdca26"
             ],
             [
              1,
              "#f0f921"
             ]
            ],
            "type": "heatmap"
           }
          ],
          "heatmapgl": [
           {
            "colorbar": {
             "outlinewidth": 0,
             "ticks": ""
            },
            "colorscale": [
             [
              0,
              "#0d0887"
             ],
             [
              0.1111111111111111,
              "#46039f"
             ],
             [
              0.2222222222222222,
              "#7201a8"
             ],
             [
              0.3333333333333333,
              "#9c179e"
             ],
             [
              0.4444444444444444,
              "#bd3786"
             ],
             [
              0.5555555555555556,
              "#d8576b"
             ],
             [
              0.6666666666666666,
              "#ed7953"
             ],
             [
              0.7777777777777778,
              "#fb9f3a"
             ],
             [
              0.8888888888888888,
              "#fdca26"
             ],
             [
              1,
              "#f0f921"
             ]
            ],
            "type": "heatmapgl"
           }
          ],
          "histogram": [
           {
            "marker": {
             "pattern": {
              "fillmode": "overlay",
              "size": 10,
              "solidity": 0.2
             }
            },
            "type": "histogram"
           }
          ],
          "histogram2d": [
           {
            "colorbar": {
             "outlinewidth": 0,
             "ticks": ""
            },
            "colorscale": [
             [
              0,
              "#0d0887"
             ],
             [
              0.1111111111111111,
              "#46039f"
             ],
             [
              0.2222222222222222,
              "#7201a8"
             ],
             [
              0.3333333333333333,
              "#9c179e"
             ],
             [
              0.4444444444444444,
              "#bd3786"
             ],
             [
              0.5555555555555556,
              "#d8576b"
             ],
             [
              0.6666666666666666,
              "#ed7953"
             ],
             [
              0.7777777777777778,
              "#fb9f3a"
             ],
             [
              0.8888888888888888,
              "#fdca26"
             ],
             [
              1,
              "#f0f921"
             ]
            ],
            "type": "histogram2d"
           }
          ],
          "histogram2dcontour": [
           {
            "colorbar": {
             "outlinewidth": 0,
             "ticks": ""
            },
            "colorscale": [
             [
              0,
              "#0d0887"
             ],
             [
              0.1111111111111111,
              "#46039f"
             ],
             [
              0.2222222222222222,
              "#7201a8"
             ],
             [
              0.3333333333333333,
              "#9c179e"
             ],
             [
              0.4444444444444444,
              "#bd3786"
             ],
             [
              0.5555555555555556,
              "#d8576b"
             ],
             [
              0.6666666666666666,
              "#ed7953"
             ],
             [
              0.7777777777777778,
              "#fb9f3a"
             ],
             [
              0.8888888888888888,
              "#fdca26"
             ],
             [
              1,
              "#f0f921"
             ]
            ],
            "type": "histogram2dcontour"
           }
          ],
          "mesh3d": [
           {
            "colorbar": {
             "outlinewidth": 0,
             "ticks": ""
            },
            "type": "mesh3d"
           }
          ],
          "parcoords": [
           {
            "line": {
             "colorbar": {
              "outlinewidth": 0,
              "ticks": ""
             }
            },
            "type": "parcoords"
           }
          ],
          "pie": [
           {
            "automargin": true,
            "type": "pie"
           }
          ],
          "scatter": [
           {
            "marker": {
             "colorbar": {
              "outlinewidth": 0,
              "ticks": ""
             }
            },
            "type": "scatter"
           }
          ],
          "scatter3d": [
           {
            "line": {
             "colorbar": {
              "outlinewidth": 0,
              "ticks": ""
             }
            },
            "marker": {
             "colorbar": {
              "outlinewidth": 0,
              "ticks": ""
             }
            },
            "type": "scatter3d"
           }
          ],
          "scattercarpet": [
           {
            "marker": {
             "colorbar": {
              "outlinewidth": 0,
              "ticks": ""
             }
            },
            "type": "scattercarpet"
           }
          ],
          "scattergeo": [
           {
            "marker": {
             "colorbar": {
              "outlinewidth": 0,
              "ticks": ""
             }
            },
            "type": "scattergeo"
           }
          ],
          "scattergl": [
           {
            "marker": {
             "colorbar": {
              "outlinewidth": 0,
              "ticks": ""
             }
            },
            "type": "scattergl"
           }
          ],
          "scattermapbox": [
           {
            "marker": {
             "colorbar": {
              "outlinewidth": 0,
              "ticks": ""
             }
            },
            "type": "scattermapbox"
           }
          ],
          "scatterpolar": [
           {
            "marker": {
             "colorbar": {
              "outlinewidth": 0,
              "ticks": ""
             }
            },
            "type": "scatterpolar"
           }
          ],
          "scatterpolargl": [
           {
            "marker": {
             "colorbar": {
              "outlinewidth": 0,
              "ticks": ""
             }
            },
            "type": "scatterpolargl"
           }
          ],
          "scatterternary": [
           {
            "marker": {
             "colorbar": {
              "outlinewidth": 0,
              "ticks": ""
             }
            },
            "type": "scatterternary"
           }
          ],
          "surface": [
           {
            "colorbar": {
             "outlinewidth": 0,
             "ticks": ""
            },
            "colorscale": [
             [
              0,
              "#0d0887"
             ],
             [
              0.1111111111111111,
              "#46039f"
             ],
             [
              0.2222222222222222,
              "#7201a8"
             ],
             [
              0.3333333333333333,
              "#9c179e"
             ],
             [
              0.4444444444444444,
              "#bd3786"
             ],
             [
              0.5555555555555556,
              "#d8576b"
             ],
             [
              0.6666666666666666,
              "#ed7953"
             ],
             [
              0.7777777777777778,
              "#fb9f3a"
             ],
             [
              0.8888888888888888,
              "#fdca26"
             ],
             [
              1,
              "#f0f921"
             ]
            ],
            "type": "surface"
           }
          ],
          "table": [
           {
            "cells": {
             "fill": {
              "color": "#EBF0F8"
             },
             "line": {
              "color": "white"
             }
            },
            "header": {
             "fill": {
              "color": "#C8D4E3"
             },
             "line": {
              "color": "white"
             }
            },
            "type": "table"
           }
          ]
         },
         "layout": {
          "annotationdefaults": {
           "arrowcolor": "#2a3f5f",
           "arrowhead": 0,
           "arrowwidth": 1
          },
          "autotypenumbers": "strict",
          "coloraxis": {
           "colorbar": {
            "outlinewidth": 0,
            "ticks": ""
           }
          },
          "colorscale": {
           "diverging": [
            [
             0,
             "#8e0152"
            ],
            [
             0.1,
             "#c51b7d"
            ],
            [
             0.2,
             "#de77ae"
            ],
            [
             0.3,
             "#f1b6da"
            ],
            [
             0.4,
             "#fde0ef"
            ],
            [
             0.5,
             "#f7f7f7"
            ],
            [
             0.6,
             "#e6f5d0"
            ],
            [
             0.7,
             "#b8e186"
            ],
            [
             0.8,
             "#7fbc41"
            ],
            [
             0.9,
             "#4d9221"
            ],
            [
             1,
             "#276419"
            ]
           ],
           "sequential": [
            [
             0,
             "#0d0887"
            ],
            [
             0.1111111111111111,
             "#46039f"
            ],
            [
             0.2222222222222222,
             "#7201a8"
            ],
            [
             0.3333333333333333,
             "#9c179e"
            ],
            [
             0.4444444444444444,
             "#bd3786"
            ],
            [
             0.5555555555555556,
             "#d8576b"
            ],
            [
             0.6666666666666666,
             "#ed7953"
            ],
            [
             0.7777777777777778,
             "#fb9f3a"
            ],
            [
             0.8888888888888888,
             "#fdca26"
            ],
            [
             1,
             "#f0f921"
            ]
           ],
           "sequentialminus": [
            [
             0,
             "#0d0887"
            ],
            [
             0.1111111111111111,
             "#46039f"
            ],
            [
             0.2222222222222222,
             "#7201a8"
            ],
            [
             0.3333333333333333,
             "#9c179e"
            ],
            [
             0.4444444444444444,
             "#bd3786"
            ],
            [
             0.5555555555555556,
             "#d8576b"
            ],
            [
             0.6666666666666666,
             "#ed7953"
            ],
            [
             0.7777777777777778,
             "#fb9f3a"
            ],
            [
             0.8888888888888888,
             "#fdca26"
            ],
            [
             1,
             "#f0f921"
            ]
           ]
          },
          "colorway": [
           "#636efa",
           "#EF553B",
           "#00cc96",
           "#ab63fa",
           "#FFA15A",
           "#19d3f3",
           "#FF6692",
           "#B6E880",
           "#FF97FF",
           "#FECB52"
          ],
          "font": {
           "color": "#2a3f5f"
          },
          "geo": {
           "bgcolor": "white",
           "lakecolor": "white",
           "landcolor": "#E5ECF6",
           "showlakes": true,
           "showland": true,
           "subunitcolor": "white"
          },
          "hoverlabel": {
           "align": "left"
          },
          "hovermode": "closest",
          "mapbox": {
           "style": "light"
          },
          "paper_bgcolor": "white",
          "plot_bgcolor": "#E5ECF6",
          "polar": {
           "angularaxis": {
            "gridcolor": "white",
            "linecolor": "white",
            "ticks": ""
           },
           "bgcolor": "#E5ECF6",
           "radialaxis": {
            "gridcolor": "white",
            "linecolor": "white",
            "ticks": ""
           }
          },
          "scene": {
           "xaxis": {
            "backgroundcolor": "#E5ECF6",
            "gridcolor": "white",
            "gridwidth": 2,
            "linecolor": "white",
            "showbackground": true,
            "ticks": "",
            "zerolinecolor": "white"
           },
           "yaxis": {
            "backgroundcolor": "#E5ECF6",
            "gridcolor": "white",
            "gridwidth": 2,
            "linecolor": "white",
            "showbackground": true,
            "ticks": "",
            "zerolinecolor": "white"
           },
           "zaxis": {
            "backgroundcolor": "#E5ECF6",
            "gridcolor": "white",
            "gridwidth": 2,
            "linecolor": "white",
            "showbackground": true,
            "ticks": "",
            "zerolinecolor": "white"
           }
          },
          "shapedefaults": {
           "line": {
            "color": "#2a3f5f"
           }
          },
          "ternary": {
           "aaxis": {
            "gridcolor": "white",
            "linecolor": "white",
            "ticks": ""
           },
           "baxis": {
            "gridcolor": "white",
            "linecolor": "white",
            "ticks": ""
           },
           "bgcolor": "#E5ECF6",
           "caxis": {
            "gridcolor": "white",
            "linecolor": "white",
            "ticks": ""
           }
          },
          "title": {
           "x": 0.05
          },
          "xaxis": {
           "automargin": true,
           "gridcolor": "white",
           "linecolor": "white",
           "ticks": "",
           "title": {
            "standoff": 15
           },
           "zerolinecolor": "white",
           "zerolinewidth": 2
          },
          "yaxis": {
           "automargin": true,
           "gridcolor": "white",
           "linecolor": "white",
           "ticks": "",
           "title": {
            "standoff": 15
           },
           "zerolinecolor": "white",
           "zerolinewidth": 2
          }
         }
        },
        "title": {
         "font": {
          "color": "#4D5663"
         }
        },
        "xaxis": {
         "gridcolor": "#E1E5ED",
         "showgrid": true,
         "tickfont": {
          "color": "#4D5663"
         },
         "title": {
          "font": {
           "color": "#4D5663"
          },
          "text": ""
         },
         "zerolinecolor": "#E1E5ED"
        },
        "yaxis": {
         "gridcolor": "#E1E5ED",
         "showgrid": true,
         "tickfont": {
          "color": "#4D5663"
         },
         "title": {
          "font": {
           "color": "#4D5663"
          },
          "text": ""
         },
         "zerolinecolor": "#E1E5ED"
        }
       }
      },
      "text/html": [
       "<div>                            <div id=\"8ef184d3-46dd-436b-be49-0f5da269c417\" class=\"plotly-graph-div\" style=\"height:525px; width:100%;\"></div>            <script type=\"text/javascript\">                require([\"plotly\"], function(Plotly) {                    window.PLOTLYENV=window.PLOTLYENV || {};\n",
       "                    window.PLOTLYENV.BASE_URL='https://plot.ly';                                    if (document.getElementById(\"8ef184d3-46dd-436b-be49-0f5da269c417\")) {                    Plotly.newPlot(                        \"8ef184d3-46dd-436b-be49-0f5da269c417\",                        [{\"colorscale\":[[0.0,\"rgb(165,0,38)\"],[0.1,\"rgb(215,48,39)\"],[0.2,\"rgb(244,109,67)\"],[0.3,\"rgb(253,174,97)\"],[0.4,\"rgb(254,224,144)\"],[0.5,\"rgb(255,255,191)\"],[0.6,\"rgb(224,243,248)\"],[0.7,\"rgb(171,217,233)\"],[0.8,\"rgb(116,173,209)\"],[0.9,\"rgb(69,117,180)\"],[1.0,\"rgb(49,54,149)\"]],\"x\":[0,1,2,3,4],\"y\":[\"x\",\"y\",\"z\"],\"z\":[[1,2,3,4,5],[10,20,30,20,10],[5,4,3,2,1]],\"type\":\"surface\"}],                        {\"legend\":{\"bgcolor\":\"#F5F6F9\",\"font\":{\"color\":\"#4D5663\"}},\"paper_bgcolor\":\"#F5F6F9\",\"plot_bgcolor\":\"#F5F6F9\",\"template\":{\"data\":{\"barpolar\":[{\"marker\":{\"line\":{\"color\":\"#E5ECF6\",\"width\":0.5},\"pattern\":{\"fillmode\":\"overlay\",\"size\":10,\"solidity\":0.2}},\"type\":\"barpolar\"}],\"bar\":[{\"error_x\":{\"color\":\"#2a3f5f\"},\"error_y\":{\"color\":\"#2a3f5f\"},\"marker\":{\"line\":{\"color\":\"#E5ECF6\",\"width\":0.5},\"pattern\":{\"fillmode\":\"overlay\",\"size\":10,\"solidity\":0.2}},\"type\":\"bar\"}],\"carpet\":[{\"aaxis\":{\"endlinecolor\":\"#2a3f5f\",\"gridcolor\":\"white\",\"linecolor\":\"white\",\"minorgridcolor\":\"white\",\"startlinecolor\":\"#2a3f5f\"},\"baxis\":{\"endlinecolor\":\"#2a3f5f\",\"gridcolor\":\"white\",\"linecolor\":\"white\",\"minorgridcolor\":\"white\",\"startlinecolor\":\"#2a3f5f\"},\"type\":\"carpet\"}],\"choropleth\":[{\"colorbar\":{\"outlinewidth\":0,\"ticks\":\"\"},\"type\":\"choropleth\"}],\"contourcarpet\":[{\"colorbar\":{\"outlinewidth\":0,\"ticks\":\"\"},\"type\":\"contourcarpet\"}],\"contour\":[{\"colorbar\":{\"outlinewidth\":0,\"ticks\":\"\"},\"colorscale\":[[0.0,\"#0d0887\"],[0.1111111111111111,\"#46039f\"],[0.2222222222222222,\"#7201a8\"],[0.3333333333333333,\"#9c179e\"],[0.4444444444444444,\"#bd3786\"],[0.5555555555555556,\"#d8576b\"],[0.6666666666666666,\"#ed7953\"],[0.7777777777777778,\"#fb9f3a\"],[0.8888888888888888,\"#fdca26\"],[1.0,\"#f0f921\"]],\"type\":\"contour\"}],\"heatmapgl\":[{\"colorbar\":{\"outlinewidth\":0,\"ticks\":\"\"},\"colorscale\":[[0.0,\"#0d0887\"],[0.1111111111111111,\"#46039f\"],[0.2222222222222222,\"#7201a8\"],[0.3333333333333333,\"#9c179e\"],[0.4444444444444444,\"#bd3786\"],[0.5555555555555556,\"#d8576b\"],[0.6666666666666666,\"#ed7953\"],[0.7777777777777778,\"#fb9f3a\"],[0.8888888888888888,\"#fdca26\"],[1.0,\"#f0f921\"]],\"type\":\"heatmapgl\"}],\"heatmap\":[{\"colorbar\":{\"outlinewidth\":0,\"ticks\":\"\"},\"colorscale\":[[0.0,\"#0d0887\"],[0.1111111111111111,\"#46039f\"],[0.2222222222222222,\"#7201a8\"],[0.3333333333333333,\"#9c179e\"],[0.4444444444444444,\"#bd3786\"],[0.5555555555555556,\"#d8576b\"],[0.6666666666666666,\"#ed7953\"],[0.7777777777777778,\"#fb9f3a\"],[0.8888888888888888,\"#fdca26\"],[1.0,\"#f0f921\"]],\"type\":\"heatmap\"}],\"histogram2dcontour\":[{\"colorbar\":{\"outlinewidth\":0,\"ticks\":\"\"},\"colorscale\":[[0.0,\"#0d0887\"],[0.1111111111111111,\"#46039f\"],[0.2222222222222222,\"#7201a8\"],[0.3333333333333333,\"#9c179e\"],[0.4444444444444444,\"#bd3786\"],[0.5555555555555556,\"#d8576b\"],[0.6666666666666666,\"#ed7953\"],[0.7777777777777778,\"#fb9f3a\"],[0.8888888888888888,\"#fdca26\"],[1.0,\"#f0f921\"]],\"type\":\"histogram2dcontour\"}],\"histogram2d\":[{\"colorbar\":{\"outlinewidth\":0,\"ticks\":\"\"},\"colorscale\":[[0.0,\"#0d0887\"],[0.1111111111111111,\"#46039f\"],[0.2222222222222222,\"#7201a8\"],[0.3333333333333333,\"#9c179e\"],[0.4444444444444444,\"#bd3786\"],[0.5555555555555556,\"#d8576b\"],[0.6666666666666666,\"#ed7953\"],[0.7777777777777778,\"#fb9f3a\"],[0.8888888888888888,\"#fdca26\"],[1.0,\"#f0f921\"]],\"type\":\"histogram2d\"}],\"histogram\":[{\"marker\":{\"pattern\":{\"fillmode\":\"overlay\",\"size\":10,\"solidity\":0.2}},\"type\":\"histogram\"}],\"mesh3d\":[{\"colorbar\":{\"outlinewidth\":0,\"ticks\":\"\"},\"type\":\"mesh3d\"}],\"parcoords\":[{\"line\":{\"colorbar\":{\"outlinewidth\":0,\"ticks\":\"\"}},\"type\":\"parcoords\"}],\"pie\":[{\"automargin\":true,\"type\":\"pie\"}],\"scatter3d\":[{\"line\":{\"colorbar\":{\"outlinewidth\":0,\"ticks\":\"\"}},\"marker\":{\"colorbar\":{\"outlinewidth\":0,\"ticks\":\"\"}},\"type\":\"scatter3d\"}],\"scattercarpet\":[{\"marker\":{\"colorbar\":{\"outlinewidth\":0,\"ticks\":\"\"}},\"type\":\"scattercarpet\"}],\"scattergeo\":[{\"marker\":{\"colorbar\":{\"outlinewidth\":0,\"ticks\":\"\"}},\"type\":\"scattergeo\"}],\"scattergl\":[{\"marker\":{\"colorbar\":{\"outlinewidth\":0,\"ticks\":\"\"}},\"type\":\"scattergl\"}],\"scattermapbox\":[{\"marker\":{\"colorbar\":{\"outlinewidth\":0,\"ticks\":\"\"}},\"type\":\"scattermapbox\"}],\"scatterpolargl\":[{\"marker\":{\"colorbar\":{\"outlinewidth\":0,\"ticks\":\"\"}},\"type\":\"scatterpolargl\"}],\"scatterpolar\":[{\"marker\":{\"colorbar\":{\"outlinewidth\":0,\"ticks\":\"\"}},\"type\":\"scatterpolar\"}],\"scatter\":[{\"marker\":{\"colorbar\":{\"outlinewidth\":0,\"ticks\":\"\"}},\"type\":\"scatter\"}],\"scatterternary\":[{\"marker\":{\"colorbar\":{\"outlinewidth\":0,\"ticks\":\"\"}},\"type\":\"scatterternary\"}],\"surface\":[{\"colorbar\":{\"outlinewidth\":0,\"ticks\":\"\"},\"colorscale\":[[0.0,\"#0d0887\"],[0.1111111111111111,\"#46039f\"],[0.2222222222222222,\"#7201a8\"],[0.3333333333333333,\"#9c179e\"],[0.4444444444444444,\"#bd3786\"],[0.5555555555555556,\"#d8576b\"],[0.6666666666666666,\"#ed7953\"],[0.7777777777777778,\"#fb9f3a\"],[0.8888888888888888,\"#fdca26\"],[1.0,\"#f0f921\"]],\"type\":\"surface\"}],\"table\":[{\"cells\":{\"fill\":{\"color\":\"#EBF0F8\"},\"line\":{\"color\":\"white\"}},\"header\":{\"fill\":{\"color\":\"#C8D4E3\"},\"line\":{\"color\":\"white\"}},\"type\":\"table\"}]},\"layout\":{\"annotationdefaults\":{\"arrowcolor\":\"#2a3f5f\",\"arrowhead\":0,\"arrowwidth\":1},\"autotypenumbers\":\"strict\",\"coloraxis\":{\"colorbar\":{\"outlinewidth\":0,\"ticks\":\"\"}},\"colorscale\":{\"diverging\":[[0,\"#8e0152\"],[0.1,\"#c51b7d\"],[0.2,\"#de77ae\"],[0.3,\"#f1b6da\"],[0.4,\"#fde0ef\"],[0.5,\"#f7f7f7\"],[0.6,\"#e6f5d0\"],[0.7,\"#b8e186\"],[0.8,\"#7fbc41\"],[0.9,\"#4d9221\"],[1,\"#276419\"]],\"sequential\":[[0.0,\"#0d0887\"],[0.1111111111111111,\"#46039f\"],[0.2222222222222222,\"#7201a8\"],[0.3333333333333333,\"#9c179e\"],[0.4444444444444444,\"#bd3786\"],[0.5555555555555556,\"#d8576b\"],[0.6666666666666666,\"#ed7953\"],[0.7777777777777778,\"#fb9f3a\"],[0.8888888888888888,\"#fdca26\"],[1.0,\"#f0f921\"]],\"sequentialminus\":[[0.0,\"#0d0887\"],[0.1111111111111111,\"#46039f\"],[0.2222222222222222,\"#7201a8\"],[0.3333333333333333,\"#9c179e\"],[0.4444444444444444,\"#bd3786\"],[0.5555555555555556,\"#d8576b\"],[0.6666666666666666,\"#ed7953\"],[0.7777777777777778,\"#fb9f3a\"],[0.8888888888888888,\"#fdca26\"],[1.0,\"#f0f921\"]]},\"colorway\":[\"#636efa\",\"#EF553B\",\"#00cc96\",\"#ab63fa\",\"#FFA15A\",\"#19d3f3\",\"#FF6692\",\"#B6E880\",\"#FF97FF\",\"#FECB52\"],\"font\":{\"color\":\"#2a3f5f\"},\"geo\":{\"bgcolor\":\"white\",\"lakecolor\":\"white\",\"landcolor\":\"#E5ECF6\",\"showlakes\":true,\"showland\":true,\"subunitcolor\":\"white\"},\"hoverlabel\":{\"align\":\"left\"},\"hovermode\":\"closest\",\"mapbox\":{\"style\":\"light\"},\"paper_bgcolor\":\"white\",\"plot_bgcolor\":\"#E5ECF6\",\"polar\":{\"angularaxis\":{\"gridcolor\":\"white\",\"linecolor\":\"white\",\"ticks\":\"\"},\"bgcolor\":\"#E5ECF6\",\"radialaxis\":{\"gridcolor\":\"white\",\"linecolor\":\"white\",\"ticks\":\"\"}},\"scene\":{\"xaxis\":{\"backgroundcolor\":\"#E5ECF6\",\"gridcolor\":\"white\",\"gridwidth\":2,\"linecolor\":\"white\",\"showbackground\":true,\"ticks\":\"\",\"zerolinecolor\":\"white\"},\"yaxis\":{\"backgroundcolor\":\"#E5ECF6\",\"gridcolor\":\"white\",\"gridwidth\":2,\"linecolor\":\"white\",\"showbackground\":true,\"ticks\":\"\",\"zerolinecolor\":\"white\"},\"zaxis\":{\"backgroundcolor\":\"#E5ECF6\",\"gridcolor\":\"white\",\"gridwidth\":2,\"linecolor\":\"white\",\"showbackground\":true,\"ticks\":\"\",\"zerolinecolor\":\"white\"}},\"shapedefaults\":{\"line\":{\"color\":\"#2a3f5f\"}},\"ternary\":{\"aaxis\":{\"gridcolor\":\"white\",\"linecolor\":\"white\",\"ticks\":\"\"},\"baxis\":{\"gridcolor\":\"white\",\"linecolor\":\"white\",\"ticks\":\"\"},\"bgcolor\":\"#E5ECF6\",\"caxis\":{\"gridcolor\":\"white\",\"linecolor\":\"white\",\"ticks\":\"\"}},\"title\":{\"x\":0.05},\"xaxis\":{\"automargin\":true,\"gridcolor\":\"white\",\"linecolor\":\"white\",\"ticks\":\"\",\"title\":{\"standoff\":15},\"zerolinecolor\":\"white\",\"zerolinewidth\":2},\"yaxis\":{\"automargin\":true,\"gridcolor\":\"white\",\"linecolor\":\"white\",\"ticks\":\"\",\"title\":{\"standoff\":15},\"zerolinecolor\":\"white\",\"zerolinewidth\":2}}},\"title\":{\"font\":{\"color\":\"#4D5663\"}},\"xaxis\":{\"gridcolor\":\"#E1E5ED\",\"showgrid\":true,\"tickfont\":{\"color\":\"#4D5663\"},\"title\":{\"font\":{\"color\":\"#4D5663\"},\"text\":\"\"},\"zerolinecolor\":\"#E1E5ED\"},\"yaxis\":{\"gridcolor\":\"#E1E5ED\",\"showgrid\":true,\"tickfont\":{\"color\":\"#4D5663\"},\"title\":{\"font\":{\"color\":\"#4D5663\"},\"text\":\"\"},\"zerolinecolor\":\"#E1E5ED\"}},                        {\"showLink\": true, \"linkText\": \"Export to plot.ly\", \"plotlyServerURL\": \"https://plot.ly\", \"responsive\": true}                    ).then(function(){\n",
       "                            \n",
       "var gd = document.getElementById('8ef184d3-46dd-436b-be49-0f5da269c417');\n",
       "var x = new MutationObserver(function (mutations, observer) {{\n",
       "        var display = window.getComputedStyle(gd).display;\n",
       "        if (!display || display === 'none') {{\n",
       "            console.log([gd, 'removed!']);\n",
       "            Plotly.purge(gd);\n",
       "            observer.disconnect();\n",
       "        }}\n",
       "}});\n",
       "\n",
       "// Listen for the removal of the full notebook cells\n",
       "var notebookContainer = gd.closest('#notebook-container');\n",
       "if (notebookContainer) {{\n",
       "    x.observe(notebookContainer, {childList: true});\n",
       "}}\n",
       "\n",
       "// Listen for the clearing of the current output cell\n",
       "var outputEl = gd.closest('.output');\n",
       "if (outputEl) {{\n",
       "    x.observe(outputEl, {childList: true});\n",
       "}}\n",
       "\n",
       "                        })                };                });            </script>        </div>"
      ]
     },
     "metadata": {},
     "output_type": "display_data"
    }
   ],
   "source": [
    "df3 = pd.DataFrame({'x':[1,2,3,4,5],'y':[10,20,30,20,10],'z':[5,4,3,2,1]})\n",
    "df3.iplot(kind='surface',colorscale='rdylbu')"
   ]
  },
  {
   "cell_type": "markdown",
   "metadata": {},
   "source": [
    "## Spread"
   ]
  },
  {
   "cell_type": "code",
   "execution_count": 15,
   "metadata": {},
   "outputs": [
    {
     "name": "stderr",
     "output_type": "stream",
     "text": [
      "C:\\Users\\andre\\anaconda3\\lib\\site-packages\\cufflinks\\plotlytools.py:849: FutureWarning:\n",
      "\n",
      "The pandas.np module is deprecated and will be removed from pandas in a future version. Import numpy directly instead.\n",
      "\n",
      "C:\\Users\\andre\\anaconda3\\lib\\site-packages\\cufflinks\\plotlytools.py:850: FutureWarning:\n",
      "\n",
      "The pandas.np module is deprecated and will be removed from pandas in a future version. Import numpy directly instead.\n",
      "\n"
     ]
    },
    {
     "data": {
      "application/vnd.plotly.v1+json": {
       "config": {
        "linkText": "Export to plot.ly",
        "plotlyServerURL": "https://plot.ly",
        "showLink": true
       },
       "data": [
        {
         "line": {
          "color": "rgba(255, 153, 51, 1.0)",
          "dash": "solid",
          "shape": "linear",
          "width": 1.3
         },
         "mode": "lines",
         "name": "A",
         "text": "",
         "type": "scatter",
         "x": [
          0,
          1,
          2,
          3,
          4,
          5,
          6,
          7,
          8,
          9,
          10,
          11,
          12,
          13,
          14,
          15,
          16,
          17,
          18,
          19,
          20,
          21,
          22,
          23,
          24,
          25,
          26,
          27,
          28,
          29,
          30,
          31,
          32,
          33,
          34,
          35,
          36,
          37,
          38,
          39,
          40,
          41,
          42,
          43,
          44,
          45,
          46,
          47,
          48,
          49,
          50,
          51,
          52,
          53,
          54,
          55,
          56,
          57,
          58,
          59,
          60,
          61,
          62,
          63,
          64,
          65,
          66,
          67,
          68,
          69,
          70,
          71,
          72,
          73,
          74,
          75,
          76,
          77,
          78,
          79,
          80,
          81,
          82,
          83,
          84,
          85,
          86,
          87,
          88,
          89,
          90,
          91,
          92,
          93,
          94,
          95,
          96,
          97,
          98,
          99
         ],
         "y": [
          0.09386654377961644,
          -1.139004671822801,
          -0.23367563378421577,
          -0.8178321802841402,
          -1.1386693772818866,
          -1.6933602772163847,
          -0.340882409868143,
          -0.351551967954869,
          1.0758340774178499,
          -0.787595569821493,
          -0.4591133299503853,
          0.6345527442690106,
          -0.0835497443856339,
          0.8184263799228679,
          2.3301004445919853,
          -1.7842568978947762,
          1.2519772540173484,
          -0.6878146559815548,
          0.9635311160123031,
          -1.8983326215126495,
          2.1261591546867598,
          0.8941929951060387,
          0.1993320335310691,
          1.458215627439701,
          1.4694761919905903,
          -0.15252157482332396,
          -0.07148794668059787,
          -0.7635578591458244,
          -0.615900797268425,
          1.7053678572999516,
          -2.7292138631298317,
          0.933668525563834,
          -0.15968170111604396,
          0.7028590284260958,
          -1.1066058899225693,
          0.1619239233677905,
          0.2696690872716977,
          -0.8220265893588786,
          -0.33645552246354093,
          -0.07621137756404667,
          0.13301168100033228,
          -1.8700761206942498,
          0.0027439163561086524,
          1.2737410558275717,
          2.650550647922217,
          0.16841290963442426,
          -0.14149905735278132,
          -0.9644995305255604,
          -1.2604272026237753,
          0.319347044132876,
          0.56899546075684,
          1.241070964776888,
          -2.631068877305108,
          0.6652088306271956,
          -0.1867782110110191,
          -1.1025950775762114,
          -1.0816166208111249,
          0.28279051004301603,
          0.22548470390457245,
          -1.0921356640494668,
          -0.21652925585167312,
          1.2433709974704996,
          -3.1345566857767975,
          -1.4382763214819527,
          -1.1285833645782766,
          -1.2296014908982091,
          -1.7346476621463802,
          -0.9222160955908932,
          -0.1732327426597853,
          0.2976568213768825,
          0.7990801597704285,
          -0.15030976242435307,
          -0.9146846787912161,
          1.283925952969555,
          0.013167437974883985,
          1.0127366895351093,
          0.4891948168208888,
          0.42369269963044137,
          1.33102509023086,
          -1.370552114637446,
          -0.714767518480121,
          0.3750615806094237,
          0.5341559704135873,
          1.5619388793042077,
          -1.8508306253213733,
          1.3370419329169922,
          -0.7280235070437202,
          -1.1633069457494016,
          -0.5492177107383946,
          -0.5021165530681923,
          1.3629234752007997,
          1.2230320992696806,
          -0.5100791299765235,
          -2.621920527501423,
          -0.7654463508855776,
          1.497549637995718,
          -0.35601407564263093,
          1.8455499737402132,
          0.12220185490031459,
          -0.8450536569754781
         ]
        },
        {
         "line": {
          "color": "rgba(55, 128, 191, 1.0)",
          "dash": "solid",
          "shape": "linear",
          "width": 1.3
         },
         "mode": "lines",
         "name": "B",
         "text": "",
         "type": "scatter",
         "x": [
          0,
          1,
          2,
          3,
          4,
          5,
          6,
          7,
          8,
          9,
          10,
          11,
          12,
          13,
          14,
          15,
          16,
          17,
          18,
          19,
          20,
          21,
          22,
          23,
          24,
          25,
          26,
          27,
          28,
          29,
          30,
          31,
          32,
          33,
          34,
          35,
          36,
          37,
          38,
          39,
          40,
          41,
          42,
          43,
          44,
          45,
          46,
          47,
          48,
          49,
          50,
          51,
          52,
          53,
          54,
          55,
          56,
          57,
          58,
          59,
          60,
          61,
          62,
          63,
          64,
          65,
          66,
          67,
          68,
          69,
          70,
          71,
          72,
          73,
          74,
          75,
          76,
          77,
          78,
          79,
          80,
          81,
          82,
          83,
          84,
          85,
          86,
          87,
          88,
          89,
          90,
          91,
          92,
          93,
          94,
          95,
          96,
          97,
          98,
          99
         ],
         "y": [
          1.1340353607997995,
          0.013006465258081384,
          -1.4544113520150583,
          0.07672868747175726,
          0.48391889321947923,
          1.194788934202027,
          0.22468133183006384,
          0.12551098479531267,
          -0.27451552388284617,
          2.0356034926737436,
          0.7173123445309864,
          0.7932955472950777,
          -0.41502003783564156,
          0.3893140303258917,
          0.6193349803483303,
          -0.7866532286313116,
          1.3277002978859909,
          1.5560353033408851,
          -0.7637079816569204,
          1.4955257362466297,
          -1.3157860680447728,
          0.4814511617674176,
          -0.6261436350263004,
          -0.04619684870672389,
          0.9371898406188366,
          -0.5989093165454566,
          0.0062151920303784285,
          -0.6020029731603319,
          -2.208256297298656,
          0.7399894254410262,
          1.0860142458716426,
          -1.21065622295551,
          -0.09588287071653072,
          -1.2263598161115243,
          1.8299597122438265,
          -0.11413820163249909,
          -0.06935353377663811,
          1.5166820871775397,
          1.1795924483053237,
          -1.6027402892601654,
          0.12794276660807943,
          1.516455861068911,
          2.5031970959043703,
          -0.67197527259152,
          -0.729446552836332,
          -0.03227595217765168,
          0.6382184051655801,
          0.7079866983022988,
          -0.4630846645711651,
          -0.12042104592526794,
          0.818865391037555,
          -0.00456154244896449,
          -0.1454955215538559,
          0.82370762397494,
          1.1263911654451604,
          0.6957075242555208,
          -0.8809740163523293,
          0.13402287027597873,
          0.014942003469062437,
          0.5804442219882356,
          0.9941911200090845,
          0.7290166511006079,
          -0.19075826249149594,
          -0.3918900162987637,
          1.333464552078728,
          -0.14873129227566592,
          -2.705689931089558,
          -0.7259691233913627,
          1.0168910947228955,
          0.7873734558033054,
          0.026171372184366572,
          0.12996314877041218,
          1.6580005079219238,
          -0.44171738051397963,
          -0.0213341973283803,
          1.0895618776272844,
          -1.4783218403668337,
          -0.8051304132435134,
          0.9531400624960661,
          0.8574565198195986,
          1.267699008904015,
          -1.0931040378118888,
          0.5145903925372172,
          0.7628372620473755,
          -0.6581011595882967,
          1.2632260819909658,
          -1.2555456014903983,
          -0.9356552111274646,
          -0.3691646696574371,
          0.3709105437574881,
          1.0912030100326888,
          -0.9904125304371655,
          -1.2409751278186256,
          1.2795751598938199,
          1.0106178022864407,
          -0.03939033921404506,
          2.7754656697884035,
          -0.3644327979796833,
          1.5226149656513353,
          -1.5568377097308161
         ]
        },
        {
         "connectgaps": false,
         "fill": "tozeroy",
         "line": {
          "color": "green",
          "dash": "solid",
          "shape": "linear",
          "width": 0.5
         },
         "mode": "lines",
         "name": "Spread",
         "showlegend": false,
         "type": "scatter",
         "x": [
          0,
          1,
          2,
          3,
          4,
          5,
          6,
          7,
          8,
          9,
          10,
          11,
          12,
          13,
          14,
          15,
          16,
          17,
          18,
          19,
          20,
          21,
          22,
          23,
          24,
          25,
          26,
          27,
          28,
          29,
          30,
          31,
          32,
          33,
          34,
          35,
          36,
          37,
          38,
          39,
          40,
          41,
          42,
          43,
          44,
          45,
          46,
          47,
          48,
          49,
          50,
          51,
          52,
          53,
          54,
          55,
          56,
          57,
          58,
          59,
          60,
          61,
          62,
          63,
          64,
          65,
          66,
          67,
          68,
          69,
          70,
          71,
          72,
          73,
          74,
          75,
          76,
          77,
          78,
          79,
          80,
          81,
          82,
          83,
          84,
          85,
          86,
          87,
          88,
          89,
          90,
          91,
          92,
          93,
          94,
          95,
          96,
          97,
          98,
          99
         ],
         "xaxis": "x2",
         "y": [
          "",
          "",
          1.2207357182308425,
          "",
          "",
          "",
          "",
          "",
          1.350349601300696,
          "",
          "",
          "",
          0.33147029345000767,
          0.42911234959697625,
          1.710765464243655,
          "",
          "",
          "",
          1.7272390976692236,
          "",
          3.4419452227315324,
          0.4127418333386211,
          0.8254756685573695,
          1.5044124761464248,
          0.5322863513717537,
          0.4463877417221327,
          "",
          "",
          1.592355500030231,
          0.9653784318589254,
          "",
          2.144324748519344,
          "",
          1.9292188445376202,
          "",
          0.2760621250002896,
          0.3390226210483358,
          "",
          "",
          1.5265289116961187,
          0.005068914392252849,
          "",
          "",
          1.9457163284190917,
          3.3799972007585493,
          0.20068886181207596,
          "",
          "",
          "",
          0.43976809005814393,
          "",
          1.2456325072258525,
          "",
          "",
          "",
          "",
          "",
          0.1487676397670373,
          0.21054270043551002,
          "",
          "",
          0.5143543463698917,
          "",
          "",
          "",
          "",
          0.9710422689431777,
          "",
          "",
          "",
          0.7729087875860619,
          "",
          "",
          1.7256433334835346,
          0.034501635303264284,
          "",
          1.9675166571877225,
          1.2288231128739548,
          0.37788502773479393,
          "",
          "",
          1.4681656184213125,
          0.019565577876370144,
          0.7991016172568323,
          "",
          0.0738158509260265,
          0.5275220944466781,
          "",
          "",
          "",
          0.2717204651681109,
          2.213444629706846,
          0.7308959978421021,
          "",
          "",
          1.5369399772097632,
          "",
          2.2099827717198965,
          "",
          0.7117840527553381
         ],
         "yaxis": "y2"
        },
        {
         "connectgaps": false,
         "fill": "tozeroy",
         "line": {
          "color": "red",
          "dash": "solid",
          "shape": "linear",
          "width": 0.5
         },
         "mode": "lines",
         "name": "Spread",
         "showlegend": false,
         "type": "scatter",
         "x": [
          0,
          1,
          2,
          3,
          4,
          5,
          6,
          7,
          8,
          9,
          10,
          11,
          12,
          13,
          14,
          15,
          16,
          17,
          18,
          19,
          20,
          21,
          22,
          23,
          24,
          25,
          26,
          27,
          28,
          29,
          30,
          31,
          32,
          33,
          34,
          35,
          36,
          37,
          38,
          39,
          40,
          41,
          42,
          43,
          44,
          45,
          46,
          47,
          48,
          49,
          50,
          51,
          52,
          53,
          54,
          55,
          56,
          57,
          58,
          59,
          60,
          61,
          62,
          63,
          64,
          65,
          66,
          67,
          68,
          69,
          70,
          71,
          72,
          73,
          74,
          75,
          76,
          77,
          78,
          79,
          80,
          81,
          82,
          83,
          84,
          85,
          86,
          87,
          88,
          89,
          90,
          91,
          92,
          93,
          94,
          95,
          96,
          97,
          98,
          99
         ],
         "xaxis": "x2",
         "y": [
          -1.040168817020183,
          -1.1520111370808825,
          "",
          -0.8945608677558974,
          -1.6225882705013657,
          -2.888149211418412,
          -0.5655637416982069,
          -0.4770629527501816,
          "",
          -2.8231990624952368,
          -1.1764256744813717,
          -0.15874280302606703,
          "",
          "",
          "",
          -0.9976036692634646,
          -0.07572304386864248,
          -2.24384995932244,
          "",
          -3.393858357759279,
          "",
          "",
          "",
          "",
          "",
          "",
          -0.0777031387109763,
          -0.1615548859854925,
          "",
          "",
          -3.8152281090014744,
          "",
          -0.06379883039951324,
          "",
          -2.9365656021663957,
          "",
          "",
          -2.3387086765364185,
          -1.5160479707688648,
          "",
          "",
          -3.3865319817631607,
          -2.500453179548262,
          "",
          "",
          "",
          -0.7797174625183615,
          -1.672486228827859,
          -0.7973425380526102,
          "",
          -0.2498699302807149,
          "",
          -2.485573355751252,
          -0.15849879334774442,
          -1.3131693764561794,
          -1.7983026018317323,
          -0.20064260445879556,
          "",
          "",
          -1.6725798860377026,
          -1.2107203758607576,
          "",
          -2.9437984232853016,
          -1.046386305183189,
          -2.4620479166570046,
          -1.0808701986225433,
          "",
          -0.19624697219953058,
          -1.1901238373826808,
          -0.48971663442642294,
          "",
          -0.2802729111947653,
          -2.57268518671314,
          "",
          "",
          -0.07682518809217509,
          "",
          "",
          "",
          -2.2280086344570447,
          -1.982466527384136,
          "",
          "",
          "",
          -1.1927294657330765,
          "",
          "",
          -0.227651734621937,
          -0.18005304108095754,
          -0.8730270968256804,
          "",
          "",
          "",
          -3.9014956873952427,
          -1.7760641531720183,
          "",
          -3.1314797454310344,
          "",
          -1.4004131107510207,
          ""
         ],
         "yaxis": "y2"
        }
       ],
       "layout": {
        "hovermode": "x",
        "legend": {
         "bgcolor": "#F5F6F9",
         "font": {
          "color": "#4D5663"
         }
        },
        "paper_bgcolor": "#F5F6F9",
        "plot_bgcolor": "#F5F6F9",
        "template": {
         "data": {
          "bar": [
           {
            "error_x": {
             "color": "#2a3f5f"
            },
            "error_y": {
             "color": "#2a3f5f"
            },
            "marker": {
             "line": {
              "color": "#E5ECF6",
              "width": 0.5
             },
             "pattern": {
              "fillmode": "overlay",
              "size": 10,
              "solidity": 0.2
             }
            },
            "type": "bar"
           }
          ],
          "barpolar": [
           {
            "marker": {
             "line": {
              "color": "#E5ECF6",
              "width": 0.5
             },
             "pattern": {
              "fillmode": "overlay",
              "size": 10,
              "solidity": 0.2
             }
            },
            "type": "barpolar"
           }
          ],
          "carpet": [
           {
            "aaxis": {
             "endlinecolor": "#2a3f5f",
             "gridcolor": "white",
             "linecolor": "white",
             "minorgridcolor": "white",
             "startlinecolor": "#2a3f5f"
            },
            "baxis": {
             "endlinecolor": "#2a3f5f",
             "gridcolor": "white",
             "linecolor": "white",
             "minorgridcolor": "white",
             "startlinecolor": "#2a3f5f"
            },
            "type": "carpet"
           }
          ],
          "choropleth": [
           {
            "colorbar": {
             "outlinewidth": 0,
             "ticks": ""
            },
            "type": "choropleth"
           }
          ],
          "contour": [
           {
            "colorbar": {
             "outlinewidth": 0,
             "ticks": ""
            },
            "colorscale": [
             [
              0,
              "#0d0887"
             ],
             [
              0.1111111111111111,
              "#46039f"
             ],
             [
              0.2222222222222222,
              "#7201a8"
             ],
             [
              0.3333333333333333,
              "#9c179e"
             ],
             [
              0.4444444444444444,
              "#bd3786"
             ],
             [
              0.5555555555555556,
              "#d8576b"
             ],
             [
              0.6666666666666666,
              "#ed7953"
             ],
             [
              0.7777777777777778,
              "#fb9f3a"
             ],
             [
              0.8888888888888888,
              "#fdca26"
             ],
             [
              1,
              "#f0f921"
             ]
            ],
            "type": "contour"
           }
          ],
          "contourcarpet": [
           {
            "colorbar": {
             "outlinewidth": 0,
             "ticks": ""
            },
            "type": "contourcarpet"
           }
          ],
          "heatmap": [
           {
            "colorbar": {
             "outlinewidth": 0,
             "ticks": ""
            },
            "colorscale": [
             [
              0,
              "#0d0887"
             ],
             [
              0.1111111111111111,
              "#46039f"
             ],
             [
              0.2222222222222222,
              "#7201a8"
             ],
             [
              0.3333333333333333,
              "#9c179e"
             ],
             [
              0.4444444444444444,
              "#bd3786"
             ],
             [
              0.5555555555555556,
              "#d8576b"
             ],
             [
              0.6666666666666666,
              "#ed7953"
             ],
             [
              0.7777777777777778,
              "#fb9f3a"
             ],
             [
              0.8888888888888888,
              "#fdca26"
             ],
             [
              1,
              "#f0f921"
             ]
            ],
            "type": "heatmap"
           }
          ],
          "heatmapgl": [
           {
            "colorbar": {
             "outlinewidth": 0,
             "ticks": ""
            },
            "colorscale": [
             [
              0,
              "#0d0887"
             ],
             [
              0.1111111111111111,
              "#46039f"
             ],
             [
              0.2222222222222222,
              "#7201a8"
             ],
             [
              0.3333333333333333,
              "#9c179e"
             ],
             [
              0.4444444444444444,
              "#bd3786"
             ],
             [
              0.5555555555555556,
              "#d8576b"
             ],
             [
              0.6666666666666666,
              "#ed7953"
             ],
             [
              0.7777777777777778,
              "#fb9f3a"
             ],
             [
              0.8888888888888888,
              "#fdca26"
             ],
             [
              1,
              "#f0f921"
             ]
            ],
            "type": "heatmapgl"
           }
          ],
          "histogram": [
           {
            "marker": {
             "pattern": {
              "fillmode": "overlay",
              "size": 10,
              "solidity": 0.2
             }
            },
            "type": "histogram"
           }
          ],
          "histogram2d": [
           {
            "colorbar": {
             "outlinewidth": 0,
             "ticks": ""
            },
            "colorscale": [
             [
              0,
              "#0d0887"
             ],
             [
              0.1111111111111111,
              "#46039f"
             ],
             [
              0.2222222222222222,
              "#7201a8"
             ],
             [
              0.3333333333333333,
              "#9c179e"
             ],
             [
              0.4444444444444444,
              "#bd3786"
             ],
             [
              0.5555555555555556,
              "#d8576b"
             ],
             [
              0.6666666666666666,
              "#ed7953"
             ],
             [
              0.7777777777777778,
              "#fb9f3a"
             ],
             [
              0.8888888888888888,
              "#fdca26"
             ],
             [
              1,
              "#f0f921"
             ]
            ],
            "type": "histogram2d"
           }
          ],
          "histogram2dcontour": [
           {
            "colorbar": {
             "outlinewidth": 0,
             "ticks": ""
            },
            "colorscale": [
             [
              0,
              "#0d0887"
             ],
             [
              0.1111111111111111,
              "#46039f"
             ],
             [
              0.2222222222222222,
              "#7201a8"
             ],
             [
              0.3333333333333333,
              "#9c179e"
             ],
             [
              0.4444444444444444,
              "#bd3786"
             ],
             [
              0.5555555555555556,
              "#d8576b"
             ],
             [
              0.6666666666666666,
              "#ed7953"
             ],
             [
              0.7777777777777778,
              "#fb9f3a"
             ],
             [
              0.8888888888888888,
              "#fdca26"
             ],
             [
              1,
              "#f0f921"
             ]
            ],
            "type": "histogram2dcontour"
           }
          ],
          "mesh3d": [
           {
            "colorbar": {
             "outlinewidth": 0,
             "ticks": ""
            },
            "type": "mesh3d"
           }
          ],
          "parcoords": [
           {
            "line": {
             "colorbar": {
              "outlinewidth": 0,
              "ticks": ""
             }
            },
            "type": "parcoords"
           }
          ],
          "pie": [
           {
            "automargin": true,
            "type": "pie"
           }
          ],
          "scatter": [
           {
            "marker": {
             "colorbar": {
              "outlinewidth": 0,
              "ticks": ""
             }
            },
            "type": "scatter"
           }
          ],
          "scatter3d": [
           {
            "line": {
             "colorbar": {
              "outlinewidth": 0,
              "ticks": ""
             }
            },
            "marker": {
             "colorbar": {
              "outlinewidth": 0,
              "ticks": ""
             }
            },
            "type": "scatter3d"
           }
          ],
          "scattercarpet": [
           {
            "marker": {
             "colorbar": {
              "outlinewidth": 0,
              "ticks": ""
             }
            },
            "type": "scattercarpet"
           }
          ],
          "scattergeo": [
           {
            "marker": {
             "colorbar": {
              "outlinewidth": 0,
              "ticks": ""
             }
            },
            "type": "scattergeo"
           }
          ],
          "scattergl": [
           {
            "marker": {
             "colorbar": {
              "outlinewidth": 0,
              "ticks": ""
             }
            },
            "type": "scattergl"
           }
          ],
          "scattermapbox": [
           {
            "marker": {
             "colorbar": {
              "outlinewidth": 0,
              "ticks": ""
             }
            },
            "type": "scattermapbox"
           }
          ],
          "scatterpolar": [
           {
            "marker": {
             "colorbar": {
              "outlinewidth": 0,
              "ticks": ""
             }
            },
            "type": "scatterpolar"
           }
          ],
          "scatterpolargl": [
           {
            "marker": {
             "colorbar": {
              "outlinewidth": 0,
              "ticks": ""
             }
            },
            "type": "scatterpolargl"
           }
          ],
          "scatterternary": [
           {
            "marker": {
             "colorbar": {
              "outlinewidth": 0,
              "ticks": ""
             }
            },
            "type": "scatterternary"
           }
          ],
          "surface": [
           {
            "colorbar": {
             "outlinewidth": 0,
             "ticks": ""
            },
            "colorscale": [
             [
              0,
              "#0d0887"
             ],
             [
              0.1111111111111111,
              "#46039f"
             ],
             [
              0.2222222222222222,
              "#7201a8"
             ],
             [
              0.3333333333333333,
              "#9c179e"
             ],
             [
              0.4444444444444444,
              "#bd3786"
             ],
             [
              0.5555555555555556,
              "#d8576b"
             ],
             [
              0.6666666666666666,
              "#ed7953"
             ],
             [
              0.7777777777777778,
              "#fb9f3a"
             ],
             [
              0.8888888888888888,
              "#fdca26"
             ],
             [
              1,
              "#f0f921"
             ]
            ],
            "type": "surface"
           }
          ],
          "table": [
           {
            "cells": {
             "fill": {
              "color": "#EBF0F8"
             },
             "line": {
              "color": "white"
             }
            },
            "header": {
             "fill": {
              "color": "#C8D4E3"
             },
             "line": {
              "color": "white"
             }
            },
            "type": "table"
           }
          ]
         },
         "layout": {
          "annotationdefaults": {
           "arrowcolor": "#2a3f5f",
           "arrowhead": 0,
           "arrowwidth": 1
          },
          "autotypenumbers": "strict",
          "coloraxis": {
           "colorbar": {
            "outlinewidth": 0,
            "ticks": ""
           }
          },
          "colorscale": {
           "diverging": [
            [
             0,
             "#8e0152"
            ],
            [
             0.1,
             "#c51b7d"
            ],
            [
             0.2,
             "#de77ae"
            ],
            [
             0.3,
             "#f1b6da"
            ],
            [
             0.4,
             "#fde0ef"
            ],
            [
             0.5,
             "#f7f7f7"
            ],
            [
             0.6,
             "#e6f5d0"
            ],
            [
             0.7,
             "#b8e186"
            ],
            [
             0.8,
             "#7fbc41"
            ],
            [
             0.9,
             "#4d9221"
            ],
            [
             1,
             "#276419"
            ]
           ],
           "sequential": [
            [
             0,
             "#0d0887"
            ],
            [
             0.1111111111111111,
             "#46039f"
            ],
            [
             0.2222222222222222,
             "#7201a8"
            ],
            [
             0.3333333333333333,
             "#9c179e"
            ],
            [
             0.4444444444444444,
             "#bd3786"
            ],
            [
             0.5555555555555556,
             "#d8576b"
            ],
            [
             0.6666666666666666,
             "#ed7953"
            ],
            [
             0.7777777777777778,
             "#fb9f3a"
            ],
            [
             0.8888888888888888,
             "#fdca26"
            ],
            [
             1,
             "#f0f921"
            ]
           ],
           "sequentialminus": [
            [
             0,
             "#0d0887"
            ],
            [
             0.1111111111111111,
             "#46039f"
            ],
            [
             0.2222222222222222,
             "#7201a8"
            ],
            [
             0.3333333333333333,
             "#9c179e"
            ],
            [
             0.4444444444444444,
             "#bd3786"
            ],
            [
             0.5555555555555556,
             "#d8576b"
            ],
            [
             0.6666666666666666,
             "#ed7953"
            ],
            [
             0.7777777777777778,
             "#fb9f3a"
            ],
            [
             0.8888888888888888,
             "#fdca26"
            ],
            [
             1,
             "#f0f921"
            ]
           ]
          },
          "colorway": [
           "#636efa",
           "#EF553B",
           "#00cc96",
           "#ab63fa",
           "#FFA15A",
           "#19d3f3",
           "#FF6692",
           "#B6E880",
           "#FF97FF",
           "#FECB52"
          ],
          "font": {
           "color": "#2a3f5f"
          },
          "geo": {
           "bgcolor": "white",
           "lakecolor": "white",
           "landcolor": "#E5ECF6",
           "showlakes": true,
           "showland": true,
           "subunitcolor": "white"
          },
          "hoverlabel": {
           "align": "left"
          },
          "hovermode": "closest",
          "mapbox": {
           "style": "light"
          },
          "paper_bgcolor": "white",
          "plot_bgcolor": "#E5ECF6",
          "polar": {
           "angularaxis": {
            "gridcolor": "white",
            "linecolor": "white",
            "ticks": ""
           },
           "bgcolor": "#E5ECF6",
           "radialaxis": {
            "gridcolor": "white",
            "linecolor": "white",
            "ticks": ""
           }
          },
          "scene": {
           "xaxis": {
            "backgroundcolor": "#E5ECF6",
            "gridcolor": "white",
            "gridwidth": 2,
            "linecolor": "white",
            "showbackground": true,
            "ticks": "",
            "zerolinecolor": "white"
           },
           "yaxis": {
            "backgroundcolor": "#E5ECF6",
            "gridcolor": "white",
            "gridwidth": 2,
            "linecolor": "white",
            "showbackground": true,
            "ticks": "",
            "zerolinecolor": "white"
           },
           "zaxis": {
            "backgroundcolor": "#E5ECF6",
            "gridcolor": "white",
            "gridwidth": 2,
            "linecolor": "white",
            "showbackground": true,
            "ticks": "",
            "zerolinecolor": "white"
           }
          },
          "shapedefaults": {
           "line": {
            "color": "#2a3f5f"
           }
          },
          "ternary": {
           "aaxis": {
            "gridcolor": "white",
            "linecolor": "white",
            "ticks": ""
           },
           "baxis": {
            "gridcolor": "white",
            "linecolor": "white",
            "ticks": ""
           },
           "bgcolor": "#E5ECF6",
           "caxis": {
            "gridcolor": "white",
            "linecolor": "white",
            "ticks": ""
           }
          },
          "title": {
           "x": 0.05
          },
          "xaxis": {
           "automargin": true,
           "gridcolor": "white",
           "linecolor": "white",
           "ticks": "",
           "title": {
            "standoff": 15
           },
           "zerolinecolor": "white",
           "zerolinewidth": 2
          },
          "yaxis": {
           "automargin": true,
           "gridcolor": "white",
           "linecolor": "white",
           "ticks": "",
           "title": {
            "standoff": 15
           },
           "zerolinecolor": "white",
           "zerolinewidth": 2
          }
         }
        },
        "title": {
         "font": {
          "color": "#4D5663"
         }
        },
        "xaxis": {
         "gridcolor": "#E1E5ED",
         "showgrid": true,
         "tickfont": {
          "color": "#4D5663"
         },
         "title": {
          "font": {
           "color": "#4D5663"
          },
          "text": ""
         },
         "zerolinecolor": "#E1E5ED"
        },
        "xaxis2": {
         "anchor": "y2",
         "gridcolor": "#E1E5ED",
         "showgrid": true,
         "showticklabels": false,
         "tickfont": {
          "color": "#4D5663"
         },
         "title": {
          "font": {
           "color": "#4D5663"
          },
          "text": ""
         },
         "zerolinecolor": "#E1E5ED"
        },
        "yaxis": {
         "domain": [
          0.3,
          1
         ],
         "gridcolor": "#E1E5ED",
         "showgrid": true,
         "tickfont": {
          "color": "#4D5663"
         },
         "title": {
          "font": {
           "color": "#4D5663"
          },
          "text": ""
         },
         "zerolinecolor": "#E1E5ED"
        },
        "yaxis2": {
         "domain": [
          0,
          0.25
         ],
         "gridcolor": "#E1E5ED",
         "showgrid": true,
         "tickfont": {
          "color": "#4D5663"
         },
         "title": {
          "font": {
           "color": "#4D5663"
          },
          "text": "Spread"
         },
         "zerolinecolor": "#E1E5ED"
        }
       }
      },
      "text/html": [
       "<div>                            <div id=\"c9e41602-e334-48cf-b789-75cc5a4d3c57\" class=\"plotly-graph-div\" style=\"height:525px; width:100%;\"></div>            <script type=\"text/javascript\">                require([\"plotly\"], function(Plotly) {                    window.PLOTLYENV=window.PLOTLYENV || {};\n",
       "                    window.PLOTLYENV.BASE_URL='https://plot.ly';                                    if (document.getElementById(\"c9e41602-e334-48cf-b789-75cc5a4d3c57\")) {                    Plotly.newPlot(                        \"c9e41602-e334-48cf-b789-75cc5a4d3c57\",                        [{\"line\":{\"color\":\"rgba(255, 153, 51, 1.0)\",\"dash\":\"solid\",\"shape\":\"linear\",\"width\":1.3},\"mode\":\"lines\",\"name\":\"A\",\"text\":\"\",\"x\":[0,1,2,3,4,5,6,7,8,9,10,11,12,13,14,15,16,17,18,19,20,21,22,23,24,25,26,27,28,29,30,31,32,33,34,35,36,37,38,39,40,41,42,43,44,45,46,47,48,49,50,51,52,53,54,55,56,57,58,59,60,61,62,63,64,65,66,67,68,69,70,71,72,73,74,75,76,77,78,79,80,81,82,83,84,85,86,87,88,89,90,91,92,93,94,95,96,97,98,99],\"y\":[0.09386654377961644,-1.139004671822801,-0.23367563378421577,-0.8178321802841402,-1.1386693772818866,-1.6933602772163847,-0.340882409868143,-0.351551967954869,1.0758340774178499,-0.787595569821493,-0.4591133299503853,0.6345527442690106,-0.0835497443856339,0.8184263799228679,2.3301004445919853,-1.7842568978947762,1.2519772540173484,-0.6878146559815548,0.9635311160123031,-1.8983326215126495,2.1261591546867598,0.8941929951060387,0.1993320335310691,1.458215627439701,1.4694761919905903,-0.15252157482332396,-0.07148794668059787,-0.7635578591458244,-0.615900797268425,1.7053678572999516,-2.7292138631298317,0.933668525563834,-0.15968170111604396,0.7028590284260958,-1.1066058899225693,0.1619239233677905,0.2696690872716977,-0.8220265893588786,-0.33645552246354093,-0.07621137756404667,0.13301168100033228,-1.8700761206942498,0.0027439163561086524,1.2737410558275717,2.650550647922217,0.16841290963442426,-0.14149905735278132,-0.9644995305255604,-1.2604272026237753,0.319347044132876,0.56899546075684,1.241070964776888,-2.631068877305108,0.6652088306271956,-0.1867782110110191,-1.1025950775762114,-1.0816166208111249,0.28279051004301603,0.22548470390457245,-1.0921356640494668,-0.21652925585167312,1.2433709974704996,-3.1345566857767975,-1.4382763214819527,-1.1285833645782766,-1.2296014908982091,-1.7346476621463802,-0.9222160955908932,-0.1732327426597853,0.2976568213768825,0.7990801597704285,-0.15030976242435307,-0.9146846787912161,1.283925952969555,0.013167437974883985,1.0127366895351093,0.4891948168208888,0.42369269963044137,1.33102509023086,-1.370552114637446,-0.714767518480121,0.3750615806094237,0.5341559704135873,1.5619388793042077,-1.8508306253213733,1.3370419329169922,-0.7280235070437202,-1.1633069457494016,-0.5492177107383946,-0.5021165530681923,1.3629234752007997,1.2230320992696806,-0.5100791299765235,-2.621920527501423,-0.7654463508855776,1.497549637995718,-0.35601407564263093,1.8455499737402132,0.12220185490031459,-0.8450536569754781],\"type\":\"scatter\"},{\"line\":{\"color\":\"rgba(55, 128, 191, 1.0)\",\"dash\":\"solid\",\"shape\":\"linear\",\"width\":1.3},\"mode\":\"lines\",\"name\":\"B\",\"text\":\"\",\"x\":[0,1,2,3,4,5,6,7,8,9,10,11,12,13,14,15,16,17,18,19,20,21,22,23,24,25,26,27,28,29,30,31,32,33,34,35,36,37,38,39,40,41,42,43,44,45,46,47,48,49,50,51,52,53,54,55,56,57,58,59,60,61,62,63,64,65,66,67,68,69,70,71,72,73,74,75,76,77,78,79,80,81,82,83,84,85,86,87,88,89,90,91,92,93,94,95,96,97,98,99],\"y\":[1.1340353607997995,0.013006465258081384,-1.4544113520150583,0.07672868747175726,0.48391889321947923,1.194788934202027,0.22468133183006384,0.12551098479531267,-0.27451552388284617,2.0356034926737436,0.7173123445309864,0.7932955472950777,-0.41502003783564156,0.3893140303258917,0.6193349803483303,-0.7866532286313116,1.3277002978859909,1.5560353033408851,-0.7637079816569204,1.4955257362466297,-1.3157860680447728,0.4814511617674176,-0.6261436350263004,-0.04619684870672389,0.9371898406188366,-0.5989093165454566,0.0062151920303784285,-0.6020029731603319,-2.208256297298656,0.7399894254410262,1.0860142458716426,-1.21065622295551,-0.09588287071653072,-1.2263598161115243,1.8299597122438265,-0.11413820163249909,-0.06935353377663811,1.5166820871775397,1.1795924483053237,-1.6027402892601654,0.12794276660807943,1.516455861068911,2.5031970959043703,-0.67197527259152,-0.729446552836332,-0.03227595217765168,0.6382184051655801,0.7079866983022988,-0.4630846645711651,-0.12042104592526794,0.818865391037555,-0.00456154244896449,-0.1454955215538559,0.82370762397494,1.1263911654451604,0.6957075242555208,-0.8809740163523293,0.13402287027597873,0.014942003469062437,0.5804442219882356,0.9941911200090845,0.7290166511006079,-0.19075826249149594,-0.3918900162987637,1.333464552078728,-0.14873129227566592,-2.705689931089558,-0.7259691233913627,1.0168910947228955,0.7873734558033054,0.026171372184366572,0.12996314877041218,1.6580005079219238,-0.44171738051397963,-0.0213341973283803,1.0895618776272844,-1.4783218403668337,-0.8051304132435134,0.9531400624960661,0.8574565198195986,1.267699008904015,-1.0931040378118888,0.5145903925372172,0.7628372620473755,-0.6581011595882967,1.2632260819909658,-1.2555456014903983,-0.9356552111274646,-0.3691646696574371,0.3709105437574881,1.0912030100326888,-0.9904125304371655,-1.2409751278186256,1.2795751598938199,1.0106178022864407,-0.03939033921404506,2.7754656697884035,-0.3644327979796833,1.5226149656513353,-1.5568377097308161],\"type\":\"scatter\"},{\"connectgaps\":false,\"fill\":\"tozeroy\",\"line\":{\"color\":\"green\",\"dash\":\"solid\",\"shape\":\"linear\",\"width\":0.5},\"mode\":\"lines\",\"name\":\"Spread\",\"showlegend\":false,\"x\":[0,1,2,3,4,5,6,7,8,9,10,11,12,13,14,15,16,17,18,19,20,21,22,23,24,25,26,27,28,29,30,31,32,33,34,35,36,37,38,39,40,41,42,43,44,45,46,47,48,49,50,51,52,53,54,55,56,57,58,59,60,61,62,63,64,65,66,67,68,69,70,71,72,73,74,75,76,77,78,79,80,81,82,83,84,85,86,87,88,89,90,91,92,93,94,95,96,97,98,99],\"xaxis\":\"x2\",\"y\":[\"\",\"\",1.2207357182308425,\"\",\"\",\"\",\"\",\"\",1.350349601300696,\"\",\"\",\"\",0.33147029345000767,0.42911234959697625,1.710765464243655,\"\",\"\",\"\",1.7272390976692236,\"\",3.4419452227315324,0.4127418333386211,0.8254756685573695,1.5044124761464248,0.5322863513717537,0.4463877417221327,\"\",\"\",1.592355500030231,0.9653784318589254,\"\",2.144324748519344,\"\",1.9292188445376202,\"\",0.2760621250002896,0.3390226210483358,\"\",\"\",1.5265289116961187,0.005068914392252849,\"\",\"\",1.9457163284190917,3.3799972007585493,0.20068886181207596,\"\",\"\",\"\",0.43976809005814393,\"\",1.2456325072258525,\"\",\"\",\"\",\"\",\"\",0.1487676397670373,0.21054270043551002,\"\",\"\",0.5143543463698917,\"\",\"\",\"\",\"\",0.9710422689431777,\"\",\"\",\"\",0.7729087875860619,\"\",\"\",1.7256433334835346,0.034501635303264284,\"\",1.9675166571877225,1.2288231128739548,0.37788502773479393,\"\",\"\",1.4681656184213125,0.019565577876370144,0.7991016172568323,\"\",0.0738158509260265,0.5275220944466781,\"\",\"\",\"\",0.2717204651681109,2.213444629706846,0.7308959978421021,\"\",\"\",1.5369399772097632,\"\",2.2099827717198965,\"\",0.7117840527553381],\"yaxis\":\"y2\",\"type\":\"scatter\"},{\"connectgaps\":false,\"fill\":\"tozeroy\",\"line\":{\"color\":\"red\",\"dash\":\"solid\",\"shape\":\"linear\",\"width\":0.5},\"mode\":\"lines\",\"name\":\"Spread\",\"showlegend\":false,\"x\":[0,1,2,3,4,5,6,7,8,9,10,11,12,13,14,15,16,17,18,19,20,21,22,23,24,25,26,27,28,29,30,31,32,33,34,35,36,37,38,39,40,41,42,43,44,45,46,47,48,49,50,51,52,53,54,55,56,57,58,59,60,61,62,63,64,65,66,67,68,69,70,71,72,73,74,75,76,77,78,79,80,81,82,83,84,85,86,87,88,89,90,91,92,93,94,95,96,97,98,99],\"xaxis\":\"x2\",\"y\":[-1.040168817020183,-1.1520111370808825,\"\",-0.8945608677558974,-1.6225882705013657,-2.888149211418412,-0.5655637416982069,-0.4770629527501816,\"\",-2.8231990624952368,-1.1764256744813717,-0.15874280302606703,\"\",\"\",\"\",-0.9976036692634646,-0.07572304386864248,-2.24384995932244,\"\",-3.393858357759279,\"\",\"\",\"\",\"\",\"\",\"\",-0.0777031387109763,-0.1615548859854925,\"\",\"\",-3.8152281090014744,\"\",-0.06379883039951324,\"\",-2.9365656021663957,\"\",\"\",-2.3387086765364185,-1.5160479707688648,\"\",\"\",-3.3865319817631607,-2.500453179548262,\"\",\"\",\"\",-0.7797174625183615,-1.672486228827859,-0.7973425380526102,\"\",-0.2498699302807149,\"\",-2.485573355751252,-0.15849879334774442,-1.3131693764561794,-1.7983026018317323,-0.20064260445879556,\"\",\"\",-1.6725798860377026,-1.2107203758607576,\"\",-2.9437984232853016,-1.046386305183189,-2.4620479166570046,-1.0808701986225433,\"\",-0.19624697219953058,-1.1901238373826808,-0.48971663442642294,\"\",-0.2802729111947653,-2.57268518671314,\"\",\"\",-0.07682518809217509,\"\",\"\",\"\",-2.2280086344570447,-1.982466527384136,\"\",\"\",\"\",-1.1927294657330765,\"\",\"\",-0.227651734621937,-0.18005304108095754,-0.8730270968256804,\"\",\"\",\"\",-3.9014956873952427,-1.7760641531720183,\"\",-3.1314797454310344,\"\",-1.4004131107510207,\"\"],\"yaxis\":\"y2\",\"type\":\"scatter\"}],                        {\"hovermode\":\"x\",\"legend\":{\"bgcolor\":\"#F5F6F9\",\"font\":{\"color\":\"#4D5663\"}},\"paper_bgcolor\":\"#F5F6F9\",\"plot_bgcolor\":\"#F5F6F9\",\"template\":{\"data\":{\"barpolar\":[{\"marker\":{\"line\":{\"color\":\"#E5ECF6\",\"width\":0.5},\"pattern\":{\"fillmode\":\"overlay\",\"size\":10,\"solidity\":0.2}},\"type\":\"barpolar\"}],\"bar\":[{\"error_x\":{\"color\":\"#2a3f5f\"},\"error_y\":{\"color\":\"#2a3f5f\"},\"marker\":{\"line\":{\"color\":\"#E5ECF6\",\"width\":0.5},\"pattern\":{\"fillmode\":\"overlay\",\"size\":10,\"solidity\":0.2}},\"type\":\"bar\"}],\"carpet\":[{\"aaxis\":{\"endlinecolor\":\"#2a3f5f\",\"gridcolor\":\"white\",\"linecolor\":\"white\",\"minorgridcolor\":\"white\",\"startlinecolor\":\"#2a3f5f\"},\"baxis\":{\"endlinecolor\":\"#2a3f5f\",\"gridcolor\":\"white\",\"linecolor\":\"white\",\"minorgridcolor\":\"white\",\"startlinecolor\":\"#2a3f5f\"},\"type\":\"carpet\"}],\"choropleth\":[{\"colorbar\":{\"outlinewidth\":0,\"ticks\":\"\"},\"type\":\"choropleth\"}],\"contourcarpet\":[{\"colorbar\":{\"outlinewidth\":0,\"ticks\":\"\"},\"type\":\"contourcarpet\"}],\"contour\":[{\"colorbar\":{\"outlinewidth\":0,\"ticks\":\"\"},\"colorscale\":[[0.0,\"#0d0887\"],[0.1111111111111111,\"#46039f\"],[0.2222222222222222,\"#7201a8\"],[0.3333333333333333,\"#9c179e\"],[0.4444444444444444,\"#bd3786\"],[0.5555555555555556,\"#d8576b\"],[0.6666666666666666,\"#ed7953\"],[0.7777777777777778,\"#fb9f3a\"],[0.8888888888888888,\"#fdca26\"],[1.0,\"#f0f921\"]],\"type\":\"contour\"}],\"heatmapgl\":[{\"colorbar\":{\"outlinewidth\":0,\"ticks\":\"\"},\"colorscale\":[[0.0,\"#0d0887\"],[0.1111111111111111,\"#46039f\"],[0.2222222222222222,\"#7201a8\"],[0.3333333333333333,\"#9c179e\"],[0.4444444444444444,\"#bd3786\"],[0.5555555555555556,\"#d8576b\"],[0.6666666666666666,\"#ed7953\"],[0.7777777777777778,\"#fb9f3a\"],[0.8888888888888888,\"#fdca26\"],[1.0,\"#f0f921\"]],\"type\":\"heatmapgl\"}],\"heatmap\":[{\"colorbar\":{\"outlinewidth\":0,\"ticks\":\"\"},\"colorscale\":[[0.0,\"#0d0887\"],[0.1111111111111111,\"#46039f\"],[0.2222222222222222,\"#7201a8\"],[0.3333333333333333,\"#9c179e\"],[0.4444444444444444,\"#bd3786\"],[0.5555555555555556,\"#d8576b\"],[0.6666666666666666,\"#ed7953\"],[0.7777777777777778,\"#fb9f3a\"],[0.8888888888888888,\"#fdca26\"],[1.0,\"#f0f921\"]],\"type\":\"heatmap\"}],\"histogram2dcontour\":[{\"colorbar\":{\"outlinewidth\":0,\"ticks\":\"\"},\"colorscale\":[[0.0,\"#0d0887\"],[0.1111111111111111,\"#46039f\"],[0.2222222222222222,\"#7201a8\"],[0.3333333333333333,\"#9c179e\"],[0.4444444444444444,\"#bd3786\"],[0.5555555555555556,\"#d8576b\"],[0.6666666666666666,\"#ed7953\"],[0.7777777777777778,\"#fb9f3a\"],[0.8888888888888888,\"#fdca26\"],[1.0,\"#f0f921\"]],\"type\":\"histogram2dcontour\"}],\"histogram2d\":[{\"colorbar\":{\"outlinewidth\":0,\"ticks\":\"\"},\"colorscale\":[[0.0,\"#0d0887\"],[0.1111111111111111,\"#46039f\"],[0.2222222222222222,\"#7201a8\"],[0.3333333333333333,\"#9c179e\"],[0.4444444444444444,\"#bd3786\"],[0.5555555555555556,\"#d8576b\"],[0.6666666666666666,\"#ed7953\"],[0.7777777777777778,\"#fb9f3a\"],[0.8888888888888888,\"#fdca26\"],[1.0,\"#f0f921\"]],\"type\":\"histogram2d\"}],\"histogram\":[{\"marker\":{\"pattern\":{\"fillmode\":\"overlay\",\"size\":10,\"solidity\":0.2}},\"type\":\"histogram\"}],\"mesh3d\":[{\"colorbar\":{\"outlinewidth\":0,\"ticks\":\"\"},\"type\":\"mesh3d\"}],\"parcoords\":[{\"line\":{\"colorbar\":{\"outlinewidth\":0,\"ticks\":\"\"}},\"type\":\"parcoords\"}],\"pie\":[{\"automargin\":true,\"type\":\"pie\"}],\"scatter3d\":[{\"line\":{\"colorbar\":{\"outlinewidth\":0,\"ticks\":\"\"}},\"marker\":{\"colorbar\":{\"outlinewidth\":0,\"ticks\":\"\"}},\"type\":\"scatter3d\"}],\"scattercarpet\":[{\"marker\":{\"colorbar\":{\"outlinewidth\":0,\"ticks\":\"\"}},\"type\":\"scattercarpet\"}],\"scattergeo\":[{\"marker\":{\"colorbar\":{\"outlinewidth\":0,\"ticks\":\"\"}},\"type\":\"scattergeo\"}],\"scattergl\":[{\"marker\":{\"colorbar\":{\"outlinewidth\":0,\"ticks\":\"\"}},\"type\":\"scattergl\"}],\"scattermapbox\":[{\"marker\":{\"colorbar\":{\"outlinewidth\":0,\"ticks\":\"\"}},\"type\":\"scattermapbox\"}],\"scatterpolargl\":[{\"marker\":{\"colorbar\":{\"outlinewidth\":0,\"ticks\":\"\"}},\"type\":\"scatterpolargl\"}],\"scatterpolar\":[{\"marker\":{\"colorbar\":{\"outlinewidth\":0,\"ticks\":\"\"}},\"type\":\"scatterpolar\"}],\"scatter\":[{\"marker\":{\"colorbar\":{\"outlinewidth\":0,\"ticks\":\"\"}},\"type\":\"scatter\"}],\"scatterternary\":[{\"marker\":{\"colorbar\":{\"outlinewidth\":0,\"ticks\":\"\"}},\"type\":\"scatterternary\"}],\"surface\":[{\"colorbar\":{\"outlinewidth\":0,\"ticks\":\"\"},\"colorscale\":[[0.0,\"#0d0887\"],[0.1111111111111111,\"#46039f\"],[0.2222222222222222,\"#7201a8\"],[0.3333333333333333,\"#9c179e\"],[0.4444444444444444,\"#bd3786\"],[0.5555555555555556,\"#d8576b\"],[0.6666666666666666,\"#ed7953\"],[0.7777777777777778,\"#fb9f3a\"],[0.8888888888888888,\"#fdca26\"],[1.0,\"#f0f921\"]],\"type\":\"surface\"}],\"table\":[{\"cells\":{\"fill\":{\"color\":\"#EBF0F8\"},\"line\":{\"color\":\"white\"}},\"header\":{\"fill\":{\"color\":\"#C8D4E3\"},\"line\":{\"color\":\"white\"}},\"type\":\"table\"}]},\"layout\":{\"annotationdefaults\":{\"arrowcolor\":\"#2a3f5f\",\"arrowhead\":0,\"arrowwidth\":1},\"autotypenumbers\":\"strict\",\"coloraxis\":{\"colorbar\":{\"outlinewidth\":0,\"ticks\":\"\"}},\"colorscale\":{\"diverging\":[[0,\"#8e0152\"],[0.1,\"#c51b7d\"],[0.2,\"#de77ae\"],[0.3,\"#f1b6da\"],[0.4,\"#fde0ef\"],[0.5,\"#f7f7f7\"],[0.6,\"#e6f5d0\"],[0.7,\"#b8e186\"],[0.8,\"#7fbc41\"],[0.9,\"#4d9221\"],[1,\"#276419\"]],\"sequential\":[[0.0,\"#0d0887\"],[0.1111111111111111,\"#46039f\"],[0.2222222222222222,\"#7201a8\"],[0.3333333333333333,\"#9c179e\"],[0.4444444444444444,\"#bd3786\"],[0.5555555555555556,\"#d8576b\"],[0.6666666666666666,\"#ed7953\"],[0.7777777777777778,\"#fb9f3a\"],[0.8888888888888888,\"#fdca26\"],[1.0,\"#f0f921\"]],\"sequentialminus\":[[0.0,\"#0d0887\"],[0.1111111111111111,\"#46039f\"],[0.2222222222222222,\"#7201a8\"],[0.3333333333333333,\"#9c179e\"],[0.4444444444444444,\"#bd3786\"],[0.5555555555555556,\"#d8576b\"],[0.6666666666666666,\"#ed7953\"],[0.7777777777777778,\"#fb9f3a\"],[0.8888888888888888,\"#fdca26\"],[1.0,\"#f0f921\"]]},\"colorway\":[\"#636efa\",\"#EF553B\",\"#00cc96\",\"#ab63fa\",\"#FFA15A\",\"#19d3f3\",\"#FF6692\",\"#B6E880\",\"#FF97FF\",\"#FECB52\"],\"font\":{\"color\":\"#2a3f5f\"},\"geo\":{\"bgcolor\":\"white\",\"lakecolor\":\"white\",\"landcolor\":\"#E5ECF6\",\"showlakes\":true,\"showland\":true,\"subunitcolor\":\"white\"},\"hoverlabel\":{\"align\":\"left\"},\"hovermode\":\"closest\",\"mapbox\":{\"style\":\"light\"},\"paper_bgcolor\":\"white\",\"plot_bgcolor\":\"#E5ECF6\",\"polar\":{\"angularaxis\":{\"gridcolor\":\"white\",\"linecolor\":\"white\",\"ticks\":\"\"},\"bgcolor\":\"#E5ECF6\",\"radialaxis\":{\"gridcolor\":\"white\",\"linecolor\":\"white\",\"ticks\":\"\"}},\"scene\":{\"xaxis\":{\"backgroundcolor\":\"#E5ECF6\",\"gridcolor\":\"white\",\"gridwidth\":2,\"linecolor\":\"white\",\"showbackground\":true,\"ticks\":\"\",\"zerolinecolor\":\"white\"},\"yaxis\":{\"backgroundcolor\":\"#E5ECF6\",\"gridcolor\":\"white\",\"gridwidth\":2,\"linecolor\":\"white\",\"showbackground\":true,\"ticks\":\"\",\"zerolinecolor\":\"white\"},\"zaxis\":{\"backgroundcolor\":\"#E5ECF6\",\"gridcolor\":\"white\",\"gridwidth\":2,\"linecolor\":\"white\",\"showbackground\":true,\"ticks\":\"\",\"zerolinecolor\":\"white\"}},\"shapedefaults\":{\"line\":{\"color\":\"#2a3f5f\"}},\"ternary\":{\"aaxis\":{\"gridcolor\":\"white\",\"linecolor\":\"white\",\"ticks\":\"\"},\"baxis\":{\"gridcolor\":\"white\",\"linecolor\":\"white\",\"ticks\":\"\"},\"bgcolor\":\"#E5ECF6\",\"caxis\":{\"gridcolor\":\"white\",\"linecolor\":\"white\",\"ticks\":\"\"}},\"title\":{\"x\":0.05},\"xaxis\":{\"automargin\":true,\"gridcolor\":\"white\",\"linecolor\":\"white\",\"ticks\":\"\",\"title\":{\"standoff\":15},\"zerolinecolor\":\"white\",\"zerolinewidth\":2},\"yaxis\":{\"automargin\":true,\"gridcolor\":\"white\",\"linecolor\":\"white\",\"ticks\":\"\",\"title\":{\"standoff\":15},\"zerolinecolor\":\"white\",\"zerolinewidth\":2}}},\"title\":{\"font\":{\"color\":\"#4D5663\"}},\"xaxis\":{\"gridcolor\":\"#E1E5ED\",\"showgrid\":true,\"tickfont\":{\"color\":\"#4D5663\"},\"title\":{\"font\":{\"color\":\"#4D5663\"},\"text\":\"\"},\"zerolinecolor\":\"#E1E5ED\"},\"yaxis\":{\"domain\":[0.3,1],\"gridcolor\":\"#E1E5ED\",\"showgrid\":true,\"tickfont\":{\"color\":\"#4D5663\"},\"title\":{\"font\":{\"color\":\"#4D5663\"},\"text\":\"\"},\"zerolinecolor\":\"#E1E5ED\"},\"yaxis2\":{\"domain\":[0,0.25],\"gridcolor\":\"#E1E5ED\",\"showgrid\":true,\"tickfont\":{\"color\":\"#4D5663\"},\"title\":{\"font\":{\"color\":\"#4D5663\"},\"text\":\"Spread\"},\"zerolinecolor\":\"#E1E5ED\"},\"xaxis2\":{\"anchor\":\"y2\",\"gridcolor\":\"#E1E5ED\",\"showgrid\":true,\"showticklabels\":false,\"tickfont\":{\"color\":\"#4D5663\"},\"title\":{\"font\":{\"color\":\"#4D5663\"},\"text\":\"\"},\"zerolinecolor\":\"#E1E5ED\"}},                        {\"showLink\": true, \"linkText\": \"Export to plot.ly\", \"plotlyServerURL\": \"https://plot.ly\", \"responsive\": true}                    ).then(function(){\n",
       "                            \n",
       "var gd = document.getElementById('c9e41602-e334-48cf-b789-75cc5a4d3c57');\n",
       "var x = new MutationObserver(function (mutations, observer) {{\n",
       "        var display = window.getComputedStyle(gd).display;\n",
       "        if (!display || display === 'none') {{\n",
       "            console.log([gd, 'removed!']);\n",
       "            Plotly.purge(gd);\n",
       "            observer.disconnect();\n",
       "        }}\n",
       "}});\n",
       "\n",
       "// Listen for the removal of the full notebook cells\n",
       "var notebookContainer = gd.closest('#notebook-container');\n",
       "if (notebookContainer) {{\n",
       "    x.observe(notebookContainer, {childList: true});\n",
       "}}\n",
       "\n",
       "// Listen for the clearing of the current output cell\n",
       "var outputEl = gd.closest('.output');\n",
       "if (outputEl) {{\n",
       "    x.observe(outputEl, {childList: true});\n",
       "}}\n",
       "\n",
       "                        })                };                });            </script>        </div>"
      ]
     },
     "metadata": {},
     "output_type": "display_data"
    },
    {
     "name": "stdout",
     "output_type": "stream",
     "text": [
      "0 A 0.09386654377961644 B 1.1340353607997995 A-B -1.040168817020183\n",
      "1 A -1.139004671822801 B 0.013006465258081384 A-B -1.1520111370808825\n",
      "2 A -0.23367563378421577 B -1.4544113520150583 A-B 1.2207357182308425\n",
      "3 A -0.8178321802841402 B 0.07672868747175726 A-B -0.8945608677558974\n",
      "4 A -1.1386693772818866 B 0.48391889321947923 A-B -1.6225882705013657\n",
      "5 A -1.6933602772163847 B 1.194788934202027 A-B -2.888149211418412\n",
      "6 A -0.340882409868143 B 0.22468133183006384 A-B -0.5655637416982069\n",
      "7 A -0.351551967954869 B 0.12551098479531267 A-B -0.4770629527501816\n",
      "8 A 1.0758340774178499 B -0.27451552388284617 A-B 1.350349601300696\n",
      "9 A -0.787595569821493 B 2.0356034926737436 A-B -2.8231990624952368\n",
      "10 A -0.4591133299503853 B 0.7173123445309864 A-B -1.1764256744813717\n",
      "11 A 0.6345527442690106 B 0.7932955472950777 A-B -0.15874280302606703\n",
      "12 A -0.0835497443856339 B -0.41502003783564156 A-B 0.33147029345000767\n",
      "13 A 0.8184263799228679 B 0.3893140303258917 A-B 0.42911234959697625\n",
      "14 A 2.3301004445919853 B 0.6193349803483303 A-B 1.710765464243655\n",
      "15 A -1.7842568978947762 B -0.7866532286313116 A-B -0.9976036692634646\n",
      "16 A 1.2519772540173484 B 1.3277002978859909 A-B -0.07572304386864248\n",
      "17 A -0.6878146559815548 B 1.5560353033408851 A-B -2.24384995932244\n",
      "18 A 0.9635311160123031 B -0.7637079816569204 A-B 1.7272390976692236\n",
      "19 A -1.8983326215126495 B 1.4955257362466297 A-B -3.393858357759279\n",
      "20 A 2.1261591546867598 B -1.3157860680447728 A-B 3.4419452227315324\n",
      "21 A 0.8941929951060387 B 0.4814511617674176 A-B 0.4127418333386211\n",
      "22 A 0.1993320335310691 B -0.6261436350263004 A-B 0.8254756685573695\n",
      "23 A 1.458215627439701 B -0.04619684870672389 A-B 1.5044124761464248\n",
      "24 A 1.4694761919905903 B 0.9371898406188366 A-B 0.5322863513717537\n",
      "25 A -0.15252157482332396 B -0.5989093165454566 A-B 0.4463877417221327\n",
      "26 A -0.07148794668059787 B 0.0062151920303784285 A-B -0.0777031387109763\n",
      "27 A -0.7635578591458244 B -0.6020029731603319 A-B -0.1615548859854925\n",
      "28 A -0.615900797268425 B -2.208256297298656 A-B 1.592355500030231\n",
      "29 A 1.7053678572999516 B 0.7399894254410262 A-B 0.9653784318589254\n"
     ]
    }
   ],
   "source": [
    "df[['A','B']].iplot(kind='spread')\n",
    "#No gráfico de Spread o valor é a diferença A e B\n",
    "\n",
    "for i in range(0,30):\n",
    "    print(i, 'A',df['A'][i], 'B',df['B'][i], 'A-B', (df['A'][i]-df['B'][i]))"
   ]
  },
  {
   "cell_type": "markdown",
   "metadata": {},
   "source": [
    "## Histograma"
   ]
  },
  {
   "cell_type": "code",
   "execution_count": 16,
   "metadata": {},
   "outputs": [
    {
     "data": {
      "application/vnd.plotly.v1+json": {
       "config": {
        "linkText": "Export to plot.ly",
        "plotlyServerURL": "https://plot.ly",
        "showLink": true
       },
       "data": [
        {
         "histfunc": "count",
         "histnorm": "",
         "marker": {
          "color": "rgba(255, 153, 51, 1.0)",
          "line": {
           "color": "#4D5663",
           "width": 1.3
          }
         },
         "name": "A",
         "nbinsx": 25,
         "opacity": 0.8,
         "orientation": "v",
         "type": "histogram",
         "x": [
          0.09386654377961644,
          -1.139004671822801,
          -0.23367563378421577,
          -0.8178321802841402,
          -1.1386693772818866,
          -1.6933602772163847,
          -0.340882409868143,
          -0.351551967954869,
          1.0758340774178499,
          -0.787595569821493,
          -0.4591133299503853,
          0.6345527442690106,
          -0.0835497443856339,
          0.8184263799228679,
          2.3301004445919853,
          -1.7842568978947762,
          1.2519772540173484,
          -0.6878146559815548,
          0.9635311160123031,
          -1.8983326215126495,
          2.1261591546867598,
          0.8941929951060387,
          0.1993320335310691,
          1.458215627439701,
          1.4694761919905903,
          -0.15252157482332396,
          -0.07148794668059787,
          -0.7635578591458244,
          -0.615900797268425,
          1.7053678572999516,
          -2.7292138631298317,
          0.933668525563834,
          -0.15968170111604396,
          0.7028590284260958,
          -1.1066058899225693,
          0.1619239233677905,
          0.2696690872716977,
          -0.8220265893588786,
          -0.33645552246354093,
          -0.07621137756404667,
          0.13301168100033228,
          -1.8700761206942498,
          0.0027439163561086524,
          1.2737410558275717,
          2.650550647922217,
          0.16841290963442426,
          -0.14149905735278132,
          -0.9644995305255604,
          -1.2604272026237753,
          0.319347044132876,
          0.56899546075684,
          1.241070964776888,
          -2.631068877305108,
          0.6652088306271956,
          -0.1867782110110191,
          -1.1025950775762114,
          -1.0816166208111249,
          0.28279051004301603,
          0.22548470390457245,
          -1.0921356640494668,
          -0.21652925585167312,
          1.2433709974704996,
          -3.1345566857767975,
          -1.4382763214819527,
          -1.1285833645782766,
          -1.2296014908982091,
          -1.7346476621463802,
          -0.9222160955908932,
          -0.1732327426597853,
          0.2976568213768825,
          0.7990801597704285,
          -0.15030976242435307,
          -0.9146846787912161,
          1.283925952969555,
          0.013167437974883985,
          1.0127366895351093,
          0.4891948168208888,
          0.42369269963044137,
          1.33102509023086,
          -1.370552114637446,
          -0.714767518480121,
          0.3750615806094237,
          0.5341559704135873,
          1.5619388793042077,
          -1.8508306253213733,
          1.3370419329169922,
          -0.7280235070437202,
          -1.1633069457494016,
          -0.5492177107383946,
          -0.5021165530681923,
          1.3629234752007997,
          1.2230320992696806,
          -0.5100791299765235,
          -2.621920527501423,
          -0.7654463508855776,
          1.497549637995718,
          -0.35601407564263093,
          1.8455499737402132,
          0.12220185490031459,
          -0.8450536569754781
         ]
        }
       ],
       "layout": {
        "barmode": "overlay",
        "legend": {
         "bgcolor": "#F5F6F9",
         "font": {
          "color": "#4D5663"
         }
        },
        "paper_bgcolor": "#F5F6F9",
        "plot_bgcolor": "#F5F6F9",
        "template": {
         "data": {
          "bar": [
           {
            "error_x": {
             "color": "#2a3f5f"
            },
            "error_y": {
             "color": "#2a3f5f"
            },
            "marker": {
             "line": {
              "color": "#E5ECF6",
              "width": 0.5
             },
             "pattern": {
              "fillmode": "overlay",
              "size": 10,
              "solidity": 0.2
             }
            },
            "type": "bar"
           }
          ],
          "barpolar": [
           {
            "marker": {
             "line": {
              "color": "#E5ECF6",
              "width": 0.5
             },
             "pattern": {
              "fillmode": "overlay",
              "size": 10,
              "solidity": 0.2
             }
            },
            "type": "barpolar"
           }
          ],
          "carpet": [
           {
            "aaxis": {
             "endlinecolor": "#2a3f5f",
             "gridcolor": "white",
             "linecolor": "white",
             "minorgridcolor": "white",
             "startlinecolor": "#2a3f5f"
            },
            "baxis": {
             "endlinecolor": "#2a3f5f",
             "gridcolor": "white",
             "linecolor": "white",
             "minorgridcolor": "white",
             "startlinecolor": "#2a3f5f"
            },
            "type": "carpet"
           }
          ],
          "choropleth": [
           {
            "colorbar": {
             "outlinewidth": 0,
             "ticks": ""
            },
            "type": "choropleth"
           }
          ],
          "contour": [
           {
            "colorbar": {
             "outlinewidth": 0,
             "ticks": ""
            },
            "colorscale": [
             [
              0,
              "#0d0887"
             ],
             [
              0.1111111111111111,
              "#46039f"
             ],
             [
              0.2222222222222222,
              "#7201a8"
             ],
             [
              0.3333333333333333,
              "#9c179e"
             ],
             [
              0.4444444444444444,
              "#bd3786"
             ],
             [
              0.5555555555555556,
              "#d8576b"
             ],
             [
              0.6666666666666666,
              "#ed7953"
             ],
             [
              0.7777777777777778,
              "#fb9f3a"
             ],
             [
              0.8888888888888888,
              "#fdca26"
             ],
             [
              1,
              "#f0f921"
             ]
            ],
            "type": "contour"
           }
          ],
          "contourcarpet": [
           {
            "colorbar": {
             "outlinewidth": 0,
             "ticks": ""
            },
            "type": "contourcarpet"
           }
          ],
          "heatmap": [
           {
            "colorbar": {
             "outlinewidth": 0,
             "ticks": ""
            },
            "colorscale": [
             [
              0,
              "#0d0887"
             ],
             [
              0.1111111111111111,
              "#46039f"
             ],
             [
              0.2222222222222222,
              "#7201a8"
             ],
             [
              0.3333333333333333,
              "#9c179e"
             ],
             [
              0.4444444444444444,
              "#bd3786"
             ],
             [
              0.5555555555555556,
              "#d8576b"
             ],
             [
              0.6666666666666666,
              "#ed7953"
             ],
             [
              0.7777777777777778,
              "#fb9f3a"
             ],
             [
              0.8888888888888888,
              "#fdca26"
             ],
             [
              1,
              "#f0f921"
             ]
            ],
            "type": "heatmap"
           }
          ],
          "heatmapgl": [
           {
            "colorbar": {
             "outlinewidth": 0,
             "ticks": ""
            },
            "colorscale": [
             [
              0,
              "#0d0887"
             ],
             [
              0.1111111111111111,
              "#46039f"
             ],
             [
              0.2222222222222222,
              "#7201a8"
             ],
             [
              0.3333333333333333,
              "#9c179e"
             ],
             [
              0.4444444444444444,
              "#bd3786"
             ],
             [
              0.5555555555555556,
              "#d8576b"
             ],
             [
              0.6666666666666666,
              "#ed7953"
             ],
             [
              0.7777777777777778,
              "#fb9f3a"
             ],
             [
              0.8888888888888888,
              "#fdca26"
             ],
             [
              1,
              "#f0f921"
             ]
            ],
            "type": "heatmapgl"
           }
          ],
          "histogram": [
           {
            "marker": {
             "pattern": {
              "fillmode": "overlay",
              "size": 10,
              "solidity": 0.2
             }
            },
            "type": "histogram"
           }
          ],
          "histogram2d": [
           {
            "colorbar": {
             "outlinewidth": 0,
             "ticks": ""
            },
            "colorscale": [
             [
              0,
              "#0d0887"
             ],
             [
              0.1111111111111111,
              "#46039f"
             ],
             [
              0.2222222222222222,
              "#7201a8"
             ],
             [
              0.3333333333333333,
              "#9c179e"
             ],
             [
              0.4444444444444444,
              "#bd3786"
             ],
             [
              0.5555555555555556,
              "#d8576b"
             ],
             [
              0.6666666666666666,
              "#ed7953"
             ],
             [
              0.7777777777777778,
              "#fb9f3a"
             ],
             [
              0.8888888888888888,
              "#fdca26"
             ],
             [
              1,
              "#f0f921"
             ]
            ],
            "type": "histogram2d"
           }
          ],
          "histogram2dcontour": [
           {
            "colorbar": {
             "outlinewidth": 0,
             "ticks": ""
            },
            "colorscale": [
             [
              0,
              "#0d0887"
             ],
             [
              0.1111111111111111,
              "#46039f"
             ],
             [
              0.2222222222222222,
              "#7201a8"
             ],
             [
              0.3333333333333333,
              "#9c179e"
             ],
             [
              0.4444444444444444,
              "#bd3786"
             ],
             [
              0.5555555555555556,
              "#d8576b"
             ],
             [
              0.6666666666666666,
              "#ed7953"
             ],
             [
              0.7777777777777778,
              "#fb9f3a"
             ],
             [
              0.8888888888888888,
              "#fdca26"
             ],
             [
              1,
              "#f0f921"
             ]
            ],
            "type": "histogram2dcontour"
           }
          ],
          "mesh3d": [
           {
            "colorbar": {
             "outlinewidth": 0,
             "ticks": ""
            },
            "type": "mesh3d"
           }
          ],
          "parcoords": [
           {
            "line": {
             "colorbar": {
              "outlinewidth": 0,
              "ticks": ""
             }
            },
            "type": "parcoords"
           }
          ],
          "pie": [
           {
            "automargin": true,
            "type": "pie"
           }
          ],
          "scatter": [
           {
            "marker": {
             "colorbar": {
              "outlinewidth": 0,
              "ticks": ""
             }
            },
            "type": "scatter"
           }
          ],
          "scatter3d": [
           {
            "line": {
             "colorbar": {
              "outlinewidth": 0,
              "ticks": ""
             }
            },
            "marker": {
             "colorbar": {
              "outlinewidth": 0,
              "ticks": ""
             }
            },
            "type": "scatter3d"
           }
          ],
          "scattercarpet": [
           {
            "marker": {
             "colorbar": {
              "outlinewidth": 0,
              "ticks": ""
             }
            },
            "type": "scattercarpet"
           }
          ],
          "scattergeo": [
           {
            "marker": {
             "colorbar": {
              "outlinewidth": 0,
              "ticks": ""
             }
            },
            "type": "scattergeo"
           }
          ],
          "scattergl": [
           {
            "marker": {
             "colorbar": {
              "outlinewidth": 0,
              "ticks": ""
             }
            },
            "type": "scattergl"
           }
          ],
          "scattermapbox": [
           {
            "marker": {
             "colorbar": {
              "outlinewidth": 0,
              "ticks": ""
             }
            },
            "type": "scattermapbox"
           }
          ],
          "scatterpolar": [
           {
            "marker": {
             "colorbar": {
              "outlinewidth": 0,
              "ticks": ""
             }
            },
            "type": "scatterpolar"
           }
          ],
          "scatterpolargl": [
           {
            "marker": {
             "colorbar": {
              "outlinewidth": 0,
              "ticks": ""
             }
            },
            "type": "scatterpolargl"
           }
          ],
          "scatterternary": [
           {
            "marker": {
             "colorbar": {
              "outlinewidth": 0,
              "ticks": ""
             }
            },
            "type": "scatterternary"
           }
          ],
          "surface": [
           {
            "colorbar": {
             "outlinewidth": 0,
             "ticks": ""
            },
            "colorscale": [
             [
              0,
              "#0d0887"
             ],
             [
              0.1111111111111111,
              "#46039f"
             ],
             [
              0.2222222222222222,
              "#7201a8"
             ],
             [
              0.3333333333333333,
              "#9c179e"
             ],
             [
              0.4444444444444444,
              "#bd3786"
             ],
             [
              0.5555555555555556,
              "#d8576b"
             ],
             [
              0.6666666666666666,
              "#ed7953"
             ],
             [
              0.7777777777777778,
              "#fb9f3a"
             ],
             [
              0.8888888888888888,
              "#fdca26"
             ],
             [
              1,
              "#f0f921"
             ]
            ],
            "type": "surface"
           }
          ],
          "table": [
           {
            "cells": {
             "fill": {
              "color": "#EBF0F8"
             },
             "line": {
              "color": "white"
             }
            },
            "header": {
             "fill": {
              "color": "#C8D4E3"
             },
             "line": {
              "color": "white"
             }
            },
            "type": "table"
           }
          ]
         },
         "layout": {
          "annotationdefaults": {
           "arrowcolor": "#2a3f5f",
           "arrowhead": 0,
           "arrowwidth": 1
          },
          "autotypenumbers": "strict",
          "coloraxis": {
           "colorbar": {
            "outlinewidth": 0,
            "ticks": ""
           }
          },
          "colorscale": {
           "diverging": [
            [
             0,
             "#8e0152"
            ],
            [
             0.1,
             "#c51b7d"
            ],
            [
             0.2,
             "#de77ae"
            ],
            [
             0.3,
             "#f1b6da"
            ],
            [
             0.4,
             "#fde0ef"
            ],
            [
             0.5,
             "#f7f7f7"
            ],
            [
             0.6,
             "#e6f5d0"
            ],
            [
             0.7,
             "#b8e186"
            ],
            [
             0.8,
             "#7fbc41"
            ],
            [
             0.9,
             "#4d9221"
            ],
            [
             1,
             "#276419"
            ]
           ],
           "sequential": [
            [
             0,
             "#0d0887"
            ],
            [
             0.1111111111111111,
             "#46039f"
            ],
            [
             0.2222222222222222,
             "#7201a8"
            ],
            [
             0.3333333333333333,
             "#9c179e"
            ],
            [
             0.4444444444444444,
             "#bd3786"
            ],
            [
             0.5555555555555556,
             "#d8576b"
            ],
            [
             0.6666666666666666,
             "#ed7953"
            ],
            [
             0.7777777777777778,
             "#fb9f3a"
            ],
            [
             0.8888888888888888,
             "#fdca26"
            ],
            [
             1,
             "#f0f921"
            ]
           ],
           "sequentialminus": [
            [
             0,
             "#0d0887"
            ],
            [
             0.1111111111111111,
             "#46039f"
            ],
            [
             0.2222222222222222,
             "#7201a8"
            ],
            [
             0.3333333333333333,
             "#9c179e"
            ],
            [
             0.4444444444444444,
             "#bd3786"
            ],
            [
             0.5555555555555556,
             "#d8576b"
            ],
            [
             0.6666666666666666,
             "#ed7953"
            ],
            [
             0.7777777777777778,
             "#fb9f3a"
            ],
            [
             0.8888888888888888,
             "#fdca26"
            ],
            [
             1,
             "#f0f921"
            ]
           ]
          },
          "colorway": [
           "#636efa",
           "#EF553B",
           "#00cc96",
           "#ab63fa",
           "#FFA15A",
           "#19d3f3",
           "#FF6692",
           "#B6E880",
           "#FF97FF",
           "#FECB52"
          ],
          "font": {
           "color": "#2a3f5f"
          },
          "geo": {
           "bgcolor": "white",
           "lakecolor": "white",
           "landcolor": "#E5ECF6",
           "showlakes": true,
           "showland": true,
           "subunitcolor": "white"
          },
          "hoverlabel": {
           "align": "left"
          },
          "hovermode": "closest",
          "mapbox": {
           "style": "light"
          },
          "paper_bgcolor": "white",
          "plot_bgcolor": "#E5ECF6",
          "polar": {
           "angularaxis": {
            "gridcolor": "white",
            "linecolor": "white",
            "ticks": ""
           },
           "bgcolor": "#E5ECF6",
           "radialaxis": {
            "gridcolor": "white",
            "linecolor": "white",
            "ticks": ""
           }
          },
          "scene": {
           "xaxis": {
            "backgroundcolor": "#E5ECF6",
            "gridcolor": "white",
            "gridwidth": 2,
            "linecolor": "white",
            "showbackground": true,
            "ticks": "",
            "zerolinecolor": "white"
           },
           "yaxis": {
            "backgroundcolor": "#E5ECF6",
            "gridcolor": "white",
            "gridwidth": 2,
            "linecolor": "white",
            "showbackground": true,
            "ticks": "",
            "zerolinecolor": "white"
           },
           "zaxis": {
            "backgroundcolor": "#E5ECF6",
            "gridcolor": "white",
            "gridwidth": 2,
            "linecolor": "white",
            "showbackground": true,
            "ticks": "",
            "zerolinecolor": "white"
           }
          },
          "shapedefaults": {
           "line": {
            "color": "#2a3f5f"
           }
          },
          "ternary": {
           "aaxis": {
            "gridcolor": "white",
            "linecolor": "white",
            "ticks": ""
           },
           "baxis": {
            "gridcolor": "white",
            "linecolor": "white",
            "ticks": ""
           },
           "bgcolor": "#E5ECF6",
           "caxis": {
            "gridcolor": "white",
            "linecolor": "white",
            "ticks": ""
           }
          },
          "title": {
           "x": 0.05
          },
          "xaxis": {
           "automargin": true,
           "gridcolor": "white",
           "linecolor": "white",
           "ticks": "",
           "title": {
            "standoff": 15
           },
           "zerolinecolor": "white",
           "zerolinewidth": 2
          },
          "yaxis": {
           "automargin": true,
           "gridcolor": "white",
           "linecolor": "white",
           "ticks": "",
           "title": {
            "standoff": 15
           },
           "zerolinecolor": "white",
           "zerolinewidth": 2
          }
         }
        },
        "title": {
         "font": {
          "color": "#4D5663"
         }
        },
        "xaxis": {
         "gridcolor": "#E1E5ED",
         "showgrid": true,
         "tickfont": {
          "color": "#4D5663"
         },
         "title": {
          "font": {
           "color": "#4D5663"
          },
          "text": ""
         },
         "zerolinecolor": "#E1E5ED"
        },
        "yaxis": {
         "gridcolor": "#E1E5ED",
         "showgrid": true,
         "tickfont": {
          "color": "#4D5663"
         },
         "title": {
          "font": {
           "color": "#4D5663"
          },
          "text": ""
         },
         "zerolinecolor": "#E1E5ED"
        }
       }
      },
      "text/html": [
       "<div>                            <div id=\"e03810f5-edab-4f16-90a3-dd2a5790d513\" class=\"plotly-graph-div\" style=\"height:525px; width:100%;\"></div>            <script type=\"text/javascript\">                require([\"plotly\"], function(Plotly) {                    window.PLOTLYENV=window.PLOTLYENV || {};\n",
       "                    window.PLOTLYENV.BASE_URL='https://plot.ly';                                    if (document.getElementById(\"e03810f5-edab-4f16-90a3-dd2a5790d513\")) {                    Plotly.newPlot(                        \"e03810f5-edab-4f16-90a3-dd2a5790d513\",                        [{\"histfunc\":\"count\",\"histnorm\":\"\",\"marker\":{\"color\":\"rgba(255, 153, 51, 1.0)\",\"line\":{\"color\":\"#4D5663\",\"width\":1.3}},\"name\":\"A\",\"nbinsx\":25,\"opacity\":0.8,\"orientation\":\"v\",\"x\":[0.09386654377961644,-1.139004671822801,-0.23367563378421577,-0.8178321802841402,-1.1386693772818866,-1.6933602772163847,-0.340882409868143,-0.351551967954869,1.0758340774178499,-0.787595569821493,-0.4591133299503853,0.6345527442690106,-0.0835497443856339,0.8184263799228679,2.3301004445919853,-1.7842568978947762,1.2519772540173484,-0.6878146559815548,0.9635311160123031,-1.8983326215126495,2.1261591546867598,0.8941929951060387,0.1993320335310691,1.458215627439701,1.4694761919905903,-0.15252157482332396,-0.07148794668059787,-0.7635578591458244,-0.615900797268425,1.7053678572999516,-2.7292138631298317,0.933668525563834,-0.15968170111604396,0.7028590284260958,-1.1066058899225693,0.1619239233677905,0.2696690872716977,-0.8220265893588786,-0.33645552246354093,-0.07621137756404667,0.13301168100033228,-1.8700761206942498,0.0027439163561086524,1.2737410558275717,2.650550647922217,0.16841290963442426,-0.14149905735278132,-0.9644995305255604,-1.2604272026237753,0.319347044132876,0.56899546075684,1.241070964776888,-2.631068877305108,0.6652088306271956,-0.1867782110110191,-1.1025950775762114,-1.0816166208111249,0.28279051004301603,0.22548470390457245,-1.0921356640494668,-0.21652925585167312,1.2433709974704996,-3.1345566857767975,-1.4382763214819527,-1.1285833645782766,-1.2296014908982091,-1.7346476621463802,-0.9222160955908932,-0.1732327426597853,0.2976568213768825,0.7990801597704285,-0.15030976242435307,-0.9146846787912161,1.283925952969555,0.013167437974883985,1.0127366895351093,0.4891948168208888,0.42369269963044137,1.33102509023086,-1.370552114637446,-0.714767518480121,0.3750615806094237,0.5341559704135873,1.5619388793042077,-1.8508306253213733,1.3370419329169922,-0.7280235070437202,-1.1633069457494016,-0.5492177107383946,-0.5021165530681923,1.3629234752007997,1.2230320992696806,-0.5100791299765235,-2.621920527501423,-0.7654463508855776,1.497549637995718,-0.35601407564263093,1.8455499737402132,0.12220185490031459,-0.8450536569754781],\"type\":\"histogram\"}],                        {\"barmode\":\"overlay\",\"legend\":{\"bgcolor\":\"#F5F6F9\",\"font\":{\"color\":\"#4D5663\"}},\"paper_bgcolor\":\"#F5F6F9\",\"plot_bgcolor\":\"#F5F6F9\",\"template\":{\"data\":{\"barpolar\":[{\"marker\":{\"line\":{\"color\":\"#E5ECF6\",\"width\":0.5},\"pattern\":{\"fillmode\":\"overlay\",\"size\":10,\"solidity\":0.2}},\"type\":\"barpolar\"}],\"bar\":[{\"error_x\":{\"color\":\"#2a3f5f\"},\"error_y\":{\"color\":\"#2a3f5f\"},\"marker\":{\"line\":{\"color\":\"#E5ECF6\",\"width\":0.5},\"pattern\":{\"fillmode\":\"overlay\",\"size\":10,\"solidity\":0.2}},\"type\":\"bar\"}],\"carpet\":[{\"aaxis\":{\"endlinecolor\":\"#2a3f5f\",\"gridcolor\":\"white\",\"linecolor\":\"white\",\"minorgridcolor\":\"white\",\"startlinecolor\":\"#2a3f5f\"},\"baxis\":{\"endlinecolor\":\"#2a3f5f\",\"gridcolor\":\"white\",\"linecolor\":\"white\",\"minorgridcolor\":\"white\",\"startlinecolor\":\"#2a3f5f\"},\"type\":\"carpet\"}],\"choropleth\":[{\"colorbar\":{\"outlinewidth\":0,\"ticks\":\"\"},\"type\":\"choropleth\"}],\"contourcarpet\":[{\"colorbar\":{\"outlinewidth\":0,\"ticks\":\"\"},\"type\":\"contourcarpet\"}],\"contour\":[{\"colorbar\":{\"outlinewidth\":0,\"ticks\":\"\"},\"colorscale\":[[0.0,\"#0d0887\"],[0.1111111111111111,\"#46039f\"],[0.2222222222222222,\"#7201a8\"],[0.3333333333333333,\"#9c179e\"],[0.4444444444444444,\"#bd3786\"],[0.5555555555555556,\"#d8576b\"],[0.6666666666666666,\"#ed7953\"],[0.7777777777777778,\"#fb9f3a\"],[0.8888888888888888,\"#fdca26\"],[1.0,\"#f0f921\"]],\"type\":\"contour\"}],\"heatmapgl\":[{\"colorbar\":{\"outlinewidth\":0,\"ticks\":\"\"},\"colorscale\":[[0.0,\"#0d0887\"],[0.1111111111111111,\"#46039f\"],[0.2222222222222222,\"#7201a8\"],[0.3333333333333333,\"#9c179e\"],[0.4444444444444444,\"#bd3786\"],[0.5555555555555556,\"#d8576b\"],[0.6666666666666666,\"#ed7953\"],[0.7777777777777778,\"#fb9f3a\"],[0.8888888888888888,\"#fdca26\"],[1.0,\"#f0f921\"]],\"type\":\"heatmapgl\"}],\"heatmap\":[{\"colorbar\":{\"outlinewidth\":0,\"ticks\":\"\"},\"colorscale\":[[0.0,\"#0d0887\"],[0.1111111111111111,\"#46039f\"],[0.2222222222222222,\"#7201a8\"],[0.3333333333333333,\"#9c179e\"],[0.4444444444444444,\"#bd3786\"],[0.5555555555555556,\"#d8576b\"],[0.6666666666666666,\"#ed7953\"],[0.7777777777777778,\"#fb9f3a\"],[0.8888888888888888,\"#fdca26\"],[1.0,\"#f0f921\"]],\"type\":\"heatmap\"}],\"histogram2dcontour\":[{\"colorbar\":{\"outlinewidth\":0,\"ticks\":\"\"},\"colorscale\":[[0.0,\"#0d0887\"],[0.1111111111111111,\"#46039f\"],[0.2222222222222222,\"#7201a8\"],[0.3333333333333333,\"#9c179e\"],[0.4444444444444444,\"#bd3786\"],[0.5555555555555556,\"#d8576b\"],[0.6666666666666666,\"#ed7953\"],[0.7777777777777778,\"#fb9f3a\"],[0.8888888888888888,\"#fdca26\"],[1.0,\"#f0f921\"]],\"type\":\"histogram2dcontour\"}],\"histogram2d\":[{\"colorbar\":{\"outlinewidth\":0,\"ticks\":\"\"},\"colorscale\":[[0.0,\"#0d0887\"],[0.1111111111111111,\"#46039f\"],[0.2222222222222222,\"#7201a8\"],[0.3333333333333333,\"#9c179e\"],[0.4444444444444444,\"#bd3786\"],[0.5555555555555556,\"#d8576b\"],[0.6666666666666666,\"#ed7953\"],[0.7777777777777778,\"#fb9f3a\"],[0.8888888888888888,\"#fdca26\"],[1.0,\"#f0f921\"]],\"type\":\"histogram2d\"}],\"histogram\":[{\"marker\":{\"pattern\":{\"fillmode\":\"overlay\",\"size\":10,\"solidity\":0.2}},\"type\":\"histogram\"}],\"mesh3d\":[{\"colorbar\":{\"outlinewidth\":0,\"ticks\":\"\"},\"type\":\"mesh3d\"}],\"parcoords\":[{\"line\":{\"colorbar\":{\"outlinewidth\":0,\"ticks\":\"\"}},\"type\":\"parcoords\"}],\"pie\":[{\"automargin\":true,\"type\":\"pie\"}],\"scatter3d\":[{\"line\":{\"colorbar\":{\"outlinewidth\":0,\"ticks\":\"\"}},\"marker\":{\"colorbar\":{\"outlinewidth\":0,\"ticks\":\"\"}},\"type\":\"scatter3d\"}],\"scattercarpet\":[{\"marker\":{\"colorbar\":{\"outlinewidth\":0,\"ticks\":\"\"}},\"type\":\"scattercarpet\"}],\"scattergeo\":[{\"marker\":{\"colorbar\":{\"outlinewidth\":0,\"ticks\":\"\"}},\"type\":\"scattergeo\"}],\"scattergl\":[{\"marker\":{\"colorbar\":{\"outlinewidth\":0,\"ticks\":\"\"}},\"type\":\"scattergl\"}],\"scattermapbox\":[{\"marker\":{\"colorbar\":{\"outlinewidth\":0,\"ticks\":\"\"}},\"type\":\"scattermapbox\"}],\"scatterpolargl\":[{\"marker\":{\"colorbar\":{\"outlinewidth\":0,\"ticks\":\"\"}},\"type\":\"scatterpolargl\"}],\"scatterpolar\":[{\"marker\":{\"colorbar\":{\"outlinewidth\":0,\"ticks\":\"\"}},\"type\":\"scatterpolar\"}],\"scatter\":[{\"marker\":{\"colorbar\":{\"outlinewidth\":0,\"ticks\":\"\"}},\"type\":\"scatter\"}],\"scatterternary\":[{\"marker\":{\"colorbar\":{\"outlinewidth\":0,\"ticks\":\"\"}},\"type\":\"scatterternary\"}],\"surface\":[{\"colorbar\":{\"outlinewidth\":0,\"ticks\":\"\"},\"colorscale\":[[0.0,\"#0d0887\"],[0.1111111111111111,\"#46039f\"],[0.2222222222222222,\"#7201a8\"],[0.3333333333333333,\"#9c179e\"],[0.4444444444444444,\"#bd3786\"],[0.5555555555555556,\"#d8576b\"],[0.6666666666666666,\"#ed7953\"],[0.7777777777777778,\"#fb9f3a\"],[0.8888888888888888,\"#fdca26\"],[1.0,\"#f0f921\"]],\"type\":\"surface\"}],\"table\":[{\"cells\":{\"fill\":{\"color\":\"#EBF0F8\"},\"line\":{\"color\":\"white\"}},\"header\":{\"fill\":{\"color\":\"#C8D4E3\"},\"line\":{\"color\":\"white\"}},\"type\":\"table\"}]},\"layout\":{\"annotationdefaults\":{\"arrowcolor\":\"#2a3f5f\",\"arrowhead\":0,\"arrowwidth\":1},\"autotypenumbers\":\"strict\",\"coloraxis\":{\"colorbar\":{\"outlinewidth\":0,\"ticks\":\"\"}},\"colorscale\":{\"diverging\":[[0,\"#8e0152\"],[0.1,\"#c51b7d\"],[0.2,\"#de77ae\"],[0.3,\"#f1b6da\"],[0.4,\"#fde0ef\"],[0.5,\"#f7f7f7\"],[0.6,\"#e6f5d0\"],[0.7,\"#b8e186\"],[0.8,\"#7fbc41\"],[0.9,\"#4d9221\"],[1,\"#276419\"]],\"sequential\":[[0.0,\"#0d0887\"],[0.1111111111111111,\"#46039f\"],[0.2222222222222222,\"#7201a8\"],[0.3333333333333333,\"#9c179e\"],[0.4444444444444444,\"#bd3786\"],[0.5555555555555556,\"#d8576b\"],[0.6666666666666666,\"#ed7953\"],[0.7777777777777778,\"#fb9f3a\"],[0.8888888888888888,\"#fdca26\"],[1.0,\"#f0f921\"]],\"sequentialminus\":[[0.0,\"#0d0887\"],[0.1111111111111111,\"#46039f\"],[0.2222222222222222,\"#7201a8\"],[0.3333333333333333,\"#9c179e\"],[0.4444444444444444,\"#bd3786\"],[0.5555555555555556,\"#d8576b\"],[0.6666666666666666,\"#ed7953\"],[0.7777777777777778,\"#fb9f3a\"],[0.8888888888888888,\"#fdca26\"],[1.0,\"#f0f921\"]]},\"colorway\":[\"#636efa\",\"#EF553B\",\"#00cc96\",\"#ab63fa\",\"#FFA15A\",\"#19d3f3\",\"#FF6692\",\"#B6E880\",\"#FF97FF\",\"#FECB52\"],\"font\":{\"color\":\"#2a3f5f\"},\"geo\":{\"bgcolor\":\"white\",\"lakecolor\":\"white\",\"landcolor\":\"#E5ECF6\",\"showlakes\":true,\"showland\":true,\"subunitcolor\":\"white\"},\"hoverlabel\":{\"align\":\"left\"},\"hovermode\":\"closest\",\"mapbox\":{\"style\":\"light\"},\"paper_bgcolor\":\"white\",\"plot_bgcolor\":\"#E5ECF6\",\"polar\":{\"angularaxis\":{\"gridcolor\":\"white\",\"linecolor\":\"white\",\"ticks\":\"\"},\"bgcolor\":\"#E5ECF6\",\"radialaxis\":{\"gridcolor\":\"white\",\"linecolor\":\"white\",\"ticks\":\"\"}},\"scene\":{\"xaxis\":{\"backgroundcolor\":\"#E5ECF6\",\"gridcolor\":\"white\",\"gridwidth\":2,\"linecolor\":\"white\",\"showbackground\":true,\"ticks\":\"\",\"zerolinecolor\":\"white\"},\"yaxis\":{\"backgroundcolor\":\"#E5ECF6\",\"gridcolor\":\"white\",\"gridwidth\":2,\"linecolor\":\"white\",\"showbackground\":true,\"ticks\":\"\",\"zerolinecolor\":\"white\"},\"zaxis\":{\"backgroundcolor\":\"#E5ECF6\",\"gridcolor\":\"white\",\"gridwidth\":2,\"linecolor\":\"white\",\"showbackground\":true,\"ticks\":\"\",\"zerolinecolor\":\"white\"}},\"shapedefaults\":{\"line\":{\"color\":\"#2a3f5f\"}},\"ternary\":{\"aaxis\":{\"gridcolor\":\"white\",\"linecolor\":\"white\",\"ticks\":\"\"},\"baxis\":{\"gridcolor\":\"white\",\"linecolor\":\"white\",\"ticks\":\"\"},\"bgcolor\":\"#E5ECF6\",\"caxis\":{\"gridcolor\":\"white\",\"linecolor\":\"white\",\"ticks\":\"\"}},\"title\":{\"x\":0.05},\"xaxis\":{\"automargin\":true,\"gridcolor\":\"white\",\"linecolor\":\"white\",\"ticks\":\"\",\"title\":{\"standoff\":15},\"zerolinecolor\":\"white\",\"zerolinewidth\":2},\"yaxis\":{\"automargin\":true,\"gridcolor\":\"white\",\"linecolor\":\"white\",\"ticks\":\"\",\"title\":{\"standoff\":15},\"zerolinecolor\":\"white\",\"zerolinewidth\":2}}},\"title\":{\"font\":{\"color\":\"#4D5663\"}},\"xaxis\":{\"gridcolor\":\"#E1E5ED\",\"showgrid\":true,\"tickfont\":{\"color\":\"#4D5663\"},\"title\":{\"font\":{\"color\":\"#4D5663\"},\"text\":\"\"},\"zerolinecolor\":\"#E1E5ED\"},\"yaxis\":{\"gridcolor\":\"#E1E5ED\",\"showgrid\":true,\"tickfont\":{\"color\":\"#4D5663\"},\"title\":{\"font\":{\"color\":\"#4D5663\"},\"text\":\"\"},\"zerolinecolor\":\"#E1E5ED\"}},                        {\"showLink\": true, \"linkText\": \"Export to plot.ly\", \"plotlyServerURL\": \"https://plot.ly\", \"responsive\": true}                    ).then(function(){\n",
       "                            \n",
       "var gd = document.getElementById('e03810f5-edab-4f16-90a3-dd2a5790d513');\n",
       "var x = new MutationObserver(function (mutations, observer) {{\n",
       "        var display = window.getComputedStyle(gd).display;\n",
       "        if (!display || display === 'none') {{\n",
       "            console.log([gd, 'removed!']);\n",
       "            Plotly.purge(gd);\n",
       "            observer.disconnect();\n",
       "        }}\n",
       "}});\n",
       "\n",
       "// Listen for the removal of the full notebook cells\n",
       "var notebookContainer = gd.closest('#notebook-container');\n",
       "if (notebookContainer) {{\n",
       "    x.observe(notebookContainer, {childList: true});\n",
       "}}\n",
       "\n",
       "// Listen for the clearing of the current output cell\n",
       "var outputEl = gd.closest('.output');\n",
       "if (outputEl) {{\n",
       "    x.observe(outputEl, {childList: true});\n",
       "}}\n",
       "\n",
       "                        })                };                });            </script>        </div>"
      ]
     },
     "metadata": {},
     "output_type": "display_data"
    }
   ],
   "source": [
    "df['A'].iplot(kind='hist',bins=25)"
   ]
  },
  {
   "cell_type": "markdown",
   "metadata": {},
   "source": [
    "## Bolha"
   ]
  },
  {
   "cell_type": "code",
   "execution_count": 17,
   "metadata": {},
   "outputs": [
    {
     "data": {
      "application/vnd.plotly.v1+json": {
       "config": {
        "linkText": "Export to plot.ly",
        "plotlyServerURL": "https://plot.ly",
        "showLink": true
       },
       "data": [
        {
         "marker": {
          "color": [
           "rgb(255, 153, 51)",
           "rgb(55, 128, 191)",
           "rgb(50, 171, 96)",
           "rgb(128, 0, 128)",
           "rgb(219, 64, 82)",
           "rgb(0, 128, 128)",
           "rgb(255, 255, 51)",
           "rgb(128, 128, 0)",
           "rgb(251, 128, 114)",
           "rgb(128, 177, 211)"
          ],
          "line": {
           "width": 1.3
          },
          "size": [
           44,
           23,
           60,
           64,
           62,
           68,
           65,
           46,
           43,
           92,
           36,
           64,
           112,
           29,
           50,
           67,
           46,
           40,
           56,
           42,
           12,
           60,
           30,
           90,
           39,
           80,
           47,
           30,
           24,
           58,
           29,
           59,
           47,
           78,
           22,
           60,
           49,
           54,
           76,
           49,
           72,
           75,
           24,
           32,
           75,
           50,
           49,
           79,
           59,
           47,
           42,
           78,
           23,
           35,
           61,
           36,
           47,
           56,
           19,
           48,
           24,
           64,
           68,
           25,
           47,
           49,
           36,
           60,
           43,
           64,
           95,
           44,
           61,
           58,
           54,
           68,
           70,
           53,
           50,
           67,
           82,
           63,
           64,
           38,
           32,
           26,
           49,
           30,
           44,
           31,
           42,
           87,
           30,
           39,
           57,
           73,
           50,
           90,
           81,
           52
          ],
          "symbol": "circle"
         },
         "mode": "markers",
         "text": "",
         "type": "scatter",
         "x": [
          0.09386654377961644,
          -1.139004671822801,
          -0.23367563378421577,
          -0.8178321802841402,
          -1.1386693772818866,
          -1.6933602772163847,
          -0.340882409868143,
          -0.351551967954869,
          1.0758340774178499,
          -0.787595569821493,
          -0.4591133299503853,
          0.6345527442690106,
          -0.0835497443856339,
          0.8184263799228679,
          2.3301004445919853,
          -1.7842568978947762,
          1.2519772540173484,
          -0.6878146559815548,
          0.9635311160123031,
          -1.8983326215126495,
          2.1261591546867598,
          0.8941929951060387,
          0.1993320335310691,
          1.458215627439701,
          1.4694761919905903,
          -0.15252157482332396,
          -0.07148794668059787,
          -0.7635578591458244,
          -0.615900797268425,
          1.7053678572999516,
          -2.7292138631298317,
          0.933668525563834,
          -0.15968170111604396,
          0.7028590284260958,
          -1.1066058899225693,
          0.1619239233677905,
          0.2696690872716977,
          -0.8220265893588786,
          -0.33645552246354093,
          -0.07621137756404667,
          0.13301168100033228,
          -1.8700761206942498,
          0.0027439163561086524,
          1.2737410558275717,
          2.650550647922217,
          0.16841290963442426,
          -0.14149905735278132,
          -0.9644995305255604,
          -1.2604272026237753,
          0.319347044132876,
          0.56899546075684,
          1.241070964776888,
          -2.631068877305108,
          0.6652088306271956,
          -0.1867782110110191,
          -1.1025950775762114,
          -1.0816166208111249,
          0.28279051004301603,
          0.22548470390457245,
          -1.0921356640494668,
          -0.21652925585167312,
          1.2433709974704996,
          -3.1345566857767975,
          -1.4382763214819527,
          -1.1285833645782766,
          -1.2296014908982091,
          -1.7346476621463802,
          -0.9222160955908932,
          -0.1732327426597853,
          0.2976568213768825,
          0.7990801597704285,
          -0.15030976242435307,
          -0.9146846787912161,
          1.283925952969555,
          0.013167437974883985,
          1.0127366895351093,
          0.4891948168208888,
          0.42369269963044137,
          1.33102509023086,
          -1.370552114637446,
          -0.714767518480121,
          0.3750615806094237,
          0.5341559704135873,
          1.5619388793042077,
          -1.8508306253213733,
          1.3370419329169922,
          -0.7280235070437202,
          -1.1633069457494016,
          -0.5492177107383946,
          -0.5021165530681923,
          1.3629234752007997,
          1.2230320992696806,
          -0.5100791299765235,
          -2.621920527501423,
          -0.7654463508855776,
          1.497549637995718,
          -0.35601407564263093,
          1.8455499737402132,
          0.12220185490031459,
          -0.8450536569754781
         ],
         "y": [
          1.1340353607997995,
          0.013006465258081384,
          -1.4544113520150583,
          0.07672868747175726,
          0.48391889321947923,
          1.194788934202027,
          0.22468133183006384,
          0.12551098479531267,
          -0.27451552388284617,
          2.0356034926737436,
          0.7173123445309864,
          0.7932955472950777,
          -0.41502003783564156,
          0.3893140303258917,
          0.6193349803483303,
          -0.7866532286313116,
          1.3277002978859909,
          1.5560353033408851,
          -0.7637079816569204,
          1.4955257362466297,
          -1.3157860680447728,
          0.4814511617674176,
          -0.6261436350263004,
          -0.04619684870672389,
          0.9371898406188366,
          -0.5989093165454566,
          0.0062151920303784285,
          -0.6020029731603319,
          -2.208256297298656,
          0.7399894254410262,
          1.0860142458716426,
          -1.21065622295551,
          -0.09588287071653072,
          -1.2263598161115243,
          1.8299597122438265,
          -0.11413820163249909,
          -0.06935353377663811,
          1.5166820871775397,
          1.1795924483053237,
          -1.6027402892601654,
          0.12794276660807943,
          1.516455861068911,
          2.5031970959043703,
          -0.67197527259152,
          -0.729446552836332,
          -0.03227595217765168,
          0.6382184051655801,
          0.7079866983022988,
          -0.4630846645711651,
          -0.12042104592526794,
          0.818865391037555,
          -0.00456154244896449,
          -0.1454955215538559,
          0.82370762397494,
          1.1263911654451604,
          0.6957075242555208,
          -0.8809740163523293,
          0.13402287027597873,
          0.014942003469062437,
          0.5804442219882356,
          0.9941911200090845,
          0.7290166511006079,
          -0.19075826249149594,
          -0.3918900162987637,
          1.333464552078728,
          -0.14873129227566592,
          -2.705689931089558,
          -0.7259691233913627,
          1.0168910947228955,
          0.7873734558033054,
          0.026171372184366572,
          0.12996314877041218,
          1.6580005079219238,
          -0.44171738051397963,
          -0.0213341973283803,
          1.0895618776272844,
          -1.4783218403668337,
          -0.8051304132435134,
          0.9531400624960661,
          0.8574565198195986,
          1.267699008904015,
          -1.0931040378118888,
          0.5145903925372172,
          0.7628372620473755,
          -0.6581011595882967,
          1.2632260819909658,
          -1.2555456014903983,
          -0.9356552111274646,
          -0.3691646696574371,
          0.3709105437574881,
          1.0912030100326888,
          -0.9904125304371655,
          -1.2409751278186256,
          1.2795751598938199,
          1.0106178022864407,
          -0.03939033921404506,
          2.7754656697884035,
          -0.3644327979796833,
          1.5226149656513353,
          -1.5568377097308161
         ]
        }
       ],
       "layout": {
        "legend": {
         "bgcolor": "#F5F6F9",
         "font": {
          "color": "#4D5663"
         }
        },
        "paper_bgcolor": "#F5F6F9",
        "plot_bgcolor": "#F5F6F9",
        "template": {
         "data": {
          "bar": [
           {
            "error_x": {
             "color": "#2a3f5f"
            },
            "error_y": {
             "color": "#2a3f5f"
            },
            "marker": {
             "line": {
              "color": "#E5ECF6",
              "width": 0.5
             },
             "pattern": {
              "fillmode": "overlay",
              "size": 10,
              "solidity": 0.2
             }
            },
            "type": "bar"
           }
          ],
          "barpolar": [
           {
            "marker": {
             "line": {
              "color": "#E5ECF6",
              "width": 0.5
             },
             "pattern": {
              "fillmode": "overlay",
              "size": 10,
              "solidity": 0.2
             }
            },
            "type": "barpolar"
           }
          ],
          "carpet": [
           {
            "aaxis": {
             "endlinecolor": "#2a3f5f",
             "gridcolor": "white",
             "linecolor": "white",
             "minorgridcolor": "white",
             "startlinecolor": "#2a3f5f"
            },
            "baxis": {
             "endlinecolor": "#2a3f5f",
             "gridcolor": "white",
             "linecolor": "white",
             "minorgridcolor": "white",
             "startlinecolor": "#2a3f5f"
            },
            "type": "carpet"
           }
          ],
          "choropleth": [
           {
            "colorbar": {
             "outlinewidth": 0,
             "ticks": ""
            },
            "type": "choropleth"
           }
          ],
          "contour": [
           {
            "colorbar": {
             "outlinewidth": 0,
             "ticks": ""
            },
            "colorscale": [
             [
              0,
              "#0d0887"
             ],
             [
              0.1111111111111111,
              "#46039f"
             ],
             [
              0.2222222222222222,
              "#7201a8"
             ],
             [
              0.3333333333333333,
              "#9c179e"
             ],
             [
              0.4444444444444444,
              "#bd3786"
             ],
             [
              0.5555555555555556,
              "#d8576b"
             ],
             [
              0.6666666666666666,
              "#ed7953"
             ],
             [
              0.7777777777777778,
              "#fb9f3a"
             ],
             [
              0.8888888888888888,
              "#fdca26"
             ],
             [
              1,
              "#f0f921"
             ]
            ],
            "type": "contour"
           }
          ],
          "contourcarpet": [
           {
            "colorbar": {
             "outlinewidth": 0,
             "ticks": ""
            },
            "type": "contourcarpet"
           }
          ],
          "heatmap": [
           {
            "colorbar": {
             "outlinewidth": 0,
             "ticks": ""
            },
            "colorscale": [
             [
              0,
              "#0d0887"
             ],
             [
              0.1111111111111111,
              "#46039f"
             ],
             [
              0.2222222222222222,
              "#7201a8"
             ],
             [
              0.3333333333333333,
              "#9c179e"
             ],
             [
              0.4444444444444444,
              "#bd3786"
             ],
             [
              0.5555555555555556,
              "#d8576b"
             ],
             [
              0.6666666666666666,
              "#ed7953"
             ],
             [
              0.7777777777777778,
              "#fb9f3a"
             ],
             [
              0.8888888888888888,
              "#fdca26"
             ],
             [
              1,
              "#f0f921"
             ]
            ],
            "type": "heatmap"
           }
          ],
          "heatmapgl": [
           {
            "colorbar": {
             "outlinewidth": 0,
             "ticks": ""
            },
            "colorscale": [
             [
              0,
              "#0d0887"
             ],
             [
              0.1111111111111111,
              "#46039f"
             ],
             [
              0.2222222222222222,
              "#7201a8"
             ],
             [
              0.3333333333333333,
              "#9c179e"
             ],
             [
              0.4444444444444444,
              "#bd3786"
             ],
             [
              0.5555555555555556,
              "#d8576b"
             ],
             [
              0.6666666666666666,
              "#ed7953"
             ],
             [
              0.7777777777777778,
              "#fb9f3a"
             ],
             [
              0.8888888888888888,
              "#fdca26"
             ],
             [
              1,
              "#f0f921"
             ]
            ],
            "type": "heatmapgl"
           }
          ],
          "histogram": [
           {
            "marker": {
             "pattern": {
              "fillmode": "overlay",
              "size": 10,
              "solidity": 0.2
             }
            },
            "type": "histogram"
           }
          ],
          "histogram2d": [
           {
            "colorbar": {
             "outlinewidth": 0,
             "ticks": ""
            },
            "colorscale": [
             [
              0,
              "#0d0887"
             ],
             [
              0.1111111111111111,
              "#46039f"
             ],
             [
              0.2222222222222222,
              "#7201a8"
             ],
             [
              0.3333333333333333,
              "#9c179e"
             ],
             [
              0.4444444444444444,
              "#bd3786"
             ],
             [
              0.5555555555555556,
              "#d8576b"
             ],
             [
              0.6666666666666666,
              "#ed7953"
             ],
             [
              0.7777777777777778,
              "#fb9f3a"
             ],
             [
              0.8888888888888888,
              "#fdca26"
             ],
             [
              1,
              "#f0f921"
             ]
            ],
            "type": "histogram2d"
           }
          ],
          "histogram2dcontour": [
           {
            "colorbar": {
             "outlinewidth": 0,
             "ticks": ""
            },
            "colorscale": [
             [
              0,
              "#0d0887"
             ],
             [
              0.1111111111111111,
              "#46039f"
             ],
             [
              0.2222222222222222,
              "#7201a8"
             ],
             [
              0.3333333333333333,
              "#9c179e"
             ],
             [
              0.4444444444444444,
              "#bd3786"
             ],
             [
              0.5555555555555556,
              "#d8576b"
             ],
             [
              0.6666666666666666,
              "#ed7953"
             ],
             [
              0.7777777777777778,
              "#fb9f3a"
             ],
             [
              0.8888888888888888,
              "#fdca26"
             ],
             [
              1,
              "#f0f921"
             ]
            ],
            "type": "histogram2dcontour"
           }
          ],
          "mesh3d": [
           {
            "colorbar": {
             "outlinewidth": 0,
             "ticks": ""
            },
            "type": "mesh3d"
           }
          ],
          "parcoords": [
           {
            "line": {
             "colorbar": {
              "outlinewidth": 0,
              "ticks": ""
             }
            },
            "type": "parcoords"
           }
          ],
          "pie": [
           {
            "automargin": true,
            "type": "pie"
           }
          ],
          "scatter": [
           {
            "marker": {
             "colorbar": {
              "outlinewidth": 0,
              "ticks": ""
             }
            },
            "type": "scatter"
           }
          ],
          "scatter3d": [
           {
            "line": {
             "colorbar": {
              "outlinewidth": 0,
              "ticks": ""
             }
            },
            "marker": {
             "colorbar": {
              "outlinewidth": 0,
              "ticks": ""
             }
            },
            "type": "scatter3d"
           }
          ],
          "scattercarpet": [
           {
            "marker": {
             "colorbar": {
              "outlinewidth": 0,
              "ticks": ""
             }
            },
            "type": "scattercarpet"
           }
          ],
          "scattergeo": [
           {
            "marker": {
             "colorbar": {
              "outlinewidth": 0,
              "ticks": ""
             }
            },
            "type": "scattergeo"
           }
          ],
          "scattergl": [
           {
            "marker": {
             "colorbar": {
              "outlinewidth": 0,
              "ticks": ""
             }
            },
            "type": "scattergl"
           }
          ],
          "scattermapbox": [
           {
            "marker": {
             "colorbar": {
              "outlinewidth": 0,
              "ticks": ""
             }
            },
            "type": "scattermapbox"
           }
          ],
          "scatterpolar": [
           {
            "marker": {
             "colorbar": {
              "outlinewidth": 0,
              "ticks": ""
             }
            },
            "type": "scatterpolar"
           }
          ],
          "scatterpolargl": [
           {
            "marker": {
             "colorbar": {
              "outlinewidth": 0,
              "ticks": ""
             }
            },
            "type": "scatterpolargl"
           }
          ],
          "scatterternary": [
           {
            "marker": {
             "colorbar": {
              "outlinewidth": 0,
              "ticks": ""
             }
            },
            "type": "scatterternary"
           }
          ],
          "surface": [
           {
            "colorbar": {
             "outlinewidth": 0,
             "ticks": ""
            },
            "colorscale": [
             [
              0,
              "#0d0887"
             ],
             [
              0.1111111111111111,
              "#46039f"
             ],
             [
              0.2222222222222222,
              "#7201a8"
             ],
             [
              0.3333333333333333,
              "#9c179e"
             ],
             [
              0.4444444444444444,
              "#bd3786"
             ],
             [
              0.5555555555555556,
              "#d8576b"
             ],
             [
              0.6666666666666666,
              "#ed7953"
             ],
             [
              0.7777777777777778,
              "#fb9f3a"
             ],
             [
              0.8888888888888888,
              "#fdca26"
             ],
             [
              1,
              "#f0f921"
             ]
            ],
            "type": "surface"
           }
          ],
          "table": [
           {
            "cells": {
             "fill": {
              "color": "#EBF0F8"
             },
             "line": {
              "color": "white"
             }
            },
            "header": {
             "fill": {
              "color": "#C8D4E3"
             },
             "line": {
              "color": "white"
             }
            },
            "type": "table"
           }
          ]
         },
         "layout": {
          "annotationdefaults": {
           "arrowcolor": "#2a3f5f",
           "arrowhead": 0,
           "arrowwidth": 1
          },
          "autotypenumbers": "strict",
          "coloraxis": {
           "colorbar": {
            "outlinewidth": 0,
            "ticks": ""
           }
          },
          "colorscale": {
           "diverging": [
            [
             0,
             "#8e0152"
            ],
            [
             0.1,
             "#c51b7d"
            ],
            [
             0.2,
             "#de77ae"
            ],
            [
             0.3,
             "#f1b6da"
            ],
            [
             0.4,
             "#fde0ef"
            ],
            [
             0.5,
             "#f7f7f7"
            ],
            [
             0.6,
             "#e6f5d0"
            ],
            [
             0.7,
             "#b8e186"
            ],
            [
             0.8,
             "#7fbc41"
            ],
            [
             0.9,
             "#4d9221"
            ],
            [
             1,
             "#276419"
            ]
           ],
           "sequential": [
            [
             0,
             "#0d0887"
            ],
            [
             0.1111111111111111,
             "#46039f"
            ],
            [
             0.2222222222222222,
             "#7201a8"
            ],
            [
             0.3333333333333333,
             "#9c179e"
            ],
            [
             0.4444444444444444,
             "#bd3786"
            ],
            [
             0.5555555555555556,
             "#d8576b"
            ],
            [
             0.6666666666666666,
             "#ed7953"
            ],
            [
             0.7777777777777778,
             "#fb9f3a"
            ],
            [
             0.8888888888888888,
             "#fdca26"
            ],
            [
             1,
             "#f0f921"
            ]
           ],
           "sequentialminus": [
            [
             0,
             "#0d0887"
            ],
            [
             0.1111111111111111,
             "#46039f"
            ],
            [
             0.2222222222222222,
             "#7201a8"
            ],
            [
             0.3333333333333333,
             "#9c179e"
            ],
            [
             0.4444444444444444,
             "#bd3786"
            ],
            [
             0.5555555555555556,
             "#d8576b"
            ],
            [
             0.6666666666666666,
             "#ed7953"
            ],
            [
             0.7777777777777778,
             "#fb9f3a"
            ],
            [
             0.8888888888888888,
             "#fdca26"
            ],
            [
             1,
             "#f0f921"
            ]
           ]
          },
          "colorway": [
           "#636efa",
           "#EF553B",
           "#00cc96",
           "#ab63fa",
           "#FFA15A",
           "#19d3f3",
           "#FF6692",
           "#B6E880",
           "#FF97FF",
           "#FECB52"
          ],
          "font": {
           "color": "#2a3f5f"
          },
          "geo": {
           "bgcolor": "white",
           "lakecolor": "white",
           "landcolor": "#E5ECF6",
           "showlakes": true,
           "showland": true,
           "subunitcolor": "white"
          },
          "hoverlabel": {
           "align": "left"
          },
          "hovermode": "closest",
          "mapbox": {
           "style": "light"
          },
          "paper_bgcolor": "white",
          "plot_bgcolor": "#E5ECF6",
          "polar": {
           "angularaxis": {
            "gridcolor": "white",
            "linecolor": "white",
            "ticks": ""
           },
           "bgcolor": "#E5ECF6",
           "radialaxis": {
            "gridcolor": "white",
            "linecolor": "white",
            "ticks": ""
           }
          },
          "scene": {
           "xaxis": {
            "backgroundcolor": "#E5ECF6",
            "gridcolor": "white",
            "gridwidth": 2,
            "linecolor": "white",
            "showbackground": true,
            "ticks": "",
            "zerolinecolor": "white"
           },
           "yaxis": {
            "backgroundcolor": "#E5ECF6",
            "gridcolor": "white",
            "gridwidth": 2,
            "linecolor": "white",
            "showbackground": true,
            "ticks": "",
            "zerolinecolor": "white"
           },
           "zaxis": {
            "backgroundcolor": "#E5ECF6",
            "gridcolor": "white",
            "gridwidth": 2,
            "linecolor": "white",
            "showbackground": true,
            "ticks": "",
            "zerolinecolor": "white"
           }
          },
          "shapedefaults": {
           "line": {
            "color": "#2a3f5f"
           }
          },
          "ternary": {
           "aaxis": {
            "gridcolor": "white",
            "linecolor": "white",
            "ticks": ""
           },
           "baxis": {
            "gridcolor": "white",
            "linecolor": "white",
            "ticks": ""
           },
           "bgcolor": "#E5ECF6",
           "caxis": {
            "gridcolor": "white",
            "linecolor": "white",
            "ticks": ""
           }
          },
          "title": {
           "x": 0.05
          },
          "xaxis": {
           "automargin": true,
           "gridcolor": "white",
           "linecolor": "white",
           "ticks": "",
           "title": {
            "standoff": 15
           },
           "zerolinecolor": "white",
           "zerolinewidth": 2
          },
          "yaxis": {
           "automargin": true,
           "gridcolor": "white",
           "linecolor": "white",
           "ticks": "",
           "title": {
            "standoff": 15
           },
           "zerolinecolor": "white",
           "zerolinewidth": 2
          }
         }
        },
        "title": {
         "font": {
          "color": "#4D5663"
         }
        },
        "xaxis": {
         "gridcolor": "#E1E5ED",
         "showgrid": true,
         "tickfont": {
          "color": "#4D5663"
         },
         "title": {
          "font": {
           "color": "#4D5663"
          },
          "text": ""
         },
         "zerolinecolor": "#E1E5ED"
        },
        "yaxis": {
         "gridcolor": "#E1E5ED",
         "showgrid": true,
         "tickfont": {
          "color": "#4D5663"
         },
         "title": {
          "font": {
           "color": "#4D5663"
          },
          "text": ""
         },
         "zerolinecolor": "#E1E5ED"
        }
       }
      },
      "text/html": [
       "<div>                            <div id=\"7019706b-f370-4fbc-b42d-9170ad1ef788\" class=\"plotly-graph-div\" style=\"height:525px; width:100%;\"></div>            <script type=\"text/javascript\">                require([\"plotly\"], function(Plotly) {                    window.PLOTLYENV=window.PLOTLYENV || {};\n",
       "                    window.PLOTLYENV.BASE_URL='https://plot.ly';                                    if (document.getElementById(\"7019706b-f370-4fbc-b42d-9170ad1ef788\")) {                    Plotly.newPlot(                        \"7019706b-f370-4fbc-b42d-9170ad1ef788\",                        [{\"marker\":{\"color\":[\"rgb(255, 153, 51)\",\"rgb(55, 128, 191)\",\"rgb(50, 171, 96)\",\"rgb(128, 0, 128)\",\"rgb(219, 64, 82)\",\"rgb(0, 128, 128)\",\"rgb(255, 255, 51)\",\"rgb(128, 128, 0)\",\"rgb(251, 128, 114)\",\"rgb(128, 177, 211)\"],\"line\":{\"width\":1.3},\"size\":[44,23,60,64,62,68,65,46,43,92,36,64,112,29,50,67,46,40,56,42,12,60,30,90,39,80,47,30,24,58,29,59,47,78,22,60,49,54,76,49,72,75,24,32,75,50,49,79,59,47,42,78,23,35,61,36,47,56,19,48,24,64,68,25,47,49,36,60,43,64,95,44,61,58,54,68,70,53,50,67,82,63,64,38,32,26,49,30,44,31,42,87,30,39,57,73,50,90,81,52],\"symbol\":\"circle\"},\"mode\":\"markers\",\"text\":\"\",\"x\":[0.09386654377961644,-1.139004671822801,-0.23367563378421577,-0.8178321802841402,-1.1386693772818866,-1.6933602772163847,-0.340882409868143,-0.351551967954869,1.0758340774178499,-0.787595569821493,-0.4591133299503853,0.6345527442690106,-0.0835497443856339,0.8184263799228679,2.3301004445919853,-1.7842568978947762,1.2519772540173484,-0.6878146559815548,0.9635311160123031,-1.8983326215126495,2.1261591546867598,0.8941929951060387,0.1993320335310691,1.458215627439701,1.4694761919905903,-0.15252157482332396,-0.07148794668059787,-0.7635578591458244,-0.615900797268425,1.7053678572999516,-2.7292138631298317,0.933668525563834,-0.15968170111604396,0.7028590284260958,-1.1066058899225693,0.1619239233677905,0.2696690872716977,-0.8220265893588786,-0.33645552246354093,-0.07621137756404667,0.13301168100033228,-1.8700761206942498,0.0027439163561086524,1.2737410558275717,2.650550647922217,0.16841290963442426,-0.14149905735278132,-0.9644995305255604,-1.2604272026237753,0.319347044132876,0.56899546075684,1.241070964776888,-2.631068877305108,0.6652088306271956,-0.1867782110110191,-1.1025950775762114,-1.0816166208111249,0.28279051004301603,0.22548470390457245,-1.0921356640494668,-0.21652925585167312,1.2433709974704996,-3.1345566857767975,-1.4382763214819527,-1.1285833645782766,-1.2296014908982091,-1.7346476621463802,-0.9222160955908932,-0.1732327426597853,0.2976568213768825,0.7990801597704285,-0.15030976242435307,-0.9146846787912161,1.283925952969555,0.013167437974883985,1.0127366895351093,0.4891948168208888,0.42369269963044137,1.33102509023086,-1.370552114637446,-0.714767518480121,0.3750615806094237,0.5341559704135873,1.5619388793042077,-1.8508306253213733,1.3370419329169922,-0.7280235070437202,-1.1633069457494016,-0.5492177107383946,-0.5021165530681923,1.3629234752007997,1.2230320992696806,-0.5100791299765235,-2.621920527501423,-0.7654463508855776,1.497549637995718,-0.35601407564263093,1.8455499737402132,0.12220185490031459,-0.8450536569754781],\"y\":[1.1340353607997995,0.013006465258081384,-1.4544113520150583,0.07672868747175726,0.48391889321947923,1.194788934202027,0.22468133183006384,0.12551098479531267,-0.27451552388284617,2.0356034926737436,0.7173123445309864,0.7932955472950777,-0.41502003783564156,0.3893140303258917,0.6193349803483303,-0.7866532286313116,1.3277002978859909,1.5560353033408851,-0.7637079816569204,1.4955257362466297,-1.3157860680447728,0.4814511617674176,-0.6261436350263004,-0.04619684870672389,0.9371898406188366,-0.5989093165454566,0.0062151920303784285,-0.6020029731603319,-2.208256297298656,0.7399894254410262,1.0860142458716426,-1.21065622295551,-0.09588287071653072,-1.2263598161115243,1.8299597122438265,-0.11413820163249909,-0.06935353377663811,1.5166820871775397,1.1795924483053237,-1.6027402892601654,0.12794276660807943,1.516455861068911,2.5031970959043703,-0.67197527259152,-0.729446552836332,-0.03227595217765168,0.6382184051655801,0.7079866983022988,-0.4630846645711651,-0.12042104592526794,0.818865391037555,-0.00456154244896449,-0.1454955215538559,0.82370762397494,1.1263911654451604,0.6957075242555208,-0.8809740163523293,0.13402287027597873,0.014942003469062437,0.5804442219882356,0.9941911200090845,0.7290166511006079,-0.19075826249149594,-0.3918900162987637,1.333464552078728,-0.14873129227566592,-2.705689931089558,-0.7259691233913627,1.0168910947228955,0.7873734558033054,0.026171372184366572,0.12996314877041218,1.6580005079219238,-0.44171738051397963,-0.0213341973283803,1.0895618776272844,-1.4783218403668337,-0.8051304132435134,0.9531400624960661,0.8574565198195986,1.267699008904015,-1.0931040378118888,0.5145903925372172,0.7628372620473755,-0.6581011595882967,1.2632260819909658,-1.2555456014903983,-0.9356552111274646,-0.3691646696574371,0.3709105437574881,1.0912030100326888,-0.9904125304371655,-1.2409751278186256,1.2795751598938199,1.0106178022864407,-0.03939033921404506,2.7754656697884035,-0.3644327979796833,1.5226149656513353,-1.5568377097308161],\"type\":\"scatter\"}],                        {\"legend\":{\"bgcolor\":\"#F5F6F9\",\"font\":{\"color\":\"#4D5663\"}},\"paper_bgcolor\":\"#F5F6F9\",\"plot_bgcolor\":\"#F5F6F9\",\"template\":{\"data\":{\"barpolar\":[{\"marker\":{\"line\":{\"color\":\"#E5ECF6\",\"width\":0.5},\"pattern\":{\"fillmode\":\"overlay\",\"size\":10,\"solidity\":0.2}},\"type\":\"barpolar\"}],\"bar\":[{\"error_x\":{\"color\":\"#2a3f5f\"},\"error_y\":{\"color\":\"#2a3f5f\"},\"marker\":{\"line\":{\"color\":\"#E5ECF6\",\"width\":0.5},\"pattern\":{\"fillmode\":\"overlay\",\"size\":10,\"solidity\":0.2}},\"type\":\"bar\"}],\"carpet\":[{\"aaxis\":{\"endlinecolor\":\"#2a3f5f\",\"gridcolor\":\"white\",\"linecolor\":\"white\",\"minorgridcolor\":\"white\",\"startlinecolor\":\"#2a3f5f\"},\"baxis\":{\"endlinecolor\":\"#2a3f5f\",\"gridcolor\":\"white\",\"linecolor\":\"white\",\"minorgridcolor\":\"white\",\"startlinecolor\":\"#2a3f5f\"},\"type\":\"carpet\"}],\"choropleth\":[{\"colorbar\":{\"outlinewidth\":0,\"ticks\":\"\"},\"type\":\"choropleth\"}],\"contourcarpet\":[{\"colorbar\":{\"outlinewidth\":0,\"ticks\":\"\"},\"type\":\"contourcarpet\"}],\"contour\":[{\"colorbar\":{\"outlinewidth\":0,\"ticks\":\"\"},\"colorscale\":[[0.0,\"#0d0887\"],[0.1111111111111111,\"#46039f\"],[0.2222222222222222,\"#7201a8\"],[0.3333333333333333,\"#9c179e\"],[0.4444444444444444,\"#bd3786\"],[0.5555555555555556,\"#d8576b\"],[0.6666666666666666,\"#ed7953\"],[0.7777777777777778,\"#fb9f3a\"],[0.8888888888888888,\"#fdca26\"],[1.0,\"#f0f921\"]],\"type\":\"contour\"}],\"heatmapgl\":[{\"colorbar\":{\"outlinewidth\":0,\"ticks\":\"\"},\"colorscale\":[[0.0,\"#0d0887\"],[0.1111111111111111,\"#46039f\"],[0.2222222222222222,\"#7201a8\"],[0.3333333333333333,\"#9c179e\"],[0.4444444444444444,\"#bd3786\"],[0.5555555555555556,\"#d8576b\"],[0.6666666666666666,\"#ed7953\"],[0.7777777777777778,\"#fb9f3a\"],[0.8888888888888888,\"#fdca26\"],[1.0,\"#f0f921\"]],\"type\":\"heatmapgl\"}],\"heatmap\":[{\"colorbar\":{\"outlinewidth\":0,\"ticks\":\"\"},\"colorscale\":[[0.0,\"#0d0887\"],[0.1111111111111111,\"#46039f\"],[0.2222222222222222,\"#7201a8\"],[0.3333333333333333,\"#9c179e\"],[0.4444444444444444,\"#bd3786\"],[0.5555555555555556,\"#d8576b\"],[0.6666666666666666,\"#ed7953\"],[0.7777777777777778,\"#fb9f3a\"],[0.8888888888888888,\"#fdca26\"],[1.0,\"#f0f921\"]],\"type\":\"heatmap\"}],\"histogram2dcontour\":[{\"colorbar\":{\"outlinewidth\":0,\"ticks\":\"\"},\"colorscale\":[[0.0,\"#0d0887\"],[0.1111111111111111,\"#46039f\"],[0.2222222222222222,\"#7201a8\"],[0.3333333333333333,\"#9c179e\"],[0.4444444444444444,\"#bd3786\"],[0.5555555555555556,\"#d8576b\"],[0.6666666666666666,\"#ed7953\"],[0.7777777777777778,\"#fb9f3a\"],[0.8888888888888888,\"#fdca26\"],[1.0,\"#f0f921\"]],\"type\":\"histogram2dcontour\"}],\"histogram2d\":[{\"colorbar\":{\"outlinewidth\":0,\"ticks\":\"\"},\"colorscale\":[[0.0,\"#0d0887\"],[0.1111111111111111,\"#46039f\"],[0.2222222222222222,\"#7201a8\"],[0.3333333333333333,\"#9c179e\"],[0.4444444444444444,\"#bd3786\"],[0.5555555555555556,\"#d8576b\"],[0.6666666666666666,\"#ed7953\"],[0.7777777777777778,\"#fb9f3a\"],[0.8888888888888888,\"#fdca26\"],[1.0,\"#f0f921\"]],\"type\":\"histogram2d\"}],\"histogram\":[{\"marker\":{\"pattern\":{\"fillmode\":\"overlay\",\"size\":10,\"solidity\":0.2}},\"type\":\"histogram\"}],\"mesh3d\":[{\"colorbar\":{\"outlinewidth\":0,\"ticks\":\"\"},\"type\":\"mesh3d\"}],\"parcoords\":[{\"line\":{\"colorbar\":{\"outlinewidth\":0,\"ticks\":\"\"}},\"type\":\"parcoords\"}],\"pie\":[{\"automargin\":true,\"type\":\"pie\"}],\"scatter3d\":[{\"line\":{\"colorbar\":{\"outlinewidth\":0,\"ticks\":\"\"}},\"marker\":{\"colorbar\":{\"outlinewidth\":0,\"ticks\":\"\"}},\"type\":\"scatter3d\"}],\"scattercarpet\":[{\"marker\":{\"colorbar\":{\"outlinewidth\":0,\"ticks\":\"\"}},\"type\":\"scattercarpet\"}],\"scattergeo\":[{\"marker\":{\"colorbar\":{\"outlinewidth\":0,\"ticks\":\"\"}},\"type\":\"scattergeo\"}],\"scattergl\":[{\"marker\":{\"colorbar\":{\"outlinewidth\":0,\"ticks\":\"\"}},\"type\":\"scattergl\"}],\"scattermapbox\":[{\"marker\":{\"colorbar\":{\"outlinewidth\":0,\"ticks\":\"\"}},\"type\":\"scattermapbox\"}],\"scatterpolargl\":[{\"marker\":{\"colorbar\":{\"outlinewidth\":0,\"ticks\":\"\"}},\"type\":\"scatterpolargl\"}],\"scatterpolar\":[{\"marker\":{\"colorbar\":{\"outlinewidth\":0,\"ticks\":\"\"}},\"type\":\"scatterpolar\"}],\"scatter\":[{\"marker\":{\"colorbar\":{\"outlinewidth\":0,\"ticks\":\"\"}},\"type\":\"scatter\"}],\"scatterternary\":[{\"marker\":{\"colorbar\":{\"outlinewidth\":0,\"ticks\":\"\"}},\"type\":\"scatterternary\"}],\"surface\":[{\"colorbar\":{\"outlinewidth\":0,\"ticks\":\"\"},\"colorscale\":[[0.0,\"#0d0887\"],[0.1111111111111111,\"#46039f\"],[0.2222222222222222,\"#7201a8\"],[0.3333333333333333,\"#9c179e\"],[0.4444444444444444,\"#bd3786\"],[0.5555555555555556,\"#d8576b\"],[0.6666666666666666,\"#ed7953\"],[0.7777777777777778,\"#fb9f3a\"],[0.8888888888888888,\"#fdca26\"],[1.0,\"#f0f921\"]],\"type\":\"surface\"}],\"table\":[{\"cells\":{\"fill\":{\"color\":\"#EBF0F8\"},\"line\":{\"color\":\"white\"}},\"header\":{\"fill\":{\"color\":\"#C8D4E3\"},\"line\":{\"color\":\"white\"}},\"type\":\"table\"}]},\"layout\":{\"annotationdefaults\":{\"arrowcolor\":\"#2a3f5f\",\"arrowhead\":0,\"arrowwidth\":1},\"autotypenumbers\":\"strict\",\"coloraxis\":{\"colorbar\":{\"outlinewidth\":0,\"ticks\":\"\"}},\"colorscale\":{\"diverging\":[[0,\"#8e0152\"],[0.1,\"#c51b7d\"],[0.2,\"#de77ae\"],[0.3,\"#f1b6da\"],[0.4,\"#fde0ef\"],[0.5,\"#f7f7f7\"],[0.6,\"#e6f5d0\"],[0.7,\"#b8e186\"],[0.8,\"#7fbc41\"],[0.9,\"#4d9221\"],[1,\"#276419\"]],\"sequential\":[[0.0,\"#0d0887\"],[0.1111111111111111,\"#46039f\"],[0.2222222222222222,\"#7201a8\"],[0.3333333333333333,\"#9c179e\"],[0.4444444444444444,\"#bd3786\"],[0.5555555555555556,\"#d8576b\"],[0.6666666666666666,\"#ed7953\"],[0.7777777777777778,\"#fb9f3a\"],[0.8888888888888888,\"#fdca26\"],[1.0,\"#f0f921\"]],\"sequentialminus\":[[0.0,\"#0d0887\"],[0.1111111111111111,\"#46039f\"],[0.2222222222222222,\"#7201a8\"],[0.3333333333333333,\"#9c179e\"],[0.4444444444444444,\"#bd3786\"],[0.5555555555555556,\"#d8576b\"],[0.6666666666666666,\"#ed7953\"],[0.7777777777777778,\"#fb9f3a\"],[0.8888888888888888,\"#fdca26\"],[1.0,\"#f0f921\"]]},\"colorway\":[\"#636efa\",\"#EF553B\",\"#00cc96\",\"#ab63fa\",\"#FFA15A\",\"#19d3f3\",\"#FF6692\",\"#B6E880\",\"#FF97FF\",\"#FECB52\"],\"font\":{\"color\":\"#2a3f5f\"},\"geo\":{\"bgcolor\":\"white\",\"lakecolor\":\"white\",\"landcolor\":\"#E5ECF6\",\"showlakes\":true,\"showland\":true,\"subunitcolor\":\"white\"},\"hoverlabel\":{\"align\":\"left\"},\"hovermode\":\"closest\",\"mapbox\":{\"style\":\"light\"},\"paper_bgcolor\":\"white\",\"plot_bgcolor\":\"#E5ECF6\",\"polar\":{\"angularaxis\":{\"gridcolor\":\"white\",\"linecolor\":\"white\",\"ticks\":\"\"},\"bgcolor\":\"#E5ECF6\",\"radialaxis\":{\"gridcolor\":\"white\",\"linecolor\":\"white\",\"ticks\":\"\"}},\"scene\":{\"xaxis\":{\"backgroundcolor\":\"#E5ECF6\",\"gridcolor\":\"white\",\"gridwidth\":2,\"linecolor\":\"white\",\"showbackground\":true,\"ticks\":\"\",\"zerolinecolor\":\"white\"},\"yaxis\":{\"backgroundcolor\":\"#E5ECF6\",\"gridcolor\":\"white\",\"gridwidth\":2,\"linecolor\":\"white\",\"showbackground\":true,\"ticks\":\"\",\"zerolinecolor\":\"white\"},\"zaxis\":{\"backgroundcolor\":\"#E5ECF6\",\"gridcolor\":\"white\",\"gridwidth\":2,\"linecolor\":\"white\",\"showbackground\":true,\"ticks\":\"\",\"zerolinecolor\":\"white\"}},\"shapedefaults\":{\"line\":{\"color\":\"#2a3f5f\"}},\"ternary\":{\"aaxis\":{\"gridcolor\":\"white\",\"linecolor\":\"white\",\"ticks\":\"\"},\"baxis\":{\"gridcolor\":\"white\",\"linecolor\":\"white\",\"ticks\":\"\"},\"bgcolor\":\"#E5ECF6\",\"caxis\":{\"gridcolor\":\"white\",\"linecolor\":\"white\",\"ticks\":\"\"}},\"title\":{\"x\":0.05},\"xaxis\":{\"automargin\":true,\"gridcolor\":\"white\",\"linecolor\":\"white\",\"ticks\":\"\",\"title\":{\"standoff\":15},\"zerolinecolor\":\"white\",\"zerolinewidth\":2},\"yaxis\":{\"automargin\":true,\"gridcolor\":\"white\",\"linecolor\":\"white\",\"ticks\":\"\",\"title\":{\"standoff\":15},\"zerolinecolor\":\"white\",\"zerolinewidth\":2}}},\"title\":{\"font\":{\"color\":\"#4D5663\"}},\"xaxis\":{\"gridcolor\":\"#E1E5ED\",\"showgrid\":true,\"tickfont\":{\"color\":\"#4D5663\"},\"title\":{\"font\":{\"color\":\"#4D5663\"},\"text\":\"\"},\"zerolinecolor\":\"#E1E5ED\"},\"yaxis\":{\"gridcolor\":\"#E1E5ED\",\"showgrid\":true,\"tickfont\":{\"color\":\"#4D5663\"},\"title\":{\"font\":{\"color\":\"#4D5663\"},\"text\":\"\"},\"zerolinecolor\":\"#E1E5ED\"}},                        {\"showLink\": true, \"linkText\": \"Export to plot.ly\", \"plotlyServerURL\": \"https://plot.ly\", \"responsive\": true}                    ).then(function(){\n",
       "                            \n",
       "var gd = document.getElementById('7019706b-f370-4fbc-b42d-9170ad1ef788');\n",
       "var x = new MutationObserver(function (mutations, observer) {{\n",
       "        var display = window.getComputedStyle(gd).display;\n",
       "        if (!display || display === 'none') {{\n",
       "            console.log([gd, 'removed!']);\n",
       "            Plotly.purge(gd);\n",
       "            observer.disconnect();\n",
       "        }}\n",
       "}});\n",
       "\n",
       "// Listen for the removal of the full notebook cells\n",
       "var notebookContainer = gd.closest('#notebook-container');\n",
       "if (notebookContainer) {{\n",
       "    x.observe(notebookContainer, {childList: true});\n",
       "}}\n",
       "\n",
       "// Listen for the clearing of the current output cell\n",
       "var outputEl = gd.closest('.output');\n",
       "if (outputEl) {{\n",
       "    x.observe(outputEl, {childList: true});\n",
       "}}\n",
       "\n",
       "                        })                };                });            </script>        </div>"
      ]
     },
     "metadata": {},
     "output_type": "display_data"
    }
   ],
   "source": [
    "df.iplot(kind='bubble',x='A',y='B',size='C')"
   ]
  },
  {
   "cell_type": "markdown",
   "metadata": {},
   "source": [
    "## scatter_matrix()\n",
    "\n",
    "Similar à sns.pairplot()"
   ]
  },
  {
   "cell_type": "code",
   "execution_count": 18,
   "metadata": {},
   "outputs": [
    {
     "data": {
      "application/vnd.plotly.v1+json": {
       "config": {
        "linkText": "Export to plot.ly",
        "plotlyServerURL": "https://plot.ly",
        "showLink": true
       },
       "data": [
        {
         "histfunc": "count",
         "histnorm": "",
         "marker": {
          "color": "rgba(255, 153, 51, 1.0)",
          "line": {
           "color": "#4D5663",
           "width": 1.3
          }
         },
         "name": "A",
         "nbinsx": 10,
         "opacity": 0.8,
         "orientation": "v",
         "type": "histogram",
         "x": [
          0.09386654377961644,
          -1.139004671822801,
          -0.23367563378421577,
          -0.8178321802841402,
          -1.1386693772818866,
          -1.6933602772163847,
          -0.340882409868143,
          -0.351551967954869,
          1.0758340774178499,
          -0.787595569821493,
          -0.4591133299503853,
          0.6345527442690106,
          -0.0835497443856339,
          0.8184263799228679,
          2.3301004445919853,
          -1.7842568978947762,
          1.2519772540173484,
          -0.6878146559815548,
          0.9635311160123031,
          -1.8983326215126495,
          2.1261591546867598,
          0.8941929951060387,
          0.1993320335310691,
          1.458215627439701,
          1.4694761919905903,
          -0.15252157482332396,
          -0.07148794668059787,
          -0.7635578591458244,
          -0.615900797268425,
          1.7053678572999516,
          -2.7292138631298317,
          0.933668525563834,
          -0.15968170111604396,
          0.7028590284260958,
          -1.1066058899225693,
          0.1619239233677905,
          0.2696690872716977,
          -0.8220265893588786,
          -0.33645552246354093,
          -0.07621137756404667,
          0.13301168100033228,
          -1.8700761206942498,
          0.0027439163561086524,
          1.2737410558275717,
          2.650550647922217,
          0.16841290963442426,
          -0.14149905735278132,
          -0.9644995305255604,
          -1.2604272026237753,
          0.319347044132876,
          0.56899546075684,
          1.241070964776888,
          -2.631068877305108,
          0.6652088306271956,
          -0.1867782110110191,
          -1.1025950775762114,
          -1.0816166208111249,
          0.28279051004301603,
          0.22548470390457245,
          -1.0921356640494668,
          -0.21652925585167312,
          1.2433709974704996,
          -3.1345566857767975,
          -1.4382763214819527,
          -1.1285833645782766,
          -1.2296014908982091,
          -1.7346476621463802,
          -0.9222160955908932,
          -0.1732327426597853,
          0.2976568213768825,
          0.7990801597704285,
          -0.15030976242435307,
          -0.9146846787912161,
          1.283925952969555,
          0.013167437974883985,
          1.0127366895351093,
          0.4891948168208888,
          0.42369269963044137,
          1.33102509023086,
          -1.370552114637446,
          -0.714767518480121,
          0.3750615806094237,
          0.5341559704135873,
          1.5619388793042077,
          -1.8508306253213733,
          1.3370419329169922,
          -0.7280235070437202,
          -1.1633069457494016,
          -0.5492177107383946,
          -0.5021165530681923,
          1.3629234752007997,
          1.2230320992696806,
          -0.5100791299765235,
          -2.621920527501423,
          -0.7654463508855776,
          1.497549637995718,
          -0.35601407564263093,
          1.8455499737402132,
          0.12220185490031459,
          -0.8450536569754781
         ],
         "xaxis": "x",
         "yaxis": "y"
        },
        {
         "line": {
          "color": "rgba(128, 128, 128, 1.0)",
          "dash": "solid",
          "shape": "linear",
          "width": 1.3
         },
         "marker": {
          "size": 2,
          "symbol": "circle"
         },
         "mode": "markers",
         "name": "A",
         "text": "",
         "type": "scatter",
         "x": [
          1.1340353607997995,
          0.013006465258081384,
          -1.4544113520150583,
          0.07672868747175726,
          0.48391889321947923,
          1.194788934202027,
          0.22468133183006384,
          0.12551098479531267,
          -0.27451552388284617,
          2.0356034926737436,
          0.7173123445309864,
          0.7932955472950777,
          -0.41502003783564156,
          0.3893140303258917,
          0.6193349803483303,
          -0.7866532286313116,
          1.3277002978859909,
          1.5560353033408851,
          -0.7637079816569204,
          1.4955257362466297,
          -1.3157860680447728,
          0.4814511617674176,
          -0.6261436350263004,
          -0.04619684870672389,
          0.9371898406188366,
          -0.5989093165454566,
          0.0062151920303784285,
          -0.6020029731603319,
          -2.208256297298656,
          0.7399894254410262,
          1.0860142458716426,
          -1.21065622295551,
          -0.09588287071653072,
          -1.2263598161115243,
          1.8299597122438265,
          -0.11413820163249909,
          -0.06935353377663811,
          1.5166820871775397,
          1.1795924483053237,
          -1.6027402892601654,
          0.12794276660807943,
          1.516455861068911,
          2.5031970959043703,
          -0.67197527259152,
          -0.729446552836332,
          -0.03227595217765168,
          0.6382184051655801,
          0.7079866983022988,
          -0.4630846645711651,
          -0.12042104592526794,
          0.818865391037555,
          -0.00456154244896449,
          -0.1454955215538559,
          0.82370762397494,
          1.1263911654451604,
          0.6957075242555208,
          -0.8809740163523293,
          0.13402287027597873,
          0.014942003469062437,
          0.5804442219882356,
          0.9941911200090845,
          0.7290166511006079,
          -0.19075826249149594,
          -0.3918900162987637,
          1.333464552078728,
          -0.14873129227566592,
          -2.705689931089558,
          -0.7259691233913627,
          1.0168910947228955,
          0.7873734558033054,
          0.026171372184366572,
          0.12996314877041218,
          1.6580005079219238,
          -0.44171738051397963,
          -0.0213341973283803,
          1.0895618776272844,
          -1.4783218403668337,
          -0.8051304132435134,
          0.9531400624960661,
          0.8574565198195986,
          1.267699008904015,
          -1.0931040378118888,
          0.5145903925372172,
          0.7628372620473755,
          -0.6581011595882967,
          1.2632260819909658,
          -1.2555456014903983,
          -0.9356552111274646,
          -0.3691646696574371,
          0.3709105437574881,
          1.0912030100326888,
          -0.9904125304371655,
          -1.2409751278186256,
          1.2795751598938199,
          1.0106178022864407,
          -0.03939033921404506,
          2.7754656697884035,
          -0.3644327979796833,
          1.5226149656513353,
          -1.5568377097308161
         ],
         "xaxis": "x2",
         "y": [
          0.09386654377961644,
          -1.139004671822801,
          -0.23367563378421577,
          -0.8178321802841402,
          -1.1386693772818866,
          -1.6933602772163847,
          -0.340882409868143,
          -0.351551967954869,
          1.0758340774178499,
          -0.787595569821493,
          -0.4591133299503853,
          0.6345527442690106,
          -0.0835497443856339,
          0.8184263799228679,
          2.3301004445919853,
          -1.7842568978947762,
          1.2519772540173484,
          -0.6878146559815548,
          0.9635311160123031,
          -1.8983326215126495,
          2.1261591546867598,
          0.8941929951060387,
          0.1993320335310691,
          1.458215627439701,
          1.4694761919905903,
          -0.15252157482332396,
          -0.07148794668059787,
          -0.7635578591458244,
          -0.615900797268425,
          1.7053678572999516,
          -2.7292138631298317,
          0.933668525563834,
          -0.15968170111604396,
          0.7028590284260958,
          -1.1066058899225693,
          0.1619239233677905,
          0.2696690872716977,
          -0.8220265893588786,
          -0.33645552246354093,
          -0.07621137756404667,
          0.13301168100033228,
          -1.8700761206942498,
          0.0027439163561086524,
          1.2737410558275717,
          2.650550647922217,
          0.16841290963442426,
          -0.14149905735278132,
          -0.9644995305255604,
          -1.2604272026237753,
          0.319347044132876,
          0.56899546075684,
          1.241070964776888,
          -2.631068877305108,
          0.6652088306271956,
          -0.1867782110110191,
          -1.1025950775762114,
          -1.0816166208111249,
          0.28279051004301603,
          0.22548470390457245,
          -1.0921356640494668,
          -0.21652925585167312,
          1.2433709974704996,
          -3.1345566857767975,
          -1.4382763214819527,
          -1.1285833645782766,
          -1.2296014908982091,
          -1.7346476621463802,
          -0.9222160955908932,
          -0.1732327426597853,
          0.2976568213768825,
          0.7990801597704285,
          -0.15030976242435307,
          -0.9146846787912161,
          1.283925952969555,
          0.013167437974883985,
          1.0127366895351093,
          0.4891948168208888,
          0.42369269963044137,
          1.33102509023086,
          -1.370552114637446,
          -0.714767518480121,
          0.3750615806094237,
          0.5341559704135873,
          1.5619388793042077,
          -1.8508306253213733,
          1.3370419329169922,
          -0.7280235070437202,
          -1.1633069457494016,
          -0.5492177107383946,
          -0.5021165530681923,
          1.3629234752007997,
          1.2230320992696806,
          -0.5100791299765235,
          -2.621920527501423,
          -0.7654463508855776,
          1.497549637995718,
          -0.35601407564263093,
          1.8455499737402132,
          0.12220185490031459,
          -0.8450536569754781
         ],
         "yaxis": "y2"
        },
        {
         "line": {
          "color": "rgba(128, 128, 128, 1.0)",
          "dash": "solid",
          "shape": "linear",
          "width": 1.3
         },
         "marker": {
          "size": 2,
          "symbol": "circle"
         },
         "mode": "markers",
         "name": "A",
         "text": "",
         "type": "scatter",
         "x": [
          -0.33282780587095806,
          -1.5448452376166364,
          0.6228685924793956,
          0.8093687828306709,
          0.7190772579836001,
          1.0919707830866467,
          0.8784873880603475,
          -0.17819568113605488,
          -0.3580442357795487,
          2.44940806197161,
          -0.7560318056998703,
          0.8511125309822584,
          3.580785860876354,
          -1.1848213891289068,
          0.03906202735855334,
          0.9858635187960115,
          -0.21748323458448648,
          -0.5543899695384241,
          0.34846405568235944,
          -0.421910201269028,
          -2.1980431469511856,
          0.6004436342154168,
          -1.1338896174644981,
          2.357041588876008,
          -0.5982866014884459,
          1.757133388747493,
          -0.1417320558500775,
          -1.10594223484253,
          -1.455604064466308,
          0.4837748459104745,
          -1.1761499324913411,
          0.5582215826603278,
          -0.15298379420849662,
          1.6596583125489515,
          -1.5724077458238064,
          0.6215265491328936,
          -0.0561986409113782,
          0.24927014302474623,
          1.53543501332122,
          -0.055599551054791994,
          1.32645184759936,
          1.4514528477362016,
          -1.4847606319621105,
          -0.9973741476602409,
          1.4994912648796017,
          0.03419252439163247,
          -0.046292042915014826,
          1.709035841451056,
          0.5212967365366743,
          -0.131081583263683,
          -0.43808928803715164,
          1.6567970968688839,
          -1.5275444468745252,
          -0.8447896284702037,
          0.6578162654164579,
          -0.7534725970827714,
          -0.17285777482223505,
          0.35363997961509896,
          -1.788792436237959,
          -0.07162340903032188,
          -1.4623169456140561,
          0.8280825240696073,
          1.0835553730224157,
          -1.4240515666478064,
          -0.1341858472586976,
          -0.04106533170087056,
          -0.8051743208826985,
          0.6094093843827119,
          -0.35468964870606495,
          0.8603252413615008,
          2.6227282912468595,
          -0.3221728921133419,
          0.682400376121072,
          0.5149524099278576,
          0.2551924502028558,
          1.0844566358187382,
          1.1749552409728774,
          0.21926456388416293,
          0.04894329554338051,
          1.0119357918722658,
          1.8866860191241275,
          0.7805020164639119,
          0.8553420893921356,
          -0.6815036634994182,
          -1.014602473534048,
          -1.359433213823731,
          -0.05948954050187066,
          -1.1213977948174525,
          -0.33912696814714816,
          -1.0615594813679707,
          -0.411066444295418,
          2.166497474851957,
          -1.1134527970750354,
          -0.6054877059829976,
          0.4597533366654226,
          1.3290782445998464,
          0.012551474021747479,
          2.361644470059281,
          1.842062235156804,
          0.13153726714116326
         ],
         "xaxis": "x3",
         "y": [
          0.09386654377961644,
          -1.139004671822801,
          -0.23367563378421577,
          -0.8178321802841402,
          -1.1386693772818866,
          -1.6933602772163847,
          -0.340882409868143,
          -0.351551967954869,
          1.0758340774178499,
          -0.787595569821493,
          -0.4591133299503853,
          0.6345527442690106,
          -0.0835497443856339,
          0.8184263799228679,
          2.3301004445919853,
          -1.7842568978947762,
          1.2519772540173484,
          -0.6878146559815548,
          0.9635311160123031,
          -1.8983326215126495,
          2.1261591546867598,
          0.8941929951060387,
          0.1993320335310691,
          1.458215627439701,
          1.4694761919905903,
          -0.15252157482332396,
          -0.07148794668059787,
          -0.7635578591458244,
          -0.615900797268425,
          1.7053678572999516,
          -2.7292138631298317,
          0.933668525563834,
          -0.15968170111604396,
          0.7028590284260958,
          -1.1066058899225693,
          0.1619239233677905,
          0.2696690872716977,
          -0.8220265893588786,
          -0.33645552246354093,
          -0.07621137756404667,
          0.13301168100033228,
          -1.8700761206942498,
          0.0027439163561086524,
          1.2737410558275717,
          2.650550647922217,
          0.16841290963442426,
          -0.14149905735278132,
          -0.9644995305255604,
          -1.2604272026237753,
          0.319347044132876,
          0.56899546075684,
          1.241070964776888,
          -2.631068877305108,
          0.6652088306271956,
          -0.1867782110110191,
          -1.1025950775762114,
          -1.0816166208111249,
          0.28279051004301603,
          0.22548470390457245,
          -1.0921356640494668,
          -0.21652925585167312,
          1.2433709974704996,
          -3.1345566857767975,
          -1.4382763214819527,
          -1.1285833645782766,
          -1.2296014908982091,
          -1.7346476621463802,
          -0.9222160955908932,
          -0.1732327426597853,
          0.2976568213768825,
          0.7990801597704285,
          -0.15030976242435307,
          -0.9146846787912161,
          1.283925952969555,
          0.013167437974883985,
          1.0127366895351093,
          0.4891948168208888,
          0.42369269963044137,
          1.33102509023086,
          -1.370552114637446,
          -0.714767518480121,
          0.3750615806094237,
          0.5341559704135873,
          1.5619388793042077,
          -1.8508306253213733,
          1.3370419329169922,
          -0.7280235070437202,
          -1.1633069457494016,
          -0.5492177107383946,
          -0.5021165530681923,
          1.3629234752007997,
          1.2230320992696806,
          -0.5100791299765235,
          -2.621920527501423,
          -0.7654463508855776,
          1.497549637995718,
          -0.35601407564263093,
          1.8455499737402132,
          0.12220185490031459,
          -0.8450536569754781
         ],
         "yaxis": "y3"
        },
        {
         "line": {
          "color": "rgba(128, 128, 128, 1.0)",
          "dash": "solid",
          "shape": "linear",
          "width": 1.3
         },
         "marker": {
          "size": 2,
          "symbol": "circle"
         },
         "mode": "markers",
         "name": "A",
         "text": "",
         "type": "scatter",
         "x": [
          0.01827674693836868,
          1.0312259862114281,
          -0.9902271317945981,
          -0.16952657109673888,
          0.0062033216943051,
          -0.020163977666164113,
          2.3254939553122944,
          0.784688250418403,
          -0.8095976935064689,
          1.0239361042223596,
          0.2120960201724168,
          0.2621575715402791,
          -1.1452357261550754,
          -2.150176744966233,
          0.2765394993371971,
          -0.39123864969170813,
          0.2606049970823336,
          0.6015042832534069,
          -0.5514447046029021,
          -0.33974805512263423,
          0.216680183299324,
          0.7740578412305583,
          -1.0581106408197496,
          -0.35751938655782445,
          0.5330389050112327,
          -0.46158005081539777,
          0.17840690735641399,
          -0.6625416623280843,
          0.38018466056836453,
          0.4847453775361481,
          -0.40452462836788083,
          0.7552367436336933,
          -0.5077675008072585,
          -0.13190226967138116,
          -0.3540764598406436,
          -0.36783435662119446,
          -0.3109370276173948,
          -1.0402771302704863,
          -1.3233540770350818,
          -0.9192426180694927,
          0.8587158823666327,
          -0.23733506108086794,
          -0.23023750991260766,
          0.76676620980785,
          -0.1581247958407638,
          -0.433504732896152,
          0.7315424536761489,
          0.726930646383536,
          1.1212649896971638,
          -0.30457026718549485,
          0.9492317484898695,
          -0.21113086866262615,
          1.0813108185118336,
          -0.5118880977698083,
          -0.3633732719562493,
          -0.7404551690859538,
          -1.1163057385564539,
          -0.7764959457234427,
          0.9552538822346441,
          -1.6501600320522556,
          0.8167022906270849,
          1.235473115067319,
          -0.2621304196056136,
          0.11186254307160247,
          1.7258513451699313,
          -0.3213869516737532,
          -0.6202949993605799,
          0.8439360896123422,
          -0.10386141197968152,
          1.653179103833251,
          0.31266756089648384,
          0.2623359432631791,
          -1.7097107400981206,
          -0.8900201035182636,
          0.413098861904276,
          -0.19806085942231758,
          1.8495416953003254,
          -0.2750288197965949,
          1.9050418541721095,
          1.4824729393772311,
          0.42477045373379674,
          0.5980783105289387,
          2.592541217628275,
          -1.1075789953915745,
          0.4145263543464033,
          0.0928350788536731,
          -1.68020796491302,
          0.0801443799603643,
          -0.21061732710712458,
          -1.038464987467301,
          -1.2024562570004007,
          -0.04100670824841796,
          -1.2368029460923655,
          0.30807983717780674,
          0.13785700001936516,
          -1.3441352328835554,
          0.48926231283611604,
          0.41798750518199207,
          -0.1372713308913042,
          0.21910304193782737
         ],
         "xaxis": "x4",
         "y": [
          0.09386654377961644,
          -1.139004671822801,
          -0.23367563378421577,
          -0.8178321802841402,
          -1.1386693772818866,
          -1.6933602772163847,
          -0.340882409868143,
          -0.351551967954869,
          1.0758340774178499,
          -0.787595569821493,
          -0.4591133299503853,
          0.6345527442690106,
          -0.0835497443856339,
          0.8184263799228679,
          2.3301004445919853,
          -1.7842568978947762,
          1.2519772540173484,
          -0.6878146559815548,
          0.9635311160123031,
          -1.8983326215126495,
          2.1261591546867598,
          0.8941929951060387,
          0.1993320335310691,
          1.458215627439701,
          1.4694761919905903,
          -0.15252157482332396,
          -0.07148794668059787,
          -0.7635578591458244,
          -0.615900797268425,
          1.7053678572999516,
          -2.7292138631298317,
          0.933668525563834,
          -0.15968170111604396,
          0.7028590284260958,
          -1.1066058899225693,
          0.1619239233677905,
          0.2696690872716977,
          -0.8220265893588786,
          -0.33645552246354093,
          -0.07621137756404667,
          0.13301168100033228,
          -1.8700761206942498,
          0.0027439163561086524,
          1.2737410558275717,
          2.650550647922217,
          0.16841290963442426,
          -0.14149905735278132,
          -0.9644995305255604,
          -1.2604272026237753,
          0.319347044132876,
          0.56899546075684,
          1.241070964776888,
          -2.631068877305108,
          0.6652088306271956,
          -0.1867782110110191,
          -1.1025950775762114,
          -1.0816166208111249,
          0.28279051004301603,
          0.22548470390457245,
          -1.0921356640494668,
          -0.21652925585167312,
          1.2433709974704996,
          -3.1345566857767975,
          -1.4382763214819527,
          -1.1285833645782766,
          -1.2296014908982091,
          -1.7346476621463802,
          -0.9222160955908932,
          -0.1732327426597853,
          0.2976568213768825,
          0.7990801597704285,
          -0.15030976242435307,
          -0.9146846787912161,
          1.283925952969555,
          0.013167437974883985,
          1.0127366895351093,
          0.4891948168208888,
          0.42369269963044137,
          1.33102509023086,
          -1.370552114637446,
          -0.714767518480121,
          0.3750615806094237,
          0.5341559704135873,
          1.5619388793042077,
          -1.8508306253213733,
          1.3370419329169922,
          -0.7280235070437202,
          -1.1633069457494016,
          -0.5492177107383946,
          -0.5021165530681923,
          1.3629234752007997,
          1.2230320992696806,
          -0.5100791299765235,
          -2.621920527501423,
          -0.7654463508855776,
          1.497549637995718,
          -0.35601407564263093,
          1.8455499737402132,
          0.12220185490031459,
          -0.8450536569754781
         ],
         "yaxis": "y4"
        },
        {
         "line": {
          "color": "rgba(128, 128, 128, 1.0)",
          "dash": "solid",
          "shape": "linear",
          "width": 1.3
         },
         "marker": {
          "size": 2,
          "symbol": "circle"
         },
         "mode": "markers",
         "name": "B",
         "text": "",
         "type": "scatter",
         "x": [
          0.09386654377961644,
          -1.139004671822801,
          -0.23367563378421577,
          -0.8178321802841402,
          -1.1386693772818866,
          -1.6933602772163847,
          -0.340882409868143,
          -0.351551967954869,
          1.0758340774178499,
          -0.787595569821493,
          -0.4591133299503853,
          0.6345527442690106,
          -0.0835497443856339,
          0.8184263799228679,
          2.3301004445919853,
          -1.7842568978947762,
          1.2519772540173484,
          -0.6878146559815548,
          0.9635311160123031,
          -1.8983326215126495,
          2.1261591546867598,
          0.8941929951060387,
          0.1993320335310691,
          1.458215627439701,
          1.4694761919905903,
          -0.15252157482332396,
          -0.07148794668059787,
          -0.7635578591458244,
          -0.615900797268425,
          1.7053678572999516,
          -2.7292138631298317,
          0.933668525563834,
          -0.15968170111604396,
          0.7028590284260958,
          -1.1066058899225693,
          0.1619239233677905,
          0.2696690872716977,
          -0.8220265893588786,
          -0.33645552246354093,
          -0.07621137756404667,
          0.13301168100033228,
          -1.8700761206942498,
          0.0027439163561086524,
          1.2737410558275717,
          2.650550647922217,
          0.16841290963442426,
          -0.14149905735278132,
          -0.9644995305255604,
          -1.2604272026237753,
          0.319347044132876,
          0.56899546075684,
          1.241070964776888,
          -2.631068877305108,
          0.6652088306271956,
          -0.1867782110110191,
          -1.1025950775762114,
          -1.0816166208111249,
          0.28279051004301603,
          0.22548470390457245,
          -1.0921356640494668,
          -0.21652925585167312,
          1.2433709974704996,
          -3.1345566857767975,
          -1.4382763214819527,
          -1.1285833645782766,
          -1.2296014908982091,
          -1.7346476621463802,
          -0.9222160955908932,
          -0.1732327426597853,
          0.2976568213768825,
          0.7990801597704285,
          -0.15030976242435307,
          -0.9146846787912161,
          1.283925952969555,
          0.013167437974883985,
          1.0127366895351093,
          0.4891948168208888,
          0.42369269963044137,
          1.33102509023086,
          -1.370552114637446,
          -0.714767518480121,
          0.3750615806094237,
          0.5341559704135873,
          1.5619388793042077,
          -1.8508306253213733,
          1.3370419329169922,
          -0.7280235070437202,
          -1.1633069457494016,
          -0.5492177107383946,
          -0.5021165530681923,
          1.3629234752007997,
          1.2230320992696806,
          -0.5100791299765235,
          -2.621920527501423,
          -0.7654463508855776,
          1.497549637995718,
          -0.35601407564263093,
          1.8455499737402132,
          0.12220185490031459,
          -0.8450536569754781
         ],
         "xaxis": "x5",
         "y": [
          1.1340353607997995,
          0.013006465258081384,
          -1.4544113520150583,
          0.07672868747175726,
          0.48391889321947923,
          1.194788934202027,
          0.22468133183006384,
          0.12551098479531267,
          -0.27451552388284617,
          2.0356034926737436,
          0.7173123445309864,
          0.7932955472950777,
          -0.41502003783564156,
          0.3893140303258917,
          0.6193349803483303,
          -0.7866532286313116,
          1.3277002978859909,
          1.5560353033408851,
          -0.7637079816569204,
          1.4955257362466297,
          -1.3157860680447728,
          0.4814511617674176,
          -0.6261436350263004,
          -0.04619684870672389,
          0.9371898406188366,
          -0.5989093165454566,
          0.0062151920303784285,
          -0.6020029731603319,
          -2.208256297298656,
          0.7399894254410262,
          1.0860142458716426,
          -1.21065622295551,
          -0.09588287071653072,
          -1.2263598161115243,
          1.8299597122438265,
          -0.11413820163249909,
          -0.06935353377663811,
          1.5166820871775397,
          1.1795924483053237,
          -1.6027402892601654,
          0.12794276660807943,
          1.516455861068911,
          2.5031970959043703,
          -0.67197527259152,
          -0.729446552836332,
          -0.03227595217765168,
          0.6382184051655801,
          0.7079866983022988,
          -0.4630846645711651,
          -0.12042104592526794,
          0.818865391037555,
          -0.00456154244896449,
          -0.1454955215538559,
          0.82370762397494,
          1.1263911654451604,
          0.6957075242555208,
          -0.8809740163523293,
          0.13402287027597873,
          0.014942003469062437,
          0.5804442219882356,
          0.9941911200090845,
          0.7290166511006079,
          -0.19075826249149594,
          -0.3918900162987637,
          1.333464552078728,
          -0.14873129227566592,
          -2.705689931089558,
          -0.7259691233913627,
          1.0168910947228955,
          0.7873734558033054,
          0.026171372184366572,
          0.12996314877041218,
          1.6580005079219238,
          -0.44171738051397963,
          -0.0213341973283803,
          1.0895618776272844,
          -1.4783218403668337,
          -0.8051304132435134,
          0.9531400624960661,
          0.8574565198195986,
          1.267699008904015,
          -1.0931040378118888,
          0.5145903925372172,
          0.7628372620473755,
          -0.6581011595882967,
          1.2632260819909658,
          -1.2555456014903983,
          -0.9356552111274646,
          -0.3691646696574371,
          0.3709105437574881,
          1.0912030100326888,
          -0.9904125304371655,
          -1.2409751278186256,
          1.2795751598938199,
          1.0106178022864407,
          -0.03939033921404506,
          2.7754656697884035,
          -0.3644327979796833,
          1.5226149656513353,
          -1.5568377097308161
         ],
         "yaxis": "y5"
        },
        {
         "histfunc": "count",
         "histnorm": "",
         "marker": {
          "color": "rgba(55, 128, 191, 1.0)",
          "line": {
           "color": "#4D5663",
           "width": 1.3
          }
         },
         "name": "B",
         "nbinsx": 10,
         "opacity": 0.8,
         "orientation": "v",
         "type": "histogram",
         "x": [
          1.1340353607997995,
          0.013006465258081384,
          -1.4544113520150583,
          0.07672868747175726,
          0.48391889321947923,
          1.194788934202027,
          0.22468133183006384,
          0.12551098479531267,
          -0.27451552388284617,
          2.0356034926737436,
          0.7173123445309864,
          0.7932955472950777,
          -0.41502003783564156,
          0.3893140303258917,
          0.6193349803483303,
          -0.7866532286313116,
          1.3277002978859909,
          1.5560353033408851,
          -0.7637079816569204,
          1.4955257362466297,
          -1.3157860680447728,
          0.4814511617674176,
          -0.6261436350263004,
          -0.04619684870672389,
          0.9371898406188366,
          -0.5989093165454566,
          0.0062151920303784285,
          -0.6020029731603319,
          -2.208256297298656,
          0.7399894254410262,
          1.0860142458716426,
          -1.21065622295551,
          -0.09588287071653072,
          -1.2263598161115243,
          1.8299597122438265,
          -0.11413820163249909,
          -0.06935353377663811,
          1.5166820871775397,
          1.1795924483053237,
          -1.6027402892601654,
          0.12794276660807943,
          1.516455861068911,
          2.5031970959043703,
          -0.67197527259152,
          -0.729446552836332,
          -0.03227595217765168,
          0.6382184051655801,
          0.7079866983022988,
          -0.4630846645711651,
          -0.12042104592526794,
          0.818865391037555,
          -0.00456154244896449,
          -0.1454955215538559,
          0.82370762397494,
          1.1263911654451604,
          0.6957075242555208,
          -0.8809740163523293,
          0.13402287027597873,
          0.014942003469062437,
          0.5804442219882356,
          0.9941911200090845,
          0.7290166511006079,
          -0.19075826249149594,
          -0.3918900162987637,
          1.333464552078728,
          -0.14873129227566592,
          -2.705689931089558,
          -0.7259691233913627,
          1.0168910947228955,
          0.7873734558033054,
          0.026171372184366572,
          0.12996314877041218,
          1.6580005079219238,
          -0.44171738051397963,
          -0.0213341973283803,
          1.0895618776272844,
          -1.4783218403668337,
          -0.8051304132435134,
          0.9531400624960661,
          0.8574565198195986,
          1.267699008904015,
          -1.0931040378118888,
          0.5145903925372172,
          0.7628372620473755,
          -0.6581011595882967,
          1.2632260819909658,
          -1.2555456014903983,
          -0.9356552111274646,
          -0.3691646696574371,
          0.3709105437574881,
          1.0912030100326888,
          -0.9904125304371655,
          -1.2409751278186256,
          1.2795751598938199,
          1.0106178022864407,
          -0.03939033921404506,
          2.7754656697884035,
          -0.3644327979796833,
          1.5226149656513353,
          -1.5568377097308161
         ],
         "xaxis": "x6",
         "yaxis": "y6"
        },
        {
         "line": {
          "color": "rgba(128, 128, 128, 1.0)",
          "dash": "solid",
          "shape": "linear",
          "width": 1.3
         },
         "marker": {
          "size": 2,
          "symbol": "circle"
         },
         "mode": "markers",
         "name": "B",
         "text": "",
         "type": "scatter",
         "x": [
          -0.33282780587095806,
          -1.5448452376166364,
          0.6228685924793956,
          0.8093687828306709,
          0.7190772579836001,
          1.0919707830866467,
          0.8784873880603475,
          -0.17819568113605488,
          -0.3580442357795487,
          2.44940806197161,
          -0.7560318056998703,
          0.8511125309822584,
          3.580785860876354,
          -1.1848213891289068,
          0.03906202735855334,
          0.9858635187960115,
          -0.21748323458448648,
          -0.5543899695384241,
          0.34846405568235944,
          -0.421910201269028,
          -2.1980431469511856,
          0.6004436342154168,
          -1.1338896174644981,
          2.357041588876008,
          -0.5982866014884459,
          1.757133388747493,
          -0.1417320558500775,
          -1.10594223484253,
          -1.455604064466308,
          0.4837748459104745,
          -1.1761499324913411,
          0.5582215826603278,
          -0.15298379420849662,
          1.6596583125489515,
          -1.5724077458238064,
          0.6215265491328936,
          -0.0561986409113782,
          0.24927014302474623,
          1.53543501332122,
          -0.055599551054791994,
          1.32645184759936,
          1.4514528477362016,
          -1.4847606319621105,
          -0.9973741476602409,
          1.4994912648796017,
          0.03419252439163247,
          -0.046292042915014826,
          1.709035841451056,
          0.5212967365366743,
          -0.131081583263683,
          -0.43808928803715164,
          1.6567970968688839,
          -1.5275444468745252,
          -0.8447896284702037,
          0.6578162654164579,
          -0.7534725970827714,
          -0.17285777482223505,
          0.35363997961509896,
          -1.788792436237959,
          -0.07162340903032188,
          -1.4623169456140561,
          0.8280825240696073,
          1.0835553730224157,
          -1.4240515666478064,
          -0.1341858472586976,
          -0.04106533170087056,
          -0.8051743208826985,
          0.6094093843827119,
          -0.35468964870606495,
          0.8603252413615008,
          2.6227282912468595,
          -0.3221728921133419,
          0.682400376121072,
          0.5149524099278576,
          0.2551924502028558,
          1.0844566358187382,
          1.1749552409728774,
          0.21926456388416293,
          0.04894329554338051,
          1.0119357918722658,
          1.8866860191241275,
          0.7805020164639119,
          0.8553420893921356,
          -0.6815036634994182,
          -1.014602473534048,
          -1.359433213823731,
          -0.05948954050187066,
          -1.1213977948174525,
          -0.33912696814714816,
          -1.0615594813679707,
          -0.411066444295418,
          2.166497474851957,
          -1.1134527970750354,
          -0.6054877059829976,
          0.4597533366654226,
          1.3290782445998464,
          0.012551474021747479,
          2.361644470059281,
          1.842062235156804,
          0.13153726714116326
         ],
         "xaxis": "x7",
         "y": [
          1.1340353607997995,
          0.013006465258081384,
          -1.4544113520150583,
          0.07672868747175726,
          0.48391889321947923,
          1.194788934202027,
          0.22468133183006384,
          0.12551098479531267,
          -0.27451552388284617,
          2.0356034926737436,
          0.7173123445309864,
          0.7932955472950777,
          -0.41502003783564156,
          0.3893140303258917,
          0.6193349803483303,
          -0.7866532286313116,
          1.3277002978859909,
          1.5560353033408851,
          -0.7637079816569204,
          1.4955257362466297,
          -1.3157860680447728,
          0.4814511617674176,
          -0.6261436350263004,
          -0.04619684870672389,
          0.9371898406188366,
          -0.5989093165454566,
          0.0062151920303784285,
          -0.6020029731603319,
          -2.208256297298656,
          0.7399894254410262,
          1.0860142458716426,
          -1.21065622295551,
          -0.09588287071653072,
          -1.2263598161115243,
          1.8299597122438265,
          -0.11413820163249909,
          -0.06935353377663811,
          1.5166820871775397,
          1.1795924483053237,
          -1.6027402892601654,
          0.12794276660807943,
          1.516455861068911,
          2.5031970959043703,
          -0.67197527259152,
          -0.729446552836332,
          -0.03227595217765168,
          0.6382184051655801,
          0.7079866983022988,
          -0.4630846645711651,
          -0.12042104592526794,
          0.818865391037555,
          -0.00456154244896449,
          -0.1454955215538559,
          0.82370762397494,
          1.1263911654451604,
          0.6957075242555208,
          -0.8809740163523293,
          0.13402287027597873,
          0.014942003469062437,
          0.5804442219882356,
          0.9941911200090845,
          0.7290166511006079,
          -0.19075826249149594,
          -0.3918900162987637,
          1.333464552078728,
          -0.14873129227566592,
          -2.705689931089558,
          -0.7259691233913627,
          1.0168910947228955,
          0.7873734558033054,
          0.026171372184366572,
          0.12996314877041218,
          1.6580005079219238,
          -0.44171738051397963,
          -0.0213341973283803,
          1.0895618776272844,
          -1.4783218403668337,
          -0.8051304132435134,
          0.9531400624960661,
          0.8574565198195986,
          1.267699008904015,
          -1.0931040378118888,
          0.5145903925372172,
          0.7628372620473755,
          -0.6581011595882967,
          1.2632260819909658,
          -1.2555456014903983,
          -0.9356552111274646,
          -0.3691646696574371,
          0.3709105437574881,
          1.0912030100326888,
          -0.9904125304371655,
          -1.2409751278186256,
          1.2795751598938199,
          1.0106178022864407,
          -0.03939033921404506,
          2.7754656697884035,
          -0.3644327979796833,
          1.5226149656513353,
          -1.5568377097308161
         ],
         "yaxis": "y7"
        },
        {
         "line": {
          "color": "rgba(128, 128, 128, 1.0)",
          "dash": "solid",
          "shape": "linear",
          "width": 1.3
         },
         "marker": {
          "size": 2,
          "symbol": "circle"
         },
         "mode": "markers",
         "name": "B",
         "text": "",
         "type": "scatter",
         "x": [
          0.01827674693836868,
          1.0312259862114281,
          -0.9902271317945981,
          -0.16952657109673888,
          0.0062033216943051,
          -0.020163977666164113,
          2.3254939553122944,
          0.784688250418403,
          -0.8095976935064689,
          1.0239361042223596,
          0.2120960201724168,
          0.2621575715402791,
          -1.1452357261550754,
          -2.150176744966233,
          0.2765394993371971,
          -0.39123864969170813,
          0.2606049970823336,
          0.6015042832534069,
          -0.5514447046029021,
          -0.33974805512263423,
          0.216680183299324,
          0.7740578412305583,
          -1.0581106408197496,
          -0.35751938655782445,
          0.5330389050112327,
          -0.46158005081539777,
          0.17840690735641399,
          -0.6625416623280843,
          0.38018466056836453,
          0.4847453775361481,
          -0.40452462836788083,
          0.7552367436336933,
          -0.5077675008072585,
          -0.13190226967138116,
          -0.3540764598406436,
          -0.36783435662119446,
          -0.3109370276173948,
          -1.0402771302704863,
          -1.3233540770350818,
          -0.9192426180694927,
          0.8587158823666327,
          -0.23733506108086794,
          -0.23023750991260766,
          0.76676620980785,
          -0.1581247958407638,
          -0.433504732896152,
          0.7315424536761489,
          0.726930646383536,
          1.1212649896971638,
          -0.30457026718549485,
          0.9492317484898695,
          -0.21113086866262615,
          1.0813108185118336,
          -0.5118880977698083,
          -0.3633732719562493,
          -0.7404551690859538,
          -1.1163057385564539,
          -0.7764959457234427,
          0.9552538822346441,
          -1.6501600320522556,
          0.8167022906270849,
          1.235473115067319,
          -0.2621304196056136,
          0.11186254307160247,
          1.7258513451699313,
          -0.3213869516737532,
          -0.6202949993605799,
          0.8439360896123422,
          -0.10386141197968152,
          1.653179103833251,
          0.31266756089648384,
          0.2623359432631791,
          -1.7097107400981206,
          -0.8900201035182636,
          0.413098861904276,
          -0.19806085942231758,
          1.8495416953003254,
          -0.2750288197965949,
          1.9050418541721095,
          1.4824729393772311,
          0.42477045373379674,
          0.5980783105289387,
          2.592541217628275,
          -1.1075789953915745,
          0.4145263543464033,
          0.0928350788536731,
          -1.68020796491302,
          0.0801443799603643,
          -0.21061732710712458,
          -1.038464987467301,
          -1.2024562570004007,
          -0.04100670824841796,
          -1.2368029460923655,
          0.30807983717780674,
          0.13785700001936516,
          -1.3441352328835554,
          0.48926231283611604,
          0.41798750518199207,
          -0.1372713308913042,
          0.21910304193782737
         ],
         "xaxis": "x8",
         "y": [
          1.1340353607997995,
          0.013006465258081384,
          -1.4544113520150583,
          0.07672868747175726,
          0.48391889321947923,
          1.194788934202027,
          0.22468133183006384,
          0.12551098479531267,
          -0.27451552388284617,
          2.0356034926737436,
          0.7173123445309864,
          0.7932955472950777,
          -0.41502003783564156,
          0.3893140303258917,
          0.6193349803483303,
          -0.7866532286313116,
          1.3277002978859909,
          1.5560353033408851,
          -0.7637079816569204,
          1.4955257362466297,
          -1.3157860680447728,
          0.4814511617674176,
          -0.6261436350263004,
          -0.04619684870672389,
          0.9371898406188366,
          -0.5989093165454566,
          0.0062151920303784285,
          -0.6020029731603319,
          -2.208256297298656,
          0.7399894254410262,
          1.0860142458716426,
          -1.21065622295551,
          -0.09588287071653072,
          -1.2263598161115243,
          1.8299597122438265,
          -0.11413820163249909,
          -0.06935353377663811,
          1.5166820871775397,
          1.1795924483053237,
          -1.6027402892601654,
          0.12794276660807943,
          1.516455861068911,
          2.5031970959043703,
          -0.67197527259152,
          -0.729446552836332,
          -0.03227595217765168,
          0.6382184051655801,
          0.7079866983022988,
          -0.4630846645711651,
          -0.12042104592526794,
          0.818865391037555,
          -0.00456154244896449,
          -0.1454955215538559,
          0.82370762397494,
          1.1263911654451604,
          0.6957075242555208,
          -0.8809740163523293,
          0.13402287027597873,
          0.014942003469062437,
          0.5804442219882356,
          0.9941911200090845,
          0.7290166511006079,
          -0.19075826249149594,
          -0.3918900162987637,
          1.333464552078728,
          -0.14873129227566592,
          -2.705689931089558,
          -0.7259691233913627,
          1.0168910947228955,
          0.7873734558033054,
          0.026171372184366572,
          0.12996314877041218,
          1.6580005079219238,
          -0.44171738051397963,
          -0.0213341973283803,
          1.0895618776272844,
          -1.4783218403668337,
          -0.8051304132435134,
          0.9531400624960661,
          0.8574565198195986,
          1.267699008904015,
          -1.0931040378118888,
          0.5145903925372172,
          0.7628372620473755,
          -0.6581011595882967,
          1.2632260819909658,
          -1.2555456014903983,
          -0.9356552111274646,
          -0.3691646696574371,
          0.3709105437574881,
          1.0912030100326888,
          -0.9904125304371655,
          -1.2409751278186256,
          1.2795751598938199,
          1.0106178022864407,
          -0.03939033921404506,
          2.7754656697884035,
          -0.3644327979796833,
          1.5226149656513353,
          -1.5568377097308161
         ],
         "yaxis": "y8"
        },
        {
         "line": {
          "color": "rgba(128, 128, 128, 1.0)",
          "dash": "solid",
          "shape": "linear",
          "width": 1.3
         },
         "marker": {
          "size": 2,
          "symbol": "circle"
         },
         "mode": "markers",
         "name": "C",
         "text": "",
         "type": "scatter",
         "x": [
          0.09386654377961644,
          -1.139004671822801,
          -0.23367563378421577,
          -0.8178321802841402,
          -1.1386693772818866,
          -1.6933602772163847,
          -0.340882409868143,
          -0.351551967954869,
          1.0758340774178499,
          -0.787595569821493,
          -0.4591133299503853,
          0.6345527442690106,
          -0.0835497443856339,
          0.8184263799228679,
          2.3301004445919853,
          -1.7842568978947762,
          1.2519772540173484,
          -0.6878146559815548,
          0.9635311160123031,
          -1.8983326215126495,
          2.1261591546867598,
          0.8941929951060387,
          0.1993320335310691,
          1.458215627439701,
          1.4694761919905903,
          -0.15252157482332396,
          -0.07148794668059787,
          -0.7635578591458244,
          -0.615900797268425,
          1.7053678572999516,
          -2.7292138631298317,
          0.933668525563834,
          -0.15968170111604396,
          0.7028590284260958,
          -1.1066058899225693,
          0.1619239233677905,
          0.2696690872716977,
          -0.8220265893588786,
          -0.33645552246354093,
          -0.07621137756404667,
          0.13301168100033228,
          -1.8700761206942498,
          0.0027439163561086524,
          1.2737410558275717,
          2.650550647922217,
          0.16841290963442426,
          -0.14149905735278132,
          -0.9644995305255604,
          -1.2604272026237753,
          0.319347044132876,
          0.56899546075684,
          1.241070964776888,
          -2.631068877305108,
          0.6652088306271956,
          -0.1867782110110191,
          -1.1025950775762114,
          -1.0816166208111249,
          0.28279051004301603,
          0.22548470390457245,
          -1.0921356640494668,
          -0.21652925585167312,
          1.2433709974704996,
          -3.1345566857767975,
          -1.4382763214819527,
          -1.1285833645782766,
          -1.2296014908982091,
          -1.7346476621463802,
          -0.9222160955908932,
          -0.1732327426597853,
          0.2976568213768825,
          0.7990801597704285,
          -0.15030976242435307,
          -0.9146846787912161,
          1.283925952969555,
          0.013167437974883985,
          1.0127366895351093,
          0.4891948168208888,
          0.42369269963044137,
          1.33102509023086,
          -1.370552114637446,
          -0.714767518480121,
          0.3750615806094237,
          0.5341559704135873,
          1.5619388793042077,
          -1.8508306253213733,
          1.3370419329169922,
          -0.7280235070437202,
          -1.1633069457494016,
          -0.5492177107383946,
          -0.5021165530681923,
          1.3629234752007997,
          1.2230320992696806,
          -0.5100791299765235,
          -2.621920527501423,
          -0.7654463508855776,
          1.497549637995718,
          -0.35601407564263093,
          1.8455499737402132,
          0.12220185490031459,
          -0.8450536569754781
         ],
         "xaxis": "x9",
         "y": [
          -0.33282780587095806,
          -1.5448452376166364,
          0.6228685924793956,
          0.8093687828306709,
          0.7190772579836001,
          1.0919707830866467,
          0.8784873880603475,
          -0.17819568113605488,
          -0.3580442357795487,
          2.44940806197161,
          -0.7560318056998703,
          0.8511125309822584,
          3.580785860876354,
          -1.1848213891289068,
          0.03906202735855334,
          0.9858635187960115,
          -0.21748323458448648,
          -0.5543899695384241,
          0.34846405568235944,
          -0.421910201269028,
          -2.1980431469511856,
          0.6004436342154168,
          -1.1338896174644981,
          2.357041588876008,
          -0.5982866014884459,
          1.757133388747493,
          -0.1417320558500775,
          -1.10594223484253,
          -1.455604064466308,
          0.4837748459104745,
          -1.1761499324913411,
          0.5582215826603278,
          -0.15298379420849662,
          1.6596583125489515,
          -1.5724077458238064,
          0.6215265491328936,
          -0.0561986409113782,
          0.24927014302474623,
          1.53543501332122,
          -0.055599551054791994,
          1.32645184759936,
          1.4514528477362016,
          -1.4847606319621105,
          -0.9973741476602409,
          1.4994912648796017,
          0.03419252439163247,
          -0.046292042915014826,
          1.709035841451056,
          0.5212967365366743,
          -0.131081583263683,
          -0.43808928803715164,
          1.6567970968688839,
          -1.5275444468745252,
          -0.8447896284702037,
          0.6578162654164579,
          -0.7534725970827714,
          -0.17285777482223505,
          0.35363997961509896,
          -1.788792436237959,
          -0.07162340903032188,
          -1.4623169456140561,
          0.8280825240696073,
          1.0835553730224157,
          -1.4240515666478064,
          -0.1341858472586976,
          -0.04106533170087056,
          -0.8051743208826985,
          0.6094093843827119,
          -0.35468964870606495,
          0.8603252413615008,
          2.6227282912468595,
          -0.3221728921133419,
          0.682400376121072,
          0.5149524099278576,
          0.2551924502028558,
          1.0844566358187382,
          1.1749552409728774,
          0.21926456388416293,
          0.04894329554338051,
          1.0119357918722658,
          1.8866860191241275,
          0.7805020164639119,
          0.8553420893921356,
          -0.6815036634994182,
          -1.014602473534048,
          -1.359433213823731,
          -0.05948954050187066,
          -1.1213977948174525,
          -0.33912696814714816,
          -1.0615594813679707,
          -0.411066444295418,
          2.166497474851957,
          -1.1134527970750354,
          -0.6054877059829976,
          0.4597533366654226,
          1.3290782445998464,
          0.012551474021747479,
          2.361644470059281,
          1.842062235156804,
          0.13153726714116326
         ],
         "yaxis": "y9"
        },
        {
         "line": {
          "color": "rgba(128, 128, 128, 1.0)",
          "dash": "solid",
          "shape": "linear",
          "width": 1.3
         },
         "marker": {
          "size": 2,
          "symbol": "circle"
         },
         "mode": "markers",
         "name": "C",
         "text": "",
         "type": "scatter",
         "x": [
          1.1340353607997995,
          0.013006465258081384,
          -1.4544113520150583,
          0.07672868747175726,
          0.48391889321947923,
          1.194788934202027,
          0.22468133183006384,
          0.12551098479531267,
          -0.27451552388284617,
          2.0356034926737436,
          0.7173123445309864,
          0.7932955472950777,
          -0.41502003783564156,
          0.3893140303258917,
          0.6193349803483303,
          -0.7866532286313116,
          1.3277002978859909,
          1.5560353033408851,
          -0.7637079816569204,
          1.4955257362466297,
          -1.3157860680447728,
          0.4814511617674176,
          -0.6261436350263004,
          -0.04619684870672389,
          0.9371898406188366,
          -0.5989093165454566,
          0.0062151920303784285,
          -0.6020029731603319,
          -2.208256297298656,
          0.7399894254410262,
          1.0860142458716426,
          -1.21065622295551,
          -0.09588287071653072,
          -1.2263598161115243,
          1.8299597122438265,
          -0.11413820163249909,
          -0.06935353377663811,
          1.5166820871775397,
          1.1795924483053237,
          -1.6027402892601654,
          0.12794276660807943,
          1.516455861068911,
          2.5031970959043703,
          -0.67197527259152,
          -0.729446552836332,
          -0.03227595217765168,
          0.6382184051655801,
          0.7079866983022988,
          -0.4630846645711651,
          -0.12042104592526794,
          0.818865391037555,
          -0.00456154244896449,
          -0.1454955215538559,
          0.82370762397494,
          1.1263911654451604,
          0.6957075242555208,
          -0.8809740163523293,
          0.13402287027597873,
          0.014942003469062437,
          0.5804442219882356,
          0.9941911200090845,
          0.7290166511006079,
          -0.19075826249149594,
          -0.3918900162987637,
          1.333464552078728,
          -0.14873129227566592,
          -2.705689931089558,
          -0.7259691233913627,
          1.0168910947228955,
          0.7873734558033054,
          0.026171372184366572,
          0.12996314877041218,
          1.6580005079219238,
          -0.44171738051397963,
          -0.0213341973283803,
          1.0895618776272844,
          -1.4783218403668337,
          -0.8051304132435134,
          0.9531400624960661,
          0.8574565198195986,
          1.267699008904015,
          -1.0931040378118888,
          0.5145903925372172,
          0.7628372620473755,
          -0.6581011595882967,
          1.2632260819909658,
          -1.2555456014903983,
          -0.9356552111274646,
          -0.3691646696574371,
          0.3709105437574881,
          1.0912030100326888,
          -0.9904125304371655,
          -1.2409751278186256,
          1.2795751598938199,
          1.0106178022864407,
          -0.03939033921404506,
          2.7754656697884035,
          -0.3644327979796833,
          1.5226149656513353,
          -1.5568377097308161
         ],
         "xaxis": "x10",
         "y": [
          -0.33282780587095806,
          -1.5448452376166364,
          0.6228685924793956,
          0.8093687828306709,
          0.7190772579836001,
          1.0919707830866467,
          0.8784873880603475,
          -0.17819568113605488,
          -0.3580442357795487,
          2.44940806197161,
          -0.7560318056998703,
          0.8511125309822584,
          3.580785860876354,
          -1.1848213891289068,
          0.03906202735855334,
          0.9858635187960115,
          -0.21748323458448648,
          -0.5543899695384241,
          0.34846405568235944,
          -0.421910201269028,
          -2.1980431469511856,
          0.6004436342154168,
          -1.1338896174644981,
          2.357041588876008,
          -0.5982866014884459,
          1.757133388747493,
          -0.1417320558500775,
          -1.10594223484253,
          -1.455604064466308,
          0.4837748459104745,
          -1.1761499324913411,
          0.5582215826603278,
          -0.15298379420849662,
          1.6596583125489515,
          -1.5724077458238064,
          0.6215265491328936,
          -0.0561986409113782,
          0.24927014302474623,
          1.53543501332122,
          -0.055599551054791994,
          1.32645184759936,
          1.4514528477362016,
          -1.4847606319621105,
          -0.9973741476602409,
          1.4994912648796017,
          0.03419252439163247,
          -0.046292042915014826,
          1.709035841451056,
          0.5212967365366743,
          -0.131081583263683,
          -0.43808928803715164,
          1.6567970968688839,
          -1.5275444468745252,
          -0.8447896284702037,
          0.6578162654164579,
          -0.7534725970827714,
          -0.17285777482223505,
          0.35363997961509896,
          -1.788792436237959,
          -0.07162340903032188,
          -1.4623169456140561,
          0.8280825240696073,
          1.0835553730224157,
          -1.4240515666478064,
          -0.1341858472586976,
          -0.04106533170087056,
          -0.8051743208826985,
          0.6094093843827119,
          -0.35468964870606495,
          0.8603252413615008,
          2.6227282912468595,
          -0.3221728921133419,
          0.682400376121072,
          0.5149524099278576,
          0.2551924502028558,
          1.0844566358187382,
          1.1749552409728774,
          0.21926456388416293,
          0.04894329554338051,
          1.0119357918722658,
          1.8866860191241275,
          0.7805020164639119,
          0.8553420893921356,
          -0.6815036634994182,
          -1.014602473534048,
          -1.359433213823731,
          -0.05948954050187066,
          -1.1213977948174525,
          -0.33912696814714816,
          -1.0615594813679707,
          -0.411066444295418,
          2.166497474851957,
          -1.1134527970750354,
          -0.6054877059829976,
          0.4597533366654226,
          1.3290782445998464,
          0.012551474021747479,
          2.361644470059281,
          1.842062235156804,
          0.13153726714116326
         ],
         "yaxis": "y10"
        },
        {
         "histfunc": "count",
         "histnorm": "",
         "marker": {
          "color": "rgba(50, 171, 96, 1.0)",
          "line": {
           "color": "#4D5663",
           "width": 1.3
          }
         },
         "name": "C",
         "nbinsx": 10,
         "opacity": 0.8,
         "orientation": "v",
         "type": "histogram",
         "x": [
          -0.33282780587095806,
          -1.5448452376166364,
          0.6228685924793956,
          0.8093687828306709,
          0.7190772579836001,
          1.0919707830866467,
          0.8784873880603475,
          -0.17819568113605488,
          -0.3580442357795487,
          2.44940806197161,
          -0.7560318056998703,
          0.8511125309822584,
          3.580785860876354,
          -1.1848213891289068,
          0.03906202735855334,
          0.9858635187960115,
          -0.21748323458448648,
          -0.5543899695384241,
          0.34846405568235944,
          -0.421910201269028,
          -2.1980431469511856,
          0.6004436342154168,
          -1.1338896174644981,
          2.357041588876008,
          -0.5982866014884459,
          1.757133388747493,
          -0.1417320558500775,
          -1.10594223484253,
          -1.455604064466308,
          0.4837748459104745,
          -1.1761499324913411,
          0.5582215826603278,
          -0.15298379420849662,
          1.6596583125489515,
          -1.5724077458238064,
          0.6215265491328936,
          -0.0561986409113782,
          0.24927014302474623,
          1.53543501332122,
          -0.055599551054791994,
          1.32645184759936,
          1.4514528477362016,
          -1.4847606319621105,
          -0.9973741476602409,
          1.4994912648796017,
          0.03419252439163247,
          -0.046292042915014826,
          1.709035841451056,
          0.5212967365366743,
          -0.131081583263683,
          -0.43808928803715164,
          1.6567970968688839,
          -1.5275444468745252,
          -0.8447896284702037,
          0.6578162654164579,
          -0.7534725970827714,
          -0.17285777482223505,
          0.35363997961509896,
          -1.788792436237959,
          -0.07162340903032188,
          -1.4623169456140561,
          0.8280825240696073,
          1.0835553730224157,
          -1.4240515666478064,
          -0.1341858472586976,
          -0.04106533170087056,
          -0.8051743208826985,
          0.6094093843827119,
          -0.35468964870606495,
          0.8603252413615008,
          2.6227282912468595,
          -0.3221728921133419,
          0.682400376121072,
          0.5149524099278576,
          0.2551924502028558,
          1.0844566358187382,
          1.1749552409728774,
          0.21926456388416293,
          0.04894329554338051,
          1.0119357918722658,
          1.8866860191241275,
          0.7805020164639119,
          0.8553420893921356,
          -0.6815036634994182,
          -1.014602473534048,
          -1.359433213823731,
          -0.05948954050187066,
          -1.1213977948174525,
          -0.33912696814714816,
          -1.0615594813679707,
          -0.411066444295418,
          2.166497474851957,
          -1.1134527970750354,
          -0.6054877059829976,
          0.4597533366654226,
          1.3290782445998464,
          0.012551474021747479,
          2.361644470059281,
          1.842062235156804,
          0.13153726714116326
         ],
         "xaxis": "x11",
         "yaxis": "y11"
        },
        {
         "line": {
          "color": "rgba(128, 128, 128, 1.0)",
          "dash": "solid",
          "shape": "linear",
          "width": 1.3
         },
         "marker": {
          "size": 2,
          "symbol": "circle"
         },
         "mode": "markers",
         "name": "C",
         "text": "",
         "type": "scatter",
         "x": [
          0.01827674693836868,
          1.0312259862114281,
          -0.9902271317945981,
          -0.16952657109673888,
          0.0062033216943051,
          -0.020163977666164113,
          2.3254939553122944,
          0.784688250418403,
          -0.8095976935064689,
          1.0239361042223596,
          0.2120960201724168,
          0.2621575715402791,
          -1.1452357261550754,
          -2.150176744966233,
          0.2765394993371971,
          -0.39123864969170813,
          0.2606049970823336,
          0.6015042832534069,
          -0.5514447046029021,
          -0.33974805512263423,
          0.216680183299324,
          0.7740578412305583,
          -1.0581106408197496,
          -0.35751938655782445,
          0.5330389050112327,
          -0.46158005081539777,
          0.17840690735641399,
          -0.6625416623280843,
          0.38018466056836453,
          0.4847453775361481,
          -0.40452462836788083,
          0.7552367436336933,
          -0.5077675008072585,
          -0.13190226967138116,
          -0.3540764598406436,
          -0.36783435662119446,
          -0.3109370276173948,
          -1.0402771302704863,
          -1.3233540770350818,
          -0.9192426180694927,
          0.8587158823666327,
          -0.23733506108086794,
          -0.23023750991260766,
          0.76676620980785,
          -0.1581247958407638,
          -0.433504732896152,
          0.7315424536761489,
          0.726930646383536,
          1.1212649896971638,
          -0.30457026718549485,
          0.9492317484898695,
          -0.21113086866262615,
          1.0813108185118336,
          -0.5118880977698083,
          -0.3633732719562493,
          -0.7404551690859538,
          -1.1163057385564539,
          -0.7764959457234427,
          0.9552538822346441,
          -1.6501600320522556,
          0.8167022906270849,
          1.235473115067319,
          -0.2621304196056136,
          0.11186254307160247,
          1.7258513451699313,
          -0.3213869516737532,
          -0.6202949993605799,
          0.8439360896123422,
          -0.10386141197968152,
          1.653179103833251,
          0.31266756089648384,
          0.2623359432631791,
          -1.7097107400981206,
          -0.8900201035182636,
          0.413098861904276,
          -0.19806085942231758,
          1.8495416953003254,
          -0.2750288197965949,
          1.9050418541721095,
          1.4824729393772311,
          0.42477045373379674,
          0.5980783105289387,
          2.592541217628275,
          -1.1075789953915745,
          0.4145263543464033,
          0.0928350788536731,
          -1.68020796491302,
          0.0801443799603643,
          -0.21061732710712458,
          -1.038464987467301,
          -1.2024562570004007,
          -0.04100670824841796,
          -1.2368029460923655,
          0.30807983717780674,
          0.13785700001936516,
          -1.3441352328835554,
          0.48926231283611604,
          0.41798750518199207,
          -0.1372713308913042,
          0.21910304193782737
         ],
         "xaxis": "x12",
         "y": [
          -0.33282780587095806,
          -1.5448452376166364,
          0.6228685924793956,
          0.8093687828306709,
          0.7190772579836001,
          1.0919707830866467,
          0.8784873880603475,
          -0.17819568113605488,
          -0.3580442357795487,
          2.44940806197161,
          -0.7560318056998703,
          0.8511125309822584,
          3.580785860876354,
          -1.1848213891289068,
          0.03906202735855334,
          0.9858635187960115,
          -0.21748323458448648,
          -0.5543899695384241,
          0.34846405568235944,
          -0.421910201269028,
          -2.1980431469511856,
          0.6004436342154168,
          -1.1338896174644981,
          2.357041588876008,
          -0.5982866014884459,
          1.757133388747493,
          -0.1417320558500775,
          -1.10594223484253,
          -1.455604064466308,
          0.4837748459104745,
          -1.1761499324913411,
          0.5582215826603278,
          -0.15298379420849662,
          1.6596583125489515,
          -1.5724077458238064,
          0.6215265491328936,
          -0.0561986409113782,
          0.24927014302474623,
          1.53543501332122,
          -0.055599551054791994,
          1.32645184759936,
          1.4514528477362016,
          -1.4847606319621105,
          -0.9973741476602409,
          1.4994912648796017,
          0.03419252439163247,
          -0.046292042915014826,
          1.709035841451056,
          0.5212967365366743,
          -0.131081583263683,
          -0.43808928803715164,
          1.6567970968688839,
          -1.5275444468745252,
          -0.8447896284702037,
          0.6578162654164579,
          -0.7534725970827714,
          -0.17285777482223505,
          0.35363997961509896,
          -1.788792436237959,
          -0.07162340903032188,
          -1.4623169456140561,
          0.8280825240696073,
          1.0835553730224157,
          -1.4240515666478064,
          -0.1341858472586976,
          -0.04106533170087056,
          -0.8051743208826985,
          0.6094093843827119,
          -0.35468964870606495,
          0.8603252413615008,
          2.6227282912468595,
          -0.3221728921133419,
          0.682400376121072,
          0.5149524099278576,
          0.2551924502028558,
          1.0844566358187382,
          1.1749552409728774,
          0.21926456388416293,
          0.04894329554338051,
          1.0119357918722658,
          1.8866860191241275,
          0.7805020164639119,
          0.8553420893921356,
          -0.6815036634994182,
          -1.014602473534048,
          -1.359433213823731,
          -0.05948954050187066,
          -1.1213977948174525,
          -0.33912696814714816,
          -1.0615594813679707,
          -0.411066444295418,
          2.166497474851957,
          -1.1134527970750354,
          -0.6054877059829976,
          0.4597533366654226,
          1.3290782445998464,
          0.012551474021747479,
          2.361644470059281,
          1.842062235156804,
          0.13153726714116326
         ],
         "yaxis": "y12"
        },
        {
         "line": {
          "color": "rgba(128, 128, 128, 1.0)",
          "dash": "solid",
          "shape": "linear",
          "width": 1.3
         },
         "marker": {
          "size": 2,
          "symbol": "circle"
         },
         "mode": "markers",
         "name": "D",
         "text": "",
         "type": "scatter",
         "x": [
          0.09386654377961644,
          -1.139004671822801,
          -0.23367563378421577,
          -0.8178321802841402,
          -1.1386693772818866,
          -1.6933602772163847,
          -0.340882409868143,
          -0.351551967954869,
          1.0758340774178499,
          -0.787595569821493,
          -0.4591133299503853,
          0.6345527442690106,
          -0.0835497443856339,
          0.8184263799228679,
          2.3301004445919853,
          -1.7842568978947762,
          1.2519772540173484,
          -0.6878146559815548,
          0.9635311160123031,
          -1.8983326215126495,
          2.1261591546867598,
          0.8941929951060387,
          0.1993320335310691,
          1.458215627439701,
          1.4694761919905903,
          -0.15252157482332396,
          -0.07148794668059787,
          -0.7635578591458244,
          -0.615900797268425,
          1.7053678572999516,
          -2.7292138631298317,
          0.933668525563834,
          -0.15968170111604396,
          0.7028590284260958,
          -1.1066058899225693,
          0.1619239233677905,
          0.2696690872716977,
          -0.8220265893588786,
          -0.33645552246354093,
          -0.07621137756404667,
          0.13301168100033228,
          -1.8700761206942498,
          0.0027439163561086524,
          1.2737410558275717,
          2.650550647922217,
          0.16841290963442426,
          -0.14149905735278132,
          -0.9644995305255604,
          -1.2604272026237753,
          0.319347044132876,
          0.56899546075684,
          1.241070964776888,
          -2.631068877305108,
          0.6652088306271956,
          -0.1867782110110191,
          -1.1025950775762114,
          -1.0816166208111249,
          0.28279051004301603,
          0.22548470390457245,
          -1.0921356640494668,
          -0.21652925585167312,
          1.2433709974704996,
          -3.1345566857767975,
          -1.4382763214819527,
          -1.1285833645782766,
          -1.2296014908982091,
          -1.7346476621463802,
          -0.9222160955908932,
          -0.1732327426597853,
          0.2976568213768825,
          0.7990801597704285,
          -0.15030976242435307,
          -0.9146846787912161,
          1.283925952969555,
          0.013167437974883985,
          1.0127366895351093,
          0.4891948168208888,
          0.42369269963044137,
          1.33102509023086,
          -1.370552114637446,
          -0.714767518480121,
          0.3750615806094237,
          0.5341559704135873,
          1.5619388793042077,
          -1.8508306253213733,
          1.3370419329169922,
          -0.7280235070437202,
          -1.1633069457494016,
          -0.5492177107383946,
          -0.5021165530681923,
          1.3629234752007997,
          1.2230320992696806,
          -0.5100791299765235,
          -2.621920527501423,
          -0.7654463508855776,
          1.497549637995718,
          -0.35601407564263093,
          1.8455499737402132,
          0.12220185490031459,
          -0.8450536569754781
         ],
         "xaxis": "x13",
         "y": [
          0.01827674693836868,
          1.0312259862114281,
          -0.9902271317945981,
          -0.16952657109673888,
          0.0062033216943051,
          -0.020163977666164113,
          2.3254939553122944,
          0.784688250418403,
          -0.8095976935064689,
          1.0239361042223596,
          0.2120960201724168,
          0.2621575715402791,
          -1.1452357261550754,
          -2.150176744966233,
          0.2765394993371971,
          -0.39123864969170813,
          0.2606049970823336,
          0.6015042832534069,
          -0.5514447046029021,
          -0.33974805512263423,
          0.216680183299324,
          0.7740578412305583,
          -1.0581106408197496,
          -0.35751938655782445,
          0.5330389050112327,
          -0.46158005081539777,
          0.17840690735641399,
          -0.6625416623280843,
          0.38018466056836453,
          0.4847453775361481,
          -0.40452462836788083,
          0.7552367436336933,
          -0.5077675008072585,
          -0.13190226967138116,
          -0.3540764598406436,
          -0.36783435662119446,
          -0.3109370276173948,
          -1.0402771302704863,
          -1.3233540770350818,
          -0.9192426180694927,
          0.8587158823666327,
          -0.23733506108086794,
          -0.23023750991260766,
          0.76676620980785,
          -0.1581247958407638,
          -0.433504732896152,
          0.7315424536761489,
          0.726930646383536,
          1.1212649896971638,
          -0.30457026718549485,
          0.9492317484898695,
          -0.21113086866262615,
          1.0813108185118336,
          -0.5118880977698083,
          -0.3633732719562493,
          -0.7404551690859538,
          -1.1163057385564539,
          -0.7764959457234427,
          0.9552538822346441,
          -1.6501600320522556,
          0.8167022906270849,
          1.235473115067319,
          -0.2621304196056136,
          0.11186254307160247,
          1.7258513451699313,
          -0.3213869516737532,
          -0.6202949993605799,
          0.8439360896123422,
          -0.10386141197968152,
          1.653179103833251,
          0.31266756089648384,
          0.2623359432631791,
          -1.7097107400981206,
          -0.8900201035182636,
          0.413098861904276,
          -0.19806085942231758,
          1.8495416953003254,
          -0.2750288197965949,
          1.9050418541721095,
          1.4824729393772311,
          0.42477045373379674,
          0.5980783105289387,
          2.592541217628275,
          -1.1075789953915745,
          0.4145263543464033,
          0.0928350788536731,
          -1.68020796491302,
          0.0801443799603643,
          -0.21061732710712458,
          -1.038464987467301,
          -1.2024562570004007,
          -0.04100670824841796,
          -1.2368029460923655,
          0.30807983717780674,
          0.13785700001936516,
          -1.3441352328835554,
          0.48926231283611604,
          0.41798750518199207,
          -0.1372713308913042,
          0.21910304193782737
         ],
         "yaxis": "y13"
        },
        {
         "line": {
          "color": "rgba(128, 128, 128, 1.0)",
          "dash": "solid",
          "shape": "linear",
          "width": 1.3
         },
         "marker": {
          "size": 2,
          "symbol": "circle"
         },
         "mode": "markers",
         "name": "D",
         "text": "",
         "type": "scatter",
         "x": [
          1.1340353607997995,
          0.013006465258081384,
          -1.4544113520150583,
          0.07672868747175726,
          0.48391889321947923,
          1.194788934202027,
          0.22468133183006384,
          0.12551098479531267,
          -0.27451552388284617,
          2.0356034926737436,
          0.7173123445309864,
          0.7932955472950777,
          -0.41502003783564156,
          0.3893140303258917,
          0.6193349803483303,
          -0.7866532286313116,
          1.3277002978859909,
          1.5560353033408851,
          -0.7637079816569204,
          1.4955257362466297,
          -1.3157860680447728,
          0.4814511617674176,
          -0.6261436350263004,
          -0.04619684870672389,
          0.9371898406188366,
          -0.5989093165454566,
          0.0062151920303784285,
          -0.6020029731603319,
          -2.208256297298656,
          0.7399894254410262,
          1.0860142458716426,
          -1.21065622295551,
          -0.09588287071653072,
          -1.2263598161115243,
          1.8299597122438265,
          -0.11413820163249909,
          -0.06935353377663811,
          1.5166820871775397,
          1.1795924483053237,
          -1.6027402892601654,
          0.12794276660807943,
          1.516455861068911,
          2.5031970959043703,
          -0.67197527259152,
          -0.729446552836332,
          -0.03227595217765168,
          0.6382184051655801,
          0.7079866983022988,
          -0.4630846645711651,
          -0.12042104592526794,
          0.818865391037555,
          -0.00456154244896449,
          -0.1454955215538559,
          0.82370762397494,
          1.1263911654451604,
          0.6957075242555208,
          -0.8809740163523293,
          0.13402287027597873,
          0.014942003469062437,
          0.5804442219882356,
          0.9941911200090845,
          0.7290166511006079,
          -0.19075826249149594,
          -0.3918900162987637,
          1.333464552078728,
          -0.14873129227566592,
          -2.705689931089558,
          -0.7259691233913627,
          1.0168910947228955,
          0.7873734558033054,
          0.026171372184366572,
          0.12996314877041218,
          1.6580005079219238,
          -0.44171738051397963,
          -0.0213341973283803,
          1.0895618776272844,
          -1.4783218403668337,
          -0.8051304132435134,
          0.9531400624960661,
          0.8574565198195986,
          1.267699008904015,
          -1.0931040378118888,
          0.5145903925372172,
          0.7628372620473755,
          -0.6581011595882967,
          1.2632260819909658,
          -1.2555456014903983,
          -0.9356552111274646,
          -0.3691646696574371,
          0.3709105437574881,
          1.0912030100326888,
          -0.9904125304371655,
          -1.2409751278186256,
          1.2795751598938199,
          1.0106178022864407,
          -0.03939033921404506,
          2.7754656697884035,
          -0.3644327979796833,
          1.5226149656513353,
          -1.5568377097308161
         ],
         "xaxis": "x14",
         "y": [
          0.01827674693836868,
          1.0312259862114281,
          -0.9902271317945981,
          -0.16952657109673888,
          0.0062033216943051,
          -0.020163977666164113,
          2.3254939553122944,
          0.784688250418403,
          -0.8095976935064689,
          1.0239361042223596,
          0.2120960201724168,
          0.2621575715402791,
          -1.1452357261550754,
          -2.150176744966233,
          0.2765394993371971,
          -0.39123864969170813,
          0.2606049970823336,
          0.6015042832534069,
          -0.5514447046029021,
          -0.33974805512263423,
          0.216680183299324,
          0.7740578412305583,
          -1.0581106408197496,
          -0.35751938655782445,
          0.5330389050112327,
          -0.46158005081539777,
          0.17840690735641399,
          -0.6625416623280843,
          0.38018466056836453,
          0.4847453775361481,
          -0.40452462836788083,
          0.7552367436336933,
          -0.5077675008072585,
          -0.13190226967138116,
          -0.3540764598406436,
          -0.36783435662119446,
          -0.3109370276173948,
          -1.0402771302704863,
          -1.3233540770350818,
          -0.9192426180694927,
          0.8587158823666327,
          -0.23733506108086794,
          -0.23023750991260766,
          0.76676620980785,
          -0.1581247958407638,
          -0.433504732896152,
          0.7315424536761489,
          0.726930646383536,
          1.1212649896971638,
          -0.30457026718549485,
          0.9492317484898695,
          -0.21113086866262615,
          1.0813108185118336,
          -0.5118880977698083,
          -0.3633732719562493,
          -0.7404551690859538,
          -1.1163057385564539,
          -0.7764959457234427,
          0.9552538822346441,
          -1.6501600320522556,
          0.8167022906270849,
          1.235473115067319,
          -0.2621304196056136,
          0.11186254307160247,
          1.7258513451699313,
          -0.3213869516737532,
          -0.6202949993605799,
          0.8439360896123422,
          -0.10386141197968152,
          1.653179103833251,
          0.31266756089648384,
          0.2623359432631791,
          -1.7097107400981206,
          -0.8900201035182636,
          0.413098861904276,
          -0.19806085942231758,
          1.8495416953003254,
          -0.2750288197965949,
          1.9050418541721095,
          1.4824729393772311,
          0.42477045373379674,
          0.5980783105289387,
          2.592541217628275,
          -1.1075789953915745,
          0.4145263543464033,
          0.0928350788536731,
          -1.68020796491302,
          0.0801443799603643,
          -0.21061732710712458,
          -1.038464987467301,
          -1.2024562570004007,
          -0.04100670824841796,
          -1.2368029460923655,
          0.30807983717780674,
          0.13785700001936516,
          -1.3441352328835554,
          0.48926231283611604,
          0.41798750518199207,
          -0.1372713308913042,
          0.21910304193782737
         ],
         "yaxis": "y14"
        },
        {
         "line": {
          "color": "rgba(128, 128, 128, 1.0)",
          "dash": "solid",
          "shape": "linear",
          "width": 1.3
         },
         "marker": {
          "size": 2,
          "symbol": "circle"
         },
         "mode": "markers",
         "name": "D",
         "text": "",
         "type": "scatter",
         "x": [
          -0.33282780587095806,
          -1.5448452376166364,
          0.6228685924793956,
          0.8093687828306709,
          0.7190772579836001,
          1.0919707830866467,
          0.8784873880603475,
          -0.17819568113605488,
          -0.3580442357795487,
          2.44940806197161,
          -0.7560318056998703,
          0.8511125309822584,
          3.580785860876354,
          -1.1848213891289068,
          0.03906202735855334,
          0.9858635187960115,
          -0.21748323458448648,
          -0.5543899695384241,
          0.34846405568235944,
          -0.421910201269028,
          -2.1980431469511856,
          0.6004436342154168,
          -1.1338896174644981,
          2.357041588876008,
          -0.5982866014884459,
          1.757133388747493,
          -0.1417320558500775,
          -1.10594223484253,
          -1.455604064466308,
          0.4837748459104745,
          -1.1761499324913411,
          0.5582215826603278,
          -0.15298379420849662,
          1.6596583125489515,
          -1.5724077458238064,
          0.6215265491328936,
          -0.0561986409113782,
          0.24927014302474623,
          1.53543501332122,
          -0.055599551054791994,
          1.32645184759936,
          1.4514528477362016,
          -1.4847606319621105,
          -0.9973741476602409,
          1.4994912648796017,
          0.03419252439163247,
          -0.046292042915014826,
          1.709035841451056,
          0.5212967365366743,
          -0.131081583263683,
          -0.43808928803715164,
          1.6567970968688839,
          -1.5275444468745252,
          -0.8447896284702037,
          0.6578162654164579,
          -0.7534725970827714,
          -0.17285777482223505,
          0.35363997961509896,
          -1.788792436237959,
          -0.07162340903032188,
          -1.4623169456140561,
          0.8280825240696073,
          1.0835553730224157,
          -1.4240515666478064,
          -0.1341858472586976,
          -0.04106533170087056,
          -0.8051743208826985,
          0.6094093843827119,
          -0.35468964870606495,
          0.8603252413615008,
          2.6227282912468595,
          -0.3221728921133419,
          0.682400376121072,
          0.5149524099278576,
          0.2551924502028558,
          1.0844566358187382,
          1.1749552409728774,
          0.21926456388416293,
          0.04894329554338051,
          1.0119357918722658,
          1.8866860191241275,
          0.7805020164639119,
          0.8553420893921356,
          -0.6815036634994182,
          -1.014602473534048,
          -1.359433213823731,
          -0.05948954050187066,
          -1.1213977948174525,
          -0.33912696814714816,
          -1.0615594813679707,
          -0.411066444295418,
          2.166497474851957,
          -1.1134527970750354,
          -0.6054877059829976,
          0.4597533366654226,
          1.3290782445998464,
          0.012551474021747479,
          2.361644470059281,
          1.842062235156804,
          0.13153726714116326
         ],
         "xaxis": "x15",
         "y": [
          0.01827674693836868,
          1.0312259862114281,
          -0.9902271317945981,
          -0.16952657109673888,
          0.0062033216943051,
          -0.020163977666164113,
          2.3254939553122944,
          0.784688250418403,
          -0.8095976935064689,
          1.0239361042223596,
          0.2120960201724168,
          0.2621575715402791,
          -1.1452357261550754,
          -2.150176744966233,
          0.2765394993371971,
          -0.39123864969170813,
          0.2606049970823336,
          0.6015042832534069,
          -0.5514447046029021,
          -0.33974805512263423,
          0.216680183299324,
          0.7740578412305583,
          -1.0581106408197496,
          -0.35751938655782445,
          0.5330389050112327,
          -0.46158005081539777,
          0.17840690735641399,
          -0.6625416623280843,
          0.38018466056836453,
          0.4847453775361481,
          -0.40452462836788083,
          0.7552367436336933,
          -0.5077675008072585,
          -0.13190226967138116,
          -0.3540764598406436,
          -0.36783435662119446,
          -0.3109370276173948,
          -1.0402771302704863,
          -1.3233540770350818,
          -0.9192426180694927,
          0.8587158823666327,
          -0.23733506108086794,
          -0.23023750991260766,
          0.76676620980785,
          -0.1581247958407638,
          -0.433504732896152,
          0.7315424536761489,
          0.726930646383536,
          1.1212649896971638,
          -0.30457026718549485,
          0.9492317484898695,
          -0.21113086866262615,
          1.0813108185118336,
          -0.5118880977698083,
          -0.3633732719562493,
          -0.7404551690859538,
          -1.1163057385564539,
          -0.7764959457234427,
          0.9552538822346441,
          -1.6501600320522556,
          0.8167022906270849,
          1.235473115067319,
          -0.2621304196056136,
          0.11186254307160247,
          1.7258513451699313,
          -0.3213869516737532,
          -0.6202949993605799,
          0.8439360896123422,
          -0.10386141197968152,
          1.653179103833251,
          0.31266756089648384,
          0.2623359432631791,
          -1.7097107400981206,
          -0.8900201035182636,
          0.413098861904276,
          -0.19806085942231758,
          1.8495416953003254,
          -0.2750288197965949,
          1.9050418541721095,
          1.4824729393772311,
          0.42477045373379674,
          0.5980783105289387,
          2.592541217628275,
          -1.1075789953915745,
          0.4145263543464033,
          0.0928350788536731,
          -1.68020796491302,
          0.0801443799603643,
          -0.21061732710712458,
          -1.038464987467301,
          -1.2024562570004007,
          -0.04100670824841796,
          -1.2368029460923655,
          0.30807983717780674,
          0.13785700001936516,
          -1.3441352328835554,
          0.48926231283611604,
          0.41798750518199207,
          -0.1372713308913042,
          0.21910304193782737
         ],
         "yaxis": "y15"
        },
        {
         "histfunc": "count",
         "histnorm": "",
         "marker": {
          "color": "rgba(128, 0, 128, 1.0)",
          "line": {
           "color": "#4D5663",
           "width": 1.3
          }
         },
         "name": "D",
         "nbinsx": 10,
         "opacity": 0.8,
         "orientation": "v",
         "type": "histogram",
         "x": [
          0.01827674693836868,
          1.0312259862114281,
          -0.9902271317945981,
          -0.16952657109673888,
          0.0062033216943051,
          -0.020163977666164113,
          2.3254939553122944,
          0.784688250418403,
          -0.8095976935064689,
          1.0239361042223596,
          0.2120960201724168,
          0.2621575715402791,
          -1.1452357261550754,
          -2.150176744966233,
          0.2765394993371971,
          -0.39123864969170813,
          0.2606049970823336,
          0.6015042832534069,
          -0.5514447046029021,
          -0.33974805512263423,
          0.216680183299324,
          0.7740578412305583,
          -1.0581106408197496,
          -0.35751938655782445,
          0.5330389050112327,
          -0.46158005081539777,
          0.17840690735641399,
          -0.6625416623280843,
          0.38018466056836453,
          0.4847453775361481,
          -0.40452462836788083,
          0.7552367436336933,
          -0.5077675008072585,
          -0.13190226967138116,
          -0.3540764598406436,
          -0.36783435662119446,
          -0.3109370276173948,
          -1.0402771302704863,
          -1.3233540770350818,
          -0.9192426180694927,
          0.8587158823666327,
          -0.23733506108086794,
          -0.23023750991260766,
          0.76676620980785,
          -0.1581247958407638,
          -0.433504732896152,
          0.7315424536761489,
          0.726930646383536,
          1.1212649896971638,
          -0.30457026718549485,
          0.9492317484898695,
          -0.21113086866262615,
          1.0813108185118336,
          -0.5118880977698083,
          -0.3633732719562493,
          -0.7404551690859538,
          -1.1163057385564539,
          -0.7764959457234427,
          0.9552538822346441,
          -1.6501600320522556,
          0.8167022906270849,
          1.235473115067319,
          -0.2621304196056136,
          0.11186254307160247,
          1.7258513451699313,
          -0.3213869516737532,
          -0.6202949993605799,
          0.8439360896123422,
          -0.10386141197968152,
          1.653179103833251,
          0.31266756089648384,
          0.2623359432631791,
          -1.7097107400981206,
          -0.8900201035182636,
          0.413098861904276,
          -0.19806085942231758,
          1.8495416953003254,
          -0.2750288197965949,
          1.9050418541721095,
          1.4824729393772311,
          0.42477045373379674,
          0.5980783105289387,
          2.592541217628275,
          -1.1075789953915745,
          0.4145263543464033,
          0.0928350788536731,
          -1.68020796491302,
          0.0801443799603643,
          -0.21061732710712458,
          -1.038464987467301,
          -1.2024562570004007,
          -0.04100670824841796,
          -1.2368029460923655,
          0.30807983717780674,
          0.13785700001936516,
          -1.3441352328835554,
          0.48926231283611604,
          0.41798750518199207,
          -0.1372713308913042,
          0.21910304193782737
         ],
         "xaxis": "x16",
         "yaxis": "y16"
        }
       ],
       "layout": {
        "bargap": 0.02,
        "legend": {
         "bgcolor": "#F5F6F9",
         "font": {
          "color": "#4D5663"
         }
        },
        "paper_bgcolor": "#F5F6F9",
        "plot_bgcolor": "#F5F6F9",
        "showlegend": false,
        "template": {
         "data": {
          "bar": [
           {
            "error_x": {
             "color": "#2a3f5f"
            },
            "error_y": {
             "color": "#2a3f5f"
            },
            "marker": {
             "line": {
              "color": "#E5ECF6",
              "width": 0.5
             },
             "pattern": {
              "fillmode": "overlay",
              "size": 10,
              "solidity": 0.2
             }
            },
            "type": "bar"
           }
          ],
          "barpolar": [
           {
            "marker": {
             "line": {
              "color": "#E5ECF6",
              "width": 0.5
             },
             "pattern": {
              "fillmode": "overlay",
              "size": 10,
              "solidity": 0.2
             }
            },
            "type": "barpolar"
           }
          ],
          "carpet": [
           {
            "aaxis": {
             "endlinecolor": "#2a3f5f",
             "gridcolor": "white",
             "linecolor": "white",
             "minorgridcolor": "white",
             "startlinecolor": "#2a3f5f"
            },
            "baxis": {
             "endlinecolor": "#2a3f5f",
             "gridcolor": "white",
             "linecolor": "white",
             "minorgridcolor": "white",
             "startlinecolor": "#2a3f5f"
            },
            "type": "carpet"
           }
          ],
          "choropleth": [
           {
            "colorbar": {
             "outlinewidth": 0,
             "ticks": ""
            },
            "type": "choropleth"
           }
          ],
          "contour": [
           {
            "colorbar": {
             "outlinewidth": 0,
             "ticks": ""
            },
            "colorscale": [
             [
              0,
              "#0d0887"
             ],
             [
              0.1111111111111111,
              "#46039f"
             ],
             [
              0.2222222222222222,
              "#7201a8"
             ],
             [
              0.3333333333333333,
              "#9c179e"
             ],
             [
              0.4444444444444444,
              "#bd3786"
             ],
             [
              0.5555555555555556,
              "#d8576b"
             ],
             [
              0.6666666666666666,
              "#ed7953"
             ],
             [
              0.7777777777777778,
              "#fb9f3a"
             ],
             [
              0.8888888888888888,
              "#fdca26"
             ],
             [
              1,
              "#f0f921"
             ]
            ],
            "type": "contour"
           }
          ],
          "contourcarpet": [
           {
            "colorbar": {
             "outlinewidth": 0,
             "ticks": ""
            },
            "type": "contourcarpet"
           }
          ],
          "heatmap": [
           {
            "colorbar": {
             "outlinewidth": 0,
             "ticks": ""
            },
            "colorscale": [
             [
              0,
              "#0d0887"
             ],
             [
              0.1111111111111111,
              "#46039f"
             ],
             [
              0.2222222222222222,
              "#7201a8"
             ],
             [
              0.3333333333333333,
              "#9c179e"
             ],
             [
              0.4444444444444444,
              "#bd3786"
             ],
             [
              0.5555555555555556,
              "#d8576b"
             ],
             [
              0.6666666666666666,
              "#ed7953"
             ],
             [
              0.7777777777777778,
              "#fb9f3a"
             ],
             [
              0.8888888888888888,
              "#fdca26"
             ],
             [
              1,
              "#f0f921"
             ]
            ],
            "type": "heatmap"
           }
          ],
          "heatmapgl": [
           {
            "colorbar": {
             "outlinewidth": 0,
             "ticks": ""
            },
            "colorscale": [
             [
              0,
              "#0d0887"
             ],
             [
              0.1111111111111111,
              "#46039f"
             ],
             [
              0.2222222222222222,
              "#7201a8"
             ],
             [
              0.3333333333333333,
              "#9c179e"
             ],
             [
              0.4444444444444444,
              "#bd3786"
             ],
             [
              0.5555555555555556,
              "#d8576b"
             ],
             [
              0.6666666666666666,
              "#ed7953"
             ],
             [
              0.7777777777777778,
              "#fb9f3a"
             ],
             [
              0.8888888888888888,
              "#fdca26"
             ],
             [
              1,
              "#f0f921"
             ]
            ],
            "type": "heatmapgl"
           }
          ],
          "histogram": [
           {
            "marker": {
             "pattern": {
              "fillmode": "overlay",
              "size": 10,
              "solidity": 0.2
             }
            },
            "type": "histogram"
           }
          ],
          "histogram2d": [
           {
            "colorbar": {
             "outlinewidth": 0,
             "ticks": ""
            },
            "colorscale": [
             [
              0,
              "#0d0887"
             ],
             [
              0.1111111111111111,
              "#46039f"
             ],
             [
              0.2222222222222222,
              "#7201a8"
             ],
             [
              0.3333333333333333,
              "#9c179e"
             ],
             [
              0.4444444444444444,
              "#bd3786"
             ],
             [
              0.5555555555555556,
              "#d8576b"
             ],
             [
              0.6666666666666666,
              "#ed7953"
             ],
             [
              0.7777777777777778,
              "#fb9f3a"
             ],
             [
              0.8888888888888888,
              "#fdca26"
             ],
             [
              1,
              "#f0f921"
             ]
            ],
            "type": "histogram2d"
           }
          ],
          "histogram2dcontour": [
           {
            "colorbar": {
             "outlinewidth": 0,
             "ticks": ""
            },
            "colorscale": [
             [
              0,
              "#0d0887"
             ],
             [
              0.1111111111111111,
              "#46039f"
             ],
             [
              0.2222222222222222,
              "#7201a8"
             ],
             [
              0.3333333333333333,
              "#9c179e"
             ],
             [
              0.4444444444444444,
              "#bd3786"
             ],
             [
              0.5555555555555556,
              "#d8576b"
             ],
             [
              0.6666666666666666,
              "#ed7953"
             ],
             [
              0.7777777777777778,
              "#fb9f3a"
             ],
             [
              0.8888888888888888,
              "#fdca26"
             ],
             [
              1,
              "#f0f921"
             ]
            ],
            "type": "histogram2dcontour"
           }
          ],
          "mesh3d": [
           {
            "colorbar": {
             "outlinewidth": 0,
             "ticks": ""
            },
            "type": "mesh3d"
           }
          ],
          "parcoords": [
           {
            "line": {
             "colorbar": {
              "outlinewidth": 0,
              "ticks": ""
             }
            },
            "type": "parcoords"
           }
          ],
          "pie": [
           {
            "automargin": true,
            "type": "pie"
           }
          ],
          "scatter": [
           {
            "marker": {
             "colorbar": {
              "outlinewidth": 0,
              "ticks": ""
             }
            },
            "type": "scatter"
           }
          ],
          "scatter3d": [
           {
            "line": {
             "colorbar": {
              "outlinewidth": 0,
              "ticks": ""
             }
            },
            "marker": {
             "colorbar": {
              "outlinewidth": 0,
              "ticks": ""
             }
            },
            "type": "scatter3d"
           }
          ],
          "scattercarpet": [
           {
            "marker": {
             "colorbar": {
              "outlinewidth": 0,
              "ticks": ""
             }
            },
            "type": "scattercarpet"
           }
          ],
          "scattergeo": [
           {
            "marker": {
             "colorbar": {
              "outlinewidth": 0,
              "ticks": ""
             }
            },
            "type": "scattergeo"
           }
          ],
          "scattergl": [
           {
            "marker": {
             "colorbar": {
              "outlinewidth": 0,
              "ticks": ""
             }
            },
            "type": "scattergl"
           }
          ],
          "scattermapbox": [
           {
            "marker": {
             "colorbar": {
              "outlinewidth": 0,
              "ticks": ""
             }
            },
            "type": "scattermapbox"
           }
          ],
          "scatterpolar": [
           {
            "marker": {
             "colorbar": {
              "outlinewidth": 0,
              "ticks": ""
             }
            },
            "type": "scatterpolar"
           }
          ],
          "scatterpolargl": [
           {
            "marker": {
             "colorbar": {
              "outlinewidth": 0,
              "ticks": ""
             }
            },
            "type": "scatterpolargl"
           }
          ],
          "scatterternary": [
           {
            "marker": {
             "colorbar": {
              "outlinewidth": 0,
              "ticks": ""
             }
            },
            "type": "scatterternary"
           }
          ],
          "surface": [
           {
            "colorbar": {
             "outlinewidth": 0,
             "ticks": ""
            },
            "colorscale": [
             [
              0,
              "#0d0887"
             ],
             [
              0.1111111111111111,
              "#46039f"
             ],
             [
              0.2222222222222222,
              "#7201a8"
             ],
             [
              0.3333333333333333,
              "#9c179e"
             ],
             [
              0.4444444444444444,
              "#bd3786"
             ],
             [
              0.5555555555555556,
              "#d8576b"
             ],
             [
              0.6666666666666666,
              "#ed7953"
             ],
             [
              0.7777777777777778,
              "#fb9f3a"
             ],
             [
              0.8888888888888888,
              "#fdca26"
             ],
             [
              1,
              "#f0f921"
             ]
            ],
            "type": "surface"
           }
          ],
          "table": [
           {
            "cells": {
             "fill": {
              "color": "#EBF0F8"
             },
             "line": {
              "color": "white"
             }
            },
            "header": {
             "fill": {
              "color": "#C8D4E3"
             },
             "line": {
              "color": "white"
             }
            },
            "type": "table"
           }
          ]
         },
         "layout": {
          "annotationdefaults": {
           "arrowcolor": "#2a3f5f",
           "arrowhead": 0,
           "arrowwidth": 1
          },
          "autotypenumbers": "strict",
          "coloraxis": {
           "colorbar": {
            "outlinewidth": 0,
            "ticks": ""
           }
          },
          "colorscale": {
           "diverging": [
            [
             0,
             "#8e0152"
            ],
            [
             0.1,
             "#c51b7d"
            ],
            [
             0.2,
             "#de77ae"
            ],
            [
             0.3,
             "#f1b6da"
            ],
            [
             0.4,
             "#fde0ef"
            ],
            [
             0.5,
             "#f7f7f7"
            ],
            [
             0.6,
             "#e6f5d0"
            ],
            [
             0.7,
             "#b8e186"
            ],
            [
             0.8,
             "#7fbc41"
            ],
            [
             0.9,
             "#4d9221"
            ],
            [
             1,
             "#276419"
            ]
           ],
           "sequential": [
            [
             0,
             "#0d0887"
            ],
            [
             0.1111111111111111,
             "#46039f"
            ],
            [
             0.2222222222222222,
             "#7201a8"
            ],
            [
             0.3333333333333333,
             "#9c179e"
            ],
            [
             0.4444444444444444,
             "#bd3786"
            ],
            [
             0.5555555555555556,
             "#d8576b"
            ],
            [
             0.6666666666666666,
             "#ed7953"
            ],
            [
             0.7777777777777778,
             "#fb9f3a"
            ],
            [
             0.8888888888888888,
             "#fdca26"
            ],
            [
             1,
             "#f0f921"
            ]
           ],
           "sequentialminus": [
            [
             0,
             "#0d0887"
            ],
            [
             0.1111111111111111,
             "#46039f"
            ],
            [
             0.2222222222222222,
             "#7201a8"
            ],
            [
             0.3333333333333333,
             "#9c179e"
            ],
            [
             0.4444444444444444,
             "#bd3786"
            ],
            [
             0.5555555555555556,
             "#d8576b"
            ],
            [
             0.6666666666666666,
             "#ed7953"
            ],
            [
             0.7777777777777778,
             "#fb9f3a"
            ],
            [
             0.8888888888888888,
             "#fdca26"
            ],
            [
             1,
             "#f0f921"
            ]
           ]
          },
          "colorway": [
           "#636efa",
           "#EF553B",
           "#00cc96",
           "#ab63fa",
           "#FFA15A",
           "#19d3f3",
           "#FF6692",
           "#B6E880",
           "#FF97FF",
           "#FECB52"
          ],
          "font": {
           "color": "#2a3f5f"
          },
          "geo": {
           "bgcolor": "white",
           "lakecolor": "white",
           "landcolor": "#E5ECF6",
           "showlakes": true,
           "showland": true,
           "subunitcolor": "white"
          },
          "hoverlabel": {
           "align": "left"
          },
          "hovermode": "closest",
          "mapbox": {
           "style": "light"
          },
          "paper_bgcolor": "white",
          "plot_bgcolor": "#E5ECF6",
          "polar": {
           "angularaxis": {
            "gridcolor": "white",
            "linecolor": "white",
            "ticks": ""
           },
           "bgcolor": "#E5ECF6",
           "radialaxis": {
            "gridcolor": "white",
            "linecolor": "white",
            "ticks": ""
           }
          },
          "scene": {
           "xaxis": {
            "backgroundcolor": "#E5ECF6",
            "gridcolor": "white",
            "gridwidth": 2,
            "linecolor": "white",
            "showbackground": true,
            "ticks": "",
            "zerolinecolor": "white"
           },
           "yaxis": {
            "backgroundcolor": "#E5ECF6",
            "gridcolor": "white",
            "gridwidth": 2,
            "linecolor": "white",
            "showbackground": true,
            "ticks": "",
            "zerolinecolor": "white"
           },
           "zaxis": {
            "backgroundcolor": "#E5ECF6",
            "gridcolor": "white",
            "gridwidth": 2,
            "linecolor": "white",
            "showbackground": true,
            "ticks": "",
            "zerolinecolor": "white"
           }
          },
          "shapedefaults": {
           "line": {
            "color": "#2a3f5f"
           }
          },
          "ternary": {
           "aaxis": {
            "gridcolor": "white",
            "linecolor": "white",
            "ticks": ""
           },
           "baxis": {
            "gridcolor": "white",
            "linecolor": "white",
            "ticks": ""
           },
           "bgcolor": "#E5ECF6",
           "caxis": {
            "gridcolor": "white",
            "linecolor": "white",
            "ticks": ""
           }
          },
          "title": {
           "x": 0.05
          },
          "xaxis": {
           "automargin": true,
           "gridcolor": "white",
           "linecolor": "white",
           "ticks": "",
           "title": {
            "standoff": 15
           },
           "zerolinecolor": "white",
           "zerolinewidth": 2
          },
          "yaxis": {
           "automargin": true,
           "gridcolor": "white",
           "linecolor": "white",
           "ticks": "",
           "title": {
            "standoff": 15
           },
           "zerolinecolor": "white",
           "zerolinewidth": 2
          }
         }
        },
        "title": {
         "font": {
          "color": "#4D5663"
         }
        },
        "xaxis": {
         "anchor": "y",
         "domain": [
          0,
          0.2125
         ],
         "gridcolor": "#E1E5ED",
         "showgrid": false,
         "tickfont": {
          "color": "#4D5663"
         },
         "title": {
          "font": {
           "color": "#4D5663"
          },
          "text": ""
         },
         "zerolinecolor": "#E1E5ED"
        },
        "xaxis10": {
         "anchor": "y10",
         "domain": [
          0.2625,
          0.475
         ],
         "gridcolor": "#E1E5ED",
         "showgrid": false,
         "tickfont": {
          "color": "#4D5663"
         },
         "title": {
          "font": {
           "color": "#4D5663"
          },
          "text": ""
         },
         "zerolinecolor": "#E1E5ED"
        },
        "xaxis11": {
         "anchor": "y11",
         "domain": [
          0.525,
          0.7375
         ],
         "gridcolor": "#E1E5ED",
         "showgrid": false,
         "tickfont": {
          "color": "#4D5663"
         },
         "title": {
          "font": {
           "color": "#4D5663"
          },
          "text": ""
         },
         "zerolinecolor": "#E1E5ED"
        },
        "xaxis12": {
         "anchor": "y12",
         "domain": [
          0.7875,
          1
         ],
         "gridcolor": "#E1E5ED",
         "showgrid": false,
         "tickfont": {
          "color": "#4D5663"
         },
         "title": {
          "font": {
           "color": "#4D5663"
          },
          "text": ""
         },
         "zerolinecolor": "#E1E5ED"
        },
        "xaxis13": {
         "anchor": "y13",
         "domain": [
          0,
          0.2125
         ],
         "gridcolor": "#E1E5ED",
         "showgrid": false,
         "tickfont": {
          "color": "#4D5663"
         },
         "title": {
          "font": {
           "color": "#4D5663"
          },
          "text": ""
         },
         "zerolinecolor": "#E1E5ED"
        },
        "xaxis14": {
         "anchor": "y14",
         "domain": [
          0.2625,
          0.475
         ],
         "gridcolor": "#E1E5ED",
         "showgrid": false,
         "tickfont": {
          "color": "#4D5663"
         },
         "title": {
          "font": {
           "color": "#4D5663"
          },
          "text": ""
         },
         "zerolinecolor": "#E1E5ED"
        },
        "xaxis15": {
         "anchor": "y15",
         "domain": [
          0.525,
          0.7375
         ],
         "gridcolor": "#E1E5ED",
         "showgrid": false,
         "tickfont": {
          "color": "#4D5663"
         },
         "title": {
          "font": {
           "color": "#4D5663"
          },
          "text": ""
         },
         "zerolinecolor": "#E1E5ED"
        },
        "xaxis16": {
         "anchor": "y16",
         "domain": [
          0.7875,
          1
         ],
         "gridcolor": "#E1E5ED",
         "showgrid": false,
         "tickfont": {
          "color": "#4D5663"
         },
         "title": {
          "font": {
           "color": "#4D5663"
          },
          "text": ""
         },
         "zerolinecolor": "#E1E5ED"
        },
        "xaxis2": {
         "anchor": "y2",
         "domain": [
          0.2625,
          0.475
         ],
         "gridcolor": "#E1E5ED",
         "showgrid": false,
         "tickfont": {
          "color": "#4D5663"
         },
         "title": {
          "font": {
           "color": "#4D5663"
          },
          "text": ""
         },
         "zerolinecolor": "#E1E5ED"
        },
        "xaxis3": {
         "anchor": "y3",
         "domain": [
          0.525,
          0.7375
         ],
         "gridcolor": "#E1E5ED",
         "showgrid": false,
         "tickfont": {
          "color": "#4D5663"
         },
         "title": {
          "font": {
           "color": "#4D5663"
          },
          "text": ""
         },
         "zerolinecolor": "#E1E5ED"
        },
        "xaxis4": {
         "anchor": "y4",
         "domain": [
          0.7875,
          1
         ],
         "gridcolor": "#E1E5ED",
         "showgrid": false,
         "tickfont": {
          "color": "#4D5663"
         },
         "title": {
          "font": {
           "color": "#4D5663"
          },
          "text": ""
         },
         "zerolinecolor": "#E1E5ED"
        },
        "xaxis5": {
         "anchor": "y5",
         "domain": [
          0,
          0.2125
         ],
         "gridcolor": "#E1E5ED",
         "showgrid": false,
         "tickfont": {
          "color": "#4D5663"
         },
         "title": {
          "font": {
           "color": "#4D5663"
          },
          "text": ""
         },
         "zerolinecolor": "#E1E5ED"
        },
        "xaxis6": {
         "anchor": "y6",
         "domain": [
          0.2625,
          0.475
         ],
         "gridcolor": "#E1E5ED",
         "showgrid": false,
         "tickfont": {
          "color": "#4D5663"
         },
         "title": {
          "font": {
           "color": "#4D5663"
          },
          "text": ""
         },
         "zerolinecolor": "#E1E5ED"
        },
        "xaxis7": {
         "anchor": "y7",
         "domain": [
          0.525,
          0.7375
         ],
         "gridcolor": "#E1E5ED",
         "showgrid": false,
         "tickfont": {
          "color": "#4D5663"
         },
         "title": {
          "font": {
           "color": "#4D5663"
          },
          "text": ""
         },
         "zerolinecolor": "#E1E5ED"
        },
        "xaxis8": {
         "anchor": "y8",
         "domain": [
          0.7875,
          1
         ],
         "gridcolor": "#E1E5ED",
         "showgrid": false,
         "tickfont": {
          "color": "#4D5663"
         },
         "title": {
          "font": {
           "color": "#4D5663"
          },
          "text": ""
         },
         "zerolinecolor": "#E1E5ED"
        },
        "xaxis9": {
         "anchor": "y9",
         "domain": [
          0,
          0.2125
         ],
         "gridcolor": "#E1E5ED",
         "showgrid": false,
         "tickfont": {
          "color": "#4D5663"
         },
         "title": {
          "font": {
           "color": "#4D5663"
          },
          "text": ""
         },
         "zerolinecolor": "#E1E5ED"
        },
        "yaxis": {
         "anchor": "x",
         "domain": [
          0.8025,
          1
         ],
         "gridcolor": "#E1E5ED",
         "showgrid": false,
         "tickfont": {
          "color": "#4D5663"
         },
         "title": {
          "font": {
           "color": "#4D5663"
          },
          "text": ""
         },
         "zerolinecolor": "#E1E5ED"
        },
        "yaxis10": {
         "anchor": "x10",
         "domain": [
          0.2675,
          0.465
         ],
         "gridcolor": "#E1E5ED",
         "showgrid": false,
         "tickfont": {
          "color": "#4D5663"
         },
         "title": {
          "font": {
           "color": "#4D5663"
          },
          "text": ""
         },
         "zerolinecolor": "#E1E5ED"
        },
        "yaxis11": {
         "anchor": "x11",
         "domain": [
          0.2675,
          0.465
         ],
         "gridcolor": "#E1E5ED",
         "showgrid": false,
         "tickfont": {
          "color": "#4D5663"
         },
         "title": {
          "font": {
           "color": "#4D5663"
          },
          "text": ""
         },
         "zerolinecolor": "#E1E5ED"
        },
        "yaxis12": {
         "anchor": "x12",
         "domain": [
          0.2675,
          0.465
         ],
         "gridcolor": "#E1E5ED",
         "showgrid": false,
         "tickfont": {
          "color": "#4D5663"
         },
         "title": {
          "font": {
           "color": "#4D5663"
          },
          "text": ""
         },
         "zerolinecolor": "#E1E5ED"
        },
        "yaxis13": {
         "anchor": "x13",
         "domain": [
          0,
          0.1975
         ],
         "gridcolor": "#E1E5ED",
         "showgrid": false,
         "tickfont": {
          "color": "#4D5663"
         },
         "title": {
          "font": {
           "color": "#4D5663"
          },
          "text": ""
         },
         "zerolinecolor": "#E1E5ED"
        },
        "yaxis14": {
         "anchor": "x14",
         "domain": [
          0,
          0.1975
         ],
         "gridcolor": "#E1E5ED",
         "showgrid": false,
         "tickfont": {
          "color": "#4D5663"
         },
         "title": {
          "font": {
           "color": "#4D5663"
          },
          "text": ""
         },
         "zerolinecolor": "#E1E5ED"
        },
        "yaxis15": {
         "anchor": "x15",
         "domain": [
          0,
          0.1975
         ],
         "gridcolor": "#E1E5ED",
         "showgrid": false,
         "tickfont": {
          "color": "#4D5663"
         },
         "title": {
          "font": {
           "color": "#4D5663"
          },
          "text": ""
         },
         "zerolinecolor": "#E1E5ED"
        },
        "yaxis16": {
         "anchor": "x16",
         "domain": [
          0,
          0.1975
         ],
         "gridcolor": "#E1E5ED",
         "showgrid": false,
         "tickfont": {
          "color": "#4D5663"
         },
         "title": {
          "font": {
           "color": "#4D5663"
          },
          "text": ""
         },
         "zerolinecolor": "#E1E5ED"
        },
        "yaxis2": {
         "anchor": "x2",
         "domain": [
          0.8025,
          1
         ],
         "gridcolor": "#E1E5ED",
         "showgrid": false,
         "tickfont": {
          "color": "#4D5663"
         },
         "title": {
          "font": {
           "color": "#4D5663"
          },
          "text": ""
         },
         "zerolinecolor": "#E1E5ED"
        },
        "yaxis3": {
         "anchor": "x3",
         "domain": [
          0.8025,
          1
         ],
         "gridcolor": "#E1E5ED",
         "showgrid": false,
         "tickfont": {
          "color": "#4D5663"
         },
         "title": {
          "font": {
           "color": "#4D5663"
          },
          "text": ""
         },
         "zerolinecolor": "#E1E5ED"
        },
        "yaxis4": {
         "anchor": "x4",
         "domain": [
          0.8025,
          1
         ],
         "gridcolor": "#E1E5ED",
         "showgrid": false,
         "tickfont": {
          "color": "#4D5663"
         },
         "title": {
          "font": {
           "color": "#4D5663"
          },
          "text": ""
         },
         "zerolinecolor": "#E1E5ED"
        },
        "yaxis5": {
         "anchor": "x5",
         "domain": [
          0.535,
          0.7325
         ],
         "gridcolor": "#E1E5ED",
         "showgrid": false,
         "tickfont": {
          "color": "#4D5663"
         },
         "title": {
          "font": {
           "color": "#4D5663"
          },
          "text": ""
         },
         "zerolinecolor": "#E1E5ED"
        },
        "yaxis6": {
         "anchor": "x6",
         "domain": [
          0.535,
          0.7325
         ],
         "gridcolor": "#E1E5ED",
         "showgrid": false,
         "tickfont": {
          "color": "#4D5663"
         },
         "title": {
          "font": {
           "color": "#4D5663"
          },
          "text": ""
         },
         "zerolinecolor": "#E1E5ED"
        },
        "yaxis7": {
         "anchor": "x7",
         "domain": [
          0.535,
          0.7325
         ],
         "gridcolor": "#E1E5ED",
         "showgrid": false,
         "tickfont": {
          "color": "#4D5663"
         },
         "title": {
          "font": {
           "color": "#4D5663"
          },
          "text": ""
         },
         "zerolinecolor": "#E1E5ED"
        },
        "yaxis8": {
         "anchor": "x8",
         "domain": [
          0.535,
          0.7325
         ],
         "gridcolor": "#E1E5ED",
         "showgrid": false,
         "tickfont": {
          "color": "#4D5663"
         },
         "title": {
          "font": {
           "color": "#4D5663"
          },
          "text": ""
         },
         "zerolinecolor": "#E1E5ED"
        },
        "yaxis9": {
         "anchor": "x9",
         "domain": [
          0.2675,
          0.465
         ],
         "gridcolor": "#E1E5ED",
         "showgrid": false,
         "tickfont": {
          "color": "#4D5663"
         },
         "title": {
          "font": {
           "color": "#4D5663"
          },
          "text": ""
         },
         "zerolinecolor": "#E1E5ED"
        }
       }
      },
      "text/html": [
       "<div>                            <div id=\"45e4a06f-71d7-4368-9caa-b2ec9c0580d0\" class=\"plotly-graph-div\" style=\"height:525px; width:100%;\"></div>            <script type=\"text/javascript\">                require([\"plotly\"], function(Plotly) {                    window.PLOTLYENV=window.PLOTLYENV || {};\n",
       "                    window.PLOTLYENV.BASE_URL='https://plot.ly';                                    if (document.getElementById(\"45e4a06f-71d7-4368-9caa-b2ec9c0580d0\")) {                    Plotly.newPlot(                        \"45e4a06f-71d7-4368-9caa-b2ec9c0580d0\",                        [{\"histfunc\":\"count\",\"histnorm\":\"\",\"marker\":{\"color\":\"rgba(255, 153, 51, 1.0)\",\"line\":{\"color\":\"#4D5663\",\"width\":1.3}},\"name\":\"A\",\"nbinsx\":10,\"opacity\":0.8,\"orientation\":\"v\",\"x\":[0.09386654377961644,-1.139004671822801,-0.23367563378421577,-0.8178321802841402,-1.1386693772818866,-1.6933602772163847,-0.340882409868143,-0.351551967954869,1.0758340774178499,-0.787595569821493,-0.4591133299503853,0.6345527442690106,-0.0835497443856339,0.8184263799228679,2.3301004445919853,-1.7842568978947762,1.2519772540173484,-0.6878146559815548,0.9635311160123031,-1.8983326215126495,2.1261591546867598,0.8941929951060387,0.1993320335310691,1.458215627439701,1.4694761919905903,-0.15252157482332396,-0.07148794668059787,-0.7635578591458244,-0.615900797268425,1.7053678572999516,-2.7292138631298317,0.933668525563834,-0.15968170111604396,0.7028590284260958,-1.1066058899225693,0.1619239233677905,0.2696690872716977,-0.8220265893588786,-0.33645552246354093,-0.07621137756404667,0.13301168100033228,-1.8700761206942498,0.0027439163561086524,1.2737410558275717,2.650550647922217,0.16841290963442426,-0.14149905735278132,-0.9644995305255604,-1.2604272026237753,0.319347044132876,0.56899546075684,1.241070964776888,-2.631068877305108,0.6652088306271956,-0.1867782110110191,-1.1025950775762114,-1.0816166208111249,0.28279051004301603,0.22548470390457245,-1.0921356640494668,-0.21652925585167312,1.2433709974704996,-3.1345566857767975,-1.4382763214819527,-1.1285833645782766,-1.2296014908982091,-1.7346476621463802,-0.9222160955908932,-0.1732327426597853,0.2976568213768825,0.7990801597704285,-0.15030976242435307,-0.9146846787912161,1.283925952969555,0.013167437974883985,1.0127366895351093,0.4891948168208888,0.42369269963044137,1.33102509023086,-1.370552114637446,-0.714767518480121,0.3750615806094237,0.5341559704135873,1.5619388793042077,-1.8508306253213733,1.3370419329169922,-0.7280235070437202,-1.1633069457494016,-0.5492177107383946,-0.5021165530681923,1.3629234752007997,1.2230320992696806,-0.5100791299765235,-2.621920527501423,-0.7654463508855776,1.497549637995718,-0.35601407564263093,1.8455499737402132,0.12220185490031459,-0.8450536569754781],\"xaxis\":\"x\",\"yaxis\":\"y\",\"type\":\"histogram\"},{\"line\":{\"color\":\"rgba(128, 128, 128, 1.0)\",\"dash\":\"solid\",\"shape\":\"linear\",\"width\":1.3},\"marker\":{\"size\":2,\"symbol\":\"circle\"},\"mode\":\"markers\",\"name\":\"A\",\"text\":\"\",\"x\":[1.1340353607997995,0.013006465258081384,-1.4544113520150583,0.07672868747175726,0.48391889321947923,1.194788934202027,0.22468133183006384,0.12551098479531267,-0.27451552388284617,2.0356034926737436,0.7173123445309864,0.7932955472950777,-0.41502003783564156,0.3893140303258917,0.6193349803483303,-0.7866532286313116,1.3277002978859909,1.5560353033408851,-0.7637079816569204,1.4955257362466297,-1.3157860680447728,0.4814511617674176,-0.6261436350263004,-0.04619684870672389,0.9371898406188366,-0.5989093165454566,0.0062151920303784285,-0.6020029731603319,-2.208256297298656,0.7399894254410262,1.0860142458716426,-1.21065622295551,-0.09588287071653072,-1.2263598161115243,1.8299597122438265,-0.11413820163249909,-0.06935353377663811,1.5166820871775397,1.1795924483053237,-1.6027402892601654,0.12794276660807943,1.516455861068911,2.5031970959043703,-0.67197527259152,-0.729446552836332,-0.03227595217765168,0.6382184051655801,0.7079866983022988,-0.4630846645711651,-0.12042104592526794,0.818865391037555,-0.00456154244896449,-0.1454955215538559,0.82370762397494,1.1263911654451604,0.6957075242555208,-0.8809740163523293,0.13402287027597873,0.014942003469062437,0.5804442219882356,0.9941911200090845,0.7290166511006079,-0.19075826249149594,-0.3918900162987637,1.333464552078728,-0.14873129227566592,-2.705689931089558,-0.7259691233913627,1.0168910947228955,0.7873734558033054,0.026171372184366572,0.12996314877041218,1.6580005079219238,-0.44171738051397963,-0.0213341973283803,1.0895618776272844,-1.4783218403668337,-0.8051304132435134,0.9531400624960661,0.8574565198195986,1.267699008904015,-1.0931040378118888,0.5145903925372172,0.7628372620473755,-0.6581011595882967,1.2632260819909658,-1.2555456014903983,-0.9356552111274646,-0.3691646696574371,0.3709105437574881,1.0912030100326888,-0.9904125304371655,-1.2409751278186256,1.2795751598938199,1.0106178022864407,-0.03939033921404506,2.7754656697884035,-0.3644327979796833,1.5226149656513353,-1.5568377097308161],\"xaxis\":\"x2\",\"y\":[0.09386654377961644,-1.139004671822801,-0.23367563378421577,-0.8178321802841402,-1.1386693772818866,-1.6933602772163847,-0.340882409868143,-0.351551967954869,1.0758340774178499,-0.787595569821493,-0.4591133299503853,0.6345527442690106,-0.0835497443856339,0.8184263799228679,2.3301004445919853,-1.7842568978947762,1.2519772540173484,-0.6878146559815548,0.9635311160123031,-1.8983326215126495,2.1261591546867598,0.8941929951060387,0.1993320335310691,1.458215627439701,1.4694761919905903,-0.15252157482332396,-0.07148794668059787,-0.7635578591458244,-0.615900797268425,1.7053678572999516,-2.7292138631298317,0.933668525563834,-0.15968170111604396,0.7028590284260958,-1.1066058899225693,0.1619239233677905,0.2696690872716977,-0.8220265893588786,-0.33645552246354093,-0.07621137756404667,0.13301168100033228,-1.8700761206942498,0.0027439163561086524,1.2737410558275717,2.650550647922217,0.16841290963442426,-0.14149905735278132,-0.9644995305255604,-1.2604272026237753,0.319347044132876,0.56899546075684,1.241070964776888,-2.631068877305108,0.6652088306271956,-0.1867782110110191,-1.1025950775762114,-1.0816166208111249,0.28279051004301603,0.22548470390457245,-1.0921356640494668,-0.21652925585167312,1.2433709974704996,-3.1345566857767975,-1.4382763214819527,-1.1285833645782766,-1.2296014908982091,-1.7346476621463802,-0.9222160955908932,-0.1732327426597853,0.2976568213768825,0.7990801597704285,-0.15030976242435307,-0.9146846787912161,1.283925952969555,0.013167437974883985,1.0127366895351093,0.4891948168208888,0.42369269963044137,1.33102509023086,-1.370552114637446,-0.714767518480121,0.3750615806094237,0.5341559704135873,1.5619388793042077,-1.8508306253213733,1.3370419329169922,-0.7280235070437202,-1.1633069457494016,-0.5492177107383946,-0.5021165530681923,1.3629234752007997,1.2230320992696806,-0.5100791299765235,-2.621920527501423,-0.7654463508855776,1.497549637995718,-0.35601407564263093,1.8455499737402132,0.12220185490031459,-0.8450536569754781],\"yaxis\":\"y2\",\"type\":\"scatter\"},{\"line\":{\"color\":\"rgba(128, 128, 128, 1.0)\",\"dash\":\"solid\",\"shape\":\"linear\",\"width\":1.3},\"marker\":{\"size\":2,\"symbol\":\"circle\"},\"mode\":\"markers\",\"name\":\"A\",\"text\":\"\",\"x\":[-0.33282780587095806,-1.5448452376166364,0.6228685924793956,0.8093687828306709,0.7190772579836001,1.0919707830866467,0.8784873880603475,-0.17819568113605488,-0.3580442357795487,2.44940806197161,-0.7560318056998703,0.8511125309822584,3.580785860876354,-1.1848213891289068,0.03906202735855334,0.9858635187960115,-0.21748323458448648,-0.5543899695384241,0.34846405568235944,-0.421910201269028,-2.1980431469511856,0.6004436342154168,-1.1338896174644981,2.357041588876008,-0.5982866014884459,1.757133388747493,-0.1417320558500775,-1.10594223484253,-1.455604064466308,0.4837748459104745,-1.1761499324913411,0.5582215826603278,-0.15298379420849662,1.6596583125489515,-1.5724077458238064,0.6215265491328936,-0.0561986409113782,0.24927014302474623,1.53543501332122,-0.055599551054791994,1.32645184759936,1.4514528477362016,-1.4847606319621105,-0.9973741476602409,1.4994912648796017,0.03419252439163247,-0.046292042915014826,1.709035841451056,0.5212967365366743,-0.131081583263683,-0.43808928803715164,1.6567970968688839,-1.5275444468745252,-0.8447896284702037,0.6578162654164579,-0.7534725970827714,-0.17285777482223505,0.35363997961509896,-1.788792436237959,-0.07162340903032188,-1.4623169456140561,0.8280825240696073,1.0835553730224157,-1.4240515666478064,-0.1341858472586976,-0.04106533170087056,-0.8051743208826985,0.6094093843827119,-0.35468964870606495,0.8603252413615008,2.6227282912468595,-0.3221728921133419,0.682400376121072,0.5149524099278576,0.2551924502028558,1.0844566358187382,1.1749552409728774,0.21926456388416293,0.04894329554338051,1.0119357918722658,1.8866860191241275,0.7805020164639119,0.8553420893921356,-0.6815036634994182,-1.014602473534048,-1.359433213823731,-0.05948954050187066,-1.1213977948174525,-0.33912696814714816,-1.0615594813679707,-0.411066444295418,2.166497474851957,-1.1134527970750354,-0.6054877059829976,0.4597533366654226,1.3290782445998464,0.012551474021747479,2.361644470059281,1.842062235156804,0.13153726714116326],\"xaxis\":\"x3\",\"y\":[0.09386654377961644,-1.139004671822801,-0.23367563378421577,-0.8178321802841402,-1.1386693772818866,-1.6933602772163847,-0.340882409868143,-0.351551967954869,1.0758340774178499,-0.787595569821493,-0.4591133299503853,0.6345527442690106,-0.0835497443856339,0.8184263799228679,2.3301004445919853,-1.7842568978947762,1.2519772540173484,-0.6878146559815548,0.9635311160123031,-1.8983326215126495,2.1261591546867598,0.8941929951060387,0.1993320335310691,1.458215627439701,1.4694761919905903,-0.15252157482332396,-0.07148794668059787,-0.7635578591458244,-0.615900797268425,1.7053678572999516,-2.7292138631298317,0.933668525563834,-0.15968170111604396,0.7028590284260958,-1.1066058899225693,0.1619239233677905,0.2696690872716977,-0.8220265893588786,-0.33645552246354093,-0.07621137756404667,0.13301168100033228,-1.8700761206942498,0.0027439163561086524,1.2737410558275717,2.650550647922217,0.16841290963442426,-0.14149905735278132,-0.9644995305255604,-1.2604272026237753,0.319347044132876,0.56899546075684,1.241070964776888,-2.631068877305108,0.6652088306271956,-0.1867782110110191,-1.1025950775762114,-1.0816166208111249,0.28279051004301603,0.22548470390457245,-1.0921356640494668,-0.21652925585167312,1.2433709974704996,-3.1345566857767975,-1.4382763214819527,-1.1285833645782766,-1.2296014908982091,-1.7346476621463802,-0.9222160955908932,-0.1732327426597853,0.2976568213768825,0.7990801597704285,-0.15030976242435307,-0.9146846787912161,1.283925952969555,0.013167437974883985,1.0127366895351093,0.4891948168208888,0.42369269963044137,1.33102509023086,-1.370552114637446,-0.714767518480121,0.3750615806094237,0.5341559704135873,1.5619388793042077,-1.8508306253213733,1.3370419329169922,-0.7280235070437202,-1.1633069457494016,-0.5492177107383946,-0.5021165530681923,1.3629234752007997,1.2230320992696806,-0.5100791299765235,-2.621920527501423,-0.7654463508855776,1.497549637995718,-0.35601407564263093,1.8455499737402132,0.12220185490031459,-0.8450536569754781],\"yaxis\":\"y3\",\"type\":\"scatter\"},{\"line\":{\"color\":\"rgba(128, 128, 128, 1.0)\",\"dash\":\"solid\",\"shape\":\"linear\",\"width\":1.3},\"marker\":{\"size\":2,\"symbol\":\"circle\"},\"mode\":\"markers\",\"name\":\"A\",\"text\":\"\",\"x\":[0.01827674693836868,1.0312259862114281,-0.9902271317945981,-0.16952657109673888,0.0062033216943051,-0.020163977666164113,2.3254939553122944,0.784688250418403,-0.8095976935064689,1.0239361042223596,0.2120960201724168,0.2621575715402791,-1.1452357261550754,-2.150176744966233,0.2765394993371971,-0.39123864969170813,0.2606049970823336,0.6015042832534069,-0.5514447046029021,-0.33974805512263423,0.216680183299324,0.7740578412305583,-1.0581106408197496,-0.35751938655782445,0.5330389050112327,-0.46158005081539777,0.17840690735641399,-0.6625416623280843,0.38018466056836453,0.4847453775361481,-0.40452462836788083,0.7552367436336933,-0.5077675008072585,-0.13190226967138116,-0.3540764598406436,-0.36783435662119446,-0.3109370276173948,-1.0402771302704863,-1.3233540770350818,-0.9192426180694927,0.8587158823666327,-0.23733506108086794,-0.23023750991260766,0.76676620980785,-0.1581247958407638,-0.433504732896152,0.7315424536761489,0.726930646383536,1.1212649896971638,-0.30457026718549485,0.9492317484898695,-0.21113086866262615,1.0813108185118336,-0.5118880977698083,-0.3633732719562493,-0.7404551690859538,-1.1163057385564539,-0.7764959457234427,0.9552538822346441,-1.6501600320522556,0.8167022906270849,1.235473115067319,-0.2621304196056136,0.11186254307160247,1.7258513451699313,-0.3213869516737532,-0.6202949993605799,0.8439360896123422,-0.10386141197968152,1.653179103833251,0.31266756089648384,0.2623359432631791,-1.7097107400981206,-0.8900201035182636,0.413098861904276,-0.19806085942231758,1.8495416953003254,-0.2750288197965949,1.9050418541721095,1.4824729393772311,0.42477045373379674,0.5980783105289387,2.592541217628275,-1.1075789953915745,0.4145263543464033,0.0928350788536731,-1.68020796491302,0.0801443799603643,-0.21061732710712458,-1.038464987467301,-1.2024562570004007,-0.04100670824841796,-1.2368029460923655,0.30807983717780674,0.13785700001936516,-1.3441352328835554,0.48926231283611604,0.41798750518199207,-0.1372713308913042,0.21910304193782737],\"xaxis\":\"x4\",\"y\":[0.09386654377961644,-1.139004671822801,-0.23367563378421577,-0.8178321802841402,-1.1386693772818866,-1.6933602772163847,-0.340882409868143,-0.351551967954869,1.0758340774178499,-0.787595569821493,-0.4591133299503853,0.6345527442690106,-0.0835497443856339,0.8184263799228679,2.3301004445919853,-1.7842568978947762,1.2519772540173484,-0.6878146559815548,0.9635311160123031,-1.8983326215126495,2.1261591546867598,0.8941929951060387,0.1993320335310691,1.458215627439701,1.4694761919905903,-0.15252157482332396,-0.07148794668059787,-0.7635578591458244,-0.615900797268425,1.7053678572999516,-2.7292138631298317,0.933668525563834,-0.15968170111604396,0.7028590284260958,-1.1066058899225693,0.1619239233677905,0.2696690872716977,-0.8220265893588786,-0.33645552246354093,-0.07621137756404667,0.13301168100033228,-1.8700761206942498,0.0027439163561086524,1.2737410558275717,2.650550647922217,0.16841290963442426,-0.14149905735278132,-0.9644995305255604,-1.2604272026237753,0.319347044132876,0.56899546075684,1.241070964776888,-2.631068877305108,0.6652088306271956,-0.1867782110110191,-1.1025950775762114,-1.0816166208111249,0.28279051004301603,0.22548470390457245,-1.0921356640494668,-0.21652925585167312,1.2433709974704996,-3.1345566857767975,-1.4382763214819527,-1.1285833645782766,-1.2296014908982091,-1.7346476621463802,-0.9222160955908932,-0.1732327426597853,0.2976568213768825,0.7990801597704285,-0.15030976242435307,-0.9146846787912161,1.283925952969555,0.013167437974883985,1.0127366895351093,0.4891948168208888,0.42369269963044137,1.33102509023086,-1.370552114637446,-0.714767518480121,0.3750615806094237,0.5341559704135873,1.5619388793042077,-1.8508306253213733,1.3370419329169922,-0.7280235070437202,-1.1633069457494016,-0.5492177107383946,-0.5021165530681923,1.3629234752007997,1.2230320992696806,-0.5100791299765235,-2.621920527501423,-0.7654463508855776,1.497549637995718,-0.35601407564263093,1.8455499737402132,0.12220185490031459,-0.8450536569754781],\"yaxis\":\"y4\",\"type\":\"scatter\"},{\"line\":{\"color\":\"rgba(128, 128, 128, 1.0)\",\"dash\":\"solid\",\"shape\":\"linear\",\"width\":1.3},\"marker\":{\"size\":2,\"symbol\":\"circle\"},\"mode\":\"markers\",\"name\":\"B\",\"text\":\"\",\"x\":[0.09386654377961644,-1.139004671822801,-0.23367563378421577,-0.8178321802841402,-1.1386693772818866,-1.6933602772163847,-0.340882409868143,-0.351551967954869,1.0758340774178499,-0.787595569821493,-0.4591133299503853,0.6345527442690106,-0.0835497443856339,0.8184263799228679,2.3301004445919853,-1.7842568978947762,1.2519772540173484,-0.6878146559815548,0.9635311160123031,-1.8983326215126495,2.1261591546867598,0.8941929951060387,0.1993320335310691,1.458215627439701,1.4694761919905903,-0.15252157482332396,-0.07148794668059787,-0.7635578591458244,-0.615900797268425,1.7053678572999516,-2.7292138631298317,0.933668525563834,-0.15968170111604396,0.7028590284260958,-1.1066058899225693,0.1619239233677905,0.2696690872716977,-0.8220265893588786,-0.33645552246354093,-0.07621137756404667,0.13301168100033228,-1.8700761206942498,0.0027439163561086524,1.2737410558275717,2.650550647922217,0.16841290963442426,-0.14149905735278132,-0.9644995305255604,-1.2604272026237753,0.319347044132876,0.56899546075684,1.241070964776888,-2.631068877305108,0.6652088306271956,-0.1867782110110191,-1.1025950775762114,-1.0816166208111249,0.28279051004301603,0.22548470390457245,-1.0921356640494668,-0.21652925585167312,1.2433709974704996,-3.1345566857767975,-1.4382763214819527,-1.1285833645782766,-1.2296014908982091,-1.7346476621463802,-0.9222160955908932,-0.1732327426597853,0.2976568213768825,0.7990801597704285,-0.15030976242435307,-0.9146846787912161,1.283925952969555,0.013167437974883985,1.0127366895351093,0.4891948168208888,0.42369269963044137,1.33102509023086,-1.370552114637446,-0.714767518480121,0.3750615806094237,0.5341559704135873,1.5619388793042077,-1.8508306253213733,1.3370419329169922,-0.7280235070437202,-1.1633069457494016,-0.5492177107383946,-0.5021165530681923,1.3629234752007997,1.2230320992696806,-0.5100791299765235,-2.621920527501423,-0.7654463508855776,1.497549637995718,-0.35601407564263093,1.8455499737402132,0.12220185490031459,-0.8450536569754781],\"xaxis\":\"x5\",\"y\":[1.1340353607997995,0.013006465258081384,-1.4544113520150583,0.07672868747175726,0.48391889321947923,1.194788934202027,0.22468133183006384,0.12551098479531267,-0.27451552388284617,2.0356034926737436,0.7173123445309864,0.7932955472950777,-0.41502003783564156,0.3893140303258917,0.6193349803483303,-0.7866532286313116,1.3277002978859909,1.5560353033408851,-0.7637079816569204,1.4955257362466297,-1.3157860680447728,0.4814511617674176,-0.6261436350263004,-0.04619684870672389,0.9371898406188366,-0.5989093165454566,0.0062151920303784285,-0.6020029731603319,-2.208256297298656,0.7399894254410262,1.0860142458716426,-1.21065622295551,-0.09588287071653072,-1.2263598161115243,1.8299597122438265,-0.11413820163249909,-0.06935353377663811,1.5166820871775397,1.1795924483053237,-1.6027402892601654,0.12794276660807943,1.516455861068911,2.5031970959043703,-0.67197527259152,-0.729446552836332,-0.03227595217765168,0.6382184051655801,0.7079866983022988,-0.4630846645711651,-0.12042104592526794,0.818865391037555,-0.00456154244896449,-0.1454955215538559,0.82370762397494,1.1263911654451604,0.6957075242555208,-0.8809740163523293,0.13402287027597873,0.014942003469062437,0.5804442219882356,0.9941911200090845,0.7290166511006079,-0.19075826249149594,-0.3918900162987637,1.333464552078728,-0.14873129227566592,-2.705689931089558,-0.7259691233913627,1.0168910947228955,0.7873734558033054,0.026171372184366572,0.12996314877041218,1.6580005079219238,-0.44171738051397963,-0.0213341973283803,1.0895618776272844,-1.4783218403668337,-0.8051304132435134,0.9531400624960661,0.8574565198195986,1.267699008904015,-1.0931040378118888,0.5145903925372172,0.7628372620473755,-0.6581011595882967,1.2632260819909658,-1.2555456014903983,-0.9356552111274646,-0.3691646696574371,0.3709105437574881,1.0912030100326888,-0.9904125304371655,-1.2409751278186256,1.2795751598938199,1.0106178022864407,-0.03939033921404506,2.7754656697884035,-0.3644327979796833,1.5226149656513353,-1.5568377097308161],\"yaxis\":\"y5\",\"type\":\"scatter\"},{\"histfunc\":\"count\",\"histnorm\":\"\",\"marker\":{\"color\":\"rgba(55, 128, 191, 1.0)\",\"line\":{\"color\":\"#4D5663\",\"width\":1.3}},\"name\":\"B\",\"nbinsx\":10,\"opacity\":0.8,\"orientation\":\"v\",\"x\":[1.1340353607997995,0.013006465258081384,-1.4544113520150583,0.07672868747175726,0.48391889321947923,1.194788934202027,0.22468133183006384,0.12551098479531267,-0.27451552388284617,2.0356034926737436,0.7173123445309864,0.7932955472950777,-0.41502003783564156,0.3893140303258917,0.6193349803483303,-0.7866532286313116,1.3277002978859909,1.5560353033408851,-0.7637079816569204,1.4955257362466297,-1.3157860680447728,0.4814511617674176,-0.6261436350263004,-0.04619684870672389,0.9371898406188366,-0.5989093165454566,0.0062151920303784285,-0.6020029731603319,-2.208256297298656,0.7399894254410262,1.0860142458716426,-1.21065622295551,-0.09588287071653072,-1.2263598161115243,1.8299597122438265,-0.11413820163249909,-0.06935353377663811,1.5166820871775397,1.1795924483053237,-1.6027402892601654,0.12794276660807943,1.516455861068911,2.5031970959043703,-0.67197527259152,-0.729446552836332,-0.03227595217765168,0.6382184051655801,0.7079866983022988,-0.4630846645711651,-0.12042104592526794,0.818865391037555,-0.00456154244896449,-0.1454955215538559,0.82370762397494,1.1263911654451604,0.6957075242555208,-0.8809740163523293,0.13402287027597873,0.014942003469062437,0.5804442219882356,0.9941911200090845,0.7290166511006079,-0.19075826249149594,-0.3918900162987637,1.333464552078728,-0.14873129227566592,-2.705689931089558,-0.7259691233913627,1.0168910947228955,0.7873734558033054,0.026171372184366572,0.12996314877041218,1.6580005079219238,-0.44171738051397963,-0.0213341973283803,1.0895618776272844,-1.4783218403668337,-0.8051304132435134,0.9531400624960661,0.8574565198195986,1.267699008904015,-1.0931040378118888,0.5145903925372172,0.7628372620473755,-0.6581011595882967,1.2632260819909658,-1.2555456014903983,-0.9356552111274646,-0.3691646696574371,0.3709105437574881,1.0912030100326888,-0.9904125304371655,-1.2409751278186256,1.2795751598938199,1.0106178022864407,-0.03939033921404506,2.7754656697884035,-0.3644327979796833,1.5226149656513353,-1.5568377097308161],\"xaxis\":\"x6\",\"yaxis\":\"y6\",\"type\":\"histogram\"},{\"line\":{\"color\":\"rgba(128, 128, 128, 1.0)\",\"dash\":\"solid\",\"shape\":\"linear\",\"width\":1.3},\"marker\":{\"size\":2,\"symbol\":\"circle\"},\"mode\":\"markers\",\"name\":\"B\",\"text\":\"\",\"x\":[-0.33282780587095806,-1.5448452376166364,0.6228685924793956,0.8093687828306709,0.7190772579836001,1.0919707830866467,0.8784873880603475,-0.17819568113605488,-0.3580442357795487,2.44940806197161,-0.7560318056998703,0.8511125309822584,3.580785860876354,-1.1848213891289068,0.03906202735855334,0.9858635187960115,-0.21748323458448648,-0.5543899695384241,0.34846405568235944,-0.421910201269028,-2.1980431469511856,0.6004436342154168,-1.1338896174644981,2.357041588876008,-0.5982866014884459,1.757133388747493,-0.1417320558500775,-1.10594223484253,-1.455604064466308,0.4837748459104745,-1.1761499324913411,0.5582215826603278,-0.15298379420849662,1.6596583125489515,-1.5724077458238064,0.6215265491328936,-0.0561986409113782,0.24927014302474623,1.53543501332122,-0.055599551054791994,1.32645184759936,1.4514528477362016,-1.4847606319621105,-0.9973741476602409,1.4994912648796017,0.03419252439163247,-0.046292042915014826,1.709035841451056,0.5212967365366743,-0.131081583263683,-0.43808928803715164,1.6567970968688839,-1.5275444468745252,-0.8447896284702037,0.6578162654164579,-0.7534725970827714,-0.17285777482223505,0.35363997961509896,-1.788792436237959,-0.07162340903032188,-1.4623169456140561,0.8280825240696073,1.0835553730224157,-1.4240515666478064,-0.1341858472586976,-0.04106533170087056,-0.8051743208826985,0.6094093843827119,-0.35468964870606495,0.8603252413615008,2.6227282912468595,-0.3221728921133419,0.682400376121072,0.5149524099278576,0.2551924502028558,1.0844566358187382,1.1749552409728774,0.21926456388416293,0.04894329554338051,1.0119357918722658,1.8866860191241275,0.7805020164639119,0.8553420893921356,-0.6815036634994182,-1.014602473534048,-1.359433213823731,-0.05948954050187066,-1.1213977948174525,-0.33912696814714816,-1.0615594813679707,-0.411066444295418,2.166497474851957,-1.1134527970750354,-0.6054877059829976,0.4597533366654226,1.3290782445998464,0.012551474021747479,2.361644470059281,1.842062235156804,0.13153726714116326],\"xaxis\":\"x7\",\"y\":[1.1340353607997995,0.013006465258081384,-1.4544113520150583,0.07672868747175726,0.48391889321947923,1.194788934202027,0.22468133183006384,0.12551098479531267,-0.27451552388284617,2.0356034926737436,0.7173123445309864,0.7932955472950777,-0.41502003783564156,0.3893140303258917,0.6193349803483303,-0.7866532286313116,1.3277002978859909,1.5560353033408851,-0.7637079816569204,1.4955257362466297,-1.3157860680447728,0.4814511617674176,-0.6261436350263004,-0.04619684870672389,0.9371898406188366,-0.5989093165454566,0.0062151920303784285,-0.6020029731603319,-2.208256297298656,0.7399894254410262,1.0860142458716426,-1.21065622295551,-0.09588287071653072,-1.2263598161115243,1.8299597122438265,-0.11413820163249909,-0.06935353377663811,1.5166820871775397,1.1795924483053237,-1.6027402892601654,0.12794276660807943,1.516455861068911,2.5031970959043703,-0.67197527259152,-0.729446552836332,-0.03227595217765168,0.6382184051655801,0.7079866983022988,-0.4630846645711651,-0.12042104592526794,0.818865391037555,-0.00456154244896449,-0.1454955215538559,0.82370762397494,1.1263911654451604,0.6957075242555208,-0.8809740163523293,0.13402287027597873,0.014942003469062437,0.5804442219882356,0.9941911200090845,0.7290166511006079,-0.19075826249149594,-0.3918900162987637,1.333464552078728,-0.14873129227566592,-2.705689931089558,-0.7259691233913627,1.0168910947228955,0.7873734558033054,0.026171372184366572,0.12996314877041218,1.6580005079219238,-0.44171738051397963,-0.0213341973283803,1.0895618776272844,-1.4783218403668337,-0.8051304132435134,0.9531400624960661,0.8574565198195986,1.267699008904015,-1.0931040378118888,0.5145903925372172,0.7628372620473755,-0.6581011595882967,1.2632260819909658,-1.2555456014903983,-0.9356552111274646,-0.3691646696574371,0.3709105437574881,1.0912030100326888,-0.9904125304371655,-1.2409751278186256,1.2795751598938199,1.0106178022864407,-0.03939033921404506,2.7754656697884035,-0.3644327979796833,1.5226149656513353,-1.5568377097308161],\"yaxis\":\"y7\",\"type\":\"scatter\"},{\"line\":{\"color\":\"rgba(128, 128, 128, 1.0)\",\"dash\":\"solid\",\"shape\":\"linear\",\"width\":1.3},\"marker\":{\"size\":2,\"symbol\":\"circle\"},\"mode\":\"markers\",\"name\":\"B\",\"text\":\"\",\"x\":[0.01827674693836868,1.0312259862114281,-0.9902271317945981,-0.16952657109673888,0.0062033216943051,-0.020163977666164113,2.3254939553122944,0.784688250418403,-0.8095976935064689,1.0239361042223596,0.2120960201724168,0.2621575715402791,-1.1452357261550754,-2.150176744966233,0.2765394993371971,-0.39123864969170813,0.2606049970823336,0.6015042832534069,-0.5514447046029021,-0.33974805512263423,0.216680183299324,0.7740578412305583,-1.0581106408197496,-0.35751938655782445,0.5330389050112327,-0.46158005081539777,0.17840690735641399,-0.6625416623280843,0.38018466056836453,0.4847453775361481,-0.40452462836788083,0.7552367436336933,-0.5077675008072585,-0.13190226967138116,-0.3540764598406436,-0.36783435662119446,-0.3109370276173948,-1.0402771302704863,-1.3233540770350818,-0.9192426180694927,0.8587158823666327,-0.23733506108086794,-0.23023750991260766,0.76676620980785,-0.1581247958407638,-0.433504732896152,0.7315424536761489,0.726930646383536,1.1212649896971638,-0.30457026718549485,0.9492317484898695,-0.21113086866262615,1.0813108185118336,-0.5118880977698083,-0.3633732719562493,-0.7404551690859538,-1.1163057385564539,-0.7764959457234427,0.9552538822346441,-1.6501600320522556,0.8167022906270849,1.235473115067319,-0.2621304196056136,0.11186254307160247,1.7258513451699313,-0.3213869516737532,-0.6202949993605799,0.8439360896123422,-0.10386141197968152,1.653179103833251,0.31266756089648384,0.2623359432631791,-1.7097107400981206,-0.8900201035182636,0.413098861904276,-0.19806085942231758,1.8495416953003254,-0.2750288197965949,1.9050418541721095,1.4824729393772311,0.42477045373379674,0.5980783105289387,2.592541217628275,-1.1075789953915745,0.4145263543464033,0.0928350788536731,-1.68020796491302,0.0801443799603643,-0.21061732710712458,-1.038464987467301,-1.2024562570004007,-0.04100670824841796,-1.2368029460923655,0.30807983717780674,0.13785700001936516,-1.3441352328835554,0.48926231283611604,0.41798750518199207,-0.1372713308913042,0.21910304193782737],\"xaxis\":\"x8\",\"y\":[1.1340353607997995,0.013006465258081384,-1.4544113520150583,0.07672868747175726,0.48391889321947923,1.194788934202027,0.22468133183006384,0.12551098479531267,-0.27451552388284617,2.0356034926737436,0.7173123445309864,0.7932955472950777,-0.41502003783564156,0.3893140303258917,0.6193349803483303,-0.7866532286313116,1.3277002978859909,1.5560353033408851,-0.7637079816569204,1.4955257362466297,-1.3157860680447728,0.4814511617674176,-0.6261436350263004,-0.04619684870672389,0.9371898406188366,-0.5989093165454566,0.0062151920303784285,-0.6020029731603319,-2.208256297298656,0.7399894254410262,1.0860142458716426,-1.21065622295551,-0.09588287071653072,-1.2263598161115243,1.8299597122438265,-0.11413820163249909,-0.06935353377663811,1.5166820871775397,1.1795924483053237,-1.6027402892601654,0.12794276660807943,1.516455861068911,2.5031970959043703,-0.67197527259152,-0.729446552836332,-0.03227595217765168,0.6382184051655801,0.7079866983022988,-0.4630846645711651,-0.12042104592526794,0.818865391037555,-0.00456154244896449,-0.1454955215538559,0.82370762397494,1.1263911654451604,0.6957075242555208,-0.8809740163523293,0.13402287027597873,0.014942003469062437,0.5804442219882356,0.9941911200090845,0.7290166511006079,-0.19075826249149594,-0.3918900162987637,1.333464552078728,-0.14873129227566592,-2.705689931089558,-0.7259691233913627,1.0168910947228955,0.7873734558033054,0.026171372184366572,0.12996314877041218,1.6580005079219238,-0.44171738051397963,-0.0213341973283803,1.0895618776272844,-1.4783218403668337,-0.8051304132435134,0.9531400624960661,0.8574565198195986,1.267699008904015,-1.0931040378118888,0.5145903925372172,0.7628372620473755,-0.6581011595882967,1.2632260819909658,-1.2555456014903983,-0.9356552111274646,-0.3691646696574371,0.3709105437574881,1.0912030100326888,-0.9904125304371655,-1.2409751278186256,1.2795751598938199,1.0106178022864407,-0.03939033921404506,2.7754656697884035,-0.3644327979796833,1.5226149656513353,-1.5568377097308161],\"yaxis\":\"y8\",\"type\":\"scatter\"},{\"line\":{\"color\":\"rgba(128, 128, 128, 1.0)\",\"dash\":\"solid\",\"shape\":\"linear\",\"width\":1.3},\"marker\":{\"size\":2,\"symbol\":\"circle\"},\"mode\":\"markers\",\"name\":\"C\",\"text\":\"\",\"x\":[0.09386654377961644,-1.139004671822801,-0.23367563378421577,-0.8178321802841402,-1.1386693772818866,-1.6933602772163847,-0.340882409868143,-0.351551967954869,1.0758340774178499,-0.787595569821493,-0.4591133299503853,0.6345527442690106,-0.0835497443856339,0.8184263799228679,2.3301004445919853,-1.7842568978947762,1.2519772540173484,-0.6878146559815548,0.9635311160123031,-1.8983326215126495,2.1261591546867598,0.8941929951060387,0.1993320335310691,1.458215627439701,1.4694761919905903,-0.15252157482332396,-0.07148794668059787,-0.7635578591458244,-0.615900797268425,1.7053678572999516,-2.7292138631298317,0.933668525563834,-0.15968170111604396,0.7028590284260958,-1.1066058899225693,0.1619239233677905,0.2696690872716977,-0.8220265893588786,-0.33645552246354093,-0.07621137756404667,0.13301168100033228,-1.8700761206942498,0.0027439163561086524,1.2737410558275717,2.650550647922217,0.16841290963442426,-0.14149905735278132,-0.9644995305255604,-1.2604272026237753,0.319347044132876,0.56899546075684,1.241070964776888,-2.631068877305108,0.6652088306271956,-0.1867782110110191,-1.1025950775762114,-1.0816166208111249,0.28279051004301603,0.22548470390457245,-1.0921356640494668,-0.21652925585167312,1.2433709974704996,-3.1345566857767975,-1.4382763214819527,-1.1285833645782766,-1.2296014908982091,-1.7346476621463802,-0.9222160955908932,-0.1732327426597853,0.2976568213768825,0.7990801597704285,-0.15030976242435307,-0.9146846787912161,1.283925952969555,0.013167437974883985,1.0127366895351093,0.4891948168208888,0.42369269963044137,1.33102509023086,-1.370552114637446,-0.714767518480121,0.3750615806094237,0.5341559704135873,1.5619388793042077,-1.8508306253213733,1.3370419329169922,-0.7280235070437202,-1.1633069457494016,-0.5492177107383946,-0.5021165530681923,1.3629234752007997,1.2230320992696806,-0.5100791299765235,-2.621920527501423,-0.7654463508855776,1.497549637995718,-0.35601407564263093,1.8455499737402132,0.12220185490031459,-0.8450536569754781],\"xaxis\":\"x9\",\"y\":[-0.33282780587095806,-1.5448452376166364,0.6228685924793956,0.8093687828306709,0.7190772579836001,1.0919707830866467,0.8784873880603475,-0.17819568113605488,-0.3580442357795487,2.44940806197161,-0.7560318056998703,0.8511125309822584,3.580785860876354,-1.1848213891289068,0.03906202735855334,0.9858635187960115,-0.21748323458448648,-0.5543899695384241,0.34846405568235944,-0.421910201269028,-2.1980431469511856,0.6004436342154168,-1.1338896174644981,2.357041588876008,-0.5982866014884459,1.757133388747493,-0.1417320558500775,-1.10594223484253,-1.455604064466308,0.4837748459104745,-1.1761499324913411,0.5582215826603278,-0.15298379420849662,1.6596583125489515,-1.5724077458238064,0.6215265491328936,-0.0561986409113782,0.24927014302474623,1.53543501332122,-0.055599551054791994,1.32645184759936,1.4514528477362016,-1.4847606319621105,-0.9973741476602409,1.4994912648796017,0.03419252439163247,-0.046292042915014826,1.709035841451056,0.5212967365366743,-0.131081583263683,-0.43808928803715164,1.6567970968688839,-1.5275444468745252,-0.8447896284702037,0.6578162654164579,-0.7534725970827714,-0.17285777482223505,0.35363997961509896,-1.788792436237959,-0.07162340903032188,-1.4623169456140561,0.8280825240696073,1.0835553730224157,-1.4240515666478064,-0.1341858472586976,-0.04106533170087056,-0.8051743208826985,0.6094093843827119,-0.35468964870606495,0.8603252413615008,2.6227282912468595,-0.3221728921133419,0.682400376121072,0.5149524099278576,0.2551924502028558,1.0844566358187382,1.1749552409728774,0.21926456388416293,0.04894329554338051,1.0119357918722658,1.8866860191241275,0.7805020164639119,0.8553420893921356,-0.6815036634994182,-1.014602473534048,-1.359433213823731,-0.05948954050187066,-1.1213977948174525,-0.33912696814714816,-1.0615594813679707,-0.411066444295418,2.166497474851957,-1.1134527970750354,-0.6054877059829976,0.4597533366654226,1.3290782445998464,0.012551474021747479,2.361644470059281,1.842062235156804,0.13153726714116326],\"yaxis\":\"y9\",\"type\":\"scatter\"},{\"line\":{\"color\":\"rgba(128, 128, 128, 1.0)\",\"dash\":\"solid\",\"shape\":\"linear\",\"width\":1.3},\"marker\":{\"size\":2,\"symbol\":\"circle\"},\"mode\":\"markers\",\"name\":\"C\",\"text\":\"\",\"x\":[1.1340353607997995,0.013006465258081384,-1.4544113520150583,0.07672868747175726,0.48391889321947923,1.194788934202027,0.22468133183006384,0.12551098479531267,-0.27451552388284617,2.0356034926737436,0.7173123445309864,0.7932955472950777,-0.41502003783564156,0.3893140303258917,0.6193349803483303,-0.7866532286313116,1.3277002978859909,1.5560353033408851,-0.7637079816569204,1.4955257362466297,-1.3157860680447728,0.4814511617674176,-0.6261436350263004,-0.04619684870672389,0.9371898406188366,-0.5989093165454566,0.0062151920303784285,-0.6020029731603319,-2.208256297298656,0.7399894254410262,1.0860142458716426,-1.21065622295551,-0.09588287071653072,-1.2263598161115243,1.8299597122438265,-0.11413820163249909,-0.06935353377663811,1.5166820871775397,1.1795924483053237,-1.6027402892601654,0.12794276660807943,1.516455861068911,2.5031970959043703,-0.67197527259152,-0.729446552836332,-0.03227595217765168,0.6382184051655801,0.7079866983022988,-0.4630846645711651,-0.12042104592526794,0.818865391037555,-0.00456154244896449,-0.1454955215538559,0.82370762397494,1.1263911654451604,0.6957075242555208,-0.8809740163523293,0.13402287027597873,0.014942003469062437,0.5804442219882356,0.9941911200090845,0.7290166511006079,-0.19075826249149594,-0.3918900162987637,1.333464552078728,-0.14873129227566592,-2.705689931089558,-0.7259691233913627,1.0168910947228955,0.7873734558033054,0.026171372184366572,0.12996314877041218,1.6580005079219238,-0.44171738051397963,-0.0213341973283803,1.0895618776272844,-1.4783218403668337,-0.8051304132435134,0.9531400624960661,0.8574565198195986,1.267699008904015,-1.0931040378118888,0.5145903925372172,0.7628372620473755,-0.6581011595882967,1.2632260819909658,-1.2555456014903983,-0.9356552111274646,-0.3691646696574371,0.3709105437574881,1.0912030100326888,-0.9904125304371655,-1.2409751278186256,1.2795751598938199,1.0106178022864407,-0.03939033921404506,2.7754656697884035,-0.3644327979796833,1.5226149656513353,-1.5568377097308161],\"xaxis\":\"x10\",\"y\":[-0.33282780587095806,-1.5448452376166364,0.6228685924793956,0.8093687828306709,0.7190772579836001,1.0919707830866467,0.8784873880603475,-0.17819568113605488,-0.3580442357795487,2.44940806197161,-0.7560318056998703,0.8511125309822584,3.580785860876354,-1.1848213891289068,0.03906202735855334,0.9858635187960115,-0.21748323458448648,-0.5543899695384241,0.34846405568235944,-0.421910201269028,-2.1980431469511856,0.6004436342154168,-1.1338896174644981,2.357041588876008,-0.5982866014884459,1.757133388747493,-0.1417320558500775,-1.10594223484253,-1.455604064466308,0.4837748459104745,-1.1761499324913411,0.5582215826603278,-0.15298379420849662,1.6596583125489515,-1.5724077458238064,0.6215265491328936,-0.0561986409113782,0.24927014302474623,1.53543501332122,-0.055599551054791994,1.32645184759936,1.4514528477362016,-1.4847606319621105,-0.9973741476602409,1.4994912648796017,0.03419252439163247,-0.046292042915014826,1.709035841451056,0.5212967365366743,-0.131081583263683,-0.43808928803715164,1.6567970968688839,-1.5275444468745252,-0.8447896284702037,0.6578162654164579,-0.7534725970827714,-0.17285777482223505,0.35363997961509896,-1.788792436237959,-0.07162340903032188,-1.4623169456140561,0.8280825240696073,1.0835553730224157,-1.4240515666478064,-0.1341858472586976,-0.04106533170087056,-0.8051743208826985,0.6094093843827119,-0.35468964870606495,0.8603252413615008,2.6227282912468595,-0.3221728921133419,0.682400376121072,0.5149524099278576,0.2551924502028558,1.0844566358187382,1.1749552409728774,0.21926456388416293,0.04894329554338051,1.0119357918722658,1.8866860191241275,0.7805020164639119,0.8553420893921356,-0.6815036634994182,-1.014602473534048,-1.359433213823731,-0.05948954050187066,-1.1213977948174525,-0.33912696814714816,-1.0615594813679707,-0.411066444295418,2.166497474851957,-1.1134527970750354,-0.6054877059829976,0.4597533366654226,1.3290782445998464,0.012551474021747479,2.361644470059281,1.842062235156804,0.13153726714116326],\"yaxis\":\"y10\",\"type\":\"scatter\"},{\"histfunc\":\"count\",\"histnorm\":\"\",\"marker\":{\"color\":\"rgba(50, 171, 96, 1.0)\",\"line\":{\"color\":\"#4D5663\",\"width\":1.3}},\"name\":\"C\",\"nbinsx\":10,\"opacity\":0.8,\"orientation\":\"v\",\"x\":[-0.33282780587095806,-1.5448452376166364,0.6228685924793956,0.8093687828306709,0.7190772579836001,1.0919707830866467,0.8784873880603475,-0.17819568113605488,-0.3580442357795487,2.44940806197161,-0.7560318056998703,0.8511125309822584,3.580785860876354,-1.1848213891289068,0.03906202735855334,0.9858635187960115,-0.21748323458448648,-0.5543899695384241,0.34846405568235944,-0.421910201269028,-2.1980431469511856,0.6004436342154168,-1.1338896174644981,2.357041588876008,-0.5982866014884459,1.757133388747493,-0.1417320558500775,-1.10594223484253,-1.455604064466308,0.4837748459104745,-1.1761499324913411,0.5582215826603278,-0.15298379420849662,1.6596583125489515,-1.5724077458238064,0.6215265491328936,-0.0561986409113782,0.24927014302474623,1.53543501332122,-0.055599551054791994,1.32645184759936,1.4514528477362016,-1.4847606319621105,-0.9973741476602409,1.4994912648796017,0.03419252439163247,-0.046292042915014826,1.709035841451056,0.5212967365366743,-0.131081583263683,-0.43808928803715164,1.6567970968688839,-1.5275444468745252,-0.8447896284702037,0.6578162654164579,-0.7534725970827714,-0.17285777482223505,0.35363997961509896,-1.788792436237959,-0.07162340903032188,-1.4623169456140561,0.8280825240696073,1.0835553730224157,-1.4240515666478064,-0.1341858472586976,-0.04106533170087056,-0.8051743208826985,0.6094093843827119,-0.35468964870606495,0.8603252413615008,2.6227282912468595,-0.3221728921133419,0.682400376121072,0.5149524099278576,0.2551924502028558,1.0844566358187382,1.1749552409728774,0.21926456388416293,0.04894329554338051,1.0119357918722658,1.8866860191241275,0.7805020164639119,0.8553420893921356,-0.6815036634994182,-1.014602473534048,-1.359433213823731,-0.05948954050187066,-1.1213977948174525,-0.33912696814714816,-1.0615594813679707,-0.411066444295418,2.166497474851957,-1.1134527970750354,-0.6054877059829976,0.4597533366654226,1.3290782445998464,0.012551474021747479,2.361644470059281,1.842062235156804,0.13153726714116326],\"xaxis\":\"x11\",\"yaxis\":\"y11\",\"type\":\"histogram\"},{\"line\":{\"color\":\"rgba(128, 128, 128, 1.0)\",\"dash\":\"solid\",\"shape\":\"linear\",\"width\":1.3},\"marker\":{\"size\":2,\"symbol\":\"circle\"},\"mode\":\"markers\",\"name\":\"C\",\"text\":\"\",\"x\":[0.01827674693836868,1.0312259862114281,-0.9902271317945981,-0.16952657109673888,0.0062033216943051,-0.020163977666164113,2.3254939553122944,0.784688250418403,-0.8095976935064689,1.0239361042223596,0.2120960201724168,0.2621575715402791,-1.1452357261550754,-2.150176744966233,0.2765394993371971,-0.39123864969170813,0.2606049970823336,0.6015042832534069,-0.5514447046029021,-0.33974805512263423,0.216680183299324,0.7740578412305583,-1.0581106408197496,-0.35751938655782445,0.5330389050112327,-0.46158005081539777,0.17840690735641399,-0.6625416623280843,0.38018466056836453,0.4847453775361481,-0.40452462836788083,0.7552367436336933,-0.5077675008072585,-0.13190226967138116,-0.3540764598406436,-0.36783435662119446,-0.3109370276173948,-1.0402771302704863,-1.3233540770350818,-0.9192426180694927,0.8587158823666327,-0.23733506108086794,-0.23023750991260766,0.76676620980785,-0.1581247958407638,-0.433504732896152,0.7315424536761489,0.726930646383536,1.1212649896971638,-0.30457026718549485,0.9492317484898695,-0.21113086866262615,1.0813108185118336,-0.5118880977698083,-0.3633732719562493,-0.7404551690859538,-1.1163057385564539,-0.7764959457234427,0.9552538822346441,-1.6501600320522556,0.8167022906270849,1.235473115067319,-0.2621304196056136,0.11186254307160247,1.7258513451699313,-0.3213869516737532,-0.6202949993605799,0.8439360896123422,-0.10386141197968152,1.653179103833251,0.31266756089648384,0.2623359432631791,-1.7097107400981206,-0.8900201035182636,0.413098861904276,-0.19806085942231758,1.8495416953003254,-0.2750288197965949,1.9050418541721095,1.4824729393772311,0.42477045373379674,0.5980783105289387,2.592541217628275,-1.1075789953915745,0.4145263543464033,0.0928350788536731,-1.68020796491302,0.0801443799603643,-0.21061732710712458,-1.038464987467301,-1.2024562570004007,-0.04100670824841796,-1.2368029460923655,0.30807983717780674,0.13785700001936516,-1.3441352328835554,0.48926231283611604,0.41798750518199207,-0.1372713308913042,0.21910304193782737],\"xaxis\":\"x12\",\"y\":[-0.33282780587095806,-1.5448452376166364,0.6228685924793956,0.8093687828306709,0.7190772579836001,1.0919707830866467,0.8784873880603475,-0.17819568113605488,-0.3580442357795487,2.44940806197161,-0.7560318056998703,0.8511125309822584,3.580785860876354,-1.1848213891289068,0.03906202735855334,0.9858635187960115,-0.21748323458448648,-0.5543899695384241,0.34846405568235944,-0.421910201269028,-2.1980431469511856,0.6004436342154168,-1.1338896174644981,2.357041588876008,-0.5982866014884459,1.757133388747493,-0.1417320558500775,-1.10594223484253,-1.455604064466308,0.4837748459104745,-1.1761499324913411,0.5582215826603278,-0.15298379420849662,1.6596583125489515,-1.5724077458238064,0.6215265491328936,-0.0561986409113782,0.24927014302474623,1.53543501332122,-0.055599551054791994,1.32645184759936,1.4514528477362016,-1.4847606319621105,-0.9973741476602409,1.4994912648796017,0.03419252439163247,-0.046292042915014826,1.709035841451056,0.5212967365366743,-0.131081583263683,-0.43808928803715164,1.6567970968688839,-1.5275444468745252,-0.8447896284702037,0.6578162654164579,-0.7534725970827714,-0.17285777482223505,0.35363997961509896,-1.788792436237959,-0.07162340903032188,-1.4623169456140561,0.8280825240696073,1.0835553730224157,-1.4240515666478064,-0.1341858472586976,-0.04106533170087056,-0.8051743208826985,0.6094093843827119,-0.35468964870606495,0.8603252413615008,2.6227282912468595,-0.3221728921133419,0.682400376121072,0.5149524099278576,0.2551924502028558,1.0844566358187382,1.1749552409728774,0.21926456388416293,0.04894329554338051,1.0119357918722658,1.8866860191241275,0.7805020164639119,0.8553420893921356,-0.6815036634994182,-1.014602473534048,-1.359433213823731,-0.05948954050187066,-1.1213977948174525,-0.33912696814714816,-1.0615594813679707,-0.411066444295418,2.166497474851957,-1.1134527970750354,-0.6054877059829976,0.4597533366654226,1.3290782445998464,0.012551474021747479,2.361644470059281,1.842062235156804,0.13153726714116326],\"yaxis\":\"y12\",\"type\":\"scatter\"},{\"line\":{\"color\":\"rgba(128, 128, 128, 1.0)\",\"dash\":\"solid\",\"shape\":\"linear\",\"width\":1.3},\"marker\":{\"size\":2,\"symbol\":\"circle\"},\"mode\":\"markers\",\"name\":\"D\",\"text\":\"\",\"x\":[0.09386654377961644,-1.139004671822801,-0.23367563378421577,-0.8178321802841402,-1.1386693772818866,-1.6933602772163847,-0.340882409868143,-0.351551967954869,1.0758340774178499,-0.787595569821493,-0.4591133299503853,0.6345527442690106,-0.0835497443856339,0.8184263799228679,2.3301004445919853,-1.7842568978947762,1.2519772540173484,-0.6878146559815548,0.9635311160123031,-1.8983326215126495,2.1261591546867598,0.8941929951060387,0.1993320335310691,1.458215627439701,1.4694761919905903,-0.15252157482332396,-0.07148794668059787,-0.7635578591458244,-0.615900797268425,1.7053678572999516,-2.7292138631298317,0.933668525563834,-0.15968170111604396,0.7028590284260958,-1.1066058899225693,0.1619239233677905,0.2696690872716977,-0.8220265893588786,-0.33645552246354093,-0.07621137756404667,0.13301168100033228,-1.8700761206942498,0.0027439163561086524,1.2737410558275717,2.650550647922217,0.16841290963442426,-0.14149905735278132,-0.9644995305255604,-1.2604272026237753,0.319347044132876,0.56899546075684,1.241070964776888,-2.631068877305108,0.6652088306271956,-0.1867782110110191,-1.1025950775762114,-1.0816166208111249,0.28279051004301603,0.22548470390457245,-1.0921356640494668,-0.21652925585167312,1.2433709974704996,-3.1345566857767975,-1.4382763214819527,-1.1285833645782766,-1.2296014908982091,-1.7346476621463802,-0.9222160955908932,-0.1732327426597853,0.2976568213768825,0.7990801597704285,-0.15030976242435307,-0.9146846787912161,1.283925952969555,0.013167437974883985,1.0127366895351093,0.4891948168208888,0.42369269963044137,1.33102509023086,-1.370552114637446,-0.714767518480121,0.3750615806094237,0.5341559704135873,1.5619388793042077,-1.8508306253213733,1.3370419329169922,-0.7280235070437202,-1.1633069457494016,-0.5492177107383946,-0.5021165530681923,1.3629234752007997,1.2230320992696806,-0.5100791299765235,-2.621920527501423,-0.7654463508855776,1.497549637995718,-0.35601407564263093,1.8455499737402132,0.12220185490031459,-0.8450536569754781],\"xaxis\":\"x13\",\"y\":[0.01827674693836868,1.0312259862114281,-0.9902271317945981,-0.16952657109673888,0.0062033216943051,-0.020163977666164113,2.3254939553122944,0.784688250418403,-0.8095976935064689,1.0239361042223596,0.2120960201724168,0.2621575715402791,-1.1452357261550754,-2.150176744966233,0.2765394993371971,-0.39123864969170813,0.2606049970823336,0.6015042832534069,-0.5514447046029021,-0.33974805512263423,0.216680183299324,0.7740578412305583,-1.0581106408197496,-0.35751938655782445,0.5330389050112327,-0.46158005081539777,0.17840690735641399,-0.6625416623280843,0.38018466056836453,0.4847453775361481,-0.40452462836788083,0.7552367436336933,-0.5077675008072585,-0.13190226967138116,-0.3540764598406436,-0.36783435662119446,-0.3109370276173948,-1.0402771302704863,-1.3233540770350818,-0.9192426180694927,0.8587158823666327,-0.23733506108086794,-0.23023750991260766,0.76676620980785,-0.1581247958407638,-0.433504732896152,0.7315424536761489,0.726930646383536,1.1212649896971638,-0.30457026718549485,0.9492317484898695,-0.21113086866262615,1.0813108185118336,-0.5118880977698083,-0.3633732719562493,-0.7404551690859538,-1.1163057385564539,-0.7764959457234427,0.9552538822346441,-1.6501600320522556,0.8167022906270849,1.235473115067319,-0.2621304196056136,0.11186254307160247,1.7258513451699313,-0.3213869516737532,-0.6202949993605799,0.8439360896123422,-0.10386141197968152,1.653179103833251,0.31266756089648384,0.2623359432631791,-1.7097107400981206,-0.8900201035182636,0.413098861904276,-0.19806085942231758,1.8495416953003254,-0.2750288197965949,1.9050418541721095,1.4824729393772311,0.42477045373379674,0.5980783105289387,2.592541217628275,-1.1075789953915745,0.4145263543464033,0.0928350788536731,-1.68020796491302,0.0801443799603643,-0.21061732710712458,-1.038464987467301,-1.2024562570004007,-0.04100670824841796,-1.2368029460923655,0.30807983717780674,0.13785700001936516,-1.3441352328835554,0.48926231283611604,0.41798750518199207,-0.1372713308913042,0.21910304193782737],\"yaxis\":\"y13\",\"type\":\"scatter\"},{\"line\":{\"color\":\"rgba(128, 128, 128, 1.0)\",\"dash\":\"solid\",\"shape\":\"linear\",\"width\":1.3},\"marker\":{\"size\":2,\"symbol\":\"circle\"},\"mode\":\"markers\",\"name\":\"D\",\"text\":\"\",\"x\":[1.1340353607997995,0.013006465258081384,-1.4544113520150583,0.07672868747175726,0.48391889321947923,1.194788934202027,0.22468133183006384,0.12551098479531267,-0.27451552388284617,2.0356034926737436,0.7173123445309864,0.7932955472950777,-0.41502003783564156,0.3893140303258917,0.6193349803483303,-0.7866532286313116,1.3277002978859909,1.5560353033408851,-0.7637079816569204,1.4955257362466297,-1.3157860680447728,0.4814511617674176,-0.6261436350263004,-0.04619684870672389,0.9371898406188366,-0.5989093165454566,0.0062151920303784285,-0.6020029731603319,-2.208256297298656,0.7399894254410262,1.0860142458716426,-1.21065622295551,-0.09588287071653072,-1.2263598161115243,1.8299597122438265,-0.11413820163249909,-0.06935353377663811,1.5166820871775397,1.1795924483053237,-1.6027402892601654,0.12794276660807943,1.516455861068911,2.5031970959043703,-0.67197527259152,-0.729446552836332,-0.03227595217765168,0.6382184051655801,0.7079866983022988,-0.4630846645711651,-0.12042104592526794,0.818865391037555,-0.00456154244896449,-0.1454955215538559,0.82370762397494,1.1263911654451604,0.6957075242555208,-0.8809740163523293,0.13402287027597873,0.014942003469062437,0.5804442219882356,0.9941911200090845,0.7290166511006079,-0.19075826249149594,-0.3918900162987637,1.333464552078728,-0.14873129227566592,-2.705689931089558,-0.7259691233913627,1.0168910947228955,0.7873734558033054,0.026171372184366572,0.12996314877041218,1.6580005079219238,-0.44171738051397963,-0.0213341973283803,1.0895618776272844,-1.4783218403668337,-0.8051304132435134,0.9531400624960661,0.8574565198195986,1.267699008904015,-1.0931040378118888,0.5145903925372172,0.7628372620473755,-0.6581011595882967,1.2632260819909658,-1.2555456014903983,-0.9356552111274646,-0.3691646696574371,0.3709105437574881,1.0912030100326888,-0.9904125304371655,-1.2409751278186256,1.2795751598938199,1.0106178022864407,-0.03939033921404506,2.7754656697884035,-0.3644327979796833,1.5226149656513353,-1.5568377097308161],\"xaxis\":\"x14\",\"y\":[0.01827674693836868,1.0312259862114281,-0.9902271317945981,-0.16952657109673888,0.0062033216943051,-0.020163977666164113,2.3254939553122944,0.784688250418403,-0.8095976935064689,1.0239361042223596,0.2120960201724168,0.2621575715402791,-1.1452357261550754,-2.150176744966233,0.2765394993371971,-0.39123864969170813,0.2606049970823336,0.6015042832534069,-0.5514447046029021,-0.33974805512263423,0.216680183299324,0.7740578412305583,-1.0581106408197496,-0.35751938655782445,0.5330389050112327,-0.46158005081539777,0.17840690735641399,-0.6625416623280843,0.38018466056836453,0.4847453775361481,-0.40452462836788083,0.7552367436336933,-0.5077675008072585,-0.13190226967138116,-0.3540764598406436,-0.36783435662119446,-0.3109370276173948,-1.0402771302704863,-1.3233540770350818,-0.9192426180694927,0.8587158823666327,-0.23733506108086794,-0.23023750991260766,0.76676620980785,-0.1581247958407638,-0.433504732896152,0.7315424536761489,0.726930646383536,1.1212649896971638,-0.30457026718549485,0.9492317484898695,-0.21113086866262615,1.0813108185118336,-0.5118880977698083,-0.3633732719562493,-0.7404551690859538,-1.1163057385564539,-0.7764959457234427,0.9552538822346441,-1.6501600320522556,0.8167022906270849,1.235473115067319,-0.2621304196056136,0.11186254307160247,1.7258513451699313,-0.3213869516737532,-0.6202949993605799,0.8439360896123422,-0.10386141197968152,1.653179103833251,0.31266756089648384,0.2623359432631791,-1.7097107400981206,-0.8900201035182636,0.413098861904276,-0.19806085942231758,1.8495416953003254,-0.2750288197965949,1.9050418541721095,1.4824729393772311,0.42477045373379674,0.5980783105289387,2.592541217628275,-1.1075789953915745,0.4145263543464033,0.0928350788536731,-1.68020796491302,0.0801443799603643,-0.21061732710712458,-1.038464987467301,-1.2024562570004007,-0.04100670824841796,-1.2368029460923655,0.30807983717780674,0.13785700001936516,-1.3441352328835554,0.48926231283611604,0.41798750518199207,-0.1372713308913042,0.21910304193782737],\"yaxis\":\"y14\",\"type\":\"scatter\"},{\"line\":{\"color\":\"rgba(128, 128, 128, 1.0)\",\"dash\":\"solid\",\"shape\":\"linear\",\"width\":1.3},\"marker\":{\"size\":2,\"symbol\":\"circle\"},\"mode\":\"markers\",\"name\":\"D\",\"text\":\"\",\"x\":[-0.33282780587095806,-1.5448452376166364,0.6228685924793956,0.8093687828306709,0.7190772579836001,1.0919707830866467,0.8784873880603475,-0.17819568113605488,-0.3580442357795487,2.44940806197161,-0.7560318056998703,0.8511125309822584,3.580785860876354,-1.1848213891289068,0.03906202735855334,0.9858635187960115,-0.21748323458448648,-0.5543899695384241,0.34846405568235944,-0.421910201269028,-2.1980431469511856,0.6004436342154168,-1.1338896174644981,2.357041588876008,-0.5982866014884459,1.757133388747493,-0.1417320558500775,-1.10594223484253,-1.455604064466308,0.4837748459104745,-1.1761499324913411,0.5582215826603278,-0.15298379420849662,1.6596583125489515,-1.5724077458238064,0.6215265491328936,-0.0561986409113782,0.24927014302474623,1.53543501332122,-0.055599551054791994,1.32645184759936,1.4514528477362016,-1.4847606319621105,-0.9973741476602409,1.4994912648796017,0.03419252439163247,-0.046292042915014826,1.709035841451056,0.5212967365366743,-0.131081583263683,-0.43808928803715164,1.6567970968688839,-1.5275444468745252,-0.8447896284702037,0.6578162654164579,-0.7534725970827714,-0.17285777482223505,0.35363997961509896,-1.788792436237959,-0.07162340903032188,-1.4623169456140561,0.8280825240696073,1.0835553730224157,-1.4240515666478064,-0.1341858472586976,-0.04106533170087056,-0.8051743208826985,0.6094093843827119,-0.35468964870606495,0.8603252413615008,2.6227282912468595,-0.3221728921133419,0.682400376121072,0.5149524099278576,0.2551924502028558,1.0844566358187382,1.1749552409728774,0.21926456388416293,0.04894329554338051,1.0119357918722658,1.8866860191241275,0.7805020164639119,0.8553420893921356,-0.6815036634994182,-1.014602473534048,-1.359433213823731,-0.05948954050187066,-1.1213977948174525,-0.33912696814714816,-1.0615594813679707,-0.411066444295418,2.166497474851957,-1.1134527970750354,-0.6054877059829976,0.4597533366654226,1.3290782445998464,0.012551474021747479,2.361644470059281,1.842062235156804,0.13153726714116326],\"xaxis\":\"x15\",\"y\":[0.01827674693836868,1.0312259862114281,-0.9902271317945981,-0.16952657109673888,0.0062033216943051,-0.020163977666164113,2.3254939553122944,0.784688250418403,-0.8095976935064689,1.0239361042223596,0.2120960201724168,0.2621575715402791,-1.1452357261550754,-2.150176744966233,0.2765394993371971,-0.39123864969170813,0.2606049970823336,0.6015042832534069,-0.5514447046029021,-0.33974805512263423,0.216680183299324,0.7740578412305583,-1.0581106408197496,-0.35751938655782445,0.5330389050112327,-0.46158005081539777,0.17840690735641399,-0.6625416623280843,0.38018466056836453,0.4847453775361481,-0.40452462836788083,0.7552367436336933,-0.5077675008072585,-0.13190226967138116,-0.3540764598406436,-0.36783435662119446,-0.3109370276173948,-1.0402771302704863,-1.3233540770350818,-0.9192426180694927,0.8587158823666327,-0.23733506108086794,-0.23023750991260766,0.76676620980785,-0.1581247958407638,-0.433504732896152,0.7315424536761489,0.726930646383536,1.1212649896971638,-0.30457026718549485,0.9492317484898695,-0.21113086866262615,1.0813108185118336,-0.5118880977698083,-0.3633732719562493,-0.7404551690859538,-1.1163057385564539,-0.7764959457234427,0.9552538822346441,-1.6501600320522556,0.8167022906270849,1.235473115067319,-0.2621304196056136,0.11186254307160247,1.7258513451699313,-0.3213869516737532,-0.6202949993605799,0.8439360896123422,-0.10386141197968152,1.653179103833251,0.31266756089648384,0.2623359432631791,-1.7097107400981206,-0.8900201035182636,0.413098861904276,-0.19806085942231758,1.8495416953003254,-0.2750288197965949,1.9050418541721095,1.4824729393772311,0.42477045373379674,0.5980783105289387,2.592541217628275,-1.1075789953915745,0.4145263543464033,0.0928350788536731,-1.68020796491302,0.0801443799603643,-0.21061732710712458,-1.038464987467301,-1.2024562570004007,-0.04100670824841796,-1.2368029460923655,0.30807983717780674,0.13785700001936516,-1.3441352328835554,0.48926231283611604,0.41798750518199207,-0.1372713308913042,0.21910304193782737],\"yaxis\":\"y15\",\"type\":\"scatter\"},{\"histfunc\":\"count\",\"histnorm\":\"\",\"marker\":{\"color\":\"rgba(128, 0, 128, 1.0)\",\"line\":{\"color\":\"#4D5663\",\"width\":1.3}},\"name\":\"D\",\"nbinsx\":10,\"opacity\":0.8,\"orientation\":\"v\",\"x\":[0.01827674693836868,1.0312259862114281,-0.9902271317945981,-0.16952657109673888,0.0062033216943051,-0.020163977666164113,2.3254939553122944,0.784688250418403,-0.8095976935064689,1.0239361042223596,0.2120960201724168,0.2621575715402791,-1.1452357261550754,-2.150176744966233,0.2765394993371971,-0.39123864969170813,0.2606049970823336,0.6015042832534069,-0.5514447046029021,-0.33974805512263423,0.216680183299324,0.7740578412305583,-1.0581106408197496,-0.35751938655782445,0.5330389050112327,-0.46158005081539777,0.17840690735641399,-0.6625416623280843,0.38018466056836453,0.4847453775361481,-0.40452462836788083,0.7552367436336933,-0.5077675008072585,-0.13190226967138116,-0.3540764598406436,-0.36783435662119446,-0.3109370276173948,-1.0402771302704863,-1.3233540770350818,-0.9192426180694927,0.8587158823666327,-0.23733506108086794,-0.23023750991260766,0.76676620980785,-0.1581247958407638,-0.433504732896152,0.7315424536761489,0.726930646383536,1.1212649896971638,-0.30457026718549485,0.9492317484898695,-0.21113086866262615,1.0813108185118336,-0.5118880977698083,-0.3633732719562493,-0.7404551690859538,-1.1163057385564539,-0.7764959457234427,0.9552538822346441,-1.6501600320522556,0.8167022906270849,1.235473115067319,-0.2621304196056136,0.11186254307160247,1.7258513451699313,-0.3213869516737532,-0.6202949993605799,0.8439360896123422,-0.10386141197968152,1.653179103833251,0.31266756089648384,0.2623359432631791,-1.7097107400981206,-0.8900201035182636,0.413098861904276,-0.19806085942231758,1.8495416953003254,-0.2750288197965949,1.9050418541721095,1.4824729393772311,0.42477045373379674,0.5980783105289387,2.592541217628275,-1.1075789953915745,0.4145263543464033,0.0928350788536731,-1.68020796491302,0.0801443799603643,-0.21061732710712458,-1.038464987467301,-1.2024562570004007,-0.04100670824841796,-1.2368029460923655,0.30807983717780674,0.13785700001936516,-1.3441352328835554,0.48926231283611604,0.41798750518199207,-0.1372713308913042,0.21910304193782737],\"xaxis\":\"x16\",\"yaxis\":\"y16\",\"type\":\"histogram\"}],                        {\"bargap\":0.02,\"legend\":{\"bgcolor\":\"#F5F6F9\",\"font\":{\"color\":\"#4D5663\"}},\"paper_bgcolor\":\"#F5F6F9\",\"plot_bgcolor\":\"#F5F6F9\",\"showlegend\":false,\"template\":{\"data\":{\"barpolar\":[{\"marker\":{\"line\":{\"color\":\"#E5ECF6\",\"width\":0.5},\"pattern\":{\"fillmode\":\"overlay\",\"size\":10,\"solidity\":0.2}},\"type\":\"barpolar\"}],\"bar\":[{\"error_x\":{\"color\":\"#2a3f5f\"},\"error_y\":{\"color\":\"#2a3f5f\"},\"marker\":{\"line\":{\"color\":\"#E5ECF6\",\"width\":0.5},\"pattern\":{\"fillmode\":\"overlay\",\"size\":10,\"solidity\":0.2}},\"type\":\"bar\"}],\"carpet\":[{\"aaxis\":{\"endlinecolor\":\"#2a3f5f\",\"gridcolor\":\"white\",\"linecolor\":\"white\",\"minorgridcolor\":\"white\",\"startlinecolor\":\"#2a3f5f\"},\"baxis\":{\"endlinecolor\":\"#2a3f5f\",\"gridcolor\":\"white\",\"linecolor\":\"white\",\"minorgridcolor\":\"white\",\"startlinecolor\":\"#2a3f5f\"},\"type\":\"carpet\"}],\"choropleth\":[{\"colorbar\":{\"outlinewidth\":0,\"ticks\":\"\"},\"type\":\"choropleth\"}],\"contourcarpet\":[{\"colorbar\":{\"outlinewidth\":0,\"ticks\":\"\"},\"type\":\"contourcarpet\"}],\"contour\":[{\"colorbar\":{\"outlinewidth\":0,\"ticks\":\"\"},\"colorscale\":[[0.0,\"#0d0887\"],[0.1111111111111111,\"#46039f\"],[0.2222222222222222,\"#7201a8\"],[0.3333333333333333,\"#9c179e\"],[0.4444444444444444,\"#bd3786\"],[0.5555555555555556,\"#d8576b\"],[0.6666666666666666,\"#ed7953\"],[0.7777777777777778,\"#fb9f3a\"],[0.8888888888888888,\"#fdca26\"],[1.0,\"#f0f921\"]],\"type\":\"contour\"}],\"heatmapgl\":[{\"colorbar\":{\"outlinewidth\":0,\"ticks\":\"\"},\"colorscale\":[[0.0,\"#0d0887\"],[0.1111111111111111,\"#46039f\"],[0.2222222222222222,\"#7201a8\"],[0.3333333333333333,\"#9c179e\"],[0.4444444444444444,\"#bd3786\"],[0.5555555555555556,\"#d8576b\"],[0.6666666666666666,\"#ed7953\"],[0.7777777777777778,\"#fb9f3a\"],[0.8888888888888888,\"#fdca26\"],[1.0,\"#f0f921\"]],\"type\":\"heatmapgl\"}],\"heatmap\":[{\"colorbar\":{\"outlinewidth\":0,\"ticks\":\"\"},\"colorscale\":[[0.0,\"#0d0887\"],[0.1111111111111111,\"#46039f\"],[0.2222222222222222,\"#7201a8\"],[0.3333333333333333,\"#9c179e\"],[0.4444444444444444,\"#bd3786\"],[0.5555555555555556,\"#d8576b\"],[0.6666666666666666,\"#ed7953\"],[0.7777777777777778,\"#fb9f3a\"],[0.8888888888888888,\"#fdca26\"],[1.0,\"#f0f921\"]],\"type\":\"heatmap\"}],\"histogram2dcontour\":[{\"colorbar\":{\"outlinewidth\":0,\"ticks\":\"\"},\"colorscale\":[[0.0,\"#0d0887\"],[0.1111111111111111,\"#46039f\"],[0.2222222222222222,\"#7201a8\"],[0.3333333333333333,\"#9c179e\"],[0.4444444444444444,\"#bd3786\"],[0.5555555555555556,\"#d8576b\"],[0.6666666666666666,\"#ed7953\"],[0.7777777777777778,\"#fb9f3a\"],[0.8888888888888888,\"#fdca26\"],[1.0,\"#f0f921\"]],\"type\":\"histogram2dcontour\"}],\"histogram2d\":[{\"colorbar\":{\"outlinewidth\":0,\"ticks\":\"\"},\"colorscale\":[[0.0,\"#0d0887\"],[0.1111111111111111,\"#46039f\"],[0.2222222222222222,\"#7201a8\"],[0.3333333333333333,\"#9c179e\"],[0.4444444444444444,\"#bd3786\"],[0.5555555555555556,\"#d8576b\"],[0.6666666666666666,\"#ed7953\"],[0.7777777777777778,\"#fb9f3a\"],[0.8888888888888888,\"#fdca26\"],[1.0,\"#f0f921\"]],\"type\":\"histogram2d\"}],\"histogram\":[{\"marker\":{\"pattern\":{\"fillmode\":\"overlay\",\"size\":10,\"solidity\":0.2}},\"type\":\"histogram\"}],\"mesh3d\":[{\"colorbar\":{\"outlinewidth\":0,\"ticks\":\"\"},\"type\":\"mesh3d\"}],\"parcoords\":[{\"line\":{\"colorbar\":{\"outlinewidth\":0,\"ticks\":\"\"}},\"type\":\"parcoords\"}],\"pie\":[{\"automargin\":true,\"type\":\"pie\"}],\"scatter3d\":[{\"line\":{\"colorbar\":{\"outlinewidth\":0,\"ticks\":\"\"}},\"marker\":{\"colorbar\":{\"outlinewidth\":0,\"ticks\":\"\"}},\"type\":\"scatter3d\"}],\"scattercarpet\":[{\"marker\":{\"colorbar\":{\"outlinewidth\":0,\"ticks\":\"\"}},\"type\":\"scattercarpet\"}],\"scattergeo\":[{\"marker\":{\"colorbar\":{\"outlinewidth\":0,\"ticks\":\"\"}},\"type\":\"scattergeo\"}],\"scattergl\":[{\"marker\":{\"colorbar\":{\"outlinewidth\":0,\"ticks\":\"\"}},\"type\":\"scattergl\"}],\"scattermapbox\":[{\"marker\":{\"colorbar\":{\"outlinewidth\":0,\"ticks\":\"\"}},\"type\":\"scattermapbox\"}],\"scatterpolargl\":[{\"marker\":{\"colorbar\":{\"outlinewidth\":0,\"ticks\":\"\"}},\"type\":\"scatterpolargl\"}],\"scatterpolar\":[{\"marker\":{\"colorbar\":{\"outlinewidth\":0,\"ticks\":\"\"}},\"type\":\"scatterpolar\"}],\"scatter\":[{\"marker\":{\"colorbar\":{\"outlinewidth\":0,\"ticks\":\"\"}},\"type\":\"scatter\"}],\"scatterternary\":[{\"marker\":{\"colorbar\":{\"outlinewidth\":0,\"ticks\":\"\"}},\"type\":\"scatterternary\"}],\"surface\":[{\"colorbar\":{\"outlinewidth\":0,\"ticks\":\"\"},\"colorscale\":[[0.0,\"#0d0887\"],[0.1111111111111111,\"#46039f\"],[0.2222222222222222,\"#7201a8\"],[0.3333333333333333,\"#9c179e\"],[0.4444444444444444,\"#bd3786\"],[0.5555555555555556,\"#d8576b\"],[0.6666666666666666,\"#ed7953\"],[0.7777777777777778,\"#fb9f3a\"],[0.8888888888888888,\"#fdca26\"],[1.0,\"#f0f921\"]],\"type\":\"surface\"}],\"table\":[{\"cells\":{\"fill\":{\"color\":\"#EBF0F8\"},\"line\":{\"color\":\"white\"}},\"header\":{\"fill\":{\"color\":\"#C8D4E3\"},\"line\":{\"color\":\"white\"}},\"type\":\"table\"}]},\"layout\":{\"annotationdefaults\":{\"arrowcolor\":\"#2a3f5f\",\"arrowhead\":0,\"arrowwidth\":1},\"autotypenumbers\":\"strict\",\"coloraxis\":{\"colorbar\":{\"outlinewidth\":0,\"ticks\":\"\"}},\"colorscale\":{\"diverging\":[[0,\"#8e0152\"],[0.1,\"#c51b7d\"],[0.2,\"#de77ae\"],[0.3,\"#f1b6da\"],[0.4,\"#fde0ef\"],[0.5,\"#f7f7f7\"],[0.6,\"#e6f5d0\"],[0.7,\"#b8e186\"],[0.8,\"#7fbc41\"],[0.9,\"#4d9221\"],[1,\"#276419\"]],\"sequential\":[[0.0,\"#0d0887\"],[0.1111111111111111,\"#46039f\"],[0.2222222222222222,\"#7201a8\"],[0.3333333333333333,\"#9c179e\"],[0.4444444444444444,\"#bd3786\"],[0.5555555555555556,\"#d8576b\"],[0.6666666666666666,\"#ed7953\"],[0.7777777777777778,\"#fb9f3a\"],[0.8888888888888888,\"#fdca26\"],[1.0,\"#f0f921\"]],\"sequentialminus\":[[0.0,\"#0d0887\"],[0.1111111111111111,\"#46039f\"],[0.2222222222222222,\"#7201a8\"],[0.3333333333333333,\"#9c179e\"],[0.4444444444444444,\"#bd3786\"],[0.5555555555555556,\"#d8576b\"],[0.6666666666666666,\"#ed7953\"],[0.7777777777777778,\"#fb9f3a\"],[0.8888888888888888,\"#fdca26\"],[1.0,\"#f0f921\"]]},\"colorway\":[\"#636efa\",\"#EF553B\",\"#00cc96\",\"#ab63fa\",\"#FFA15A\",\"#19d3f3\",\"#FF6692\",\"#B6E880\",\"#FF97FF\",\"#FECB52\"],\"font\":{\"color\":\"#2a3f5f\"},\"geo\":{\"bgcolor\":\"white\",\"lakecolor\":\"white\",\"landcolor\":\"#E5ECF6\",\"showlakes\":true,\"showland\":true,\"subunitcolor\":\"white\"},\"hoverlabel\":{\"align\":\"left\"},\"hovermode\":\"closest\",\"mapbox\":{\"style\":\"light\"},\"paper_bgcolor\":\"white\",\"plot_bgcolor\":\"#E5ECF6\",\"polar\":{\"angularaxis\":{\"gridcolor\":\"white\",\"linecolor\":\"white\",\"ticks\":\"\"},\"bgcolor\":\"#E5ECF6\",\"radialaxis\":{\"gridcolor\":\"white\",\"linecolor\":\"white\",\"ticks\":\"\"}},\"scene\":{\"xaxis\":{\"backgroundcolor\":\"#E5ECF6\",\"gridcolor\":\"white\",\"gridwidth\":2,\"linecolor\":\"white\",\"showbackground\":true,\"ticks\":\"\",\"zerolinecolor\":\"white\"},\"yaxis\":{\"backgroundcolor\":\"#E5ECF6\",\"gridcolor\":\"white\",\"gridwidth\":2,\"linecolor\":\"white\",\"showbackground\":true,\"ticks\":\"\",\"zerolinecolor\":\"white\"},\"zaxis\":{\"backgroundcolor\":\"#E5ECF6\",\"gridcolor\":\"white\",\"gridwidth\":2,\"linecolor\":\"white\",\"showbackground\":true,\"ticks\":\"\",\"zerolinecolor\":\"white\"}},\"shapedefaults\":{\"line\":{\"color\":\"#2a3f5f\"}},\"ternary\":{\"aaxis\":{\"gridcolor\":\"white\",\"linecolor\":\"white\",\"ticks\":\"\"},\"baxis\":{\"gridcolor\":\"white\",\"linecolor\":\"white\",\"ticks\":\"\"},\"bgcolor\":\"#E5ECF6\",\"caxis\":{\"gridcolor\":\"white\",\"linecolor\":\"white\",\"ticks\":\"\"}},\"title\":{\"x\":0.05},\"xaxis\":{\"automargin\":true,\"gridcolor\":\"white\",\"linecolor\":\"white\",\"ticks\":\"\",\"title\":{\"standoff\":15},\"zerolinecolor\":\"white\",\"zerolinewidth\":2},\"yaxis\":{\"automargin\":true,\"gridcolor\":\"white\",\"linecolor\":\"white\",\"ticks\":\"\",\"title\":{\"standoff\":15},\"zerolinecolor\":\"white\",\"zerolinewidth\":2}}},\"title\":{\"font\":{\"color\":\"#4D5663\"}},\"xaxis\":{\"anchor\":\"y\",\"domain\":[0.0,0.2125],\"gridcolor\":\"#E1E5ED\",\"showgrid\":false,\"tickfont\":{\"color\":\"#4D5663\"},\"title\":{\"font\":{\"color\":\"#4D5663\"},\"text\":\"\"},\"zerolinecolor\":\"#E1E5ED\"},\"yaxis\":{\"anchor\":\"x\",\"domain\":[0.8025,1.0],\"gridcolor\":\"#E1E5ED\",\"showgrid\":false,\"tickfont\":{\"color\":\"#4D5663\"},\"title\":{\"font\":{\"color\":\"#4D5663\"},\"text\":\"\"},\"zerolinecolor\":\"#E1E5ED\"},\"xaxis2\":{\"anchor\":\"y2\",\"domain\":[0.2625,0.475],\"gridcolor\":\"#E1E5ED\",\"showgrid\":false,\"tickfont\":{\"color\":\"#4D5663\"},\"title\":{\"font\":{\"color\":\"#4D5663\"},\"text\":\"\"},\"zerolinecolor\":\"#E1E5ED\"},\"yaxis2\":{\"anchor\":\"x2\",\"domain\":[0.8025,1.0],\"gridcolor\":\"#E1E5ED\",\"showgrid\":false,\"tickfont\":{\"color\":\"#4D5663\"},\"title\":{\"font\":{\"color\":\"#4D5663\"},\"text\":\"\"},\"zerolinecolor\":\"#E1E5ED\"},\"xaxis3\":{\"anchor\":\"y3\",\"domain\":[0.525,0.7375],\"gridcolor\":\"#E1E5ED\",\"showgrid\":false,\"tickfont\":{\"color\":\"#4D5663\"},\"title\":{\"font\":{\"color\":\"#4D5663\"},\"text\":\"\"},\"zerolinecolor\":\"#E1E5ED\"},\"yaxis3\":{\"anchor\":\"x3\",\"domain\":[0.8025,1.0],\"gridcolor\":\"#E1E5ED\",\"showgrid\":false,\"tickfont\":{\"color\":\"#4D5663\"},\"title\":{\"font\":{\"color\":\"#4D5663\"},\"text\":\"\"},\"zerolinecolor\":\"#E1E5ED\"},\"xaxis4\":{\"anchor\":\"y4\",\"domain\":[0.7875,1.0],\"gridcolor\":\"#E1E5ED\",\"showgrid\":false,\"tickfont\":{\"color\":\"#4D5663\"},\"title\":{\"font\":{\"color\":\"#4D5663\"},\"text\":\"\"},\"zerolinecolor\":\"#E1E5ED\"},\"yaxis4\":{\"anchor\":\"x4\",\"domain\":[0.8025,1.0],\"gridcolor\":\"#E1E5ED\",\"showgrid\":false,\"tickfont\":{\"color\":\"#4D5663\"},\"title\":{\"font\":{\"color\":\"#4D5663\"},\"text\":\"\"},\"zerolinecolor\":\"#E1E5ED\"},\"xaxis5\":{\"anchor\":\"y5\",\"domain\":[0.0,0.2125],\"gridcolor\":\"#E1E5ED\",\"showgrid\":false,\"tickfont\":{\"color\":\"#4D5663\"},\"title\":{\"font\":{\"color\":\"#4D5663\"},\"text\":\"\"},\"zerolinecolor\":\"#E1E5ED\"},\"yaxis5\":{\"anchor\":\"x5\",\"domain\":[0.535,0.7325],\"gridcolor\":\"#E1E5ED\",\"showgrid\":false,\"tickfont\":{\"color\":\"#4D5663\"},\"title\":{\"font\":{\"color\":\"#4D5663\"},\"text\":\"\"},\"zerolinecolor\":\"#E1E5ED\"},\"xaxis6\":{\"anchor\":\"y6\",\"domain\":[0.2625,0.475],\"gridcolor\":\"#E1E5ED\",\"showgrid\":false,\"tickfont\":{\"color\":\"#4D5663\"},\"title\":{\"font\":{\"color\":\"#4D5663\"},\"text\":\"\"},\"zerolinecolor\":\"#E1E5ED\"},\"yaxis6\":{\"anchor\":\"x6\",\"domain\":[0.535,0.7325],\"gridcolor\":\"#E1E5ED\",\"showgrid\":false,\"tickfont\":{\"color\":\"#4D5663\"},\"title\":{\"font\":{\"color\":\"#4D5663\"},\"text\":\"\"},\"zerolinecolor\":\"#E1E5ED\"},\"xaxis7\":{\"anchor\":\"y7\",\"domain\":[0.525,0.7375],\"gridcolor\":\"#E1E5ED\",\"showgrid\":false,\"tickfont\":{\"color\":\"#4D5663\"},\"title\":{\"font\":{\"color\":\"#4D5663\"},\"text\":\"\"},\"zerolinecolor\":\"#E1E5ED\"},\"yaxis7\":{\"anchor\":\"x7\",\"domain\":[0.535,0.7325],\"gridcolor\":\"#E1E5ED\",\"showgrid\":false,\"tickfont\":{\"color\":\"#4D5663\"},\"title\":{\"font\":{\"color\":\"#4D5663\"},\"text\":\"\"},\"zerolinecolor\":\"#E1E5ED\"},\"xaxis8\":{\"anchor\":\"y8\",\"domain\":[0.7875,1.0],\"gridcolor\":\"#E1E5ED\",\"showgrid\":false,\"tickfont\":{\"color\":\"#4D5663\"},\"title\":{\"font\":{\"color\":\"#4D5663\"},\"text\":\"\"},\"zerolinecolor\":\"#E1E5ED\"},\"yaxis8\":{\"anchor\":\"x8\",\"domain\":[0.535,0.7325],\"gridcolor\":\"#E1E5ED\",\"showgrid\":false,\"tickfont\":{\"color\":\"#4D5663\"},\"title\":{\"font\":{\"color\":\"#4D5663\"},\"text\":\"\"},\"zerolinecolor\":\"#E1E5ED\"},\"xaxis9\":{\"anchor\":\"y9\",\"domain\":[0.0,0.2125],\"gridcolor\":\"#E1E5ED\",\"showgrid\":false,\"tickfont\":{\"color\":\"#4D5663\"},\"title\":{\"font\":{\"color\":\"#4D5663\"},\"text\":\"\"},\"zerolinecolor\":\"#E1E5ED\"},\"yaxis9\":{\"anchor\":\"x9\",\"domain\":[0.2675,0.465],\"gridcolor\":\"#E1E5ED\",\"showgrid\":false,\"tickfont\":{\"color\":\"#4D5663\"},\"title\":{\"font\":{\"color\":\"#4D5663\"},\"text\":\"\"},\"zerolinecolor\":\"#E1E5ED\"},\"xaxis10\":{\"anchor\":\"y10\",\"domain\":[0.2625,0.475],\"gridcolor\":\"#E1E5ED\",\"showgrid\":false,\"tickfont\":{\"color\":\"#4D5663\"},\"title\":{\"font\":{\"color\":\"#4D5663\"},\"text\":\"\"},\"zerolinecolor\":\"#E1E5ED\"},\"yaxis10\":{\"anchor\":\"x10\",\"domain\":[0.2675,0.465],\"gridcolor\":\"#E1E5ED\",\"showgrid\":false,\"tickfont\":{\"color\":\"#4D5663\"},\"title\":{\"font\":{\"color\":\"#4D5663\"},\"text\":\"\"},\"zerolinecolor\":\"#E1E5ED\"},\"xaxis11\":{\"anchor\":\"y11\",\"domain\":[0.525,0.7375],\"gridcolor\":\"#E1E5ED\",\"showgrid\":false,\"tickfont\":{\"color\":\"#4D5663\"},\"title\":{\"font\":{\"color\":\"#4D5663\"},\"text\":\"\"},\"zerolinecolor\":\"#E1E5ED\"},\"yaxis11\":{\"anchor\":\"x11\",\"domain\":[0.2675,0.465],\"gridcolor\":\"#E1E5ED\",\"showgrid\":false,\"tickfont\":{\"color\":\"#4D5663\"},\"title\":{\"font\":{\"color\":\"#4D5663\"},\"text\":\"\"},\"zerolinecolor\":\"#E1E5ED\"},\"xaxis12\":{\"anchor\":\"y12\",\"domain\":[0.7875,1.0],\"gridcolor\":\"#E1E5ED\",\"showgrid\":false,\"tickfont\":{\"color\":\"#4D5663\"},\"title\":{\"font\":{\"color\":\"#4D5663\"},\"text\":\"\"},\"zerolinecolor\":\"#E1E5ED\"},\"yaxis12\":{\"anchor\":\"x12\",\"domain\":[0.2675,0.465],\"gridcolor\":\"#E1E5ED\",\"showgrid\":false,\"tickfont\":{\"color\":\"#4D5663\"},\"title\":{\"font\":{\"color\":\"#4D5663\"},\"text\":\"\"},\"zerolinecolor\":\"#E1E5ED\"},\"xaxis13\":{\"anchor\":\"y13\",\"domain\":[0.0,0.2125],\"gridcolor\":\"#E1E5ED\",\"showgrid\":false,\"tickfont\":{\"color\":\"#4D5663\"},\"title\":{\"font\":{\"color\":\"#4D5663\"},\"text\":\"\"},\"zerolinecolor\":\"#E1E5ED\"},\"yaxis13\":{\"anchor\":\"x13\",\"domain\":[0.0,0.1975],\"gridcolor\":\"#E1E5ED\",\"showgrid\":false,\"tickfont\":{\"color\":\"#4D5663\"},\"title\":{\"font\":{\"color\":\"#4D5663\"},\"text\":\"\"},\"zerolinecolor\":\"#E1E5ED\"},\"xaxis14\":{\"anchor\":\"y14\",\"domain\":[0.2625,0.475],\"gridcolor\":\"#E1E5ED\",\"showgrid\":false,\"tickfont\":{\"color\":\"#4D5663\"},\"title\":{\"font\":{\"color\":\"#4D5663\"},\"text\":\"\"},\"zerolinecolor\":\"#E1E5ED\"},\"yaxis14\":{\"anchor\":\"x14\",\"domain\":[0.0,0.1975],\"gridcolor\":\"#E1E5ED\",\"showgrid\":false,\"tickfont\":{\"color\":\"#4D5663\"},\"title\":{\"font\":{\"color\":\"#4D5663\"},\"text\":\"\"},\"zerolinecolor\":\"#E1E5ED\"},\"xaxis15\":{\"anchor\":\"y15\",\"domain\":[0.525,0.7375],\"gridcolor\":\"#E1E5ED\",\"showgrid\":false,\"tickfont\":{\"color\":\"#4D5663\"},\"title\":{\"font\":{\"color\":\"#4D5663\"},\"text\":\"\"},\"zerolinecolor\":\"#E1E5ED\"},\"yaxis15\":{\"anchor\":\"x15\",\"domain\":[0.0,0.1975],\"gridcolor\":\"#E1E5ED\",\"showgrid\":false,\"tickfont\":{\"color\":\"#4D5663\"},\"title\":{\"font\":{\"color\":\"#4D5663\"},\"text\":\"\"},\"zerolinecolor\":\"#E1E5ED\"},\"xaxis16\":{\"anchor\":\"y16\",\"domain\":[0.7875,1.0],\"gridcolor\":\"#E1E5ED\",\"showgrid\":false,\"tickfont\":{\"color\":\"#4D5663\"},\"title\":{\"font\":{\"color\":\"#4D5663\"},\"text\":\"\"},\"zerolinecolor\":\"#E1E5ED\"},\"yaxis16\":{\"anchor\":\"x16\",\"domain\":[0.0,0.1975],\"gridcolor\":\"#E1E5ED\",\"showgrid\":false,\"tickfont\":{\"color\":\"#4D5663\"},\"title\":{\"font\":{\"color\":\"#4D5663\"},\"text\":\"\"},\"zerolinecolor\":\"#E1E5ED\"}},                        {\"showLink\": true, \"linkText\": \"Export to plot.ly\", \"plotlyServerURL\": \"https://plot.ly\", \"responsive\": true}                    ).then(function(){\n",
       "                            \n",
       "var gd = document.getElementById('45e4a06f-71d7-4368-9caa-b2ec9c0580d0');\n",
       "var x = new MutationObserver(function (mutations, observer) {{\n",
       "        var display = window.getComputedStyle(gd).display;\n",
       "        if (!display || display === 'none') {{\n",
       "            console.log([gd, 'removed!']);\n",
       "            Plotly.purge(gd);\n",
       "            observer.disconnect();\n",
       "        }}\n",
       "}});\n",
       "\n",
       "// Listen for the removal of the full notebook cells\n",
       "var notebookContainer = gd.closest('#notebook-container');\n",
       "if (notebookContainer) {{\n",
       "    x.observe(notebookContainer, {childList: true});\n",
       "}}\n",
       "\n",
       "// Listen for the clearing of the current output cell\n",
       "var outputEl = gd.closest('.output');\n",
       "if (outputEl) {{\n",
       "    x.observe(outputEl, {childList: true});\n",
       "}}\n",
       "\n",
       "                        })                };                });            </script>        </div>"
      ]
     },
     "metadata": {},
     "output_type": "display_data"
    }
   ],
   "source": [
    "df.scatter_matrix()"
   ]
  }
 ],
 "metadata": {
  "kernelspec": {
   "display_name": "Python 3 (ipykernel)",
   "language": "python",
   "name": "python3"
  },
  "language_info": {
   "codemirror_mode": {
    "name": "ipython",
    "version": 3
   },
   "file_extension": ".py",
   "mimetype": "text/x-python",
   "name": "python",
   "nbconvert_exporter": "python",
   "pygments_lexer": "ipython3",
   "version": "3.9.7"
  }
 },
 "nbformat": 4,
 "nbformat_minor": 1
}
