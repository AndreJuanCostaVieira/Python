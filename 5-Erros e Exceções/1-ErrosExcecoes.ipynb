{
 "cells": [
  {
   "cell_type": "markdown",
   "metadata": {},
   "source": [
    "# Manipulação de Erros e Exceção Handling\n",
    "\n",
    "Aprenderemos sobre tratamento de erros e exceções no Python. Você definitivamente já encontrou erros nesse ponto do curso. Por exemplo:"
   ]
  },
  {
   "cell_type": "code",
   "execution_count": 1,
   "metadata": {},
   "outputs": [
    {
     "name": "stdout",
     "output_type": "stream",
     "text": [
      "Hello)\n"
     ]
    }
   ],
   "source": [
    "print('Hello)"
   ]
  },
  {
   "cell_type": "markdown",
   "metadata": {},
   "source": [
    "Observe como obtemos um SyntaxError, com a descrição adicional de que era um EOL (End of Line Error)(erro de final de linha) durante a varredura da literal da string. Isso é específico o suficiente para vermos que esquecemos uma única citação no final da linha. A compreensão desses vários tipos de erros ajudará você a depurar seu código muito mais rapidamente.\n",
    "\n",
    "Esse tipo de erro e descrição é conhecido como uma exceção. Mesmo se uma declaração ou expressão estiver sintaticamente correta, poderá causar um erro quando for feita uma tentativa de executá-la. Os erros detectados durante a execução são chamados de exceções e não são incondicionalmente fatais.\n",
    "\n",
    "Você pode conferir a lista completa de exceções internas [aqui] (https://docs.python.org/3/library/exceptions.html). Agora vamos aprender a lidar com erros e exceções em nosso próprio código."
   ]
  },
  {
   "cell_type": "markdown",
   "metadata": {},
   "source": [
    "## try e except\n",
    "\n",
    "A terminologia e sintaxe básicas usadas para manipular erros no Python são as instruções <code>try</code> e <code>except</code>. O código que pode causar uma exceção é colocado no bloco <code>try</code> e o tratamento da exceção é implementado no bloco de código <code>except</code>. A sintaxe a seguir:\n",
    "\n",
    "    try:\n",
    "       Você coloca sua operação aqui...\n",
    "       ...\n",
    "    except Excecao1:\n",
    "       Se há Excecao1, então executa este bloco.\n",
    "    except ExceptionII:\n",
    "       Se há Excecao2, então executa este bloco.\n",
    "       ...\n",
    "    else:\n",
    "       Se não houver exceção, execute este bloco.\n",
    "\n",
    "Também podemos verificar qualquer exceção usando apenas <code>except:</code> Para entender melhor tudo isso, vamos dar um exemplo: Examinaremos algum código que abre e grava um arquivo:"
   ]
  },
  {
   "cell_type": "code",
   "execution_count": 11,
   "metadata": {},
   "outputs": [
    {
     "name": "stdout",
     "output_type": "stream",
     "text": [
      "Conteúdo escrito com sucesso\n"
     ]
    }
   ],
   "source": [
    "try:\n",
    "    f = open('testearquivo','w')\n",
    "    f.write('Teste escrever isto')\n",
    "except IOError:\n",
    "    # Isso verificará apenas uma exceção IOError e executará esta instrução de impressão\n",
    "    print(\"Erro: Não foi possível encontrar o arquivo ou ler os dados\")\n",
    "else:\n",
    "    print(\"Conteúdo escrito com sucesso\")\n",
    "    f.close()"
   ]
  },
  {
   "cell_type": "markdown",
   "metadata": {},
   "source": [
    "Agora vamos ver o que aconteceria se não tivéssemos permissão de gravação (abrindo apenas com 'r'):"
   ]
  },
  {
   "cell_type": "code",
   "execution_count": 10,
   "metadata": {},
   "outputs": [
    {
     "name": "stdout",
     "output_type": "stream",
     "text": [
      "Erro por não existe o arquivo2: Não foi possível encontrar o arquivo ou ler os dados\n"
     ]
    }
   ],
   "source": [
    "try:\n",
    "    f = open('testearquivo2','r')\n",
    "    f.write('Teste escrever isto')\n",
    "except IOError:\n",
    "    # Isso verificará apenas uma exceção IOError e executará esta instrução de impressão\n",
    "    print(\"Erro por não existe o arquivo2: Não foi possível encontrar o arquivo ou ler os dados\")\n",
    "else:\n",
    "    print(\"Conteúdo escrito com sucesso\")\n",
    "    f.close()"
   ]
  },
  {
   "cell_type": "markdown",
   "metadata": {},
   "source": [
    "Ótimo! Observe como nós apenas imprimimos uma declaração! O código ainda funcionava e pudemos continuar executando ações e executando blocos de código. Isso é extremamente útil quando você precisa contabilizar possíveis erros de entrada no seu código. Você pode estar preparado para o erro e continuar executando o código, em vez de apenas quebrar o código, como vimos acima.\n",
    "\n",
    "Também poderíamos ter dito <code>except</code> se não tivéssemos certeza de qual exceção ocorreria. Por exemplo:"
   ]
  },
  {
   "cell_type": "code",
   "execution_count": 30,
   "metadata": {},
   "outputs": [
    {
     "name": "stdout",
     "output_type": "stream",
     "text": [
      "Erro: Não foi possível encontrar o arquivo ou ler os dados\n"
     ]
    }
   ],
   "source": [
    "try:\n",
    "    f = open('testearquivo','r')\n",
    "    f.write('Teste escrever isto')\n",
    "except:\n",
    "    # Isso verificará apenas uma exceção IOError e executará esta instrução de impressão\n",
    "    print(\"Erro: Não foi possível encontrar o arquivo ou ler os dados\")\n",
    "else:\n",
    "    print(\"Conteúdo escrito com sucesso\")\n",
    "    f.close()"
   ]
  },
  {
   "cell_type": "markdown",
   "metadata": {},
   "source": [
    "Ótimo! Agora, na verdade, não precisamos memorizar essa lista de tipos de exceção! Agora, e se continuássemos querendo executar o código após a exceção? É aqui que entra <code>finally</code>.\n",
    "\n",
    "## finally\n",
    "Na notação <code>finally:</code> o bloco de código sempre será executado, independentemente de haver uma exceção no bloco de código <code> try </code>. A sintaxe é:\n",
    "\n",
    "    try:\n",
    "       Bloco de código aqui\n",
    "       ...\n",
    "       Devido a qualquer exceção, esse código pode ser ignorado!\n",
    "    finally:\n",
    "       Esse bloco de código sempre seria executado.\n",
    "\n",
    "Por exemplo:"
   ]
  },
  {
   "cell_type": "code",
   "execution_count": 12,
   "metadata": {},
   "outputs": [
    {
     "name": "stdout",
     "output_type": "stream",
     "text": [
      "Sempre execute finalmente os blocos de código\n"
     ]
    }
   ],
   "source": [
    "try:\n",
    "    f = open(\"testearquivo\", \"w\")\n",
    "    f.write(\"Instrução de gravação de teste\")\n",
    "    f.close()\n",
    "finally:\n",
    "#sempre executa\n",
    "    print(\"Sempre execute finalmente os blocos de código\")"
   ]
  },
  {
   "cell_type": "markdown",
   "metadata": {},
   "source": [
    "Podemos usar isso em conjunto com <code>except</code>. Vamos ver um novo exemplo que levará em conta um usuário que forneceu a entrada errada:"
   ]
  },
  {
   "cell_type": "code",
   "execution_count": 33,
   "metadata": {},
   "outputs": [],
   "source": [
    "def pergunteint():\n",
    "    try:\n",
    "        val = int(input(\"Por favor entre com um inteiro: \"))\n",
    "    except:\n",
    "        print(\"Parece que você não inseriu um número inteiro!\")\n",
    "\n",
    "    finally:\n",
    "        print(\"Finalmente, eu executei!\")\n",
    "    print(val)"
   ]
  },
  {
   "cell_type": "code",
   "execution_count": 34,
   "metadata": {},
   "outputs": [
    {
     "name": "stdout",
     "output_type": "stream",
     "text": [
      "Por favor entre com um inteiro: a\n",
      "Parece que você não inseriu um número inteiro!\n",
      "Finalmente, eu executei!\n"
     ]
    },
    {
     "ename": "UnboundLocalError",
     "evalue": "local variable 'val' referenced before assignment",
     "output_type": "error",
     "traceback": [
      "\u001b[1;31m---------------------------------------------------------------------------\u001b[0m",
      "\u001b[1;31mUnboundLocalError\u001b[0m                         Traceback (most recent call last)",
      "\u001b[1;32m<ipython-input-34-796c4ffb1eaa>\u001b[0m in \u001b[0;36m<module>\u001b[1;34m\u001b[0m\n\u001b[1;32m----> 1\u001b[1;33m \u001b[0mpergunteint\u001b[0m\u001b[1;33m(\u001b[0m\u001b[1;33m)\u001b[0m\u001b[1;33m\u001b[0m\u001b[1;33m\u001b[0m\u001b[0m\n\u001b[0m",
      "\u001b[1;32m<ipython-input-33-3b04bc7a6777>\u001b[0m in \u001b[0;36mpergunteint\u001b[1;34m()\u001b[0m\n\u001b[0;32m      7\u001b[0m     \u001b[1;32mfinally\u001b[0m\u001b[1;33m:\u001b[0m\u001b[1;33m\u001b[0m\u001b[1;33m\u001b[0m\u001b[0m\n\u001b[0;32m      8\u001b[0m         \u001b[0mprint\u001b[0m\u001b[1;33m(\u001b[0m\u001b[1;34m\"Finalmente, eu executei!\"\u001b[0m\u001b[1;33m)\u001b[0m\u001b[1;33m\u001b[0m\u001b[1;33m\u001b[0m\u001b[0m\n\u001b[1;32m----> 9\u001b[1;33m     \u001b[0mprint\u001b[0m\u001b[1;33m(\u001b[0m\u001b[0mval\u001b[0m\u001b[1;33m)\u001b[0m\u001b[1;33m\u001b[0m\u001b[1;33m\u001b[0m\u001b[0m\n\u001b[0m",
      "\u001b[1;31mUnboundLocalError\u001b[0m: local variable 'val' referenced before assignment"
     ]
    }
   ],
   "source": [
    "pergunteint()"
   ]
  },
  {
   "cell_type": "code",
   "execution_count": 35,
   "metadata": {},
   "outputs": [
    {
     "name": "stdout",
     "output_type": "stream",
     "text": [
      "Por favor entre com um inteiro: a\n",
      "Parece que você não inseriu um número inteiro!\n",
      "Finalmente, eu executei!\n"
     ]
    },
    {
     "ename": "UnboundLocalError",
     "evalue": "local variable 'val' referenced before assignment",
     "output_type": "error",
     "traceback": [
      "\u001b[1;31m---------------------------------------------------------------------------\u001b[0m",
      "\u001b[1;31mUnboundLocalError\u001b[0m                         Traceback (most recent call last)",
      "\u001b[1;32m<ipython-input-35-796c4ffb1eaa>\u001b[0m in \u001b[0;36m<module>\u001b[1;34m\u001b[0m\n\u001b[1;32m----> 1\u001b[1;33m \u001b[0mpergunteint\u001b[0m\u001b[1;33m(\u001b[0m\u001b[1;33m)\u001b[0m\u001b[1;33m\u001b[0m\u001b[1;33m\u001b[0m\u001b[0m\n\u001b[0m",
      "\u001b[1;32m<ipython-input-33-3b04bc7a6777>\u001b[0m in \u001b[0;36mpergunteint\u001b[1;34m()\u001b[0m\n\u001b[0;32m      7\u001b[0m     \u001b[1;32mfinally\u001b[0m\u001b[1;33m:\u001b[0m\u001b[1;33m\u001b[0m\u001b[1;33m\u001b[0m\u001b[0m\n\u001b[0;32m      8\u001b[0m         \u001b[0mprint\u001b[0m\u001b[1;33m(\u001b[0m\u001b[1;34m\"Finalmente, eu executei!\"\u001b[0m\u001b[1;33m)\u001b[0m\u001b[1;33m\u001b[0m\u001b[1;33m\u001b[0m\u001b[0m\n\u001b[1;32m----> 9\u001b[1;33m     \u001b[0mprint\u001b[0m\u001b[1;33m(\u001b[0m\u001b[0mval\u001b[0m\u001b[1;33m)\u001b[0m\u001b[1;33m\u001b[0m\u001b[1;33m\u001b[0m\u001b[0m\n\u001b[0m",
      "\u001b[1;31mUnboundLocalError\u001b[0m: local variable 'val' referenced before assignment"
     ]
    }
   ],
   "source": [
    "pergunteint()"
   ]
  },
  {
   "cell_type": "markdown",
   "metadata": {},
   "source": [
    "Observe como recebemos um erro ao tentar imprimir val (porque nunca foi atribuído corretamente). Vamos remediar isso perguntando ao usuário e verificando se o tipo de entrada é um número inteiro:"
   ]
  },
  {
   "cell_type": "code",
   "execution_count": 1,
   "metadata": {},
   "outputs": [],
   "source": [
    "lista = [1,2,3,4,565]"
   ]
  },
  {
   "cell_type": "code",
   "execution_count": 2,
   "metadata": {},
   "outputs": [],
   "source": [
    "lista = tuple(lista)"
   ]
  },
  {
   "cell_type": "code",
   "execution_count": 3,
   "metadata": {},
   "outputs": [
    {
     "data": {
      "text/plain": [
       "(1, 2, 3, 4, 565)"
      ]
     },
     "execution_count": 3,
     "metadata": {},
     "output_type": "execute_result"
    }
   ],
   "source": [
    "lista"
   ]
  },
  {
   "cell_type": "code",
   "execution_count": 2,
   "metadata": {},
   "outputs": [],
   "source": [
    "def pergunteint(lista):\n",
    "    try:\n",
    "        lista[0] = 1\n",
    "    except Exception as error:\n",
    "        print(error) \n",
    "        \n",
    "    finally:\n",
    "        print(\"Finalmente, Eu executei!\")\n",
    "    print(type(lista))"
   ]
  },
  {
   "cell_type": "code",
   "execution_count": 8,
   "metadata": {},
   "outputs": [
    {
     "name": "stdout",
     "output_type": "stream",
     "text": [
      "'tuple' object does not support item assignment\n",
      "Finalmente, Eu executei!\n",
      "<class 'tuple'>\n"
     ]
    }
   ],
   "source": [
    "pergunteint((1,2))"
   ]
  },
  {
   "cell_type": "code",
   "execution_count": 6,
   "metadata": {},
   "outputs": [
    {
     "ename": "TypeError",
     "evalue": "'tuple' object does not support item assignment",
     "output_type": "error",
     "traceback": [
      "\u001b[1;31m---------------------------------------------------------------------------\u001b[0m",
      "\u001b[1;31mTypeError\u001b[0m                                 Traceback (most recent call last)",
      "Input \u001b[1;32mIn [6]\u001b[0m, in \u001b[0;36m<cell line: 1>\u001b[1;34m()\u001b[0m\n\u001b[1;32m----> 1\u001b[0m tupla[\u001b[38;5;241m0\u001b[39m] \u001b[38;5;241m=\u001b[39m \u001b[38;5;241m1\u001b[39m\n",
      "\u001b[1;31mTypeError\u001b[0m: 'tuple' object does not support item assignment"
     ]
    }
   ],
   "source": [
    "tupla[0] = 1"
   ]
  },
  {
   "cell_type": "code",
   "execution_count": 3,
   "metadata": {},
   "outputs": [
    {
     "name": "stdout",
     "output_type": "stream",
     "text": [
      "'tuple' object does not support item assignment\n",
      "Finalmente, Eu executei!\n",
      "<class 'tuple'>\n"
     ]
    }
   ],
   "source": [
    "pergunteint((1,2))"
   ]
  },
  {
   "cell_type": "code",
   "execution_count": 13,
   "metadata": {},
   "outputs": [],
   "source": [
    "def pergunteint():\n",
    "    try:\n",
    "        val = int(input(\"Por favor insira um número inteiro: \"))\n",
    "    except:\n",
    "        print(\"Parece que você não inseriu um número inteiro!\")\n",
    "        val = int(input(\"Tente novamente. Digite um número inteiro.: \"))\n",
    "    finally:\n",
    "        print(\"Finalmente, Eu executei!\")\n",
    "    print(val)"
   ]
  },
  {
   "cell_type": "code",
   "execution_count": 14,
   "metadata": {},
   "outputs": [
    {
     "name": "stdout",
     "output_type": "stream",
     "text": [
      "Por favor insira um número inteiro: a\n",
      "Parece que você não inseriu um número inteiro!\n",
      "Tente novamente. Digite um número inteiro.: a\n",
      "Finalmente, Eu executei!\n"
     ]
    },
    {
     "ename": "ValueError",
     "evalue": "invalid literal for int() with base 10: 'a'",
     "output_type": "error",
     "traceback": [
      "\u001b[1;31m---------------------------------------------------------------------------\u001b[0m",
      "\u001b[1;31mValueError\u001b[0m                                Traceback (most recent call last)",
      "\u001b[1;32m<ipython-input-13-79ee9016f172>\u001b[0m in \u001b[0;36mpergunteint\u001b[1;34m()\u001b[0m\n\u001b[0;32m      2\u001b[0m     \u001b[1;32mtry\u001b[0m\u001b[1;33m:\u001b[0m\u001b[1;33m\u001b[0m\u001b[1;33m\u001b[0m\u001b[0m\n\u001b[1;32m----> 3\u001b[1;33m         \u001b[0mval\u001b[0m \u001b[1;33m=\u001b[0m \u001b[0mint\u001b[0m\u001b[1;33m(\u001b[0m\u001b[0minput\u001b[0m\u001b[1;33m(\u001b[0m\u001b[1;34m\"Por favor insira um número inteiro: \"\u001b[0m\u001b[1;33m)\u001b[0m\u001b[1;33m)\u001b[0m\u001b[1;33m\u001b[0m\u001b[1;33m\u001b[0m\u001b[0m\n\u001b[0m\u001b[0;32m      4\u001b[0m     \u001b[1;32mexcept\u001b[0m\u001b[1;33m:\u001b[0m\u001b[1;33m\u001b[0m\u001b[1;33m\u001b[0m\u001b[0m\n",
      "\u001b[1;31mValueError\u001b[0m: invalid literal for int() with base 10: 'a'",
      "\nDuring handling of the above exception, another exception occurred:\n",
      "\u001b[1;31mValueError\u001b[0m                                Traceback (most recent call last)",
      "\u001b[1;32m<ipython-input-14-796c4ffb1eaa>\u001b[0m in \u001b[0;36m<module>\u001b[1;34m\u001b[0m\n\u001b[1;32m----> 1\u001b[1;33m \u001b[0mpergunteint\u001b[0m\u001b[1;33m(\u001b[0m\u001b[1;33m)\u001b[0m\u001b[1;33m\u001b[0m\u001b[1;33m\u001b[0m\u001b[0m\n\u001b[0m",
      "\u001b[1;32m<ipython-input-13-79ee9016f172>\u001b[0m in \u001b[0;36mpergunteint\u001b[1;34m()\u001b[0m\n\u001b[0;32m      4\u001b[0m     \u001b[1;32mexcept\u001b[0m\u001b[1;33m:\u001b[0m\u001b[1;33m\u001b[0m\u001b[1;33m\u001b[0m\u001b[0m\n\u001b[0;32m      5\u001b[0m         \u001b[0mprint\u001b[0m\u001b[1;33m(\u001b[0m\u001b[1;34m\"Parece que você não inseriu um número inteiro!\"\u001b[0m\u001b[1;33m)\u001b[0m\u001b[1;33m\u001b[0m\u001b[1;33m\u001b[0m\u001b[0m\n\u001b[1;32m----> 6\u001b[1;33m         \u001b[0mval\u001b[0m \u001b[1;33m=\u001b[0m \u001b[0mint\u001b[0m\u001b[1;33m(\u001b[0m\u001b[0minput\u001b[0m\u001b[1;33m(\u001b[0m\u001b[1;34m\"Tente novamente. Digite um número inteiro.: \"\u001b[0m\u001b[1;33m)\u001b[0m\u001b[1;33m)\u001b[0m\u001b[1;33m\u001b[0m\u001b[1;33m\u001b[0m\u001b[0m\n\u001b[0m\u001b[0;32m      7\u001b[0m     \u001b[1;32mfinally\u001b[0m\u001b[1;33m:\u001b[0m\u001b[1;33m\u001b[0m\u001b[1;33m\u001b[0m\u001b[0m\n\u001b[0;32m      8\u001b[0m         \u001b[0mprint\u001b[0m\u001b[1;33m(\u001b[0m\u001b[1;34m\"Finalmente, Eu executei!\"\u001b[0m\u001b[1;33m)\u001b[0m\u001b[1;33m\u001b[0m\u001b[1;33m\u001b[0m\u001b[0m\n",
      "\u001b[1;31mValueError\u001b[0m: invalid literal for int() with base 10: 'a'"
     ]
    }
   ],
   "source": [
    "pergunteint()"
   ]
  },
  {
   "cell_type": "markdown",
   "metadata": {},
   "source": [
    "Hummm ... isso só fez uma verificação. Como podemos continuar verificando continuamente? Podemos usar um loop while!"
   ]
  },
  {
   "cell_type": "code",
   "execution_count": 15,
   "metadata": {},
   "outputs": [],
   "source": [
    "def pergunteint():\n",
    "    while True:\n",
    "        try:\n",
    "            val = int(input(\"Por favor insira um número inteiro: \"))\n",
    "        except:\n",
    "            print(\"Parece que você não inseriu um número inteiro!\")\n",
    "            continue\n",
    "        else:\n",
    "            print(\"Sim, isso é um número inteiro!\")\n",
    "            break\n",
    "        finally:\n",
    "            print(\"Finalmente, eu executei!\")\n",
    "        print(val)"
   ]
  },
  {
   "cell_type": "code",
   "execution_count": 40,
   "metadata": {},
   "outputs": [
    {
     "name": "stdout",
     "output_type": "stream",
     "text": [
      "Por favor insira um número inteiro: a\n",
      "Parece que você não inseriu um número inteiro!\n",
      "Finalmente, eu executei!\n",
      "Por favor insira um número inteiro: a\n",
      "Parece que você não inseriu um número inteiro!\n",
      "Finalmente, eu executei!\n",
      "Por favor insira um número inteiro: aa\n",
      "Parece que você não inseriu um número inteiro!\n",
      "Finalmente, eu executei!\n",
      "Por favor insira um número inteiro: a\n",
      "Parece que você não inseriu um número inteiro!\n",
      "Finalmente, eu executei!\n",
      "Por favor insira um número inteiro: 2\n",
      "Sim, isso é um número inteiro!\n",
      "Finalmente, eu executei!\n"
     ]
    }
   ],
   "source": [
    "pergunteint()"
   ]
  },
  {
   "cell_type": "markdown",
   "metadata": {},
   "source": [
    "Então, por que nossa função imprimiu \"Finalmente, eu executei!\" após cada tentativa, mas nunca imprimia o próprio `val`? Isso ocorre porque, com uma cláusula try / except / finally, quaisquer instruções <code>continue</code> ou <code>break</code> são reservadas até **após** a cláusula try ser concluída. Isso significa que, embora uma entrada bem-sucedida de **3** tenha nos levado ao bloco <code>else:</code> e uma declaração <code>break</code> tenha sido lançada, a cláusula try continuou até <code>finally:</code> antes de sair do loop while. E como <code>print(val)</code> estava fora da cláusula try, a instrução <code>break</code> impediu a execução.\n",
    "\n",
    "Vamos fazer um ajuste final:"
   ]
  },
  {
   "cell_type": "code",
   "execution_count": 41,
   "metadata": {},
   "outputs": [],
   "source": [
    "def pergunteint():\n",
    "    while True:\n",
    "        try:\n",
    "            val = int(input(\"Por favor insira um número inteiro: \"))\n",
    "        except:\n",
    "            print(\"Parece que você não inseriu um número inteiro!\")\n",
    "#            continue\n",
    "        else:\n",
    "            print(\"Sim, isso é um número inteiro!\")\n",
    "            print(val)\n",
    "            break\n",
    "        finally:\n",
    "            print(\"Finalmente, eu executei!\")"
   ]
  },
  {
   "cell_type": "code",
   "execution_count": 42,
   "metadata": {},
   "outputs": [
    {
     "name": "stdout",
     "output_type": "stream",
     "text": [
      "Por favor insira um número inteiro: a\n",
      "Parece que você não inseriu um número inteiro!\n",
      "Finalmente, eu executei!\n",
      "Por favor insira um número inteiro: a\n",
      "Parece que você não inseriu um número inteiro!\n",
      "Finalmente, eu executei!\n",
      "Por favor insira um número inteiro: 2\n",
      "Sim, isso é um número inteiro!\n",
      "2\n",
      "Finalmente, eu executei!\n"
     ]
    }
   ],
   "source": [
    "pergunteint()"
   ]
  },
  {
   "cell_type": "markdown",
   "metadata": {},
   "source": [
    "**Maravilha! Agora você sabe como lidar com erros e exceções no Python usando as notações try, except, else, e finally! **"
   ]
  }
 ],
 "metadata": {
  "kernelspec": {
   "display_name": "Python 3 (ipykernel)",
   "language": "python",
   "name": "python3"
  },
  "language_info": {
   "codemirror_mode": {
    "name": "ipython",
    "version": 3
   },
   "file_extension": ".py",
   "mimetype": "text/x-python",
   "name": "python",
   "nbconvert_exporter": "python",
   "pygments_lexer": "ipython3",
   "version": "3.10.4"
  }
 },
 "nbformat": 4,
 "nbformat_minor": 1
}
