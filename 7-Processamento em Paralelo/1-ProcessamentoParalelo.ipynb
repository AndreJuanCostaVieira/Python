{
 "cells": [
  {
   "cell_type": "markdown",
   "metadata": {},
   "source": [
    "# Multithreading e Multiprocessamento\n",
    "\n",
    "Lembre-se da frase \"muitas mãos facilitam o trabalho\". Isso é tão verdadeiro na programação quanto em qualquer outro lugar.\n",
    "\n",
    "E se você pudesse projetar seu programa Python para fazer quatro coisas ao mesmo tempo? O que normalmente levaria uma hora poderia (quase) levar um quarto do tempo. \n",
    "\n",
    "Essa é a idéia por trás do processamento paralelo ou a capacidade de configurar e executar várias tarefas simultaneamente.\n"
   ]
  },
  {
   "cell_type": "markdown",
   "metadata": {},
   "source": [
    "## Multiprocessamento Exemplo: Monte Carlo\n",
    "\n",
    "Vamos codificar um exemplo para ver como as peças se encaixam. Podemos cronometrar nossos resultados usando o módulo **timeit** para medir quaisquer ganhos de desempenho. Nossa tarefa é aplicar o método de Monte Carlo para estimar o valor de Pi."
   ]
  },
  {
   "cell_type": "code",
   "execution_count": 2,
   "metadata": {},
   "outputs": [],
   "source": [
    "from random import random  # execute essa importação fora da função\n",
    "\n",
    "def find_pi(n):\n",
    "    \"\"\"\n",
    "    Função para estimar o valor de Pi\n",
    "    \"\"\"\n",
    "    inside=0\n",
    "\n",
    "    for i in range(0,n):\n",
    "        x=random()\n",
    "        y=random()\n",
    "        if (x*x+y*y)**(0.5)<=1:  # se i cai dentro do círculo\n",
    "            inside+=1\n",
    "\n",
    "    pi=4*inside/n\n",
    "    return pi"
   ]
  },
  {
   "cell_type": "markdown",
   "metadata": {},
   "source": [
    "Vamos testar o `find_pi` em 5.000 pontos:"
   ]
  },
  {
   "cell_type": "code",
   "execution_count": 3,
   "metadata": {},
   "outputs": [
    {
     "data": {
      "text/plain": [
       "3.128"
      ]
     },
     "execution_count": 3,
     "metadata": {},
     "output_type": "execute_result"
    }
   ],
   "source": [
    "find_pi(5000)"
   ]
  },
  {
   "cell_type": "code",
   "execution_count": 4,
   "metadata": {},
   "outputs": [
    {
     "name": "stdout",
     "output_type": "stream",
     "text": [
      "Overwriting test.py\n"
     ]
    }
   ],
   "source": [
    "%%writefile test.py\n",
    "from random import random\n",
    "from multiprocessing import Pool\n",
    "import timeit\n",
    "\n",
    "def find_pi(n):\n",
    "    \"\"\"\n",
    "    Função para estimar o valor de Pi\n",
    "    \"\"\"\n",
    "    inside=0\n",
    "\n",
    "    for i in range(0,n):\n",
    "        x=random()\n",
    "        y=random()\n",
    "        if (x*x+y*y)**(0.5)<=1:  # se i cai dentro do círculo\n",
    "            inside+=1\n",
    "\n",
    "    pi=4*inside/n\n",
    "    return pi\n",
    "\n",
    "if __name__ == '__main__':\n",
    "    N = 10**5  # total de iterações\n",
    "    P = 5      # número de processos\n",
    "    \n",
    "    p = Pool(P)\n",
    "    print('tempo', timeit.timeit(lambda: print(f'{sum(p.map(find_pi, [N//P]*P))/P:0.7f}'), number=10))\n",
    "    p.close()\n",
    "    p.join()\n",
    "    print(f'{N} iterações totais com {P} processos')"
   ]
  },
  {
   "cell_type": "code",
   "execution_count": 5,
   "metadata": {},
   "outputs": [
    {
     "name": "stdout",
     "output_type": "stream",
     "text": [
      "3.1364400\n",
      "3.1448800\n",
      "3.1400000\n",
      "3.1467600\n",
      "3.1419600\n",
      "3.1392400\n",
      "3.1425200\n",
      "3.1396800\n",
      "3.1478000\n",
      "3.1451200\n",
      "tempo 0.2638903\n",
      "100000 iterações totais com 5 processos\n"
     ]
    }
   ],
   "source": [
    "! python test.py"
   ]
  },
  {
   "cell_type": "markdown",
   "metadata": {},
   "source": [
    "O teste acima levou menos de um segundo em nosso computador.\n",
    "\n",
    "Agora que sabemos que nosso script funciona, vamos aumentar o número de iterações e comparar dois conjuntos diferentes. Sente-se, isso pode demorar um pouco!"
   ]
  },
  {
   "cell_type": "code",
   "execution_count": 6,
   "metadata": {},
   "outputs": [
    {
     "name": "stdout",
     "output_type": "stream",
     "text": [
      "Overwriting test.py\n"
     ]
    }
   ],
   "source": [
    "%%writefile test.py\n",
    "from random import random\n",
    "from multiprocessing import Pool\n",
    "import timeit\n",
    "\n",
    "def find_pi(n):\n",
    "    \"\"\"\n",
    "    Função para estimar o valor de Pi\n",
    "    \"\"\"\n",
    "    inside=0\n",
    "\n",
    "    for i in range(0,n):\n",
    "        x=random()\n",
    "        y=random()\n",
    "        if (x*x+y*y)**(0.5)<=1:  # se i cai dentro do círculo\n",
    "            inside+=1\n",
    "\n",
    "    pi=4*inside/n\n",
    "    return pi\n",
    "\n",
    "if __name__ == '__main__':\n",
    "    N = 10**5  # total de iteracoes \n",
    "    \n",
    "    P = 1      # numero de processos\n",
    "    p = Pool(P)\n",
    "    print('tempo1', timeit.timeit(lambda: print(f'{sum(p.map(find_pi, [N//P]*P))/P:0.7f}'), number=10))\n",
    "    p.close()\n",
    "    p.join()\n",
    "    print(f'{N} total de iteracoes com {P} processos')\n",
    "    \n",
    "    P = 5      # número de processos\n",
    "    p = Pool(P)\n",
    "    print('tempo2', timeit.timeit(lambda: print(f'{sum(p.map(find_pi, [N//P]*P))/P:0.7f}'), number=10))\n",
    "    p.close()\n",
    "    p.join()\n",
    "    print(f'{N} total de iteracoes com {P} processos')"
   ]
  },
  {
   "cell_type": "code",
   "execution_count": 7,
   "metadata": {},
   "outputs": [
    {
     "name": "stdout",
     "output_type": "stream",
     "text": [
      "3.1404400\n",
      "3.1398400\n",
      "3.1462800\n",
      "3.1356800\n",
      "3.1453600\n",
      "3.1418800\n",
      "3.1401600\n",
      "3.1339200\n",
      "3.1382800\n",
      "3.1432800\n",
      "tempo1 0.43114060000000004\n",
      "100000 total de iteracoes com 1 processos\n",
      "3.1325600\n",
      "3.1442800\n",
      "3.1397200\n",
      "3.1431600\n",
      "3.1405600\n",
      "3.1406000\n",
      "3.1432400\n",
      "3.1483600\n",
      "3.1430800\n",
      "3.1414800\n",
      "tempo2 0.25605100000000003\n",
      "100000 total de iteracoes com 5 processos\n"
     ]
    }
   ],
   "source": [
    "! python test.py"
   ]
  },
  {
   "cell_type": "markdown",
   "metadata": {},
   "source": [
    "Espero que você tenha visto que, com 5 processos, nosso script correu mais rápido!"
   ]
  },
  {
   "cell_type": "code",
   "execution_count": 8,
   "metadata": {},
   "outputs": [
    {
     "name": "stdout",
     "output_type": "stream",
     "text": [
      "Overwriting test2.py\n"
     ]
    }
   ],
   "source": [
    "%%writefile test2.py\n",
    "from random import random\n",
    "from multiprocessing import Pool\n",
    "import timeit\n",
    "import sys\n",
    "\n",
    "N = int(sys.argv[1])  # estes argumentos são passados da linha de comando\n",
    "P = int(sys.argv[2])\n",
    "\n",
    "def find_pi(n):\n",
    "    \"\"\"\n",
    "    Função para estimar o valor de Pi\n",
    "    \"\"\"\n",
    "    inside=0\n",
    "\n",
    "    for i in range(0,n):\n",
    "        x=random()\n",
    "        y=random()\n",
    "        if (x*x+y*y)**(0.5)<=1:  # se i cai dentro do círculo\n",
    "            inside+=1\n",
    "\n",
    "    pi=4*inside/n\n",
    "    return pi\n",
    "\n",
    "if __name__ == '__main__':\n",
    "    \n",
    "    with Pool(P) as p:\n",
    "        print('tempo', timeit.timeit(lambda: print(f'{sum(p.map(find_pi, [N//P]*P))/P:0.5f}'), number=10))\n",
    "    print(f'{N} total de iterações com {P} processos')"
   ]
  },
  {
   "cell_type": "code",
   "execution_count": 9,
   "metadata": {},
   "outputs": [
    {
     "name": "stdout",
     "output_type": "stream",
     "text": [
      "3.13960\n",
      "3.14240\n",
      "3.14720\n",
      "3.14684\n",
      "3.13920\n",
      "3.14608\n",
      "3.15068\n",
      "3.14232\n",
      "3.14396\n",
      "3.14624\n",
      "tempo 0.4792976\n",
      "100000 total de iterações com 1 processos\n"
     ]
    }
   ],
   "source": [
    "! python test2.py 100000 1"
   ]
  },
  {
   "cell_type": "code",
   "execution_count": 10,
   "metadata": {},
   "outputs": [
    {
     "name": "stdout",
     "output_type": "stream",
     "text": [
      "3.13372\n",
      "3.14072\n",
      "3.14156\n",
      "3.14272\n",
      "3.14308\n",
      "3.14244\n",
      "3.13984\n",
      "3.14748\n",
      "3.14004\n",
      "3.13664\n",
      "tempo 0.29992420000000003\n",
      "100000 total de iterações com 2 processos\n"
     ]
    }
   ],
   "source": [
    "! python test2.py 100000 2"
   ]
  },
  {
   "cell_type": "code",
   "execution_count": 11,
   "metadata": {},
   "outputs": [
    {
     "name": "stdout",
     "output_type": "stream",
     "text": [
      "3.13763\n",
      "3.14095\n",
      "3.14283\n",
      "3.13303\n",
      "3.14747\n",
      "3.14427\n",
      "3.14419\n",
      "3.14043\n",
      "3.14111\n",
      "3.13703\n",
      "tempo 0.26222070000000003\n",
      "100000 total de iterações com 3 processos\n"
     ]
    }
   ],
   "source": [
    "! python test2.py 100000 3"
   ]
  },
  {
   "cell_type": "code",
   "execution_count": 34,
   "metadata": {},
   "outputs": [
    {
     "name": "stdout",
     "output_type": "stream",
     "text": [
      "3.14192\n",
      "3.14860\n",
      "3.14248\n",
      "3.14700\n",
      "3.14964\n",
      "3.14460\n",
      "3.14724\n",
      "3.14040\n",
      "3.14316\n",
      "3.14872\n",
      "tempo 0.2315009\n",
      "100000 total de iterações com 4 processos\n"
     ]
    }
   ],
   "source": [
    "! python test2.py 100000 4"
   ]
  },
  {
   "cell_type": "code",
   "execution_count": 36,
   "metadata": {},
   "outputs": [
    {
     "name": "stdout",
     "output_type": "stream",
     "text": [
      "3.14764\n",
      "3.14632\n",
      "3.14028\n",
      "3.14556\n",
      "3.14912\n",
      "3.14172\n",
      "3.15448\n",
      "3.13688\n",
      "3.14448\n",
      "3.14636\n",
      "tempo 0.22189780000000003\n",
      "100000 total de iterações com 5 processos\n"
     ]
    }
   ],
   "source": [
    "! python test2.py 100000 5"
   ]
  },
  {
   "cell_type": "code",
   "execution_count": 38,
   "metadata": {},
   "outputs": [
    {
     "name": "stdout",
     "output_type": "stream",
     "text": [
      "3.13356\n",
      "3.13776\n",
      "3.14640\n",
      "3.14320\n",
      "3.14704\n",
      "3.14208\n",
      "3.13708\n",
      "3.14024\n",
      "3.13868\n",
      "3.14368\n",
      "tempo 0.2095065\n",
      "100000 total de iterações com 10 processos\n"
     ]
    }
   ],
   "source": [
    "! python test2.py 100000 10"
   ]
  },
  {
   "cell_type": "markdown",
   "metadata": {},
   "source": [
    "Agora você deve ter um bom entendimento de multithreading e multiprocessing!"
   ]
  }
 ],
 "metadata": {
  "kernelspec": {
   "display_name": "Python 3",
   "language": "python",
   "name": "python3"
  },
  "language_info": {
   "codemirror_mode": {
    "name": "ipython",
    "version": 3
   },
   "file_extension": ".py",
   "mimetype": "text/x-python",
   "name": "python",
   "nbconvert_exporter": "python",
   "pygments_lexer": "ipython3",
   "version": "3.7.4"
  }
 },
 "nbformat": 4,
 "nbformat_minor": 2
}
